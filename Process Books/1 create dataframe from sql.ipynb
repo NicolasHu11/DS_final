{
 "cells": [
  {
   "cell_type": "markdown",
   "metadata": {},
   "source": [
    "# Data Science and Health Final Project: Short/Long Term Mortality Prediction\n",
    "### Group: Yijia Hu, Zengtian Deng, Yuankai Qi, Marcelo Lerendegui\n",
    "\n"
   ]
  },
  {
   "cell_type": "markdown",
   "metadata": {},
   "source": [
    "# Overview and Background"
   ]
  },
  {
   "cell_type": "markdown",
   "metadata": {},
   "source": [
    "Mortality prediction of ICU patients is a crucial task. It is important to accurately predict the mortality of a patient because it benefits both the patient and health care rpofessionals. Also, it helps to improve the health care quality, increase efficiency for hospitals and lower the increasing healthcare cost. \n",
    "\n",
    "Machine learning models have been applied to many kinds of diseases such as heart failure, breast cancer, kidney disease for mortality prediction. Using the MIMIC-III dataset, we compared several machine learning models that predicts whether a patient will die in both short and long term, 30 days and 1 year respectively. We choose the data within first 24 hour after admission including patients vitals, lab results, risk scores, etc. \n",
    "\n",
    "30-day mortality is an important feature which hospitals are graded on across the country. It's an indication of the health care quality provided by the hospitals. Thus prediction for 30-day mortality is crucial for hospitals. It helps physicians to decide which methods would be the best for given patients and perhaps provide palliative care. \n",
    "\n",
    "\n",
    "1-year mortality is crucial for improving the quality of care over time. The patient and his/her physician are working cooperatively for health management. The risk for patients with chronic diseases is changing as time goes. Knowing the possible future scenarios is important to provide high quality, cost-effective medical care. \n",
    "\n",
    "\n",
    "\n",
    "\n",
    "\n",
    "\n"
   ]
  },
  {
   "cell_type": "markdown",
   "metadata": {},
   "source": [
    "# Import data from SQL database"
   ]
  },
  {
   "cell_type": "markdown",
   "metadata": {},
   "source": [
    "- We ues `PostgreSQL` recommended by the Physionet to host sql server [tutorial here](https://mimic.physionet.org/tutorials/install-mimic-locally-windows/)\n",
    "- We build all the concepts from `make-concepts.sql`     [link](https://github.com/MIT-LCP/mimic-code/tree/master/concepts)\n",
    "- the original `all data` is from [link](https://github.com/YaronBlinder/MIMIC-III_readmission/blob/master/all_data.sql)\n",
    "    we add `patient.dod` \n",
    "- More features are added, with reference to [MIT-LCP mimic repo](https://github.com/MIT-LCP/mimic-code/tree/master/concepts)\n",
    "and [this paper](http://jscdss.com/index.php/files/article/view/177)\n",
    "- true is defined in this notebook as well, `thirty_days` and `one_year`"
   ]
  },
  {
   "cell_type": "markdown",
   "metadata": {},
   "source": [
    "### newly added features to all_data\n",
    "- patients: `DOD`\n",
    "- ELIXHAUSER_AHRQ_SCORE : `elixhauser_vanwalraven`, `elixhauser_sid29`, `elixhauser_sid30`\n",
    "- admissions: `admission_type`, `admission_location`,    `discharge_location`, `ethnicity`, `diagnosis`\n",
    "- icustay_detail: `los_hospital`\n",
    "- vitalsfirstday: `meanbp_min`, `meanbp_max`, `meanbp_mean`, `spo2_min`, `spo2_max`,`spo2_mean`\n",
    "- ventfirstday : `vent`\n",
    "- rrtfirstday: `rrt`\n",
    "- uofirstday: `urineoutput`\n",
    "- LODS: `lods`\n",
    "- SIRS: `sirs`\n"
   ]
  },
  {
   "cell_type": "code",
   "execution_count": 1,
   "metadata": {},
   "outputs": [],
   "source": [
    "# Import libraries\n",
    "import numpy as np\n",
    "import pandas as pd\n",
    "import psycopg2\n",
    "import matplotlib.pyplot as plt\n",
    "from datetime import timedelta\n",
    "import seaborn as sns; sns.set()\n",
    "sns.set_style('whitegrid')\n",
    "sns.set_palette('Set2')\n",
    "# %matplotlib inline\n",
    "plt.rcParams.update({'figure.titlesize': 'larger', 'legend.fontsize': 15.0})"
   ]
  },
  {
   "cell_type": "code",
   "execution_count": 2,
   "metadata": {},
   "outputs": [],
   "source": [
    "# create a database connection\n",
    "sqluser = 'postgres'\n",
    "dbname = 'mimic'\n",
    "schema_name = 'mimiciii'\n",
    "\n",
    "# Connect to local postgres version of mimic\n",
    "con = psycopg2.connect(dbname=dbname, user=sqluser, password =sqluser )\n",
    "cur = con.cursor()"
   ]
  },
  {
   "cell_type": "code",
   "execution_count": 3,
   "metadata": {},
   "outputs": [],
   "source": [
    "# Commands to run .sql file in CMD \n",
    "\n",
    "# psql \"dbname=mimic user=postgres\"\n",
    "# \\i all_data.sql "
   ]
  },
  {
   "cell_type": "code",
   "execution_count": 4,
   "metadata": {},
   "outputs": [],
   "source": [
    "# SQL query (gets all_data view defined elsewhere)\n",
    "query = \\\n",
    "\"\"\"\n",
    "select * from all_data\n",
    "\"\"\"\n",
    "\n",
    "# Perform SQL query\n",
    "cur.execute('SET search_path to ' + schema_name)\n",
    "data = pd.read_sql_query(query,con)"
   ]
  },
  {
   "cell_type": "code",
   "execution_count": 5,
   "metadata": {
    "scrolled": false
   },
   "outputs": [
    {
     "name": "stdout",
     "output_type": "stream",
     "text": [
      "Data shape is  (57996, 44)\n"
     ]
    },
    {
     "data": {
      "text/html": [
       "<div>\n",
       "<style scoped>\n",
       "    .dataframe tbody tr th:only-of-type {\n",
       "        vertical-align: middle;\n",
       "    }\n",
       "\n",
       "    .dataframe tbody tr th {\n",
       "        vertical-align: top;\n",
       "    }\n",
       "\n",
       "    .dataframe thead th {\n",
       "        text-align: right;\n",
       "    }\n",
       "</style>\n",
       "<table border=\"1\" class=\"dataframe\">\n",
       "  <thead>\n",
       "    <tr style=\"text-align: right;\">\n",
       "      <th></th>\n",
       "      <th>subject_id</th>\n",
       "      <th>hadm_id</th>\n",
       "      <th>admittime</th>\n",
       "      <th>dischtime</th>\n",
       "      <th>deathtime</th>\n",
       "      <th>dod</th>\n",
       "      <th>first_careunit</th>\n",
       "      <th>last_careunit</th>\n",
       "      <th>age</th>\n",
       "      <th>gender</th>\n",
       "      <th>...</th>\n",
       "      <th>diasbp_max</th>\n",
       "      <th>diasbp_mean</th>\n",
       "      <th>temp_min</th>\n",
       "      <th>temp_max</th>\n",
       "      <th>temp_mean</th>\n",
       "      <th>sapsii</th>\n",
       "      <th>sofa</th>\n",
       "      <th>urine_min</th>\n",
       "      <th>urine_mean</th>\n",
       "      <th>urine_max</th>\n",
       "    </tr>\n",
       "  </thead>\n",
       "  <tbody>\n",
       "    <tr>\n",
       "      <th>0</th>\n",
       "      <td>3</td>\n",
       "      <td>145834</td>\n",
       "      <td>2101-10-20 19:08:00</td>\n",
       "      <td>2101-10-31 13:58:00</td>\n",
       "      <td>NaT</td>\n",
       "      <td>2102-06-14</td>\n",
       "      <td>MICU</td>\n",
       "      <td>MICU</td>\n",
       "      <td>76.526788</td>\n",
       "      <td>M</td>\n",
       "      <td>...</td>\n",
       "      <td>103.0</td>\n",
       "      <td>58.64</td>\n",
       "      <td>35.222223</td>\n",
       "      <td>37.666668</td>\n",
       "      <td>36.85</td>\n",
       "      <td>79</td>\n",
       "      <td>7</td>\n",
       "      <td>5.0</td>\n",
       "      <td>143.0</td>\n",
       "      <td>600.0</td>\n",
       "    </tr>\n",
       "    <tr>\n",
       "      <th>1</th>\n",
       "      <td>6</td>\n",
       "      <td>107064</td>\n",
       "      <td>2175-05-30 07:15:00</td>\n",
       "      <td>2175-06-15 16:00:00</td>\n",
       "      <td>NaT</td>\n",
       "      <td>NaT</td>\n",
       "      <td>SICU</td>\n",
       "      <td>SICU</td>\n",
       "      <td>65.940670</td>\n",
       "      <td>F</td>\n",
       "      <td>...</td>\n",
       "      <td>88.0</td>\n",
       "      <td>60.01</td>\n",
       "      <td>35.611110</td>\n",
       "      <td>37.444445</td>\n",
       "      <td>36.56</td>\n",
       "      <td>24</td>\n",
       "      <td>4</td>\n",
       "      <td>20.0</td>\n",
       "      <td>81.0</td>\n",
       "      <td>200.0</td>\n",
       "    </tr>\n",
       "    <tr>\n",
       "      <th>2</th>\n",
       "      <td>9</td>\n",
       "      <td>150750</td>\n",
       "      <td>2149-11-09 13:06:00</td>\n",
       "      <td>2149-11-14 10:15:00</td>\n",
       "      <td>2149-11-14 10:15:00</td>\n",
       "      <td>2149-11-14</td>\n",
       "      <td>MICU</td>\n",
       "      <td>MICU</td>\n",
       "      <td>41.790226</td>\n",
       "      <td>M</td>\n",
       "      <td>...</td>\n",
       "      <td>194.0</td>\n",
       "      <td>76.73</td>\n",
       "      <td>34.888891</td>\n",
       "      <td>37.888887</td>\n",
       "      <td>36.47</td>\n",
       "      <td>31</td>\n",
       "      <td>5</td>\n",
       "      <td>10.0</td>\n",
       "      <td>148.0</td>\n",
       "      <td>1100.0</td>\n",
       "    </tr>\n",
       "    <tr>\n",
       "      <th>3</th>\n",
       "      <td>12</td>\n",
       "      <td>112213</td>\n",
       "      <td>2104-08-07 10:15:00</td>\n",
       "      <td>2104-08-20 02:57:00</td>\n",
       "      <td>2104-08-20 02:57:00</td>\n",
       "      <td>2104-08-20</td>\n",
       "      <td>SICU</td>\n",
       "      <td>SICU</td>\n",
       "      <td>72.372364</td>\n",
       "      <td>M</td>\n",
       "      <td>...</td>\n",
       "      <td>111.0</td>\n",
       "      <td>72.41</td>\n",
       "      <td>35.500001</td>\n",
       "      <td>38.500002</td>\n",
       "      <td>37.24</td>\n",
       "      <td>41</td>\n",
       "      <td>3</td>\n",
       "      <td>30.0</td>\n",
       "      <td>172.0</td>\n",
       "      <td>540.0</td>\n",
       "    </tr>\n",
       "    <tr>\n",
       "      <th>4</th>\n",
       "      <td>13</td>\n",
       "      <td>143045</td>\n",
       "      <td>2167-01-08 18:43:00</td>\n",
       "      <td>2167-01-15 15:15:00</td>\n",
       "      <td>NaT</td>\n",
       "      <td>NaT</td>\n",
       "      <td>CCU</td>\n",
       "      <td>CSRU</td>\n",
       "      <td>39.866116</td>\n",
       "      <td>F</td>\n",
       "      <td>...</td>\n",
       "      <td>90.0</td>\n",
       "      <td>65.22</td>\n",
       "      <td>35.944443</td>\n",
       "      <td>38.599998</td>\n",
       "      <td>37.48</td>\n",
       "      <td>13</td>\n",
       "      <td>1</td>\n",
       "      <td>30.0</td>\n",
       "      <td>98.0</td>\n",
       "      <td>260.0</td>\n",
       "    </tr>\n",
       "  </tbody>\n",
       "</table>\n",
       "<p>5 rows × 44 columns</p>\n",
       "</div>"
      ],
      "text/plain": [
       "   subject_id  hadm_id           admittime           dischtime  \\\n",
       "0           3   145834 2101-10-20 19:08:00 2101-10-31 13:58:00   \n",
       "1           6   107064 2175-05-30 07:15:00 2175-06-15 16:00:00   \n",
       "2           9   150750 2149-11-09 13:06:00 2149-11-14 10:15:00   \n",
       "3          12   112213 2104-08-07 10:15:00 2104-08-20 02:57:00   \n",
       "4          13   143045 2167-01-08 18:43:00 2167-01-15 15:15:00   \n",
       "\n",
       "            deathtime        dod first_careunit last_careunit        age  \\\n",
       "0                 NaT 2102-06-14           MICU          MICU  76.526788   \n",
       "1                 NaT        NaT           SICU          SICU  65.940670   \n",
       "2 2149-11-14 10:15:00 2149-11-14           MICU          MICU  41.790226   \n",
       "3 2104-08-20 02:57:00 2104-08-20           SICU          SICU  72.372364   \n",
       "4                 NaT        NaT            CCU          CSRU  39.866116   \n",
       "\n",
       "  gender  ... diasbp_max diasbp_mean   temp_min   temp_max  temp_mean  sapsii  \\\n",
       "0      M  ...      103.0       58.64  35.222223  37.666668      36.85      79   \n",
       "1      F  ...       88.0       60.01  35.611110  37.444445      36.56      24   \n",
       "2      M  ...      194.0       76.73  34.888891  37.888887      36.47      31   \n",
       "3      M  ...      111.0       72.41  35.500001  38.500002      37.24      41   \n",
       "4      F  ...       90.0       65.22  35.944443  38.599998      37.48      13   \n",
       "\n",
       "   sofa  urine_min  urine_mean  urine_max  \n",
       "0     7        5.0       143.0      600.0  \n",
       "1     4       20.0        81.0      200.0  \n",
       "2     5       10.0       148.0     1100.0  \n",
       "3     3       30.0       172.0      540.0  \n",
       "4     1       30.0        98.0      260.0  \n",
       "\n",
       "[5 rows x 44 columns]"
      ]
     },
     "execution_count": 5,
     "metadata": {},
     "output_type": "execute_result"
    }
   ],
   "source": [
    "print('Data shape is ',data.shape)\n",
    "data.head()"
   ]
  },
  {
   "cell_type": "markdown",
   "metadata": {},
   "source": [
    "# Adding more concepts using SQL and DataFrame"
   ]
  },
  {
   "cell_type": "code",
   "execution_count": 6,
   "metadata": {
    "scrolled": false
   },
   "outputs": [
    {
     "name": "stdout",
     "output_type": "stream",
     "text": [
      "Data shape is  (57996, 47)\n"
     ]
    }
   ],
   "source": [
    "new_quey = \\\n",
    "\"\"\"\n",
    "set search_path to mimiciii;\n",
    "\n",
    "            (select \n",
    "                eas.hadm_id, eas.elixhauser_vanwalraven, eas.elixhauser_sid29, eas.elixhauser_sid30\n",
    "            from \n",
    "                ELIXHAUSER_AHRQ_SCORE eas\n",
    "                )\n",
    "\n",
    "\n",
    "\"\"\"\n",
    "checking = pd.read_sql_query(new_quey, con)\n",
    "checking = checking.drop_duplicates(subset='hadm_id')\n",
    "data = pd.merge(data, checking, on='hadm_id', how ='left')\n",
    "print('Data shape is ',data.shape)\n",
    "# data.head()"
   ]
  },
  {
   "cell_type": "code",
   "execution_count": 7,
   "metadata": {
    "scrolled": false
   },
   "outputs": [
    {
     "name": "stdout",
     "output_type": "stream",
     "text": [
      "Data shape is  (57996, 48)\n"
     ]
    }
   ],
   "source": [
    "new_quey = \\\n",
    "\"\"\"\n",
    "set search_path to mimiciii;\n",
    "\n",
    "            (select distinct \n",
    "                icd.hadm_id, icd.los_hospital\n",
    "            from \n",
    "                icustay_detail icd\n",
    "                )\n",
    "\n",
    "\n",
    "\"\"\"\n",
    "checking = pd.read_sql_query(new_quey, con)\n",
    "checking = checking.drop_duplicates(subset='hadm_id')\n",
    "data = pd.merge(data, checking, on='hadm_id', how ='left')\n",
    "print('Data shape is ',data.shape)\n",
    "# data.head()"
   ]
  },
  {
   "cell_type": "code",
   "execution_count": 8,
   "metadata": {},
   "outputs": [
    {
     "name": "stdout",
     "output_type": "stream",
     "text": [
      "Data shape is  (57996, 54)\n"
     ]
    }
   ],
   "source": [
    "new_quey = \\\n",
    "\"\"\"\n",
    "set search_path to mimiciii;\n",
    "\n",
    "            select distinct\n",
    "                vfd.hadm_id, vfd.meanbp_min, vfd.meanbp_max, vfd.meanbp_mean,\n",
    "                vfd.spo2_min, vfd.spo2_max, vfd.spo2_mean\n",
    "            from\n",
    "                vitalsfirstday  vfd\n",
    "                \n",
    "\n",
    "\n",
    "\"\"\"\n",
    "checking = pd.read_sql_query(new_quey, con)\n",
    "checking = checking.drop_duplicates(subset='hadm_id')\n",
    "data = pd.merge(data, checking, on='hadm_id', how ='left')\n",
    "print('Data shape is ',data.shape)\n",
    "# data.head()"
   ]
  },
  {
   "cell_type": "code",
   "execution_count": 9,
   "metadata": {},
   "outputs": [
    {
     "name": "stdout",
     "output_type": "stream",
     "text": [
      "Data shape is  (57996, 55)\n"
     ]
    }
   ],
   "source": [
    "new_quey = \\\n",
    "\"\"\"\n",
    "set search_path to mimiciii;\n",
    "\n",
    "select distinct \n",
    "                ventfirstday.hadm_id, ventfirstday.vent\n",
    "            from\n",
    "                ventfirstday\n",
    "                \n",
    "\n",
    "\n",
    "\"\"\"\n",
    "checking = pd.read_sql_query(new_quey, con)\n",
    "checking = checking.drop_duplicates(subset='hadm_id')\n",
    "data = pd.merge(data, checking, on='hadm_id', how ='left')\n",
    "print('Data shape is ',data.shape)\n",
    "# data.head()"
   ]
  },
  {
   "cell_type": "code",
   "execution_count": 10,
   "metadata": {},
   "outputs": [
    {
     "name": "stdout",
     "output_type": "stream",
     "text": [
      "Data shape is  (57996, 56)\n"
     ]
    }
   ],
   "source": [
    "new_quey = \\\n",
    "\"\"\"\n",
    "set search_path to mimiciii;\n",
    "\n",
    "select distinct \n",
    "                rrtfirstday.hadm_id, rrtfirstday.rrt\n",
    "            from \n",
    "                rrtfirstday\n",
    "\n",
    "\"\"\"\n",
    "checking = pd.read_sql_query(new_quey, con)\n",
    "checking = checking.drop_duplicates(subset='hadm_id')\n",
    "data = pd.merge(data, checking, on='hadm_id', how ='left')\n",
    "print('Data shape is ',data.shape)\n",
    "# data.head()"
   ]
  },
  {
   "cell_type": "code",
   "execution_count": 11,
   "metadata": {},
   "outputs": [
    {
     "name": "stdout",
     "output_type": "stream",
     "text": [
      "Data shape is  (57996, 57)\n"
     ]
    }
   ],
   "source": [
    "new_quey = \\\n",
    "\"\"\"\n",
    "set search_path to mimiciii;\n",
    "\n",
    "select distinct \n",
    "                uofirstday.hadm_id, uofirstday.urineoutput\n",
    "            from \n",
    "                uofirstday\n",
    "\n",
    "\"\"\"\n",
    "checking = pd.read_sql_query(new_quey, con)\n",
    "checking = checking.drop_duplicates(subset='hadm_id')\n",
    "data = pd.merge(data, checking, on='hadm_id', how ='left')\n",
    "print('Data shape is ',data.shape)\n",
    "# data.head()"
   ]
  },
  {
   "cell_type": "code",
   "execution_count": 12,
   "metadata": {},
   "outputs": [
    {
     "name": "stdout",
     "output_type": "stream",
     "text": [
      "Data shape is  (57996, 59)\n"
     ]
    }
   ],
   "source": [
    "new_quey = \\\n",
    "\"\"\"\n",
    "set search_path to mimiciii;\n",
    "\n",
    "select distinct \n",
    "                OASIS.hadm_id, OASIS.icustay_age_group, OASIS.oasis\n",
    "            from\n",
    "                OASIS\n",
    "\n",
    "\"\"\"\n",
    "checking = pd.read_sql_query(new_quey, con)\n",
    "checking = checking.drop_duplicates(subset='hadm_id')\n",
    "data = pd.merge(data, checking, on='hadm_id', how ='left')\n",
    "print('Data shape is ',data.shape)\n",
    "# data.head()"
   ]
  },
  {
   "cell_type": "code",
   "execution_count": 13,
   "metadata": {},
   "outputs": [
    {
     "name": "stdout",
     "output_type": "stream",
     "text": [
      "Data shape is  (57996, 60)\n"
     ]
    }
   ],
   "source": [
    "new_quey = \\\n",
    "\"\"\"\n",
    "set search_path to mimiciii;\n",
    "\n",
    "select distinct \n",
    "                lods.hadm_id, lods.lods\n",
    "            from \n",
    "                LODS\n",
    "\n",
    "\"\"\"\n",
    "checking = pd.read_sql_query(new_quey, con)\n",
    "checking = checking.drop_duplicates(subset='hadm_id')\n",
    "data = pd.merge(data, checking, on='hadm_id', how ='left')\n",
    "print('Data shape is ',data.shape)\n",
    "# data.head()"
   ]
  },
  {
   "cell_type": "code",
   "execution_count": 14,
   "metadata": {},
   "outputs": [
    {
     "name": "stdout",
     "output_type": "stream",
     "text": [
      "Data shape is  (57996, 61)\n"
     ]
    }
   ],
   "source": [
    "new_quey = \\\n",
    "\"\"\"\n",
    "set search_path to mimiciii;\n",
    "\n",
    "select distinct\n",
    "                sirs.hadm_id, sirs.sirs\n",
    "            from \n",
    "                SIRS\n",
    "\n",
    "\"\"\"\n",
    "checking = pd.read_sql_query(new_quey, con)\n",
    "checking = checking.drop_duplicates(subset='hadm_id')\n",
    "data = pd.merge(data, checking, on='hadm_id', how ='left')\n",
    "print('Data shape is ',data.shape)\n",
    "# data.head()"
   ]
  },
  {
   "cell_type": "code",
   "execution_count": 15,
   "metadata": {},
   "outputs": [
    {
     "name": "stdout",
     "output_type": "stream",
     "text": [
      "Data shape is  (57996, 66)\n"
     ]
    }
   ],
   "source": [
    "new_quey = \\\n",
    "\"\"\"\n",
    "set search_path to mimiciii;\n",
    "\n",
    "select distinct \n",
    "            ad.hadm_id, ad.admission_type, ad.admission_location, ad.discharge_location, ad.ethnicity, ad.diagnosis\n",
    "            from \n",
    "                admissions ad\n",
    "\n",
    "\"\"\"\n",
    "checking = pd.read_sql_query(new_quey, con)\n",
    "checking = checking.drop_duplicates(subset='hadm_id')\n",
    "data = pd.merge(data, checking, on='hadm_id', how ='left')\n",
    "print('Data shape is ',data.shape)\n",
    "# data.head()"
   ]
  },
  {
   "cell_type": "markdown",
   "metadata": {},
   "source": [
    "# Preliminary statistics"
   ]
  },
  {
   "cell_type": "code",
   "execution_count": 16,
   "metadata": {},
   "outputs": [],
   "source": [
    "# store the data into csv\n",
    "data.to_csv('data(raw).csv',index=False)"
   ]
  },
  {
   "cell_type": "code",
   "execution_count": 17,
   "metadata": {},
   "outputs": [
    {
     "name": "stdout",
     "output_type": "stream",
     "text": [
      "Data shape is  (57996, 66)\n"
     ]
    },
    {
     "data": {
      "text/html": [
       "<div>\n",
       "<style scoped>\n",
       "    .dataframe tbody tr th:only-of-type {\n",
       "        vertical-align: middle;\n",
       "    }\n",
       "\n",
       "    .dataframe tbody tr th {\n",
       "        vertical-align: top;\n",
       "    }\n",
       "\n",
       "    .dataframe thead th {\n",
       "        text-align: right;\n",
       "    }\n",
       "</style>\n",
       "<table border=\"1\" class=\"dataframe\">\n",
       "  <thead>\n",
       "    <tr style=\"text-align: right;\">\n",
       "      <th></th>\n",
       "      <th>subject_id</th>\n",
       "      <th>hadm_id</th>\n",
       "      <th>admittime</th>\n",
       "      <th>dischtime</th>\n",
       "      <th>deathtime</th>\n",
       "      <th>dod</th>\n",
       "      <th>first_careunit</th>\n",
       "      <th>last_careunit</th>\n",
       "      <th>age</th>\n",
       "      <th>gender</th>\n",
       "      <th>...</th>\n",
       "      <th>urineoutput</th>\n",
       "      <th>icustay_age_group</th>\n",
       "      <th>oasis</th>\n",
       "      <th>lods</th>\n",
       "      <th>sirs</th>\n",
       "      <th>admission_type</th>\n",
       "      <th>admission_location</th>\n",
       "      <th>discharge_location</th>\n",
       "      <th>ethnicity</th>\n",
       "      <th>diagnosis</th>\n",
       "    </tr>\n",
       "  </thead>\n",
       "  <tbody>\n",
       "    <tr>\n",
       "      <th>0</th>\n",
       "      <td>3</td>\n",
       "      <td>145834</td>\n",
       "      <td>2101-10-20 19:08:00</td>\n",
       "      <td>2101-10-31 13:58:00</td>\n",
       "      <td>NaT</td>\n",
       "      <td>2102-06-14</td>\n",
       "      <td>MICU</td>\n",
       "      <td>MICU</td>\n",
       "      <td>76.526788</td>\n",
       "      <td>M</td>\n",
       "      <td>...</td>\n",
       "      <td>497.0</td>\n",
       "      <td>adult</td>\n",
       "      <td>57</td>\n",
       "      <td>10</td>\n",
       "      <td>3</td>\n",
       "      <td>EMERGENCY</td>\n",
       "      <td>EMERGENCY ROOM ADMIT</td>\n",
       "      <td>SNF</td>\n",
       "      <td>WHITE</td>\n",
       "      <td>HYPOTENSION</td>\n",
       "    </tr>\n",
       "    <tr>\n",
       "      <th>1</th>\n",
       "      <td>6</td>\n",
       "      <td>107064</td>\n",
       "      <td>2175-05-30 07:15:00</td>\n",
       "      <td>2175-06-15 16:00:00</td>\n",
       "      <td>NaT</td>\n",
       "      <td>NaT</td>\n",
       "      <td>SICU</td>\n",
       "      <td>SICU</td>\n",
       "      <td>65.940670</td>\n",
       "      <td>F</td>\n",
       "      <td>...</td>\n",
       "      <td>1940.0</td>\n",
       "      <td>adult</td>\n",
       "      <td>11</td>\n",
       "      <td>5</td>\n",
       "      <td>1</td>\n",
       "      <td>ELECTIVE</td>\n",
       "      <td>PHYS REFERRAL/NORMAL DELI</td>\n",
       "      <td>HOME HEALTH CARE</td>\n",
       "      <td>WHITE</td>\n",
       "      <td>CHRONIC RENAL FAILURE/SDA</td>\n",
       "    </tr>\n",
       "    <tr>\n",
       "      <th>2</th>\n",
       "      <td>9</td>\n",
       "      <td>150750</td>\n",
       "      <td>2149-11-09 13:06:00</td>\n",
       "      <td>2149-11-14 10:15:00</td>\n",
       "      <td>2149-11-14 10:15:00</td>\n",
       "      <td>2149-11-14</td>\n",
       "      <td>MICU</td>\n",
       "      <td>MICU</td>\n",
       "      <td>41.790226</td>\n",
       "      <td>M</td>\n",
       "      <td>...</td>\n",
       "      <td>887.0</td>\n",
       "      <td>adult</td>\n",
       "      <td>35</td>\n",
       "      <td>4</td>\n",
       "      <td>3</td>\n",
       "      <td>EMERGENCY</td>\n",
       "      <td>EMERGENCY ROOM ADMIT</td>\n",
       "      <td>DEAD/EXPIRED</td>\n",
       "      <td>UNKNOWN/NOT SPECIFIED</td>\n",
       "      <td>HEMORRHAGIC CVA</td>\n",
       "    </tr>\n",
       "    <tr>\n",
       "      <th>3</th>\n",
       "      <td>12</td>\n",
       "      <td>112213</td>\n",
       "      <td>2104-08-07 10:15:00</td>\n",
       "      <td>2104-08-20 02:57:00</td>\n",
       "      <td>2104-08-20 02:57:00</td>\n",
       "      <td>2104-08-20</td>\n",
       "      <td>SICU</td>\n",
       "      <td>SICU</td>\n",
       "      <td>72.372364</td>\n",
       "      <td>M</td>\n",
       "      <td>...</td>\n",
       "      <td>1425.0</td>\n",
       "      <td>adult</td>\n",
       "      <td>26</td>\n",
       "      <td>5</td>\n",
       "      <td>3</td>\n",
       "      <td>ELECTIVE</td>\n",
       "      <td>PHYS REFERRAL/NORMAL DELI</td>\n",
       "      <td>DEAD/EXPIRED</td>\n",
       "      <td>WHITE</td>\n",
       "      <td>PANCREATIC CANCER/SDA</td>\n",
       "    </tr>\n",
       "    <tr>\n",
       "      <th>4</th>\n",
       "      <td>13</td>\n",
       "      <td>143045</td>\n",
       "      <td>2167-01-08 18:43:00</td>\n",
       "      <td>2167-01-15 15:15:00</td>\n",
       "      <td>NaT</td>\n",
       "      <td>NaT</td>\n",
       "      <td>CCU</td>\n",
       "      <td>CSRU</td>\n",
       "      <td>39.866116</td>\n",
       "      <td>F</td>\n",
       "      <td>...</td>\n",
       "      <td>1375.0</td>\n",
       "      <td>adult</td>\n",
       "      <td>34</td>\n",
       "      <td>2</td>\n",
       "      <td>4</td>\n",
       "      <td>EMERGENCY</td>\n",
       "      <td>TRANSFER FROM HOSP/EXTRAM</td>\n",
       "      <td>HOME HEALTH CARE</td>\n",
       "      <td>WHITE</td>\n",
       "      <td>CORONARY ARTERY DISEASE</td>\n",
       "    </tr>\n",
       "  </tbody>\n",
       "</table>\n",
       "<p>5 rows × 66 columns</p>\n",
       "</div>"
      ],
      "text/plain": [
       "   subject_id  hadm_id           admittime           dischtime  \\\n",
       "0           3   145834 2101-10-20 19:08:00 2101-10-31 13:58:00   \n",
       "1           6   107064 2175-05-30 07:15:00 2175-06-15 16:00:00   \n",
       "2           9   150750 2149-11-09 13:06:00 2149-11-14 10:15:00   \n",
       "3          12   112213 2104-08-07 10:15:00 2104-08-20 02:57:00   \n",
       "4          13   143045 2167-01-08 18:43:00 2167-01-15 15:15:00   \n",
       "\n",
       "            deathtime        dod first_careunit last_careunit        age  \\\n",
       "0                 NaT 2102-06-14           MICU          MICU  76.526788   \n",
       "1                 NaT        NaT           SICU          SICU  65.940670   \n",
       "2 2149-11-14 10:15:00 2149-11-14           MICU          MICU  41.790226   \n",
       "3 2104-08-20 02:57:00 2104-08-20           SICU          SICU  72.372364   \n",
       "4                 NaT        NaT            CCU          CSRU  39.866116   \n",
       "\n",
       "  gender  ... urineoutput icustay_age_group  oasis  lods  sirs  \\\n",
       "0      M  ...       497.0             adult     57    10     3   \n",
       "1      F  ...      1940.0             adult     11     5     1   \n",
       "2      M  ...       887.0             adult     35     4     3   \n",
       "3      M  ...      1425.0             adult     26     5     3   \n",
       "4      F  ...      1375.0             adult     34     2     4   \n",
       "\n",
       "   admission_type         admission_location  discharge_location  \\\n",
       "0       EMERGENCY       EMERGENCY ROOM ADMIT                 SNF   \n",
       "1        ELECTIVE  PHYS REFERRAL/NORMAL DELI    HOME HEALTH CARE   \n",
       "2       EMERGENCY       EMERGENCY ROOM ADMIT        DEAD/EXPIRED   \n",
       "3        ELECTIVE  PHYS REFERRAL/NORMAL DELI        DEAD/EXPIRED   \n",
       "4       EMERGENCY  TRANSFER FROM HOSP/EXTRAM    HOME HEALTH CARE   \n",
       "\n",
       "               ethnicity                  diagnosis  \n",
       "0                  WHITE                HYPOTENSION  \n",
       "1                  WHITE  CHRONIC RENAL FAILURE/SDA  \n",
       "2  UNKNOWN/NOT SPECIFIED            HEMORRHAGIC CVA  \n",
       "3                  WHITE      PANCREATIC CANCER/SDA  \n",
       "4                  WHITE    CORONARY ARTERY DISEASE  \n",
       "\n",
       "[5 rows x 66 columns]"
      ]
     },
     "execution_count": 17,
     "metadata": {},
     "output_type": "execute_result"
    }
   ],
   "source": [
    "print('Data shape is ',data.shape)\n",
    "data.head()"
   ]
  },
  {
   "cell_type": "code",
   "execution_count": 18,
   "metadata": {},
   "outputs": [
    {
     "name": "stdout",
     "output_type": "stream",
     "text": [
      "Number of unique patient ids: 34005\n"
     ]
    }
   ],
   "source": [
    "print ('Number of unique patient ids: {}'.format(len(data.subject_id.unique())))"
   ]
  },
  {
   "cell_type": "markdown",
   "metadata": {},
   "source": [
    "## Describe numerical data "
   ]
  },
  {
   "cell_type": "code",
   "execution_count": 19,
   "metadata": {},
   "outputs": [
    {
     "data": {
      "text/html": [
       "<div>\n",
       "<style scoped>\n",
       "    .dataframe tbody tr th:only-of-type {\n",
       "        vertical-align: middle;\n",
       "    }\n",
       "\n",
       "    .dataframe tbody tr th {\n",
       "        vertical-align: top;\n",
       "    }\n",
       "\n",
       "    .dataframe thead th {\n",
       "        text-align: right;\n",
       "    }\n",
       "</style>\n",
       "<table border=\"1\" class=\"dataframe\">\n",
       "  <thead>\n",
       "    <tr style=\"text-align: right;\">\n",
       "      <th></th>\n",
       "      <th>age</th>\n",
       "      <th>sapsii</th>\n",
       "      <th>sofa</th>\n",
       "    </tr>\n",
       "  </thead>\n",
       "  <tbody>\n",
       "    <tr>\n",
       "      <th>count</th>\n",
       "      <td>57996.000000</td>\n",
       "      <td>57996.000000</td>\n",
       "      <td>57996.000000</td>\n",
       "    </tr>\n",
       "    <tr>\n",
       "      <th>mean</th>\n",
       "      <td>75.415010</td>\n",
       "      <td>36.797400</td>\n",
       "      <td>4.556797</td>\n",
       "    </tr>\n",
       "    <tr>\n",
       "      <th>std</th>\n",
       "      <td>53.924155</td>\n",
       "      <td>14.494745</td>\n",
       "      <td>3.241760</td>\n",
       "    </tr>\n",
       "    <tr>\n",
       "      <th>min</th>\n",
       "      <td>14.911113</td>\n",
       "      <td>0.000000</td>\n",
       "      <td>0.000000</td>\n",
       "    </tr>\n",
       "    <tr>\n",
       "      <th>25%</th>\n",
       "      <td>54.070590</td>\n",
       "      <td>27.000000</td>\n",
       "      <td>2.000000</td>\n",
       "    </tr>\n",
       "    <tr>\n",
       "      <th>50%</th>\n",
       "      <td>66.827321</td>\n",
       "      <td>35.000000</td>\n",
       "      <td>4.000000</td>\n",
       "    </tr>\n",
       "    <tr>\n",
       "      <th>75%</th>\n",
       "      <td>78.174955</td>\n",
       "      <td>45.000000</td>\n",
       "      <td>6.000000</td>\n",
       "    </tr>\n",
       "    <tr>\n",
       "      <th>max</th>\n",
       "      <td>310.280859</td>\n",
       "      <td>118.000000</td>\n",
       "      <td>22.000000</td>\n",
       "    </tr>\n",
       "  </tbody>\n",
       "</table>\n",
       "</div>"
      ],
      "text/plain": [
       "                age        sapsii          sofa\n",
       "count  57996.000000  57996.000000  57996.000000\n",
       "mean      75.415010     36.797400      4.556797\n",
       "std       53.924155     14.494745      3.241760\n",
       "min       14.911113      0.000000      0.000000\n",
       "25%       54.070590     27.000000      2.000000\n",
       "50%       66.827321     35.000000      4.000000\n",
       "75%       78.174955     45.000000      6.000000\n",
       "max      310.280859    118.000000     22.000000"
      ]
     },
     "execution_count": 19,
     "metadata": {},
     "output_type": "execute_result"
    }
   ],
   "source": [
    "data[['age','sapsii','sofa']].describe()"
   ]
  },
  {
   "cell_type": "code",
   "execution_count": 20,
   "metadata": {
    "scrolled": true
   },
   "outputs": [
    {
     "data": {
      "text/plain": [
       "count    55099.000000\n",
       "mean        63.580520\n",
       "std         16.022694\n",
       "min         14.911113\n",
       "25%         53.328980\n",
       "50%         65.703551\n",
       "75%         76.578615\n",
       "max         89.003531\n",
       "Name: age, dtype: float64"
      ]
     },
     "execution_count": 20,
     "metadata": {},
     "output_type": "execute_result"
    }
   ],
   "source": [
    "data.loc[data.age<300].age.describe()"
   ]
  },
  {
   "cell_type": "code",
   "execution_count": 21,
   "metadata": {},
   "outputs": [
    {
     "data": {
      "text/html": [
       "<div>\n",
       "<style scoped>\n",
       "    .dataframe tbody tr th:only-of-type {\n",
       "        vertical-align: middle;\n",
       "    }\n",
       "\n",
       "    .dataframe tbody tr th {\n",
       "        vertical-align: top;\n",
       "    }\n",
       "\n",
       "    .dataframe thead th {\n",
       "        text-align: right;\n",
       "    }\n",
       "</style>\n",
       "<table border=\"1\" class=\"dataframe\">\n",
       "  <thead>\n",
       "    <tr style=\"text-align: right;\">\n",
       "      <th></th>\n",
       "      <th>resprate_min</th>\n",
       "      <th>resprate_max</th>\n",
       "      <th>resprate_mean</th>\n",
       "    </tr>\n",
       "  </thead>\n",
       "  <tbody>\n",
       "    <tr>\n",
       "      <th>count</th>\n",
       "      <td>57981.000000</td>\n",
       "      <td>57981.000000</td>\n",
       "      <td>57981.000000</td>\n",
       "    </tr>\n",
       "    <tr>\n",
       "      <th>mean</th>\n",
       "      <td>9.782119</td>\n",
       "      <td>32.962557</td>\n",
       "      <td>19.375751</td>\n",
       "    </tr>\n",
       "    <tr>\n",
       "      <th>std</th>\n",
       "      <td>3.727347</td>\n",
       "      <td>9.072195</td>\n",
       "      <td>3.539746</td>\n",
       "    </tr>\n",
       "    <tr>\n",
       "      <th>min</th>\n",
       "      <td>0.170000</td>\n",
       "      <td>8.000000</td>\n",
       "      <td>7.333333</td>\n",
       "    </tr>\n",
       "    <tr>\n",
       "      <th>25%</th>\n",
       "      <td>7.000000</td>\n",
       "      <td>26.000000</td>\n",
       "      <td>16.846774</td>\n",
       "    </tr>\n",
       "    <tr>\n",
       "      <th>50%</th>\n",
       "      <td>10.000000</td>\n",
       "      <td>31.000000</td>\n",
       "      <td>19.040404</td>\n",
       "    </tr>\n",
       "    <tr>\n",
       "      <th>75%</th>\n",
       "      <td>12.000000</td>\n",
       "      <td>38.000000</td>\n",
       "      <td>21.526316</td>\n",
       "    </tr>\n",
       "    <tr>\n",
       "      <th>max</th>\n",
       "      <td>33.000000</td>\n",
       "      <td>69.000000</td>\n",
       "      <td>43.777778</td>\n",
       "    </tr>\n",
       "  </tbody>\n",
       "</table>\n",
       "</div>"
      ],
      "text/plain": [
       "       resprate_min  resprate_max  resprate_mean\n",
       "count  57981.000000  57981.000000   57981.000000\n",
       "mean       9.782119     32.962557      19.375751\n",
       "std        3.727347      9.072195       3.539746\n",
       "min        0.170000      8.000000       7.333333\n",
       "25%        7.000000     26.000000      16.846774\n",
       "50%       10.000000     31.000000      19.040404\n",
       "75%       12.000000     38.000000      21.526316\n",
       "max       33.000000     69.000000      43.777778"
      ]
     },
     "execution_count": 21,
     "metadata": {},
     "output_type": "execute_result"
    }
   ],
   "source": [
    "data[['resprate_min', 'resprate_max', 'resprate_mean',]].describe()"
   ]
  },
  {
   "cell_type": "code",
   "execution_count": 22,
   "metadata": {},
   "outputs": [
    {
     "data": {
      "text/html": [
       "<div>\n",
       "<style scoped>\n",
       "    .dataframe tbody tr th:only-of-type {\n",
       "        vertical-align: middle;\n",
       "    }\n",
       "\n",
       "    .dataframe tbody tr th {\n",
       "        vertical-align: top;\n",
       "    }\n",
       "\n",
       "    .dataframe thead th {\n",
       "        text-align: right;\n",
       "    }\n",
       "</style>\n",
       "<table border=\"1\" class=\"dataframe\">\n",
       "  <thead>\n",
       "    <tr style=\"text-align: right;\">\n",
       "      <th></th>\n",
       "      <th>urea_n_min</th>\n",
       "      <th>urea_n_mean</th>\n",
       "      <th>urea_n_max</th>\n",
       "    </tr>\n",
       "  </thead>\n",
       "  <tbody>\n",
       "    <tr>\n",
       "      <th>count</th>\n",
       "      <td>57963.000000</td>\n",
       "      <td>57963.000000</td>\n",
       "      <td>57963.000000</td>\n",
       "    </tr>\n",
       "    <tr>\n",
       "      <th>mean</th>\n",
       "      <td>16.463710</td>\n",
       "      <td>27.333612</td>\n",
       "      <td>42.224557</td>\n",
       "    </tr>\n",
       "    <tr>\n",
       "      <th>std</th>\n",
       "      <td>13.314368</td>\n",
       "      <td>18.915366</td>\n",
       "      <td>31.176981</td>\n",
       "    </tr>\n",
       "    <tr>\n",
       "      <th>min</th>\n",
       "      <td>0.000000</td>\n",
       "      <td>1.421053</td>\n",
       "      <td>2.000000</td>\n",
       "    </tr>\n",
       "    <tr>\n",
       "      <th>25%</th>\n",
       "      <td>9.000000</td>\n",
       "      <td>14.500000</td>\n",
       "      <td>20.000000</td>\n",
       "    </tr>\n",
       "    <tr>\n",
       "      <th>50%</th>\n",
       "      <td>13.000000</td>\n",
       "      <td>21.285714</td>\n",
       "      <td>31.000000</td>\n",
       "    </tr>\n",
       "    <tr>\n",
       "      <th>75%</th>\n",
       "      <td>19.000000</td>\n",
       "      <td>34.500000</td>\n",
       "      <td>55.000000</td>\n",
       "    </tr>\n",
       "    <tr>\n",
       "      <th>max</th>\n",
       "      <td>161.000000</td>\n",
       "      <td>232.040000</td>\n",
       "      <td>290.000000</td>\n",
       "    </tr>\n",
       "  </tbody>\n",
       "</table>\n",
       "</div>"
      ],
      "text/plain": [
       "         urea_n_min   urea_n_mean    urea_n_max\n",
       "count  57963.000000  57963.000000  57963.000000\n",
       "mean      16.463710     27.333612     42.224557\n",
       "std       13.314368     18.915366     31.176981\n",
       "min        0.000000      1.421053      2.000000\n",
       "25%        9.000000     14.500000     20.000000\n",
       "50%       13.000000     21.285714     31.000000\n",
       "75%       19.000000     34.500000     55.000000\n",
       "max      161.000000    232.040000    290.000000"
      ]
     },
     "execution_count": 22,
     "metadata": {},
     "output_type": "execute_result"
    }
   ],
   "source": [
    "data[['urea_n_min','urea_n_mean','urea_n_max',]].describe()"
   ]
  },
  {
   "cell_type": "code",
   "execution_count": 23,
   "metadata": {},
   "outputs": [
    {
     "data": {
      "text/html": [
       "<div>\n",
       "<style scoped>\n",
       "    .dataframe tbody tr th:only-of-type {\n",
       "        vertical-align: middle;\n",
       "    }\n",
       "\n",
       "    .dataframe tbody tr th {\n",
       "        vertical-align: top;\n",
       "    }\n",
       "\n",
       "    .dataframe thead th {\n",
       "        text-align: right;\n",
       "    }\n",
       "</style>\n",
       "<table border=\"1\" class=\"dataframe\">\n",
       "  <thead>\n",
       "    <tr style=\"text-align: right;\">\n",
       "      <th></th>\n",
       "      <th>magnesium_max</th>\n",
       "      <th>albumin_min</th>\n",
       "      <th>calcium_min</th>\n",
       "    </tr>\n",
       "  </thead>\n",
       "  <tbody>\n",
       "    <tr>\n",
       "      <th>count</th>\n",
       "      <td>57548.000000</td>\n",
       "      <td>41367.000000</td>\n",
       "      <td>56248.000000</td>\n",
       "    </tr>\n",
       "    <tr>\n",
       "      <th>mean</th>\n",
       "      <td>2.501767</td>\n",
       "      <td>2.799359</td>\n",
       "      <td>7.673363</td>\n",
       "    </tr>\n",
       "    <tr>\n",
       "      <th>std</th>\n",
       "      <td>1.012201</td>\n",
       "      <td>0.757489</td>\n",
       "      <td>0.863674</td>\n",
       "    </tr>\n",
       "    <tr>\n",
       "      <th>min</th>\n",
       "      <td>0.400000</td>\n",
       "      <td>0.900000</td>\n",
       "      <td>0.000000</td>\n",
       "    </tr>\n",
       "    <tr>\n",
       "      <th>25%</th>\n",
       "      <td>2.200000</td>\n",
       "      <td>2.200000</td>\n",
       "      <td>7.200000</td>\n",
       "    </tr>\n",
       "    <tr>\n",
       "      <th>50%</th>\n",
       "      <td>2.400000</td>\n",
       "      <td>2.700000</td>\n",
       "      <td>7.700000</td>\n",
       "    </tr>\n",
       "    <tr>\n",
       "      <th>75%</th>\n",
       "      <td>2.700000</td>\n",
       "      <td>3.300000</td>\n",
       "      <td>8.200000</td>\n",
       "    </tr>\n",
       "    <tr>\n",
       "      <th>max</th>\n",
       "      <td>58.000000</td>\n",
       "      <td>5.700000</td>\n",
       "      <td>17.900000</td>\n",
       "    </tr>\n",
       "  </tbody>\n",
       "</table>\n",
       "</div>"
      ],
      "text/plain": [
       "       magnesium_max   albumin_min   calcium_min\n",
       "count   57548.000000  41367.000000  56248.000000\n",
       "mean        2.501767      2.799359      7.673363\n",
       "std         1.012201      0.757489      0.863674\n",
       "min         0.400000      0.900000      0.000000\n",
       "25%         2.200000      2.200000      7.200000\n",
       "50%         2.400000      2.700000      7.700000\n",
       "75%         2.700000      3.300000      8.200000\n",
       "max        58.000000      5.700000     17.900000"
      ]
     },
     "execution_count": 23,
     "metadata": {},
     "output_type": "execute_result"
    }
   ],
   "source": [
    "data[['magnesium_max','albumin_min','calcium_min']].describe()"
   ]
  },
  {
   "cell_type": "code",
   "execution_count": 24,
   "metadata": {},
   "outputs": [
    {
     "data": {
      "text/html": [
       "<div>\n",
       "<style scoped>\n",
       "    .dataframe tbody tr th:only-of-type {\n",
       "        vertical-align: middle;\n",
       "    }\n",
       "\n",
       "    .dataframe tbody tr th {\n",
       "        vertical-align: top;\n",
       "    }\n",
       "\n",
       "    .dataframe thead th {\n",
       "        text-align: right;\n",
       "    }\n",
       "</style>\n",
       "<table border=\"1\" class=\"dataframe\">\n",
       "  <thead>\n",
       "    <tr style=\"text-align: right;\">\n",
       "      <th></th>\n",
       "      <th>glucose_min</th>\n",
       "      <th>glucose_mean</th>\n",
       "      <th>glucose_max</th>\n",
       "    </tr>\n",
       "  </thead>\n",
       "  <tbody>\n",
       "    <tr>\n",
       "      <th>count</th>\n",
       "      <td>57638.000000</td>\n",
       "      <td>57638.000000</td>\n",
       "      <td>57638.000000</td>\n",
       "    </tr>\n",
       "    <tr>\n",
       "      <th>mean</th>\n",
       "      <td>86.977461</td>\n",
       "      <td>137.750363</td>\n",
       "      <td>271.053735</td>\n",
       "    </tr>\n",
       "    <tr>\n",
       "      <th>std</th>\n",
       "      <td>30.178478</td>\n",
       "      <td>86.866399</td>\n",
       "      <td>5961.165184</td>\n",
       "    </tr>\n",
       "    <tr>\n",
       "      <th>min</th>\n",
       "      <td>0.106000</td>\n",
       "      <td>21.000000</td>\n",
       "      <td>21.000000</td>\n",
       "    </tr>\n",
       "    <tr>\n",
       "      <th>25%</th>\n",
       "      <td>70.000000</td>\n",
       "      <td>117.142857</td>\n",
       "      <td>157.000000</td>\n",
       "    </tr>\n",
       "    <tr>\n",
       "      <th>50%</th>\n",
       "      <td>86.000000</td>\n",
       "      <td>130.800000</td>\n",
       "      <td>197.000000</td>\n",
       "    </tr>\n",
       "    <tr>\n",
       "      <th>75%</th>\n",
       "      <td>101.000000</td>\n",
       "      <td>149.946429</td>\n",
       "      <td>265.000000</td>\n",
       "    </tr>\n",
       "    <tr>\n",
       "      <th>max</th>\n",
       "      <td>485.000000</td>\n",
       "      <td>17994.482143</td>\n",
       "      <td>999999.000000</td>\n",
       "    </tr>\n",
       "  </tbody>\n",
       "</table>\n",
       "</div>"
      ],
      "text/plain": [
       "        glucose_min  glucose_mean    glucose_max\n",
       "count  57638.000000  57638.000000   57638.000000\n",
       "mean      86.977461    137.750363     271.053735\n",
       "std       30.178478     86.866399    5961.165184\n",
       "min        0.106000     21.000000      21.000000\n",
       "25%       70.000000    117.142857     157.000000\n",
       "50%       86.000000    130.800000     197.000000\n",
       "75%      101.000000    149.946429     265.000000\n",
       "max      485.000000  17994.482143  999999.000000"
      ]
     },
     "execution_count": 24,
     "metadata": {},
     "output_type": "execute_result"
    }
   ],
   "source": [
    "data[['glucose_min','glucose_mean','glucose_max']].describe()"
   ]
  },
  {
   "cell_type": "code",
   "execution_count": 25,
   "metadata": {},
   "outputs": [
    {
     "data": {
      "text/html": [
       "<div>\n",
       "<style scoped>\n",
       "    .dataframe tbody tr th:only-of-type {\n",
       "        vertical-align: middle;\n",
       "    }\n",
       "\n",
       "    .dataframe tbody tr th {\n",
       "        vertical-align: top;\n",
       "    }\n",
       "\n",
       "    .dataframe thead th {\n",
       "        text-align: right;\n",
       "    }\n",
       "</style>\n",
       "<table border=\"1\" class=\"dataframe\">\n",
       "  <thead>\n",
       "    <tr style=\"text-align: right;\">\n",
       "      <th></th>\n",
       "      <th>hr_min</th>\n",
       "      <th>hr_mean</th>\n",
       "      <th>hr_max</th>\n",
       "    </tr>\n",
       "  </thead>\n",
       "  <tbody>\n",
       "    <tr>\n",
       "      <th>count</th>\n",
       "      <td>57994.000000</td>\n",
       "      <td>57994.000000</td>\n",
       "      <td>57994.000000</td>\n",
       "    </tr>\n",
       "    <tr>\n",
       "      <th>mean</th>\n",
       "      <td>62.747368</td>\n",
       "      <td>85.759691</td>\n",
       "      <td>118.006071</td>\n",
       "    </tr>\n",
       "    <tr>\n",
       "      <th>std</th>\n",
       "      <td>14.767748</td>\n",
       "      <td>13.134256</td>\n",
       "      <td>25.515820</td>\n",
       "    </tr>\n",
       "    <tr>\n",
       "      <th>min</th>\n",
       "      <td>0.350000</td>\n",
       "      <td>34.710000</td>\n",
       "      <td>39.000000</td>\n",
       "    </tr>\n",
       "    <tr>\n",
       "      <th>25%</th>\n",
       "      <td>54.000000</td>\n",
       "      <td>76.770000</td>\n",
       "      <td>99.000000</td>\n",
       "    </tr>\n",
       "    <tr>\n",
       "      <th>50%</th>\n",
       "      <td>63.000000</td>\n",
       "      <td>85.140000</td>\n",
       "      <td>116.000000</td>\n",
       "    </tr>\n",
       "    <tr>\n",
       "      <th>75%</th>\n",
       "      <td>72.000000</td>\n",
       "      <td>94.430000</td>\n",
       "      <td>134.000000</td>\n",
       "    </tr>\n",
       "    <tr>\n",
       "      <th>max</th>\n",
       "      <td>141.000000</td>\n",
       "      <td>163.880000</td>\n",
       "      <td>285.000000</td>\n",
       "    </tr>\n",
       "  </tbody>\n",
       "</table>\n",
       "</div>"
      ],
      "text/plain": [
       "             hr_min       hr_mean        hr_max\n",
       "count  57994.000000  57994.000000  57994.000000\n",
       "mean      62.747368     85.759691    118.006071\n",
       "std       14.767748     13.134256     25.515820\n",
       "min        0.350000     34.710000     39.000000\n",
       "25%       54.000000     76.770000     99.000000\n",
       "50%       63.000000     85.140000    116.000000\n",
       "75%       72.000000     94.430000    134.000000\n",
       "max      141.000000    163.880000    285.000000"
      ]
     },
     "execution_count": 25,
     "metadata": {},
     "output_type": "execute_result"
    }
   ],
   "source": [
    "data[['hr_min','hr_mean','hr_max']].describe()"
   ]
  },
  {
   "cell_type": "code",
   "execution_count": 26,
   "metadata": {},
   "outputs": [
    {
     "data": {
      "text/html": [
       "<div>\n",
       "<style scoped>\n",
       "    .dataframe tbody tr th:only-of-type {\n",
       "        vertical-align: middle;\n",
       "    }\n",
       "\n",
       "    .dataframe tbody tr th {\n",
       "        vertical-align: top;\n",
       "    }\n",
       "\n",
       "    .dataframe thead th {\n",
       "        text-align: right;\n",
       "    }\n",
       "</style>\n",
       "<table border=\"1\" class=\"dataframe\">\n",
       "  <thead>\n",
       "    <tr style=\"text-align: right;\">\n",
       "      <th></th>\n",
       "      <th>sysbp_min</th>\n",
       "      <th>sysbp_mean</th>\n",
       "      <th>sysbp_max</th>\n",
       "    </tr>\n",
       "  </thead>\n",
       "  <tbody>\n",
       "    <tr>\n",
       "      <th>count</th>\n",
       "      <td>57988.000000</td>\n",
       "      <td>57988.000000</td>\n",
       "      <td>57988.000000</td>\n",
       "    </tr>\n",
       "    <tr>\n",
       "      <th>mean</th>\n",
       "      <td>79.984309</td>\n",
       "      <td>120.333388</td>\n",
       "      <td>165.783576</td>\n",
       "    </tr>\n",
       "    <tr>\n",
       "      <th>std</th>\n",
       "      <td>21.150334</td>\n",
       "      <td>15.593030</td>\n",
       "      <td>28.935278</td>\n",
       "    </tr>\n",
       "    <tr>\n",
       "      <th>min</th>\n",
       "      <td>0.060000</td>\n",
       "      <td>29.170000</td>\n",
       "      <td>45.000000</td>\n",
       "    </tr>\n",
       "    <tr>\n",
       "      <th>25%</th>\n",
       "      <td>70.000000</td>\n",
       "      <td>109.130000</td>\n",
       "      <td>145.000000</td>\n",
       "    </tr>\n",
       "    <tr>\n",
       "      <th>50%</th>\n",
       "      <td>81.000000</td>\n",
       "      <td>118.670000</td>\n",
       "      <td>162.000000</td>\n",
       "    </tr>\n",
       "    <tr>\n",
       "      <th>75%</th>\n",
       "      <td>93.000000</td>\n",
       "      <td>130.192500</td>\n",
       "      <td>183.000000</td>\n",
       "    </tr>\n",
       "    <tr>\n",
       "      <th>max</th>\n",
       "      <td>181.000000</td>\n",
       "      <td>215.830000</td>\n",
       "      <td>355.000000</td>\n",
       "    </tr>\n",
       "  </tbody>\n",
       "</table>\n",
       "</div>"
      ],
      "text/plain": [
       "          sysbp_min    sysbp_mean     sysbp_max\n",
       "count  57988.000000  57988.000000  57988.000000\n",
       "mean      79.984309    120.333388    165.783576\n",
       "std       21.150334     15.593030     28.935278\n",
       "min        0.060000     29.170000     45.000000\n",
       "25%       70.000000    109.130000    145.000000\n",
       "50%       81.000000    118.670000    162.000000\n",
       "75%       93.000000    130.192500    183.000000\n",
       "max      181.000000    215.830000    355.000000"
      ]
     },
     "execution_count": 26,
     "metadata": {},
     "output_type": "execute_result"
    }
   ],
   "source": [
    "data[['sysbp_min','sysbp_mean','sysbp_max']].describe()"
   ]
  },
  {
   "cell_type": "code",
   "execution_count": 27,
   "metadata": {},
   "outputs": [
    {
     "data": {
      "text/html": [
       "<div>\n",
       "<style scoped>\n",
       "    .dataframe tbody tr th:only-of-type {\n",
       "        vertical-align: middle;\n",
       "    }\n",
       "\n",
       "    .dataframe tbody tr th {\n",
       "        vertical-align: top;\n",
       "    }\n",
       "\n",
       "    .dataframe thead th {\n",
       "        text-align: right;\n",
       "    }\n",
       "</style>\n",
       "<table border=\"1\" class=\"dataframe\">\n",
       "  <thead>\n",
       "    <tr style=\"text-align: right;\">\n",
       "      <th></th>\n",
       "      <th>diasbp_min</th>\n",
       "      <th>diasbp_mean</th>\n",
       "      <th>diasbp_max</th>\n",
       "    </tr>\n",
       "  </thead>\n",
       "  <tbody>\n",
       "    <tr>\n",
       "      <th>count</th>\n",
       "      <td>57988.00000</td>\n",
       "      <td>57988.000000</td>\n",
       "      <td>57988.000000</td>\n",
       "    </tr>\n",
       "    <tr>\n",
       "      <th>mean</th>\n",
       "      <td>35.72244</td>\n",
       "      <td>60.253103</td>\n",
       "      <td>99.736583</td>\n",
       "    </tr>\n",
       "    <tr>\n",
       "      <th>std</th>\n",
       "      <td>12.31615</td>\n",
       "      <td>9.708390</td>\n",
       "      <td>27.585497</td>\n",
       "    </tr>\n",
       "    <tr>\n",
       "      <th>min</th>\n",
       "      <td>0.32000</td>\n",
       "      <td>14.500000</td>\n",
       "      <td>25.000000</td>\n",
       "    </tr>\n",
       "    <tr>\n",
       "      <th>25%</th>\n",
       "      <td>27.00000</td>\n",
       "      <td>53.657500</td>\n",
       "      <td>82.000000</td>\n",
       "    </tr>\n",
       "    <tr>\n",
       "      <th>50%</th>\n",
       "      <td>36.00000</td>\n",
       "      <td>59.300000</td>\n",
       "      <td>95.000000</td>\n",
       "    </tr>\n",
       "    <tr>\n",
       "      <th>75%</th>\n",
       "      <td>44.00000</td>\n",
       "      <td>66.060000</td>\n",
       "      <td>111.000000</td>\n",
       "    </tr>\n",
       "    <tr>\n",
       "      <th>max</th>\n",
       "      <td>105.00000</td>\n",
       "      <td>117.870000</td>\n",
       "      <td>298.000000</td>\n",
       "    </tr>\n",
       "  </tbody>\n",
       "</table>\n",
       "</div>"
      ],
      "text/plain": [
       "        diasbp_min   diasbp_mean    diasbp_max\n",
       "count  57988.00000  57988.000000  57988.000000\n",
       "mean      35.72244     60.253103     99.736583\n",
       "std       12.31615      9.708390     27.585497\n",
       "min        0.32000     14.500000     25.000000\n",
       "25%       27.00000     53.657500     82.000000\n",
       "50%       36.00000     59.300000     95.000000\n",
       "75%       44.00000     66.060000    111.000000\n",
       "max      105.00000    117.870000    298.000000"
      ]
     },
     "execution_count": 27,
     "metadata": {},
     "output_type": "execute_result"
    }
   ],
   "source": [
    "data[['diasbp_min','diasbp_mean','diasbp_max']].describe()"
   ]
  },
  {
   "cell_type": "code",
   "execution_count": 28,
   "metadata": {},
   "outputs": [
    {
     "data": {
      "text/html": [
       "<div>\n",
       "<style scoped>\n",
       "    .dataframe tbody tr th:only-of-type {\n",
       "        vertical-align: middle;\n",
       "    }\n",
       "\n",
       "    .dataframe tbody tr th {\n",
       "        vertical-align: top;\n",
       "    }\n",
       "\n",
       "    .dataframe thead th {\n",
       "        text-align: right;\n",
       "    }\n",
       "</style>\n",
       "<table border=\"1\" class=\"dataframe\">\n",
       "  <thead>\n",
       "    <tr style=\"text-align: right;\">\n",
       "      <th></th>\n",
       "      <th>temp_min</th>\n",
       "      <th>temp_mean</th>\n",
       "      <th>temp_max</th>\n",
       "    </tr>\n",
       "  </thead>\n",
       "  <tbody>\n",
       "    <tr>\n",
       "      <th>count</th>\n",
       "      <td>57907.000000</td>\n",
       "      <td>57907.000000</td>\n",
       "      <td>57907.000000</td>\n",
       "    </tr>\n",
       "    <tr>\n",
       "      <th>mean</th>\n",
       "      <td>35.625338</td>\n",
       "      <td>36.848842</td>\n",
       "      <td>37.977907</td>\n",
       "    </tr>\n",
       "    <tr>\n",
       "      <th>std</th>\n",
       "      <td>0.919910</td>\n",
       "      <td>0.527247</td>\n",
       "      <td>0.882785</td>\n",
       "    </tr>\n",
       "    <tr>\n",
       "      <th>min</th>\n",
       "      <td>15.000000</td>\n",
       "      <td>30.000000</td>\n",
       "      <td>30.000000</td>\n",
       "    </tr>\n",
       "    <tr>\n",
       "      <th>25%</th>\n",
       "      <td>35.277778</td>\n",
       "      <td>36.530000</td>\n",
       "      <td>37.333333</td>\n",
       "    </tr>\n",
       "    <tr>\n",
       "      <th>50%</th>\n",
       "      <td>35.666667</td>\n",
       "      <td>36.830000</td>\n",
       "      <td>37.888889</td>\n",
       "    </tr>\n",
       "    <tr>\n",
       "      <th>75%</th>\n",
       "      <td>36.111111</td>\n",
       "      <td>37.170000</td>\n",
       "      <td>38.500002</td>\n",
       "    </tr>\n",
       "    <tr>\n",
       "      <th>max</th>\n",
       "      <td>40.000000</td>\n",
       "      <td>40.120000</td>\n",
       "      <td>46.500000</td>\n",
       "    </tr>\n",
       "  </tbody>\n",
       "</table>\n",
       "</div>"
      ],
      "text/plain": [
       "           temp_min     temp_mean      temp_max\n",
       "count  57907.000000  57907.000000  57907.000000\n",
       "mean      35.625338     36.848842     37.977907\n",
       "std        0.919910      0.527247      0.882785\n",
       "min       15.000000     30.000000     30.000000\n",
       "25%       35.277778     36.530000     37.333333\n",
       "50%       35.666667     36.830000     37.888889\n",
       "75%       36.111111     37.170000     38.500002\n",
       "max       40.000000     40.120000     46.500000"
      ]
     },
     "execution_count": 28,
     "metadata": {},
     "output_type": "execute_result"
    }
   ],
   "source": [
    "data[['temp_min','temp_mean','temp_max']].describe()"
   ]
  },
  {
   "cell_type": "code",
   "execution_count": 29,
   "metadata": {},
   "outputs": [
    {
     "data": {
      "text/html": [
       "<div>\n",
       "<style scoped>\n",
       "    .dataframe tbody tr th:only-of-type {\n",
       "        vertical-align: middle;\n",
       "    }\n",
       "\n",
       "    .dataframe tbody tr th {\n",
       "        vertical-align: top;\n",
       "    }\n",
       "\n",
       "    .dataframe thead th {\n",
       "        text-align: right;\n",
       "    }\n",
       "</style>\n",
       "<table border=\"1\" class=\"dataframe\">\n",
       "  <thead>\n",
       "    <tr style=\"text-align: right;\">\n",
       "      <th></th>\n",
       "      <th>urine_min</th>\n",
       "      <th>urine_mean</th>\n",
       "      <th>urine_max</th>\n",
       "    </tr>\n",
       "  </thead>\n",
       "  <tbody>\n",
       "    <tr>\n",
       "      <th>count</th>\n",
       "      <td>57985.000000</td>\n",
       "      <td>57985.000000</td>\n",
       "      <td>5.798500e+04</td>\n",
       "    </tr>\n",
       "    <tr>\n",
       "      <th>mean</th>\n",
       "      <td>25.898059</td>\n",
       "      <td>126.103510</td>\n",
       "      <td>6.679872e+02</td>\n",
       "    </tr>\n",
       "    <tr>\n",
       "      <th>std</th>\n",
       "      <td>62.026718</td>\n",
       "      <td>537.055435</td>\n",
       "      <td>1.935803e+04</td>\n",
       "    </tr>\n",
       "    <tr>\n",
       "      <th>min</th>\n",
       "      <td>0.000000</td>\n",
       "      <td>0.000000</td>\n",
       "      <td>0.000000e+00</td>\n",
       "    </tr>\n",
       "    <tr>\n",
       "      <th>25%</th>\n",
       "      <td>0.000000</td>\n",
       "      <td>77.000000</td>\n",
       "      <td>3.000000e+02</td>\n",
       "    </tr>\n",
       "    <tr>\n",
       "      <th>50%</th>\n",
       "      <td>15.000000</td>\n",
       "      <td>110.000000</td>\n",
       "      <td>4.500000e+02</td>\n",
       "    </tr>\n",
       "    <tr>\n",
       "      <th>75%</th>\n",
       "      <td>30.000000</td>\n",
       "      <td>149.000000</td>\n",
       "      <td>6.500000e+02</td>\n",
       "    </tr>\n",
       "    <tr>\n",
       "      <th>max</th>\n",
       "      <td>3100.000000</td>\n",
       "      <td>119965.000000</td>\n",
       "      <td>4.555555e+06</td>\n",
       "    </tr>\n",
       "  </tbody>\n",
       "</table>\n",
       "</div>"
      ],
      "text/plain": [
       "          urine_min     urine_mean     urine_max\n",
       "count  57985.000000   57985.000000  5.798500e+04\n",
       "mean      25.898059     126.103510  6.679872e+02\n",
       "std       62.026718     537.055435  1.935803e+04\n",
       "min        0.000000       0.000000  0.000000e+00\n",
       "25%        0.000000      77.000000  3.000000e+02\n",
       "50%       15.000000     110.000000  4.500000e+02\n",
       "75%       30.000000     149.000000  6.500000e+02\n",
       "max     3100.000000  119965.000000  4.555555e+06"
      ]
     },
     "execution_count": 29,
     "metadata": {},
     "output_type": "execute_result"
    }
   ],
   "source": [
    "data[['urine_min','urine_mean','urine_max']].describe()"
   ]
  },
  {
   "cell_type": "code",
   "execution_count": 30,
   "metadata": {},
   "outputs": [
    {
     "data": {
      "text/html": [
       "<div>\n",
       "<style scoped>\n",
       "    .dataframe tbody tr th:only-of-type {\n",
       "        vertical-align: middle;\n",
       "    }\n",
       "\n",
       "    .dataframe tbody tr th {\n",
       "        vertical-align: top;\n",
       "    }\n",
       "\n",
       "    .dataframe thead th {\n",
       "        text-align: right;\n",
       "    }\n",
       "</style>\n",
       "<table border=\"1\" class=\"dataframe\">\n",
       "  <thead>\n",
       "    <tr style=\"text-align: right;\">\n",
       "      <th></th>\n",
       "      <th>platelets_min</th>\n",
       "      <th>platelets_mean</th>\n",
       "      <th>platelets_max</th>\n",
       "    </tr>\n",
       "  </thead>\n",
       "  <tbody>\n",
       "    <tr>\n",
       "      <th>count</th>\n",
       "      <td>57953.000000</td>\n",
       "      <td>57953.000000</td>\n",
       "      <td>57953.000000</td>\n",
       "    </tr>\n",
       "    <tr>\n",
       "      <th>mean</th>\n",
       "      <td>158.938562</td>\n",
       "      <td>238.752800</td>\n",
       "      <td>353.653012</td>\n",
       "    </tr>\n",
       "    <tr>\n",
       "      <th>std</th>\n",
       "      <td>93.330341</td>\n",
       "      <td>117.351249</td>\n",
       "      <td>195.654320</td>\n",
       "    </tr>\n",
       "    <tr>\n",
       "      <th>min</th>\n",
       "      <td>4.000000</td>\n",
       "      <td>9.562500</td>\n",
       "      <td>12.000000</td>\n",
       "    </tr>\n",
       "    <tr>\n",
       "      <th>25%</th>\n",
       "      <td>98.000000</td>\n",
       "      <td>161.750000</td>\n",
       "      <td>224.000000</td>\n",
       "    </tr>\n",
       "    <tr>\n",
       "      <th>50%</th>\n",
       "      <td>148.000000</td>\n",
       "      <td>221.448276</td>\n",
       "      <td>309.000000</td>\n",
       "    </tr>\n",
       "    <tr>\n",
       "      <th>75%</th>\n",
       "      <td>207.000000</td>\n",
       "      <td>296.000000</td>\n",
       "      <td>434.000000</td>\n",
       "    </tr>\n",
       "    <tr>\n",
       "      <th>max</th>\n",
       "      <td>1328.000000</td>\n",
       "      <td>1551.387097</td>\n",
       "      <td>2813.000000</td>\n",
       "    </tr>\n",
       "  </tbody>\n",
       "</table>\n",
       "</div>"
      ],
      "text/plain": [
       "       platelets_min  platelets_mean  platelets_max\n",
       "count   57953.000000    57953.000000   57953.000000\n",
       "mean      158.938562      238.752800     353.653012\n",
       "std        93.330341      117.351249     195.654320\n",
       "min         4.000000        9.562500      12.000000\n",
       "25%        98.000000      161.750000     224.000000\n",
       "50%       148.000000      221.448276     309.000000\n",
       "75%       207.000000      296.000000     434.000000\n",
       "max      1328.000000     1551.387097    2813.000000"
      ]
     },
     "execution_count": 30,
     "metadata": {},
     "output_type": "execute_result"
    }
   ],
   "source": [
    "data[['platelets_min','platelets_mean','platelets_max']].describe()"
   ]
  },
  {
   "cell_type": "markdown",
   "metadata": {},
   "source": [
    "## Describe categorical data "
   ]
  },
  {
   "cell_type": "code",
   "execution_count": 31,
   "metadata": {},
   "outputs": [
    {
     "data": {
      "text/plain": [
       "M    32392\n",
       "F    25604\n",
       "Name: gender, dtype: int64"
      ]
     },
     "execution_count": 31,
     "metadata": {},
     "output_type": "execute_result"
    }
   ],
   "source": [
    "data.gender.value_counts(dropna=False)"
   ]
  },
  {
   "cell_type": "code",
   "execution_count": 32,
   "metadata": {},
   "outputs": [
    {
     "data": {
      "image/png": "[encoded data removed]",
      "text/plain": [
       "<Figure size 360x360 with 1 Axes>"
      ]
     },
     "metadata": {},
     "output_type": "display_data"
    }
   ],
   "source": [
    "fig = plt.figure(figsize=(5,5))\n",
    "data.gender.value_counts(dropna=False).plot.pie(startangle = 90, autopct='%1.1f%%')\n",
    "plt.title('Gender split, raw data')\n",
    "plt.ylabel('')\n",
    "# plt.savefig('figures/raw_gender.png')\n",
    "plt.show()"
   ]
  },
  {
   "cell_type": "code",
   "execution_count": 33,
   "metadata": {},
   "outputs": [
    {
     "data": {
      "text/plain": [
       "MARRIED              27989\n",
       "SINGLE               14024\n",
       "WIDOWED               8304\n",
       "DIVORCED              3821\n",
       "NaN                   2826\n",
       "SEPARATED              616\n",
       "UNKNOWN (DEFAULT)      400\n",
       "LIFE PARTNER            16\n",
       "Name: marital_status, dtype: int64"
      ]
     },
     "execution_count": 33,
     "metadata": {},
     "output_type": "execute_result"
    }
   ],
   "source": [
    "data.marital_status.value_counts(dropna=False)"
   ]
  },
  {
   "cell_type": "code",
   "execution_count": 34,
   "metadata": {},
   "outputs": [
    {
     "data": {
      "image/png": "[encoded data removed]",
      "text/plain": [
       "<Figure size 360x360 with 1 Axes>"
      ]
     },
     "metadata": {},
     "output_type": "display_data"
    }
   ],
   "source": [
    "# reorganize for better plotting \n",
    "plotting = (data.marital_status.value_counts(dropna=False))\n",
    "plotting['OTHER'] = plotting['UNKNOWN (DEFAULT)'] + plotting['LIFE PARTNER'] + plotting['SEPARATED']\n",
    "plotting = plotting.drop(['UNKNOWN (DEFAULT)', 'LIFE PARTNER', 'SEPARATED'])\n",
    "plotting\n",
    "\n",
    "fig = plt.figure(figsize=(5,5))\n",
    "plotting.plot.pie(startangle = 0, autopct='%1.1f%%')\n",
    "plt.title('Marital status split, raw data')\n",
    "plt.ylabel('')\n",
    "# fig.savefig('figures/raw_marital.png')\n",
    "plt.show()"
   ]
  },
  {
   "cell_type": "code",
   "execution_count": 35,
   "metadata": {},
   "outputs": [
    {
     "data": {
      "text/plain": [
       "Medicare      33146\n",
       "Private       18074\n",
       "Medicaid       4883\n",
       "Government     1371\n",
       "Self Pay        522\n",
       "Name: insurance, dtype: int64"
      ]
     },
     "execution_count": 35,
     "metadata": {},
     "output_type": "execute_result"
    }
   ],
   "source": [
    "data.insurance.value_counts(dropna=False)"
   ]
  },
  {
   "cell_type": "code",
   "execution_count": 36,
   "metadata": {},
   "outputs": [
    {
     "data": {
      "image/png": "[encoded data removed]",
      "text/plain": [
       "<Figure size 360x360 with 1 Axes>"
      ]
     },
     "metadata": {},
     "output_type": "display_data"
    }
   ],
   "source": [
    "fig = plt.figure(figsize=(5,5))\n",
    "data.insurance.value_counts(dropna=False).plot.pie(startangle = 0, autopct='%1.1f%%')\n",
    "plt.title('Insurance provider split, raw data')\n",
    "plt.ylabel('')\n",
    "# fig.savefig('figures/raw_insurance.png')\n",
    "plt.show()"
   ]
  },
  {
   "cell_type": "code",
   "execution_count": 37,
   "metadata": {},
   "outputs": [
    {
     "data": {
      "text/plain": [
       "MICU     20431\n",
       "CSRU     10857\n",
       "SICU     10777\n",
       "CCU       8167\n",
       "TSICU     7764\n",
       "Name: first_careunit, dtype: int64"
      ]
     },
     "execution_count": 37,
     "metadata": {},
     "output_type": "execute_result"
    }
   ],
   "source": [
    "data.first_careunit.value_counts(dropna=False)"
   ]
  },
  {
   "cell_type": "code",
   "execution_count": 38,
   "metadata": {},
   "outputs": [
    {
     "data": {
      "image/png": "[encoded data removed]",
      "text/plain": [
       "<Figure size 360x360 with 1 Axes>"
      ]
     },
     "metadata": {},
     "output_type": "display_data"
    }
   ],
   "source": [
    "fig = plt.figure(figsize=(5,5))\n",
    "data.first_careunit.value_counts(dropna=False).plot.pie(startangle = 0, autopct='%1.1f%%')\n",
    "plt.title('First careunit split, raw data')\n",
    "plt.ylabel('')\n",
    "# fig.savefig('figures/raw_insurance.png')\n",
    "plt.show()"
   ]
  },
  {
   "cell_type": "code",
   "execution_count": 39,
   "metadata": {},
   "outputs": [
    {
     "data": {
      "text/plain": [
       "MICU     20853\n",
       "SICU     11277\n",
       "CSRU     10862\n",
       "CCU       7670\n",
       "TSICU     7334\n",
       "Name: last_careunit, dtype: int64"
      ]
     },
     "execution_count": 39,
     "metadata": {},
     "output_type": "execute_result"
    }
   ],
   "source": [
    "data.last_careunit.value_counts(dropna=False)"
   ]
  },
  {
   "cell_type": "code",
   "execution_count": 40,
   "metadata": {},
   "outputs": [
    {
     "data": {
      "image/png": "[encoded data removed]",
      "text/plain": [
       "<Figure size 360x360 with 1 Axes>"
      ]
     },
     "metadata": {},
     "output_type": "display_data"
    }
   ],
   "source": [
    "fig = plt.figure(figsize=(5,5))\n",
    "data.last_careunit.value_counts(dropna=False).plot.pie(startangle = 0, autopct='%1.1f%%')\n",
    "plt.title('First careunit split, raw data')\n",
    "plt.ylabel('')\n",
    "plt.show()"
   ]
  },
  {
   "cell_type": "code",
   "execution_count": 41,
   "metadata": {},
   "outputs": [
    {
     "data": {
      "image/png": "[encoded data removed]",
      "text/plain": [
       "<Figure size 360x360 with 1 Axes>"
      ]
     },
     "metadata": {},
     "output_type": "display_data"
    }
   ],
   "source": [
    "plotting = pd.Series(np.where(data.first_careunit == data.last_careunit, 'no change', 'changed'))\n",
    "fig = plt.figure(figsize=(5,5))\n",
    "plotting.value_counts(dropna=False).plot.pie(startangle = 0, autopct='%1.1f%%')\n",
    "plt.title('\"First careunit == Last careunit\" split, raw data')\n",
    "plt.ylabel('')\n",
    "plt.show()"
   ]
  },
  {
   "cell_type": "code",
   "execution_count": 42,
   "metadata": {
    "scrolled": true
   },
   "outputs": [
    {
     "data": {
      "text/plain": [
       "count                   28655\n",
       "unique                  11865\n",
       "top       2191-04-07 00:00:00\n",
       "freq                      107\n",
       "first     2100-08-19 00:00:00\n",
       "last      2211-06-10 00:00:00\n",
       "Name: dod, dtype: object"
      ]
     },
     "execution_count": 42,
     "metadata": {},
     "output_type": "execute_result"
    }
   ],
   "source": [
    "data.dod.describe()"
   ]
  },
  {
   "cell_type": "markdown",
   "metadata": {},
   "source": [
    "## Check the missing data "
   ]
  },
  {
   "cell_type": "code",
   "execution_count": 43,
   "metadata": {},
   "outputs": [
    {
     "data": {
      "text/plain": [
       "subject_id                    0\n",
       "hadm_id                       0\n",
       "admittime                     0\n",
       "dischtime                     0\n",
       "deathtime                 48877\n",
       "dod                       29341\n",
       "first_careunit                0\n",
       "last_careunit                 0\n",
       "age                           0\n",
       "gender                        0\n",
       "marital_status             2826\n",
       "insurance                     0\n",
       "urea_n_min                   33\n",
       "urea_n_max                   33\n",
       "urea_n_mean                  33\n",
       "platelets_min                43\n",
       "platelets_max                43\n",
       "platelets_mean               43\n",
       "magnesium_max               448\n",
       "albumin_min               16629\n",
       "calcium_min                1748\n",
       "resprate_min                 15\n",
       "resprate_max                 15\n",
       "resprate_mean                15\n",
       "glucose_min                 358\n",
       "glucose_max                 358\n",
       "glucose_mean                358\n",
       "hr_min                        2\n",
       "hr_max                        2\n",
       "hr_mean                       2\n",
       "                          ...  \n",
       "temp_min                     89\n",
       "temp_max                     89\n",
       "temp_mean                    89\n",
       "sapsii                        0\n",
       "sofa                          0\n",
       "urine_min                    11\n",
       "urine_mean                   11\n",
       "urine_max                    11\n",
       "elixhauser_vanwalraven        0\n",
       "elixhauser_sid29              0\n",
       "elixhauser_sid30              0\n",
       "los_hospital                  0\n",
       "meanbp_min                   49\n",
       "meanbp_max                   49\n",
       "meanbp_mean                  49\n",
       "spo2_min                     99\n",
       "spo2_max                     99\n",
       "spo2_mean                    99\n",
       "vent                          0\n",
       "rrt                           0\n",
       "urineoutput                 329\n",
       "icustay_age_group             0\n",
       "oasis                         0\n",
       "lods                          0\n",
       "sirs                          0\n",
       "admission_type                0\n",
       "admission_location            0\n",
       "discharge_location            0\n",
       "ethnicity                     0\n",
       "diagnosis                     1\n",
       "Length: 66, dtype: int64"
      ]
     },
     "execution_count": 43,
     "metadata": {},
     "output_type": "execute_result"
    }
   ],
   "source": [
    "np.sum(data.isnull())"
   ]
  },
  {
   "cell_type": "markdown",
   "metadata": {},
   "source": [
    "# Define label: die with 30 days or 1 year"
   ]
  },
  {
   "cell_type": "code",
   "execution_count": 44,
   "metadata": {
    "scrolled": true
   },
   "outputs": [],
   "source": [
    "# construct label: when the patient die\n",
    "data.deathtime  = data.deathtime.combine_first(data.dod)  # merge DOD into deathtime \n",
    "data[['admittime','dod', 'deathtime']]\n",
    "data['time_before_death'] = data.deathtime-data.admittime  # claculate time before death\n",
    "data['time_before_death'].fillna(timedelta(days=400)) # fill NaN with 400 days, which means they did not die\n",
    "\n",
    "data['thirty_days'] = np.where(data['time_before_death'] <= timedelta(days=30), 1, 0) # if die within 30 days, 1\n",
    "data['one_year'] = np.where(data['time_before_death'] <= timedelta(days=365), 1, 0) # if die within 1 year, 1 "
   ]
  },
  {
   "cell_type": "code",
   "execution_count": 45,
   "metadata": {},
   "outputs": [
    {
     "data": {
      "text/plain": [
       "0    49225\n",
       "1     8771\n",
       "Name: thirty_days, dtype: int64"
      ]
     },
     "execution_count": 45,
     "metadata": {},
     "output_type": "execute_result"
    }
   ],
   "source": [
    "data.thirty_days.value_counts(dropna=False)  # imbalanced data set "
   ]
  },
  {
   "cell_type": "code",
   "execution_count": 46,
   "metadata": {},
   "outputs": [
    {
     "data": {
      "image/png": "[encoded data removed]",
      "text/plain": [
       "<Figure size 360x360 with 1 Axes>"
      ]
     },
     "metadata": {},
     "output_type": "display_data"
    }
   ],
   "source": [
    "fig = plt.figure(figsize=(5,5))\n",
    "data.thirty_days.value_counts(dropna=False).plot.pie(startangle = 0, autopct='%1.1f%%')\n",
    "plt.title('Die within 30 days')\n",
    "plt.ylabel('')\n",
    "plt.show()"
   ]
  },
  {
   "cell_type": "code",
   "execution_count": 47,
   "metadata": {},
   "outputs": [
    {
     "data": {
      "text/plain": [
       "0    38643\n",
       "1    19353\n",
       "Name: one_year, dtype: int64"
      ]
     },
     "execution_count": 47,
     "metadata": {},
     "output_type": "execute_result"
    }
   ],
   "source": [
    "data.one_year.value_counts(dropna=False)  # not too imbalanced"
   ]
  },
  {
   "cell_type": "code",
   "execution_count": 48,
   "metadata": {},
   "outputs": [
    {
     "data": {
      "image/png": "[encoded data removed]",
      "text/plain": [
       "<Figure size 360x360 with 1 Axes>"
      ]
     },
     "metadata": {},
     "output_type": "display_data"
    }
   ],
   "source": [
    "fig = plt.figure(figsize=(5,5))\n",
    "data.one_year.value_counts(dropna=False).plot.pie(startangle = 0, autopct='%1.1f%%')\n",
    "plt.title('Die within 1 year')\n",
    "plt.ylabel('')\n",
    "plt.show()"
   ]
  },
  {
   "cell_type": "markdown",
   "metadata": {},
   "source": [
    "# Correlation heatmap for all numerical columns"
   ]
  },
  {
   "cell_type": "code",
   "execution_count": 49,
   "metadata": {},
   "outputs": [
    {
     "data": {
      "text/plain": [
       "<matplotlib.axes._subplots.AxesSubplot at 0x19d6886e588>"
      ]
     },
     "execution_count": 49,
     "metadata": {},
     "output_type": "execute_result"
    },
    {
     "data": {
      "image/png": "[encoded data removed]",
      "text/plain": [
       "<Figure size 1080x1080 with 2 Axes>"
      ]
     },
     "metadata": {
      "needs_background": "light"
     },
     "output_type": "display_data"
    }
   ],
   "source": [
    "correlation = data.corr()\n",
    "plt.figure(figsize=(15,15))\n",
    "sns.heatmap(correlation, vmax=1, square=True, annot=False, cmap='YlGnBu')"
   ]
  },
  {
   "cell_type": "markdown",
   "metadata": {},
   "source": [
    "### Save the labeled data into csv file "
   ]
  },
  {
   "cell_type": "code",
   "execution_count": 50,
   "metadata": {},
   "outputs": [],
   "source": [
    "# Save clean dataset to csv\n",
    "data.to_csv('data(with_label).csv', index=False)"
   ]
  }
 ],
 "metadata": {
  "anaconda-cloud": {},
  "kernelspec": {
   "display_name": "Python 3",
   "language": "python",
   "name": "python3"
  },
  "language_info": {
   "codemirror_mode": {
    "name": "ipython",
    "version": 3
   },
   "file_extension": ".py",
   "mimetype": "text/x-python",
   "name": "python",
   "nbconvert_exporter": "python",
   "pygments_lexer": "ipython3",
   "version": "3.7.3"
  }
 },
 "nbformat": 4,
 "nbformat_minor": 1
}
