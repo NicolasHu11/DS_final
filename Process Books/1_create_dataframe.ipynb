{
 "cells": [
  {
   "cell_type": "markdown",
   "metadata": {},
   "source": [
    "# Import data from SQL database"
   ]
  },
  {
   "cell_type": "code",
   "execution_count": 1,
   "metadata": {},
   "outputs": [],
   "source": [
    "# Import libraries\n",
    "import numpy as np\n",
    "import pandas as pd\n",
    "import psycopg2\n",
    "import matplotlib.pyplot as plt\n",
    "\n",
    "%matplotlib inline"
   ]
  },
  {
   "cell_type": "code",
   "execution_count": 2,
   "metadata": {},
   "outputs": [],
   "source": [
    "# create a database connection\n",
    "sqluser = 'postgres'\n",
    "dbname = 'mimic'\n",
    "schema_name = 'mimiciii'\n",
    "\n",
    "# Connect to local postgres version of mimic\n",
    "con = psycopg2.connect(dbname=dbname, user=sqluser, password =sqluser )\n",
    "cur = con.cursor()"
   ]
  },
  {
   "cell_type": "code",
   "execution_count": 3,
   "metadata": {},
   "outputs": [],
   "source": [
    "# Commands to run .sql file in CMD \n",
    "\n",
    "# psql \"dbname=mimic user=postgres\"\n",
    "# \\i all_data.sql \n",
    "\n",
    "# SQL query (gets all_data view defined elsewhere)\n",
    "query = \\\n",
    "\"\"\"\n",
    "select * from all_data\n",
    "\"\"\"\n",
    "\n",
    "# Perform SQL query\n",
    "cur.execute('SET search_path to ' + schema_name)\n",
    "data = pd.read_sql_query(query,con)"
   ]
  },
  {
   "cell_type": "markdown",
   "metadata": {},
   "source": [
    "# Preliminary statistics"
   ]
  },
  {
   "cell_type": "code",
   "execution_count": 18,
   "metadata": {},
   "outputs": [],
   "source": [
    "# store the data into csv\n",
    "data.to_csv('data.csv',index=False)"
   ]
  },
  {
   "cell_type": "code",
   "execution_count": 4,
   "metadata": {},
   "outputs": [
    {
     "data": {
      "text/plain": [
       "(57996, 44)"
      ]
     },
     "execution_count": 4,
     "metadata": {},
     "output_type": "execute_result"
    }
   ],
   "source": [
    "data.shape"
   ]
  },
  {
   "cell_type": "code",
   "execution_count": 5,
   "metadata": {},
   "outputs": [
    {
     "name": "stdout",
     "output_type": "stream",
     "text": [
      "Number of unique patient ids: 34005\n"
     ]
    }
   ],
   "source": [
    "print ('Number of unique patient ids: {}'.format(len(data.subject_id.unique())))"
   ]
  },
  {
   "cell_type": "markdown",
   "metadata": {},
   "source": [
    "## Describe numerical data "
   ]
  },
  {
   "cell_type": "code",
   "execution_count": 16,
   "metadata": {},
   "outputs": [
    {
     "data": {
      "text/html": [
       "<div>\n",
       "<style scoped>\n",
       "    .dataframe tbody tr th:only-of-type {\n",
       "        vertical-align: middle;\n",
       "    }\n",
       "\n",
       "    .dataframe tbody tr th {\n",
       "        vertical-align: top;\n",
       "    }\n",
       "\n",
       "    .dataframe thead th {\n",
       "        text-align: right;\n",
       "    }\n",
       "</style>\n",
       "<table border=\"1\" class=\"dataframe\">\n",
       "  <thead>\n",
       "    <tr style=\"text-align: right;\">\n",
       "      <th></th>\n",
       "      <th>age</th>\n",
       "      <th>sapsii</th>\n",
       "      <th>sofa</th>\n",
       "    </tr>\n",
       "  </thead>\n",
       "  <tbody>\n",
       "    <tr>\n",
       "      <th>count</th>\n",
       "      <td>57996.000000</td>\n",
       "      <td>57996.000000</td>\n",
       "      <td>57996.000000</td>\n",
       "    </tr>\n",
       "    <tr>\n",
       "      <th>mean</th>\n",
       "      <td>75.415010</td>\n",
       "      <td>36.797400</td>\n",
       "      <td>4.556797</td>\n",
       "    </tr>\n",
       "    <tr>\n",
       "      <th>std</th>\n",
       "      <td>53.924155</td>\n",
       "      <td>14.494745</td>\n",
       "      <td>3.241760</td>\n",
       "    </tr>\n",
       "    <tr>\n",
       "      <th>min</th>\n",
       "      <td>14.911113</td>\n",
       "      <td>0.000000</td>\n",
       "      <td>0.000000</td>\n",
       "    </tr>\n",
       "    <tr>\n",
       "      <th>25%</th>\n",
       "      <td>54.070590</td>\n",
       "      <td>27.000000</td>\n",
       "      <td>2.000000</td>\n",
       "    </tr>\n",
       "    <tr>\n",
       "      <th>50%</th>\n",
       "      <td>66.827321</td>\n",
       "      <td>35.000000</td>\n",
       "      <td>4.000000</td>\n",
       "    </tr>\n",
       "    <tr>\n",
       "      <th>75%</th>\n",
       "      <td>78.174955</td>\n",
       "      <td>45.000000</td>\n",
       "      <td>6.000000</td>\n",
       "    </tr>\n",
       "    <tr>\n",
       "      <th>max</th>\n",
       "      <td>310.280859</td>\n",
       "      <td>118.000000</td>\n",
       "      <td>22.000000</td>\n",
       "    </tr>\n",
       "  </tbody>\n",
       "</table>\n",
       "</div>"
      ],
      "text/plain": [
       "                age        sapsii          sofa\n",
       "count  57996.000000  57996.000000  57996.000000\n",
       "mean      75.415010     36.797400      4.556797\n",
       "std       53.924155     14.494745      3.241760\n",
       "min       14.911113      0.000000      0.000000\n",
       "25%       54.070590     27.000000      2.000000\n",
       "50%       66.827321     35.000000      4.000000\n",
       "75%       78.174955     45.000000      6.000000\n",
       "max      310.280859    118.000000     22.000000"
      ]
     },
     "execution_count": 16,
     "metadata": {},
     "output_type": "execute_result"
    }
   ],
   "source": [
    "data[['age','sapsii','sofa']].describe()"
   ]
  },
  {
   "cell_type": "code",
   "execution_count": 17,
   "metadata": {
    "scrolled": true
   },
   "outputs": [
    {
     "data": {
      "text/plain": [
       "count    55099.000000\n",
       "mean        63.580520\n",
       "std         16.022694\n",
       "min         14.911113\n",
       "25%         53.328980\n",
       "50%         65.703551\n",
       "75%         76.578615\n",
       "max         89.003531\n",
       "Name: age, dtype: float64"
      ]
     },
     "execution_count": 17,
     "metadata": {},
     "output_type": "execute_result"
    }
   ],
   "source": [
    "data.loc[data.age<300].age.describe()"
   ]
  },
  {
   "cell_type": "code",
   "execution_count": 32,
   "metadata": {},
   "outputs": [
    {
     "data": {
      "text/html": [
       "<div>\n",
       "<style scoped>\n",
       "    .dataframe tbody tr th:only-of-type {\n",
       "        vertical-align: middle;\n",
       "    }\n",
       "\n",
       "    .dataframe tbody tr th {\n",
       "        vertical-align: top;\n",
       "    }\n",
       "\n",
       "    .dataframe thead th {\n",
       "        text-align: right;\n",
       "    }\n",
       "</style>\n",
       "<table border=\"1\" class=\"dataframe\">\n",
       "  <thead>\n",
       "    <tr style=\"text-align: right;\">\n",
       "      <th></th>\n",
       "      <th>resprate_min</th>\n",
       "      <th>resprate_max</th>\n",
       "      <th>resprate_mean</th>\n",
       "    </tr>\n",
       "  </thead>\n",
       "  <tbody>\n",
       "    <tr>\n",
       "      <th>count</th>\n",
       "      <td>57981.000000</td>\n",
       "      <td>57981.000000</td>\n",
       "      <td>57981.000000</td>\n",
       "    </tr>\n",
       "    <tr>\n",
       "      <th>mean</th>\n",
       "      <td>9.782119</td>\n",
       "      <td>32.962557</td>\n",
       "      <td>19.375751</td>\n",
       "    </tr>\n",
       "    <tr>\n",
       "      <th>std</th>\n",
       "      <td>3.727347</td>\n",
       "      <td>9.072195</td>\n",
       "      <td>3.539746</td>\n",
       "    </tr>\n",
       "    <tr>\n",
       "      <th>min</th>\n",
       "      <td>0.170000</td>\n",
       "      <td>8.000000</td>\n",
       "      <td>7.333333</td>\n",
       "    </tr>\n",
       "    <tr>\n",
       "      <th>25%</th>\n",
       "      <td>7.000000</td>\n",
       "      <td>26.000000</td>\n",
       "      <td>16.846774</td>\n",
       "    </tr>\n",
       "    <tr>\n",
       "      <th>50%</th>\n",
       "      <td>10.000000</td>\n",
       "      <td>31.000000</td>\n",
       "      <td>19.040404</td>\n",
       "    </tr>\n",
       "    <tr>\n",
       "      <th>75%</th>\n",
       "      <td>12.000000</td>\n",
       "      <td>38.000000</td>\n",
       "      <td>21.526316</td>\n",
       "    </tr>\n",
       "    <tr>\n",
       "      <th>max</th>\n",
       "      <td>33.000000</td>\n",
       "      <td>69.000000</td>\n",
       "      <td>43.777778</td>\n",
       "    </tr>\n",
       "  </tbody>\n",
       "</table>\n",
       "</div>"
      ],
      "text/plain": [
       "       resprate_min  resprate_max  resprate_mean\n",
       "count  57981.000000  57981.000000   57981.000000\n",
       "mean       9.782119     32.962557      19.375751\n",
       "std        3.727347      9.072195       3.539746\n",
       "min        0.170000      8.000000       7.333333\n",
       "25%        7.000000     26.000000      16.846774\n",
       "50%       10.000000     31.000000      19.040404\n",
       "75%       12.000000     38.000000      21.526316\n",
       "max       33.000000     69.000000      43.777778"
      ]
     },
     "execution_count": 32,
     "metadata": {},
     "output_type": "execute_result"
    }
   ],
   "source": [
    "data[['resprate_min', 'resprate_max', 'resprate_mean',]].describe()"
   ]
  },
  {
   "cell_type": "code",
   "execution_count": 22,
   "metadata": {},
   "outputs": [
    {
     "data": {
      "text/html": [
       "<div>\n",
       "<style scoped>\n",
       "    .dataframe tbody tr th:only-of-type {\n",
       "        vertical-align: middle;\n",
       "    }\n",
       "\n",
       "    .dataframe tbody tr th {\n",
       "        vertical-align: top;\n",
       "    }\n",
       "\n",
       "    .dataframe thead th {\n",
       "        text-align: right;\n",
       "    }\n",
       "</style>\n",
       "<table border=\"1\" class=\"dataframe\">\n",
       "  <thead>\n",
       "    <tr style=\"text-align: right;\">\n",
       "      <th></th>\n",
       "      <th>urea_n_min</th>\n",
       "      <th>urea_n_mean</th>\n",
       "      <th>urea_n_max</th>\n",
       "    </tr>\n",
       "  </thead>\n",
       "  <tbody>\n",
       "    <tr>\n",
       "      <th>count</th>\n",
       "      <td>57963.000000</td>\n",
       "      <td>57963.000000</td>\n",
       "      <td>57963.000000</td>\n",
       "    </tr>\n",
       "    <tr>\n",
       "      <th>mean</th>\n",
       "      <td>16.463710</td>\n",
       "      <td>27.333612</td>\n",
       "      <td>42.224557</td>\n",
       "    </tr>\n",
       "    <tr>\n",
       "      <th>std</th>\n",
       "      <td>13.314368</td>\n",
       "      <td>18.915366</td>\n",
       "      <td>31.176981</td>\n",
       "    </tr>\n",
       "    <tr>\n",
       "      <th>min</th>\n",
       "      <td>0.000000</td>\n",
       "      <td>1.421053</td>\n",
       "      <td>2.000000</td>\n",
       "    </tr>\n",
       "    <tr>\n",
       "      <th>25%</th>\n",
       "      <td>9.000000</td>\n",
       "      <td>14.500000</td>\n",
       "      <td>20.000000</td>\n",
       "    </tr>\n",
       "    <tr>\n",
       "      <th>50%</th>\n",
       "      <td>13.000000</td>\n",
       "      <td>21.285714</td>\n",
       "      <td>31.000000</td>\n",
       "    </tr>\n",
       "    <tr>\n",
       "      <th>75%</th>\n",
       "      <td>19.000000</td>\n",
       "      <td>34.500000</td>\n",
       "      <td>55.000000</td>\n",
       "    </tr>\n",
       "    <tr>\n",
       "      <th>max</th>\n",
       "      <td>161.000000</td>\n",
       "      <td>232.040000</td>\n",
       "      <td>290.000000</td>\n",
       "    </tr>\n",
       "  </tbody>\n",
       "</table>\n",
       "</div>"
      ],
      "text/plain": [
       "         urea_n_min   urea_n_mean    urea_n_max\n",
       "count  57963.000000  57963.000000  57963.000000\n",
       "mean      16.463710     27.333612     42.224557\n",
       "std       13.314368     18.915366     31.176981\n",
       "min        0.000000      1.421053      2.000000\n",
       "25%        9.000000     14.500000     20.000000\n",
       "50%       13.000000     21.285714     31.000000\n",
       "75%       19.000000     34.500000     55.000000\n",
       "max      161.000000    232.040000    290.000000"
      ]
     },
     "execution_count": 22,
     "metadata": {},
     "output_type": "execute_result"
    }
   ],
   "source": [
    "data[['urea_n_min','urea_n_mean','urea_n_max',]].describe()"
   ]
  },
  {
   "cell_type": "code",
   "execution_count": 20,
   "metadata": {},
   "outputs": [
    {
     "data": {
      "text/html": [
       "<div>\n",
       "<style scoped>\n",
       "    .dataframe tbody tr th:only-of-type {\n",
       "        vertical-align: middle;\n",
       "    }\n",
       "\n",
       "    .dataframe tbody tr th {\n",
       "        vertical-align: top;\n",
       "    }\n",
       "\n",
       "    .dataframe thead th {\n",
       "        text-align: right;\n",
       "    }\n",
       "</style>\n",
       "<table border=\"1\" class=\"dataframe\">\n",
       "  <thead>\n",
       "    <tr style=\"text-align: right;\">\n",
       "      <th></th>\n",
       "      <th>magnesium_max</th>\n",
       "      <th>albumin_min</th>\n",
       "      <th>calcium_min</th>\n",
       "    </tr>\n",
       "  </thead>\n",
       "  <tbody>\n",
       "    <tr>\n",
       "      <th>count</th>\n",
       "      <td>57548.000000</td>\n",
       "      <td>41367.000000</td>\n",
       "      <td>56248.000000</td>\n",
       "    </tr>\n",
       "    <tr>\n",
       "      <th>mean</th>\n",
       "      <td>2.501767</td>\n",
       "      <td>2.799359</td>\n",
       "      <td>7.673363</td>\n",
       "    </tr>\n",
       "    <tr>\n",
       "      <th>std</th>\n",
       "      <td>1.012201</td>\n",
       "      <td>0.757489</td>\n",
       "      <td>0.863674</td>\n",
       "    </tr>\n",
       "    <tr>\n",
       "      <th>min</th>\n",
       "      <td>0.400000</td>\n",
       "      <td>0.900000</td>\n",
       "      <td>0.000000</td>\n",
       "    </tr>\n",
       "    <tr>\n",
       "      <th>25%</th>\n",
       "      <td>2.200000</td>\n",
       "      <td>2.200000</td>\n",
       "      <td>7.200000</td>\n",
       "    </tr>\n",
       "    <tr>\n",
       "      <th>50%</th>\n",
       "      <td>2.400000</td>\n",
       "      <td>2.700000</td>\n",
       "      <td>7.700000</td>\n",
       "    </tr>\n",
       "    <tr>\n",
       "      <th>75%</th>\n",
       "      <td>2.700000</td>\n",
       "      <td>3.300000</td>\n",
       "      <td>8.200000</td>\n",
       "    </tr>\n",
       "    <tr>\n",
       "      <th>max</th>\n",
       "      <td>58.000000</td>\n",
       "      <td>5.700000</td>\n",
       "      <td>17.900000</td>\n",
       "    </tr>\n",
       "  </tbody>\n",
       "</table>\n",
       "</div>"
      ],
      "text/plain": [
       "       magnesium_max   albumin_min   calcium_min\n",
       "count   57548.000000  41367.000000  56248.000000\n",
       "mean        2.501767      2.799359      7.673363\n",
       "std         1.012201      0.757489      0.863674\n",
       "min         0.400000      0.900000      0.000000\n",
       "25%         2.200000      2.200000      7.200000\n",
       "50%         2.400000      2.700000      7.700000\n",
       "75%         2.700000      3.300000      8.200000\n",
       "max        58.000000      5.700000     17.900000"
      ]
     },
     "execution_count": 20,
     "metadata": {},
     "output_type": "execute_result"
    }
   ],
   "source": [
    "data[['magnesium_max','albumin_min','calcium_min']].describe()"
   ]
  },
  {
   "cell_type": "code",
   "execution_count": 23,
   "metadata": {},
   "outputs": [
    {
     "data": {
      "text/html": [
       "<div>\n",
       "<style scoped>\n",
       "    .dataframe tbody tr th:only-of-type {\n",
       "        vertical-align: middle;\n",
       "    }\n",
       "\n",
       "    .dataframe tbody tr th {\n",
       "        vertical-align: top;\n",
       "    }\n",
       "\n",
       "    .dataframe thead th {\n",
       "        text-align: right;\n",
       "    }\n",
       "</style>\n",
       "<table border=\"1\" class=\"dataframe\">\n",
       "  <thead>\n",
       "    <tr style=\"text-align: right;\">\n",
       "      <th></th>\n",
       "      <th>glucose_min</th>\n",
       "      <th>glucose_mean</th>\n",
       "      <th>glucose_max</th>\n",
       "    </tr>\n",
       "  </thead>\n",
       "  <tbody>\n",
       "    <tr>\n",
       "      <th>count</th>\n",
       "      <td>57638.000000</td>\n",
       "      <td>57638.000000</td>\n",
       "      <td>57638.000000</td>\n",
       "    </tr>\n",
       "    <tr>\n",
       "      <th>mean</th>\n",
       "      <td>86.977461</td>\n",
       "      <td>137.750363</td>\n",
       "      <td>271.053735</td>\n",
       "    </tr>\n",
       "    <tr>\n",
       "      <th>std</th>\n",
       "      <td>30.178478</td>\n",
       "      <td>86.866399</td>\n",
       "      <td>5961.165184</td>\n",
       "    </tr>\n",
       "    <tr>\n",
       "      <th>min</th>\n",
       "      <td>0.106000</td>\n",
       "      <td>21.000000</td>\n",
       "      <td>21.000000</td>\n",
       "    </tr>\n",
       "    <tr>\n",
       "      <th>25%</th>\n",
       "      <td>70.000000</td>\n",
       "      <td>117.142857</td>\n",
       "      <td>157.000000</td>\n",
       "    </tr>\n",
       "    <tr>\n",
       "      <th>50%</th>\n",
       "      <td>86.000000</td>\n",
       "      <td>130.800000</td>\n",
       "      <td>197.000000</td>\n",
       "    </tr>\n",
       "    <tr>\n",
       "      <th>75%</th>\n",
       "      <td>101.000000</td>\n",
       "      <td>149.946429</td>\n",
       "      <td>265.000000</td>\n",
       "    </tr>\n",
       "    <tr>\n",
       "      <th>max</th>\n",
       "      <td>485.000000</td>\n",
       "      <td>17994.482143</td>\n",
       "      <td>999999.000000</td>\n",
       "    </tr>\n",
       "  </tbody>\n",
       "</table>\n",
       "</div>"
      ],
      "text/plain": [
       "        glucose_min  glucose_mean    glucose_max\n",
       "count  57638.000000  57638.000000   57638.000000\n",
       "mean      86.977461    137.750363     271.053735\n",
       "std       30.178478     86.866399    5961.165184\n",
       "min        0.106000     21.000000      21.000000\n",
       "25%       70.000000    117.142857     157.000000\n",
       "50%       86.000000    130.800000     197.000000\n",
       "75%      101.000000    149.946429     265.000000\n",
       "max      485.000000  17994.482143  999999.000000"
      ]
     },
     "execution_count": 23,
     "metadata": {},
     "output_type": "execute_result"
    }
   ],
   "source": [
    "data[['glucose_min','glucose_mean','glucose_max']].describe()"
   ]
  },
  {
   "cell_type": "code",
   "execution_count": 24,
   "metadata": {},
   "outputs": [
    {
     "data": {
      "text/html": [
       "<div>\n",
       "<style scoped>\n",
       "    .dataframe tbody tr th:only-of-type {\n",
       "        vertical-align: middle;\n",
       "    }\n",
       "\n",
       "    .dataframe tbody tr th {\n",
       "        vertical-align: top;\n",
       "    }\n",
       "\n",
       "    .dataframe thead th {\n",
       "        text-align: right;\n",
       "    }\n",
       "</style>\n",
       "<table border=\"1\" class=\"dataframe\">\n",
       "  <thead>\n",
       "    <tr style=\"text-align: right;\">\n",
       "      <th></th>\n",
       "      <th>hr_min</th>\n",
       "      <th>hr_mean</th>\n",
       "      <th>hr_max</th>\n",
       "    </tr>\n",
       "  </thead>\n",
       "  <tbody>\n",
       "    <tr>\n",
       "      <th>count</th>\n",
       "      <td>57994.000000</td>\n",
       "      <td>57994.000000</td>\n",
       "      <td>57994.000000</td>\n",
       "    </tr>\n",
       "    <tr>\n",
       "      <th>mean</th>\n",
       "      <td>62.747368</td>\n",
       "      <td>85.759691</td>\n",
       "      <td>118.006071</td>\n",
       "    </tr>\n",
       "    <tr>\n",
       "      <th>std</th>\n",
       "      <td>14.767748</td>\n",
       "      <td>13.134256</td>\n",
       "      <td>25.515820</td>\n",
       "    </tr>\n",
       "    <tr>\n",
       "      <th>min</th>\n",
       "      <td>0.350000</td>\n",
       "      <td>34.710000</td>\n",
       "      <td>39.000000</td>\n",
       "    </tr>\n",
       "    <tr>\n",
       "      <th>25%</th>\n",
       "      <td>54.000000</td>\n",
       "      <td>76.770000</td>\n",
       "      <td>99.000000</td>\n",
       "    </tr>\n",
       "    <tr>\n",
       "      <th>50%</th>\n",
       "      <td>63.000000</td>\n",
       "      <td>85.140000</td>\n",
       "      <td>116.000000</td>\n",
       "    </tr>\n",
       "    <tr>\n",
       "      <th>75%</th>\n",
       "      <td>72.000000</td>\n",
       "      <td>94.430000</td>\n",
       "      <td>134.000000</td>\n",
       "    </tr>\n",
       "    <tr>\n",
       "      <th>max</th>\n",
       "      <td>141.000000</td>\n",
       "      <td>163.880000</td>\n",
       "      <td>285.000000</td>\n",
       "    </tr>\n",
       "  </tbody>\n",
       "</table>\n",
       "</div>"
      ],
      "text/plain": [
       "             hr_min       hr_mean        hr_max\n",
       "count  57994.000000  57994.000000  57994.000000\n",
       "mean      62.747368     85.759691    118.006071\n",
       "std       14.767748     13.134256     25.515820\n",
       "min        0.350000     34.710000     39.000000\n",
       "25%       54.000000     76.770000     99.000000\n",
       "50%       63.000000     85.140000    116.000000\n",
       "75%       72.000000     94.430000    134.000000\n",
       "max      141.000000    163.880000    285.000000"
      ]
     },
     "execution_count": 24,
     "metadata": {},
     "output_type": "execute_result"
    }
   ],
   "source": [
    "data[['hr_min','hr_mean','hr_max']].describe()"
   ]
  },
  {
   "cell_type": "code",
   "execution_count": 25,
   "metadata": {},
   "outputs": [
    {
     "data": {
      "text/html": [
       "<div>\n",
       "<style scoped>\n",
       "    .dataframe tbody tr th:only-of-type {\n",
       "        vertical-align: middle;\n",
       "    }\n",
       "\n",
       "    .dataframe tbody tr th {\n",
       "        vertical-align: top;\n",
       "    }\n",
       "\n",
       "    .dataframe thead th {\n",
       "        text-align: right;\n",
       "    }\n",
       "</style>\n",
       "<table border=\"1\" class=\"dataframe\">\n",
       "  <thead>\n",
       "    <tr style=\"text-align: right;\">\n",
       "      <th></th>\n",
       "      <th>sysbp_min</th>\n",
       "      <th>sysbp_mean</th>\n",
       "      <th>sysbp_max</th>\n",
       "    </tr>\n",
       "  </thead>\n",
       "  <tbody>\n",
       "    <tr>\n",
       "      <th>count</th>\n",
       "      <td>57988.000000</td>\n",
       "      <td>57988.000000</td>\n",
       "      <td>57988.000000</td>\n",
       "    </tr>\n",
       "    <tr>\n",
       "      <th>mean</th>\n",
       "      <td>79.984309</td>\n",
       "      <td>120.333388</td>\n",
       "      <td>165.783576</td>\n",
       "    </tr>\n",
       "    <tr>\n",
       "      <th>std</th>\n",
       "      <td>21.150334</td>\n",
       "      <td>15.593030</td>\n",
       "      <td>28.935278</td>\n",
       "    </tr>\n",
       "    <tr>\n",
       "      <th>min</th>\n",
       "      <td>0.060000</td>\n",
       "      <td>29.170000</td>\n",
       "      <td>45.000000</td>\n",
       "    </tr>\n",
       "    <tr>\n",
       "      <th>25%</th>\n",
       "      <td>70.000000</td>\n",
       "      <td>109.130000</td>\n",
       "      <td>145.000000</td>\n",
       "    </tr>\n",
       "    <tr>\n",
       "      <th>50%</th>\n",
       "      <td>81.000000</td>\n",
       "      <td>118.670000</td>\n",
       "      <td>162.000000</td>\n",
       "    </tr>\n",
       "    <tr>\n",
       "      <th>75%</th>\n",
       "      <td>93.000000</td>\n",
       "      <td>130.192500</td>\n",
       "      <td>183.000000</td>\n",
       "    </tr>\n",
       "    <tr>\n",
       "      <th>max</th>\n",
       "      <td>181.000000</td>\n",
       "      <td>215.830000</td>\n",
       "      <td>355.000000</td>\n",
       "    </tr>\n",
       "  </tbody>\n",
       "</table>\n",
       "</div>"
      ],
      "text/plain": [
       "          sysbp_min    sysbp_mean     sysbp_max\n",
       "count  57988.000000  57988.000000  57988.000000\n",
       "mean      79.984309    120.333388    165.783576\n",
       "std       21.150334     15.593030     28.935278\n",
       "min        0.060000     29.170000     45.000000\n",
       "25%       70.000000    109.130000    145.000000\n",
       "50%       81.000000    118.670000    162.000000\n",
       "75%       93.000000    130.192500    183.000000\n",
       "max      181.000000    215.830000    355.000000"
      ]
     },
     "execution_count": 25,
     "metadata": {},
     "output_type": "execute_result"
    }
   ],
   "source": [
    "data[['sysbp_min','sysbp_mean','sysbp_max']].describe()"
   ]
  },
  {
   "cell_type": "code",
   "execution_count": 26,
   "metadata": {},
   "outputs": [
    {
     "data": {
      "text/html": [
       "<div>\n",
       "<style scoped>\n",
       "    .dataframe tbody tr th:only-of-type {\n",
       "        vertical-align: middle;\n",
       "    }\n",
       "\n",
       "    .dataframe tbody tr th {\n",
       "        vertical-align: top;\n",
       "    }\n",
       "\n",
       "    .dataframe thead th {\n",
       "        text-align: right;\n",
       "    }\n",
       "</style>\n",
       "<table border=\"1\" class=\"dataframe\">\n",
       "  <thead>\n",
       "    <tr style=\"text-align: right;\">\n",
       "      <th></th>\n",
       "      <th>diasbp_min</th>\n",
       "      <th>diasbp_mean</th>\n",
       "      <th>diasbp_max</th>\n",
       "    </tr>\n",
       "  </thead>\n",
       "  <tbody>\n",
       "    <tr>\n",
       "      <th>count</th>\n",
       "      <td>57988.00000</td>\n",
       "      <td>57988.000000</td>\n",
       "      <td>57988.000000</td>\n",
       "    </tr>\n",
       "    <tr>\n",
       "      <th>mean</th>\n",
       "      <td>35.72244</td>\n",
       "      <td>60.253103</td>\n",
       "      <td>99.736583</td>\n",
       "    </tr>\n",
       "    <tr>\n",
       "      <th>std</th>\n",
       "      <td>12.31615</td>\n",
       "      <td>9.708390</td>\n",
       "      <td>27.585497</td>\n",
       "    </tr>\n",
       "    <tr>\n",
       "      <th>min</th>\n",
       "      <td>0.32000</td>\n",
       "      <td>14.500000</td>\n",
       "      <td>25.000000</td>\n",
       "    </tr>\n",
       "    <tr>\n",
       "      <th>25%</th>\n",
       "      <td>27.00000</td>\n",
       "      <td>53.657500</td>\n",
       "      <td>82.000000</td>\n",
       "    </tr>\n",
       "    <tr>\n",
       "      <th>50%</th>\n",
       "      <td>36.00000</td>\n",
       "      <td>59.300000</td>\n",
       "      <td>95.000000</td>\n",
       "    </tr>\n",
       "    <tr>\n",
       "      <th>75%</th>\n",
       "      <td>44.00000</td>\n",
       "      <td>66.060000</td>\n",
       "      <td>111.000000</td>\n",
       "    </tr>\n",
       "    <tr>\n",
       "      <th>max</th>\n",
       "      <td>105.00000</td>\n",
       "      <td>117.870000</td>\n",
       "      <td>298.000000</td>\n",
       "    </tr>\n",
       "  </tbody>\n",
       "</table>\n",
       "</div>"
      ],
      "text/plain": [
       "        diasbp_min   diasbp_mean    diasbp_max\n",
       "count  57988.00000  57988.000000  57988.000000\n",
       "mean      35.72244     60.253103     99.736583\n",
       "std       12.31615      9.708390     27.585497\n",
       "min        0.32000     14.500000     25.000000\n",
       "25%       27.00000     53.657500     82.000000\n",
       "50%       36.00000     59.300000     95.000000\n",
       "75%       44.00000     66.060000    111.000000\n",
       "max      105.00000    117.870000    298.000000"
      ]
     },
     "execution_count": 26,
     "metadata": {},
     "output_type": "execute_result"
    }
   ],
   "source": [
    "data[['diasbp_min','diasbp_mean','diasbp_max']].describe()"
   ]
  },
  {
   "cell_type": "code",
   "execution_count": 27,
   "metadata": {},
   "outputs": [
    {
     "data": {
      "text/html": [
       "<div>\n",
       "<style scoped>\n",
       "    .dataframe tbody tr th:only-of-type {\n",
       "        vertical-align: middle;\n",
       "    }\n",
       "\n",
       "    .dataframe tbody tr th {\n",
       "        vertical-align: top;\n",
       "    }\n",
       "\n",
       "    .dataframe thead th {\n",
       "        text-align: right;\n",
       "    }\n",
       "</style>\n",
       "<table border=\"1\" class=\"dataframe\">\n",
       "  <thead>\n",
       "    <tr style=\"text-align: right;\">\n",
       "      <th></th>\n",
       "      <th>temp_min</th>\n",
       "      <th>temp_mean</th>\n",
       "      <th>temp_max</th>\n",
       "    </tr>\n",
       "  </thead>\n",
       "  <tbody>\n",
       "    <tr>\n",
       "      <th>count</th>\n",
       "      <td>57907.000000</td>\n",
       "      <td>57907.000000</td>\n",
       "      <td>57907.000000</td>\n",
       "    </tr>\n",
       "    <tr>\n",
       "      <th>mean</th>\n",
       "      <td>35.625338</td>\n",
       "      <td>36.848842</td>\n",
       "      <td>37.977907</td>\n",
       "    </tr>\n",
       "    <tr>\n",
       "      <th>std</th>\n",
       "      <td>0.919910</td>\n",
       "      <td>0.527247</td>\n",
       "      <td>0.882785</td>\n",
       "    </tr>\n",
       "    <tr>\n",
       "      <th>min</th>\n",
       "      <td>15.000000</td>\n",
       "      <td>30.000000</td>\n",
       "      <td>30.000000</td>\n",
       "    </tr>\n",
       "    <tr>\n",
       "      <th>25%</th>\n",
       "      <td>35.277778</td>\n",
       "      <td>36.530000</td>\n",
       "      <td>37.333333</td>\n",
       "    </tr>\n",
       "    <tr>\n",
       "      <th>50%</th>\n",
       "      <td>35.666667</td>\n",
       "      <td>36.830000</td>\n",
       "      <td>37.888889</td>\n",
       "    </tr>\n",
       "    <tr>\n",
       "      <th>75%</th>\n",
       "      <td>36.111111</td>\n",
       "      <td>37.170000</td>\n",
       "      <td>38.500002</td>\n",
       "    </tr>\n",
       "    <tr>\n",
       "      <th>max</th>\n",
       "      <td>40.000000</td>\n",
       "      <td>40.120000</td>\n",
       "      <td>46.500000</td>\n",
       "    </tr>\n",
       "  </tbody>\n",
       "</table>\n",
       "</div>"
      ],
      "text/plain": [
       "           temp_min     temp_mean      temp_max\n",
       "count  57907.000000  57907.000000  57907.000000\n",
       "mean      35.625338     36.848842     37.977907\n",
       "std        0.919910      0.527247      0.882785\n",
       "min       15.000000     30.000000     30.000000\n",
       "25%       35.277778     36.530000     37.333333\n",
       "50%       35.666667     36.830000     37.888889\n",
       "75%       36.111111     37.170000     38.500002\n",
       "max       40.000000     40.120000     46.500000"
      ]
     },
     "execution_count": 27,
     "metadata": {},
     "output_type": "execute_result"
    }
   ],
   "source": [
    "data[['temp_min','temp_mean','temp_max']].describe()"
   ]
  },
  {
   "cell_type": "code",
   "execution_count": 28,
   "metadata": {},
   "outputs": [
    {
     "data": {
      "text/html": [
       "<div>\n",
       "<style scoped>\n",
       "    .dataframe tbody tr th:only-of-type {\n",
       "        vertical-align: middle;\n",
       "    }\n",
       "\n",
       "    .dataframe tbody tr th {\n",
       "        vertical-align: top;\n",
       "    }\n",
       "\n",
       "    .dataframe thead th {\n",
       "        text-align: right;\n",
       "    }\n",
       "</style>\n",
       "<table border=\"1\" class=\"dataframe\">\n",
       "  <thead>\n",
       "    <tr style=\"text-align: right;\">\n",
       "      <th></th>\n",
       "      <th>urine_min</th>\n",
       "      <th>urine_mean</th>\n",
       "      <th>urine_max</th>\n",
       "    </tr>\n",
       "  </thead>\n",
       "  <tbody>\n",
       "    <tr>\n",
       "      <th>count</th>\n",
       "      <td>57985.000000</td>\n",
       "      <td>57985.000000</td>\n",
       "      <td>5.798500e+04</td>\n",
       "    </tr>\n",
       "    <tr>\n",
       "      <th>mean</th>\n",
       "      <td>25.898059</td>\n",
       "      <td>126.103510</td>\n",
       "      <td>6.679872e+02</td>\n",
       "    </tr>\n",
       "    <tr>\n",
       "      <th>std</th>\n",
       "      <td>62.026718</td>\n",
       "      <td>537.055435</td>\n",
       "      <td>1.935803e+04</td>\n",
       "    </tr>\n",
       "    <tr>\n",
       "      <th>min</th>\n",
       "      <td>0.000000</td>\n",
       "      <td>0.000000</td>\n",
       "      <td>0.000000e+00</td>\n",
       "    </tr>\n",
       "    <tr>\n",
       "      <th>25%</th>\n",
       "      <td>0.000000</td>\n",
       "      <td>77.000000</td>\n",
       "      <td>3.000000e+02</td>\n",
       "    </tr>\n",
       "    <tr>\n",
       "      <th>50%</th>\n",
       "      <td>15.000000</td>\n",
       "      <td>110.000000</td>\n",
       "      <td>4.500000e+02</td>\n",
       "    </tr>\n",
       "    <tr>\n",
       "      <th>75%</th>\n",
       "      <td>30.000000</td>\n",
       "      <td>149.000000</td>\n",
       "      <td>6.500000e+02</td>\n",
       "    </tr>\n",
       "    <tr>\n",
       "      <th>max</th>\n",
       "      <td>3100.000000</td>\n",
       "      <td>119965.000000</td>\n",
       "      <td>4.555555e+06</td>\n",
       "    </tr>\n",
       "  </tbody>\n",
       "</table>\n",
       "</div>"
      ],
      "text/plain": [
       "          urine_min     urine_mean     urine_max\n",
       "count  57985.000000   57985.000000  5.798500e+04\n",
       "mean      25.898059     126.103510  6.679872e+02\n",
       "std       62.026718     537.055435  1.935803e+04\n",
       "min        0.000000       0.000000  0.000000e+00\n",
       "25%        0.000000      77.000000  3.000000e+02\n",
       "50%       15.000000     110.000000  4.500000e+02\n",
       "75%       30.000000     149.000000  6.500000e+02\n",
       "max     3100.000000  119965.000000  4.555555e+06"
      ]
     },
     "execution_count": 28,
     "metadata": {},
     "output_type": "execute_result"
    }
   ],
   "source": [
    "data[['urine_min','urine_mean','urine_max']].describe()"
   ]
  },
  {
   "cell_type": "code",
   "execution_count": 30,
   "metadata": {},
   "outputs": [
    {
     "data": {
      "text/html": [
       "<div>\n",
       "<style scoped>\n",
       "    .dataframe tbody tr th:only-of-type {\n",
       "        vertical-align: middle;\n",
       "    }\n",
       "\n",
       "    .dataframe tbody tr th {\n",
       "        vertical-align: top;\n",
       "    }\n",
       "\n",
       "    .dataframe thead th {\n",
       "        text-align: right;\n",
       "    }\n",
       "</style>\n",
       "<table border=\"1\" class=\"dataframe\">\n",
       "  <thead>\n",
       "    <tr style=\"text-align: right;\">\n",
       "      <th></th>\n",
       "      <th>platelets_min</th>\n",
       "      <th>platelets_mean</th>\n",
       "      <th>platelets_max</th>\n",
       "    </tr>\n",
       "  </thead>\n",
       "  <tbody>\n",
       "    <tr>\n",
       "      <th>count</th>\n",
       "      <td>57953.000000</td>\n",
       "      <td>57953.000000</td>\n",
       "      <td>57953.000000</td>\n",
       "    </tr>\n",
       "    <tr>\n",
       "      <th>mean</th>\n",
       "      <td>158.938562</td>\n",
       "      <td>238.752800</td>\n",
       "      <td>353.653012</td>\n",
       "    </tr>\n",
       "    <tr>\n",
       "      <th>std</th>\n",
       "      <td>93.330341</td>\n",
       "      <td>117.351249</td>\n",
       "      <td>195.654320</td>\n",
       "    </tr>\n",
       "    <tr>\n",
       "      <th>min</th>\n",
       "      <td>4.000000</td>\n",
       "      <td>9.562500</td>\n",
       "      <td>12.000000</td>\n",
       "    </tr>\n",
       "    <tr>\n",
       "      <th>25%</th>\n",
       "      <td>98.000000</td>\n",
       "      <td>161.750000</td>\n",
       "      <td>224.000000</td>\n",
       "    </tr>\n",
       "    <tr>\n",
       "      <th>50%</th>\n",
       "      <td>148.000000</td>\n",
       "      <td>221.448276</td>\n",
       "      <td>309.000000</td>\n",
       "    </tr>\n",
       "    <tr>\n",
       "      <th>75%</th>\n",
       "      <td>207.000000</td>\n",
       "      <td>296.000000</td>\n",
       "      <td>434.000000</td>\n",
       "    </tr>\n",
       "    <tr>\n",
       "      <th>max</th>\n",
       "      <td>1328.000000</td>\n",
       "      <td>1551.387097</td>\n",
       "      <td>2813.000000</td>\n",
       "    </tr>\n",
       "  </tbody>\n",
       "</table>\n",
       "</div>"
      ],
      "text/plain": [
       "       platelets_min  platelets_mean  platelets_max\n",
       "count   57953.000000    57953.000000   57953.000000\n",
       "mean      158.938562      238.752800     353.653012\n",
       "std        93.330341      117.351249     195.654320\n",
       "min         4.000000        9.562500      12.000000\n",
       "25%        98.000000      161.750000     224.000000\n",
       "50%       148.000000      221.448276     309.000000\n",
       "75%       207.000000      296.000000     434.000000\n",
       "max      1328.000000     1551.387097    2813.000000"
      ]
     },
     "execution_count": 30,
     "metadata": {},
     "output_type": "execute_result"
    }
   ],
   "source": [
    "data[['platelets_min','platelets_mean','platelets_max']].describe()"
   ]
  },
  {
   "cell_type": "markdown",
   "metadata": {},
   "source": [
    "## Describe categorical data "
   ]
  },
  {
   "cell_type": "code",
   "execution_count": 70,
   "metadata": {},
   "outputs": [
    {
     "data": {
      "text/plain": [
       "M    32392\n",
       "F    25604\n",
       "Name: gender, dtype: int64"
      ]
     },
     "execution_count": 70,
     "metadata": {},
     "output_type": "execute_result"
    }
   ],
   "source": [
    "data.gender.value_counts(dropna=False)"
   ]
  },
  {
   "cell_type": "code",
   "execution_count": 82,
   "metadata": {},
   "outputs": [
    {
     "data": {
      "image/png": "[encoded data removed]",
      "text/plain": [
       "<Figure size 360x360 with 1 Axes>"
      ]
     },
     "metadata": {},
     "output_type": "display_data"
    }
   ],
   "source": [
    "fig = plt.figure(figsize=(5,5))\n",
    "data.gender.value_counts(dropna=False).plot.pie(startangle = 90, autopct='%1.1f%%')\n",
    "plt.title('Gender split, raw data')\n",
    "plt.ylabel('')\n",
    "# plt.savefig('figures/raw_gender.png')\n",
    "plt.show()"
   ]
  },
  {
   "cell_type": "code",
   "execution_count": 69,
   "metadata": {},
   "outputs": [
    {
     "data": {
      "text/plain": [
       "MARRIED              27989\n",
       "SINGLE               14024\n",
       "WIDOWED               8304\n",
       "DIVORCED              3821\n",
       "NaN                   2826\n",
       "SEPARATED              616\n",
       "UNKNOWN (DEFAULT)      400\n",
       "LIFE PARTNER            16\n",
       "Name: marital_status, dtype: int64"
      ]
     },
     "execution_count": 69,
     "metadata": {},
     "output_type": "execute_result"
    }
   ],
   "source": [
    "data.marital_status.value_counts(dropna=False)"
   ]
  },
  {
   "cell_type": "code",
   "execution_count": 83,
   "metadata": {},
   "outputs": [
    {
     "data": {
      "image/png": "[encoded data removed]",
      "text/plain": [
       "<Figure size 360x360 with 1 Axes>"
      ]
     },
     "metadata": {},
     "output_type": "display_data"
    }
   ],
   "source": [
    "# reorganize for better plotting \n",
    "plotting = (data.marital_status.value_counts(dropna=False))\n",
    "plotting['OTHER'] = plotting['UNKNOWN (DEFAULT)'] + plotting['LIFE PARTNER'] + plotting['SEPARATED']\n",
    "plotting = plotting.drop(['UNKNOWN (DEFAULT)', 'LIFE PARTNER', 'SEPARATED'])\n",
    "plotting\n",
    "\n",
    "fig = plt.figure(figsize=(5,5))\n",
    "plotting.plot.pie(startangle = 0, autopct='%1.1f%%')\n",
    "plt.title('Marital status split, raw data')\n",
    "plt.ylabel('')\n",
    "# fig.savefig('figures/raw_marital.png')\n",
    "plt.show()"
   ]
  },
  {
   "cell_type": "code",
   "execution_count": 67,
   "metadata": {},
   "outputs": [
    {
     "data": {
      "text/plain": [
       "Medicare      33146\n",
       "Private       18074\n",
       "Medicaid       4883\n",
       "Government     1371\n",
       "Self Pay        522\n",
       "Name: insurance, dtype: int64"
      ]
     },
     "execution_count": 67,
     "metadata": {},
     "output_type": "execute_result"
    }
   ],
   "source": [
    "data.insurance.value_counts(dropna=False)"
   ]
  },
  {
   "cell_type": "code",
   "execution_count": 84,
   "metadata": {},
   "outputs": [
    {
     "data": {
      "image/png": "[encoded data removed]",
      "text/plain": [
       "<Figure size 360x360 with 1 Axes>"
      ]
     },
     "metadata": {},
     "output_type": "display_data"
    }
   ],
   "source": [
    "fig = plt.figure(figsize=(5,5))\n",
    "data.insurance.value_counts(dropna=False).plot.pie(startangle = 0, autopct='%1.1f%%')\n",
    "plt.title('Insurance provider split, raw data')\n",
    "plt.ylabel('')\n",
    "# fig.savefig('figures/raw_insurance.png')\n",
    "plt.show()"
   ]
  },
  {
   "cell_type": "code",
   "execution_count": 81,
   "metadata": {},
   "outputs": [
    {
     "data": {
      "text/plain": [
       "MICU     20431\n",
       "CSRU     10857\n",
       "SICU     10777\n",
       "CCU       8167\n",
       "TSICU     7764\n",
       "Name: first_careunit, dtype: int64"
      ]
     },
     "execution_count": 81,
     "metadata": {},
     "output_type": "execute_result"
    }
   ],
   "source": [
    "data.first_careunit.value_counts(dropna=False)"
   ]
  },
  {
   "cell_type": "code",
   "execution_count": 86,
   "metadata": {},
   "outputs": [
    {
     "data": {
      "image/png": "[encoded data removed]",
      "text/plain": [
       "<Figure size 360x360 with 1 Axes>"
      ]
     },
     "metadata": {},
     "output_type": "display_data"
    }
   ],
   "source": [
    "fig = plt.figure(figsize=(5,5))\n",
    "data.first_careunit.value_counts(dropna=False).plot.pie(startangle = 0, autopct='%1.1f%%')\n",
    "plt.title('First careunit split, raw data')\n",
    "plt.ylabel('')\n",
    "# fig.savefig('figures/raw_insurance.png')\n",
    "plt.show()"
   ]
  },
  {
   "cell_type": "code",
   "execution_count": 87,
   "metadata": {},
   "outputs": [
    {
     "data": {
      "text/plain": [
       "MICU     20853\n",
       "SICU     11277\n",
       "CSRU     10862\n",
       "CCU       7670\n",
       "TSICU     7334\n",
       "Name: last_careunit, dtype: int64"
      ]
     },
     "execution_count": 87,
     "metadata": {},
     "output_type": "execute_result"
    }
   ],
   "source": [
    "data.last_careunit.value_counts(dropna=False)"
   ]
  },
  {
   "cell_type": "code",
   "execution_count": 88,
   "metadata": {},
   "outputs": [
    {
     "data": {
      "image/png": "[encoded data removed]",
      "text/plain": [
       "<Figure size 360x360 with 1 Axes>"
      ]
     },
     "metadata": {},
     "output_type": "display_data"
    }
   ],
   "source": [
    "fig = plt.figure(figsize=(5,5))\n",
    "data.last_careunit.value_counts(dropna=False).plot.pie(startangle = 0, autopct='%1.1f%%')\n",
    "plt.title('First careunit split, raw data')\n",
    "plt.ylabel('')\n",
    "plt.show()"
   ]
  },
  {
   "cell_type": "code",
   "execution_count": 109,
   "metadata": {},
   "outputs": [
    {
     "data": {
      "image/png": "[encoded data removed]",
      "text/plain": [
       "<Figure size 360x360 with 1 Axes>"
      ]
     },
     "metadata": {},
     "output_type": "display_data"
    }
   ],
   "source": [
    "plotting = pd.Series(np.where(data.first_careunit == data.last_careunit, 'no change', 'changed'))\n",
    "fig = plt.figure(figsize=(5,5))\n",
    "plotting.value_counts(dropna=False).plot.pie(startangle = 0, autopct='%1.1f%%')\n",
    "plt.title('\"First careunit == Last careunit\" split, raw data')\n",
    "plt.ylabel('')\n",
    "plt.show()"
   ]
  },
  {
   "cell_type": "code",
   "execution_count": 79,
   "metadata": {
    "scrolled": true
   },
   "outputs": [
    {
     "data": {
      "text/plain": [
       "count                   28655\n",
       "unique                  11865\n",
       "top       2191-04-07 00:00:00\n",
       "freq                      107\n",
       "first     2100-08-19 00:00:00\n",
       "last      2211-06-10 00:00:00\n",
       "Name: dod, dtype: object"
      ]
     },
     "execution_count": 79,
     "metadata": {},
     "output_type": "execute_result"
    }
   ],
   "source": [
    "data.dod.describe()"
   ]
  },
  {
   "cell_type": "markdown",
   "metadata": {},
   "source": [
    "## Check the missing data "
   ]
  },
  {
   "cell_type": "code",
   "execution_count": 75,
   "metadata": {},
   "outputs": [
    {
     "data": {
      "text/plain": [
       "subject_id            0\n",
       "hadm_id               0\n",
       "admittime             0\n",
       "dischtime             0\n",
       "deathtime         48877\n",
       "dod               29341\n",
       "first_careunit        0\n",
       "last_careunit         0\n",
       "age                   0\n",
       "gender                0\n",
       "marital_status     2826\n",
       "insurance             0\n",
       "urea_n_min           33\n",
       "urea_n_max           33\n",
       "urea_n_mean          33\n",
       "platelets_min        43\n",
       "platelets_max        43\n",
       "platelets_mean       43\n",
       "magnesium_max       448\n",
       "albumin_min       16629\n",
       "calcium_min        1748\n",
       "resprate_min         15\n",
       "resprate_max         15\n",
       "resprate_mean        15\n",
       "glucose_min         358\n",
       "glucose_max         358\n",
       "glucose_mean        358\n",
       "hr_min                2\n",
       "hr_max                2\n",
       "hr_mean               2\n",
       "sysbp_min             8\n",
       "sysbp_max             8\n",
       "sysbp_mean            8\n",
       "diasbp_min            8\n",
       "diasbp_max            8\n",
       "diasbp_mean           8\n",
       "temp_min             89\n",
       "temp_max             89\n",
       "temp_mean            89\n",
       "sapsii                0\n",
       "sofa                  0\n",
       "urine_min            11\n",
       "urine_mean           11\n",
       "urine_max            11\n",
       "dtype: int64"
      ]
     },
     "execution_count": 75,
     "metadata": {},
     "output_type": "execute_result"
    }
   ],
   "source": [
    "np.sum(data.isnull())"
   ]
  },
  {
   "cell_type": "code",
   "execution_count": null,
   "metadata": {},
   "outputs": [],
   "source": []
  },
  {
   "cell_type": "code",
   "execution_count": null,
   "metadata": {},
   "outputs": [],
   "source": []
  },
  {
   "cell_type": "code",
   "execution_count": null,
   "metadata": {},
   "outputs": [],
   "source": []
  },
  {
   "cell_type": "code",
   "execution_count": null,
   "metadata": {},
   "outputs": [],
   "source": []
  },
  {
   "cell_type": "code",
   "execution_count": null,
   "metadata": {},
   "outputs": [],
   "source": []
  },
  {
   "cell_type": "code",
   "execution_count": null,
   "metadata": {},
   "outputs": [],
   "source": []
  },
  {
   "cell_type": "code",
   "execution_count": null,
   "metadata": {},
   "outputs": [],
   "source": []
  },
  {
   "cell_type": "markdown",
   "metadata": {},
   "source": [
    "### Extract readmission time information"
   ]
  },
  {
   "cell_type": "code",
   "execution_count": 12,
   "metadata": {},
   "outputs": [
    {
     "name": "stderr",
     "output_type": "stream",
     "text": [
      "C:\\Users\\64877\\Anaconda3\\envs\\DS_final\\lib\\site-packages\\ipykernel_launcher.py:14: FutureWarning: set_value is deprecated and will be removed in a future release. Please use .at[] or .iat[] accessors instead\n",
      "  \n",
      "C:\\Users\\64877\\Anaconda3\\envs\\DS_final\\lib\\site-packages\\ipykernel_launcher.py:15: FutureWarning: set_value is deprecated and will be removed in a future release. Please use .at[] or .iat[] accessors instead\n",
      "  from ipykernel import kernelapp as app\n",
      "C:\\Users\\64877\\Anaconda3\\envs\\DS_final\\lib\\site-packages\\ipykernel_launcher.py:16: FutureWarning: set_value is deprecated and will be removed in a future release. Please use .at[] or .iat[] accessors instead\n",
      "  app.launch_new_instance()\n"
     ]
    }
   ],
   "source": [
    "# calculate time delta between subsequent readmissions of the same patient \n",
    "data['readmit_dt'] = np.zeros(data.shape[0])\n",
    "data['next_readmit_dt'] = np.zeros(data.shape[0])\n",
    "data['readmit_last_careunit'] = None\n",
    "\n",
    "for idx in np.arange(1,data.shape[0]):\n",
    "    if data.subject_id[idx] == data.subject_id[idx - 1]:     \n",
    "        prev_disch = data.dischtime[idx-1]\n",
    "        curr_adm = data.admittime[idx]\n",
    "        dt = curr_adm - prev_disch\n",
    "        dt_hrs_calc = np.round(dt.value/3600.0/1e9,2)\n",
    "\n",
    "#         data.set_value(idx,'adm_num',data['adm_num'][idx-1] + 1) \n",
    "        data.set_value(idx,'readmit_dt',dt_hrs_calc)\n",
    "        data.set_value(idx-1,'next_readmit_dt',dt_hrs_calc)\n",
    "        data.set_value(idx,'readmit_last_careunit',data['last_careunit'][idx-1]) \n"
   ]
  },
  {
   "cell_type": "code",
   "execution_count": 13,
   "metadata": {},
   "outputs": [
    {
     "data": {
      "text/plain": [
       "(57996, 46)"
      ]
     },
     "execution_count": 13,
     "metadata": {},
     "output_type": "execute_result"
    }
   ],
   "source": [
    "data.shape"
   ]
  },
  {
   "cell_type": "markdown",
   "metadata": {},
   "source": [
    "### Clean up missing or invalid values"
   ]
  },
  {
   "cell_type": "code",
   "execution_count": 14,
   "metadata": {},
   "outputs": [
    {
     "name": "stderr",
     "output_type": "stream",
     "text": [
      "C:\\Users\\64877\\Anaconda3\\envs\\DS_final\\lib\\site-packages\\ipykernel_launcher.py:3: DeprecationWarning: \n",
      ".ix is deprecated. Please use\n",
      ".loc for label based indexing or\n",
      ".iloc for positional indexing\n",
      "\n",
      "See the documentation here:\n",
      "http://pandas.pydata.org/pandas-docs/stable/indexing.html#ix-indexer-is-deprecated\n",
      "  This is separate from the ipykernel package so we can avoid doing imports until\n"
     ]
    }
   ],
   "source": [
    "data = data.drop(['urine_min','urine_mean','urine_max'], axis = 1) #Too noisy\n",
    "data = data[data.readmit_dt >= 0] #Ignore cases where readmit_dt < 0, which result from duplicate records. \n",
    "data = data.ix[(data.deathtime.isnull())] #Remove cases where the patient died during stay\n",
    "data = data.drop(['deathtime'], axis = 1) # Important to drop before dropna otherwise most of the data is lost\n",
    "data = data.dropna(subset=data.keys()[:-1]).reset_index(drop = True) # Ignore NaN values in readmit_last_careunit"
   ]
  },
  {
   "cell_type": "code",
   "execution_count": 15,
   "metadata": {
    "scrolled": true
   },
   "outputs": [
    {
     "name": "stdout",
     "output_type": "stream",
     "text": [
      "Dataframe shape after removal of invalid values: \n",
      "(20922, 42)\n"
     ]
    }
   ],
   "source": [
    "print ('Dataframe shape after removal of invalid values: \\n{}'.format(data.shape))"
   ]
  },
  {
   "cell_type": "markdown",
   "metadata": {},
   "source": [
    "### Define time threshold and corresponding labels"
   ]
  },
  {
   "cell_type": "code",
   "execution_count": 16,
   "metadata": {},
   "outputs": [],
   "source": [
    "# Define threshold in hours\n",
    "threshold = 30*24"
   ]
  },
  {
   "cell_type": "code",
   "execution_count": 17,
   "metadata": {},
   "outputs": [],
   "source": [
    "# Define label column based on threshold\n",
    "data['future_readmit'] = None\n",
    "data['future_readmit'] = ['No' if dt == 0.0 else 'Yes' if dt<=threshold else 'No' for dt in data.next_readmit_dt]"
   ]
  },
  {
   "cell_type": "code",
   "execution_count": 18,
   "metadata": {},
   "outputs": [
    {
     "name": "stdout",
     "output_type": "stream",
     "text": [
      "Value counts:\n",
      "No     17988\n",
      "Yes     2934\n",
      "Name: future_readmit, dtype: int64\n",
      "\n",
      "Value proportions:\n",
      "No     0.859765\n",
      "Yes    0.140235\n",
      "Name: future_readmit, dtype: float64\n"
     ]
    }
   ],
   "source": [
    "print ('Value counts:')\n",
    "print (data.future_readmit.value_counts())\n",
    "print ('\\nValue proportions:')\n",
    "print (data.future_readmit.value_counts()/data.shape[0])"
   ]
  },
  {
   "cell_type": "markdown",
   "metadata": {},
   "source": [
    "### Focus on admittions to the MICU:"
   ]
  },
  {
   "cell_type": "code",
   "execution_count": 19,
   "metadata": {},
   "outputs": [],
   "source": [
    "MICU_admits_clean = data.loc[data.first_careunit == 'MICU']"
   ]
  },
  {
   "cell_type": "markdown",
   "metadata": {},
   "source": [
    "A quick look at the label distribution:"
   ]
  },
  {
   "cell_type": "code",
   "execution_count": 20,
   "metadata": {
    "scrolled": true
   },
   "outputs": [
    {
     "name": "stdout",
     "output_type": "stream",
     "text": [
      "Value counts:\n",
      "No     7366\n",
      "Yes    1160\n",
      "Name: future_readmit, dtype: int64\n",
      "\n",
      "Value proportions:\n",
      "No     0.863946\n",
      "Yes    0.136054\n",
      "Name: future_readmit, dtype: float64\n"
     ]
    }
   ],
   "source": [
    "print ('Value counts:')\n",
    "print (MICU_admits_clean.future_readmit.value_counts())\n",
    "print ('\\nValue proportions:')\n",
    "print (MICU_admits_clean.future_readmit.value_counts()/MICU_admits_clean.shape[0])"
   ]
  },
  {
   "cell_type": "code",
   "execution_count": 25,
   "metadata": {},
   "outputs": [],
   "source": [
    "# Save clean dataset to csv\n",
    "MICU_admits_clean.to_csv('MICU_admits_clean.csv', index=False)"
   ]
  },
  {
   "cell_type": "code",
   "execution_count": 42,
   "metadata": {},
   "outputs": [
    {
     "data": {
      "text/plain": [
       "994"
      ]
     },
     "execution_count": 42,
     "metadata": {},
     "output_type": "execute_result"
    }
   ],
   "source": [
    "(data.age>300).sum()"
   ]
  }
 ],
 "metadata": {
  "anaconda-cloud": {},
  "kernelspec": {
   "display_name": "Python 3",
   "language": "python",
   "name": "python3"
  },
  "language_info": {
   "codemirror_mode": {
    "name": "ipython",
    "version": 3
   },
   "file_extension": ".py",
   "mimetype": "text/x-python",
   "name": "python",
   "nbconvert_exporter": "python",
   "pygments_lexer": "ipython3",
   "version": "3.6.8"
  }
 },
 "nbformat": 4,
 "nbformat_minor": 1
}
