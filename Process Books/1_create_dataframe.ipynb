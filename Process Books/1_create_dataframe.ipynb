{
 "cells": [
  {
   "cell_type": "markdown",
   "metadata": {},
   "source": [
    "### Import data from SQL database"
   ]
  },
  {
   "cell_type": "code",
   "execution_count": 1,
   "metadata": {},
   "outputs": [],
   "source": [
    "# Import libraries\n",
    "import numpy as np\n",
    "import pandas as pd\n",
    "import psycopg2\n",
    "import matplotlib.pyplot as plt\n",
    "\n",
    "%matplotlib inline"
   ]
  },
  {
   "cell_type": "code",
   "execution_count": 2,
   "metadata": {},
   "outputs": [],
   "source": [
    "# create a database connection\n",
    "sqluser = 'postgres'\n",
    "dbname = 'mimic'\n",
    "schema_name = 'mimiciii'\n",
    "\n",
    "# Connect to local postgres version of mimic\n",
    "con = psycopg2.connect(dbname=dbname, user=sqluser, password =sqluser )\n",
    "cur = con.cursor()"
   ]
  },
  {
   "cell_type": "code",
   "execution_count": 3,
   "metadata": {},
   "outputs": [],
   "source": [
    "# psql \"dbname=mimic user=postgres\"\n",
    "# \\i all_data.sql \n",
    "\n",
    "# SQL query (gets all_data view defined elsewhere)\n",
    "query = \\\n",
    "\"\"\"\n",
    "select * from all_data\n",
    "\"\"\"\n",
    "\n",
    "# Perform SQL query\n",
    "cur.execute('SET search_path to ' + schema_name)\n",
    "data = pd.read_sql_query(query,con)"
   ]
  },
  {
   "cell_type": "markdown",
   "metadata": {},
   "source": [
    "# Preliminary statistics"
   ]
  },
  {
   "cell_type": "code",
   "execution_count": 44,
   "metadata": {},
   "outputs": [],
   "source": [
    "data.to_csv('data.csv',index=False)"
   ]
  },
  {
   "cell_type": "code",
   "execution_count": null,
   "metadata": {},
   "outputs": [],
   "source": [
    "data.shape"
   ]
  },
  {
   "cell_type": "code",
   "execution_count": 5,
   "metadata": {},
   "outputs": [
    {
     "name": "stdout",
     "output_type": "stream",
     "text": [
      "Number of unique patient ids: 34005\n"
     ]
    }
   ],
   "source": [
    "print ('Number of unique patient ids: {}'.format(len(data.subject_id.unique())))"
   ]
  },
  {
   "cell_type": "code",
   "execution_count": 6,
   "metadata": {
    "scrolled": true
   },
   "outputs": [
    {
     "name": "stderr",
     "output_type": "stream",
     "text": [
      "C:\\Users\\64877\\Anaconda3\\envs\\DS_final\\lib\\site-packages\\ipykernel_launcher.py:1: DeprecationWarning: \n",
      ".ix is deprecated. Please use\n",
      ".loc for label based indexing or\n",
      ".iloc for positional indexing\n",
      "\n",
      "See the documentation here:\n",
      "http://pandas.pydata.org/pandas-docs/stable/indexing.html#ix-indexer-is-deprecated\n",
      "  \"\"\"Entry point for launching an IPython kernel.\n",
      "C:\\Users\\64877\\Anaconda3\\envs\\DS_final\\lib\\site-packages\\ipykernel_launcher.py:2: DeprecationWarning: \n",
      ".ix is deprecated. Please use\n",
      ".loc for label based indexing or\n",
      ".iloc for positional indexing\n",
      "\n",
      "See the documentation here:\n",
      "http://pandas.pydata.org/pandas-docs/stable/indexing.html#ix-indexer-is-deprecated\n",
      "  \n",
      "C:\\Users\\64877\\Anaconda3\\envs\\DS_final\\lib\\site-packages\\ipykernel_launcher.py:3: DeprecationWarning: \n",
      ".ix is deprecated. Please use\n",
      ".loc for label based indexing or\n",
      ".iloc for positional indexing\n",
      "\n",
      "See the documentation here:\n",
      "http://pandas.pydata.org/pandas-docs/stable/indexing.html#ix-indexer-is-deprecated\n",
      "  This is separate from the ipykernel package so we can avoid doing imports until\n",
      "C:\\Users\\64877\\Anaconda3\\envs\\DS_final\\lib\\site-packages\\ipykernel_launcher.py:4: DeprecationWarning: \n",
      ".ix is deprecated. Please use\n",
      ".loc for label based indexing or\n",
      ".iloc for positional indexing\n",
      "\n",
      "See the documentation here:\n",
      "http://pandas.pydata.org/pandas-docs/stable/indexing.html#ix-indexer-is-deprecated\n",
      "  after removing the cwd from sys.path.\n",
      "C:\\Users\\64877\\Anaconda3\\envs\\DS_final\\lib\\site-packages\\ipykernel_launcher.py:5: DeprecationWarning: \n",
      ".ix is deprecated. Please use\n",
      ".loc for label based indexing or\n",
      ".iloc for positional indexing\n",
      "\n",
      "See the documentation here:\n",
      "http://pandas.pydata.org/pandas-docs/stable/indexing.html#ix-indexer-is-deprecated\n",
      "  \"\"\"\n",
      "C:\\Users\\64877\\Anaconda3\\envs\\DS_final\\lib\\site-packages\\ipykernel_launcher.py:6: DeprecationWarning: \n",
      ".ix is deprecated. Please use\n",
      ".loc for label based indexing or\n",
      ".iloc for positional indexing\n",
      "\n",
      "See the documentation here:\n",
      "http://pandas.pydata.org/pandas-docs/stable/indexing.html#ix-indexer-is-deprecated\n",
      "  \n",
      "C:\\Users\\64877\\Anaconda3\\envs\\DS_final\\lib\\site-packages\\ipykernel_launcher.py:7: DeprecationWarning: \n",
      ".ix is deprecated. Please use\n",
      ".loc for label based indexing or\n",
      ".iloc for positional indexing\n",
      "\n",
      "See the documentation here:\n",
      "http://pandas.pydata.org/pandas-docs/stable/indexing.html#ix-indexer-is-deprecated\n",
      "  import sys\n",
      "C:\\Users\\64877\\Anaconda3\\envs\\DS_final\\lib\\site-packages\\ipykernel_launcher.py:8: DeprecationWarning: \n",
      ".ix is deprecated. Please use\n",
      ".loc for label based indexing or\n",
      ".iloc for positional indexing\n",
      "\n",
      "See the documentation here:\n",
      "http://pandas.pydata.org/pandas-docs/stable/indexing.html#ix-indexer-is-deprecated\n",
      "  \n",
      "C:\\Users\\64877\\Anaconda3\\envs\\DS_final\\lib\\site-packages\\ipykernel_launcher.py:9: DeprecationWarning: \n",
      ".ix is deprecated. Please use\n",
      ".loc for label based indexing or\n",
      ".iloc for positional indexing\n",
      "\n",
      "See the documentation here:\n",
      "http://pandas.pydata.org/pandas-docs/stable/indexing.html#ix-indexer-is-deprecated\n",
      "  if __name__ == '__main__':\n",
      "C:\\Users\\64877\\Anaconda3\\envs\\DS_final\\lib\\site-packages\\ipykernel_launcher.py:10: DeprecationWarning: \n",
      ".ix is deprecated. Please use\n",
      ".loc for label based indexing or\n",
      ".iloc for positional indexing\n",
      "\n",
      "See the documentation here:\n",
      "http://pandas.pydata.org/pandas-docs/stable/indexing.html#ix-indexer-is-deprecated\n",
      "  # Remove the CWD from sys.path while we load stuff.\n"
     ]
    },
    {
     "name": "stdout",
     "output_type": "stream",
     "text": [
      "age\n",
      " mean    75.415010\n",
      "std     53.924155\n",
      "Name: age, dtype: float64 \n",
      "\n",
      "age (<300)\n",
      " mean    63.580520\n",
      "std     16.022694\n",
      "Name: age, dtype: float64 \n",
      "\n",
      "sapsii\n",
      " mean    36.797400\n",
      "std     14.494745\n",
      "Name: sapsii, dtype: float64 \n",
      "\n",
      "sofa\n",
      " mean    4.556797\n",
      "std     3.241760\n",
      "Name: sofa, dtype: float64 \n",
      "\n",
      "      urea_n_min  urea_n_mean  urea_n_max\n",
      "mean   16.463710    27.333612   42.224557\n",
      "std    13.314368    18.915366   31.176981 \n",
      "\n",
      "      urea_n_min  urea_n_mean  urea_n_max\n",
      "mean   16.463710    27.333612   42.224557\n",
      "std    13.314368    18.915366   31.176981 \n",
      "\n",
      "      magnesium_max  albumin_min  calcium_min\n",
      "mean       2.501767     2.799359     7.673363\n",
      "std        1.012201     0.757489     0.863674 \n",
      "\n",
      "      resprate_min  resprate_mean  resprate_max\n",
      "mean      9.782119      19.375751     32.962557\n",
      "std       3.727347       3.539746      9.072195 \n",
      "\n",
      "      glucose_min  glucose_mean  glucose_max\n",
      "mean    86.977461    137.750363   271.053735\n",
      "std     30.178478     86.866399  5961.165184 \n",
      "\n",
      "         hr_min    hr_mean      hr_max\n",
      "mean  62.747368  85.759691  118.006071\n",
      "std   14.767748  13.134256   25.515820 \n",
      "\n",
      "      sysbp_min  sysbp_mean   sysbp_max\n",
      "mean  79.984309  120.333388  165.783576\n",
      "std   21.150334   15.593030   28.935278 \n",
      "\n",
      "      diasbp_min  diasbp_mean  diasbp_max\n",
      "mean    35.72244    60.253103   99.736583\n",
      "std     12.31615     9.708390   27.585497 \n",
      "\n",
      "       temp_min  temp_mean   temp_max\n",
      "mean  35.625338  36.848842  37.977907\n",
      "std    0.919910   0.527247   0.882785 \n",
      "\n",
      "      urine_min  urine_mean     urine_max\n",
      "mean  25.898059  126.103510    667.987238\n",
      "std   62.026718  537.055435  19358.031477\n"
     ]
    },
    {
     "name": "stderr",
     "output_type": "stream",
     "text": [
      "C:\\Users\\64877\\Anaconda3\\envs\\DS_final\\lib\\site-packages\\ipykernel_launcher.py:11: DeprecationWarning: \n",
      ".ix is deprecated. Please use\n",
      ".loc for label based indexing or\n",
      ".iloc for positional indexing\n",
      "\n",
      "See the documentation here:\n",
      "http://pandas.pydata.org/pandas-docs/stable/indexing.html#ix-indexer-is-deprecated\n",
      "  # This is added back by InteractiveShellApp.init_path()\n",
      "C:\\Users\\64877\\Anaconda3\\envs\\DS_final\\lib\\site-packages\\ipykernel_launcher.py:12: DeprecationWarning: \n",
      ".ix is deprecated. Please use\n",
      ".loc for label based indexing or\n",
      ".iloc for positional indexing\n",
      "\n",
      "See the documentation here:\n",
      "http://pandas.pydata.org/pandas-docs/stable/indexing.html#ix-indexer-is-deprecated\n",
      "  if sys.path[0] == '':\n",
      "C:\\Users\\64877\\Anaconda3\\envs\\DS_final\\lib\\site-packages\\ipykernel_launcher.py:13: DeprecationWarning: \n",
      ".ix is deprecated. Please use\n",
      ".loc for label based indexing or\n",
      ".iloc for positional indexing\n",
      "\n",
      "See the documentation here:\n",
      "http://pandas.pydata.org/pandas-docs/stable/indexing.html#ix-indexer-is-deprecated\n",
      "  del sys.path[0]\n",
      "C:\\Users\\64877\\Anaconda3\\envs\\DS_final\\lib\\site-packages\\ipykernel_launcher.py:14: DeprecationWarning: \n",
      ".ix is deprecated. Please use\n",
      ".loc for label based indexing or\n",
      ".iloc for positional indexing\n",
      "\n",
      "See the documentation here:\n",
      "http://pandas.pydata.org/pandas-docs/stable/indexing.html#ix-indexer-is-deprecated\n",
      "  \n"
     ]
    }
   ],
   "source": [
    "print ('age\\n',data.age.describe().ix[['mean', 'std']],'\\n')\n",
    "print ('age (<300)\\n', data.loc[data.age<300].age.describe().ix[['mean', 'std']], '\\n')\n",
    "print ('sapsii\\n', data.sapsii.describe().ix[['mean', 'std']],'\\n')\n",
    "print ('sofa\\n', data.sofa.describe().ix[['mean', 'std']],'\\n')\n",
    "print (data[['urea_n_min','urea_n_mean','urea_n_max',]].describe().ix[['mean', 'std']],'\\n')\n",
    "print (data[['urea_n_min','urea_n_mean','urea_n_max',]].describe().ix[['mean', 'std']], '\\n')\n",
    "print (data[['magnesium_max','albumin_min','calcium_min']].describe().ix[['mean', 'std']], '\\n')\n",
    "print (data[['resprate_min','resprate_mean','resprate_max']].describe().ix[['mean', 'std']], '\\n')\n",
    "print (data[['glucose_min','glucose_mean','glucose_max']].describe().ix[['mean', 'std']], '\\n')\n",
    "print (data[['hr_min','hr_mean','hr_max']].describe().ix[['mean', 'std']], '\\n')\n",
    "print (data[['sysbp_min','sysbp_mean','sysbp_max']].describe().ix[['mean', 'std']], '\\n')\n",
    "print (data[['diasbp_min','diasbp_mean','diasbp_max']].describe().ix[['mean', 'std']], '\\n')\n",
    "print (data[['temp_min','temp_mean','temp_max']].describe().ix[['mean', 'std']], '\\n')\n",
    "print (data[['urine_min','urine_mean','urine_max']].describe().ix[['mean', 'std']])"
   ]
  },
  {
   "cell_type": "code",
   "execution_count": 8,
   "metadata": {},
   "outputs": [
    {
     "data": {
      "text/plain": [
       "Text(0, 0.5, '')"
      ]
     },
     "execution_count": 8,
     "metadata": {},
     "output_type": "execute_result"
    },
    {
     "data": {
      "image/png": "[encoded data removed]",
      "text/plain": [
       "<Figure size 360x360 with 1 Axes>"
      ]
     },
     "metadata": {},
     "output_type": "display_data"
    }
   ],
   "source": [
    "fig = plt.figure(figsize=(5,5))\n",
    "data.gender.value_counts().plot.pie(startangle = 90, autopct='%1.1f%%')\n",
    "plt.title('Gender split, raw data')\n",
    "plt.ylabel('')\n",
    "# plt.savefig('figures/raw_gender.png')"
   ]
  },
  {
   "cell_type": "code",
   "execution_count": 9,
   "metadata": {},
   "outputs": [
    {
     "data": {
      "text/plain": [
       "Text(0, 0.5, '')"
      ]
     },
     "execution_count": 9,
     "metadata": {},
     "output_type": "execute_result"
    },
    {
     "data": {
      "image/png": "[encoded data removed]",
      "text/plain": [
       "<Figure size 360x360 with 1 Axes>"
      ]
     },
     "metadata": {},
     "output_type": "display_data"
    }
   ],
   "source": [
    "fig = plt.figure(figsize=(5,5))\n",
    "data.marital_status.value_counts().plot.pie(startangle = 0, autopct='%1.1f%%')\n",
    "plt.title('Marital status split, raw data')\n",
    "plt.ylabel('')\n",
    "# fig.savefig('figures/raw_marital.png')"
   ]
  },
  {
   "cell_type": "code",
   "execution_count": 10,
   "metadata": {},
   "outputs": [
    {
     "data": {
      "text/plain": [
       "Text(0, 0.5, '')"
      ]
     },
     "execution_count": 10,
     "metadata": {},
     "output_type": "execute_result"
    },
    {
     "data": {
      "image/png": "[encoded data removed]",
      "text/plain": [
       "<Figure size 360x360 with 1 Axes>"
      ]
     },
     "metadata": {},
     "output_type": "display_data"
    }
   ],
   "source": [
    "fig = plt.figure(figsize=(5,5))\n",
    "data.insurance.value_counts().plot.pie(startangle = 0, autopct='%1.1f%%')\n",
    "plt.title('Insurance provider split, raw data')\n",
    "plt.ylabel('')\n",
    "# fig.savefig('figures/raw_insurance.png')"
   ]
  },
  {
   "cell_type": "code",
   "execution_count": 11,
   "metadata": {},
   "outputs": [
    {
     "data": {
      "text/plain": [
       "subject_id            0\n",
       "hadm_id               0\n",
       "admittime             0\n",
       "dischtime             0\n",
       "deathtime         48877\n",
       "first_careunit        0\n",
       "last_careunit         0\n",
       "age                   0\n",
       "gender                0\n",
       "marital_status     2826\n",
       "insurance             0\n",
       "urea_n_min           33\n",
       "urea_n_max           33\n",
       "urea_n_mean          33\n",
       "platelets_min        43\n",
       "platelets_max        43\n",
       "platelets_mean       43\n",
       "magnesium_max       448\n",
       "albumin_min       16629\n",
       "calcium_min        1748\n",
       "resprate_min         15\n",
       "resprate_max         15\n",
       "resprate_mean        15\n",
       "glucose_min         358\n",
       "glucose_max         358\n",
       "glucose_mean        358\n",
       "hr_min                2\n",
       "hr_max                2\n",
       "hr_mean               2\n",
       "sysbp_min             8\n",
       "sysbp_max             8\n",
       "sysbp_mean            8\n",
       "diasbp_min            8\n",
       "diasbp_max            8\n",
       "diasbp_mean           8\n",
       "temp_min             89\n",
       "temp_max             89\n",
       "temp_mean            89\n",
       "sapsii                0\n",
       "sofa                  0\n",
       "urine_min            11\n",
       "urine_mean           11\n",
       "urine_max            11\n",
       "dtype: int64"
      ]
     },
     "execution_count": 11,
     "metadata": {},
     "output_type": "execute_result"
    }
   ],
   "source": [
    "np.sum(data.isnull())"
   ]
  },
  {
   "cell_type": "markdown",
   "metadata": {},
   "source": [
    "### Extract readmission time information"
   ]
  },
  {
   "cell_type": "code",
   "execution_count": 12,
   "metadata": {},
   "outputs": [
    {
     "name": "stderr",
     "output_type": "stream",
     "text": [
      "C:\\Users\\64877\\Anaconda3\\envs\\DS_final\\lib\\site-packages\\ipykernel_launcher.py:14: FutureWarning: set_value is deprecated and will be removed in a future release. Please use .at[] or .iat[] accessors instead\n",
      "  \n",
      "C:\\Users\\64877\\Anaconda3\\envs\\DS_final\\lib\\site-packages\\ipykernel_launcher.py:15: FutureWarning: set_value is deprecated and will be removed in a future release. Please use .at[] or .iat[] accessors instead\n",
      "  from ipykernel import kernelapp as app\n",
      "C:\\Users\\64877\\Anaconda3\\envs\\DS_final\\lib\\site-packages\\ipykernel_launcher.py:16: FutureWarning: set_value is deprecated and will be removed in a future release. Please use .at[] or .iat[] accessors instead\n",
      "  app.launch_new_instance()\n"
     ]
    }
   ],
   "source": [
    "# calculate time delta between subsequent readmissions of the same patient \n",
    "data['readmit_dt'] = np.zeros(data.shape[0])\n",
    "data['next_readmit_dt'] = np.zeros(data.shape[0])\n",
    "data['readmit_last_careunit'] = None\n",
    "\n",
    "for idx in np.arange(1,data.shape[0]):\n",
    "    if data.subject_id[idx] == data.subject_id[idx - 1]:     \n",
    "        prev_disch = data.dischtime[idx-1]\n",
    "        curr_adm = data.admittime[idx]\n",
    "        dt = curr_adm - prev_disch\n",
    "        dt_hrs_calc = np.round(dt.value/3600.0/1e9,2)\n",
    "\n",
    "#         data.set_value(idx,'adm_num',data['adm_num'][idx-1] + 1) \n",
    "        data.set_value(idx,'readmit_dt',dt_hrs_calc)\n",
    "        data.set_value(idx-1,'next_readmit_dt',dt_hrs_calc)\n",
    "        data.set_value(idx,'readmit_last_careunit',data['last_careunit'][idx-1]) \n"
   ]
  },
  {
   "cell_type": "code",
   "execution_count": 13,
   "metadata": {},
   "outputs": [
    {
     "data": {
      "text/plain": [
       "(57996, 46)"
      ]
     },
     "execution_count": 13,
     "metadata": {},
     "output_type": "execute_result"
    }
   ],
   "source": [
    "data.shape"
   ]
  },
  {
   "cell_type": "markdown",
   "metadata": {},
   "source": [
    "### Clean up missing or invalid values"
   ]
  },
  {
   "cell_type": "code",
   "execution_count": 14,
   "metadata": {},
   "outputs": [
    {
     "name": "stderr",
     "output_type": "stream",
     "text": [
      "C:\\Users\\64877\\Anaconda3\\envs\\DS_final\\lib\\site-packages\\ipykernel_launcher.py:3: DeprecationWarning: \n",
      ".ix is deprecated. Please use\n",
      ".loc for label based indexing or\n",
      ".iloc for positional indexing\n",
      "\n",
      "See the documentation here:\n",
      "http://pandas.pydata.org/pandas-docs/stable/indexing.html#ix-indexer-is-deprecated\n",
      "  This is separate from the ipykernel package so we can avoid doing imports until\n"
     ]
    }
   ],
   "source": [
    "data = data.drop(['urine_min','urine_mean','urine_max'], axis = 1) #Too noisy\n",
    "data = data[data.readmit_dt >= 0] #Ignore cases where readmit_dt < 0, which result from duplicate records. \n",
    "data = data.ix[(data.deathtime.isnull())] #Remove cases where the patient died during stay\n",
    "data = data.drop(['deathtime'], axis = 1) # Important to drop before dropna otherwise most of the data is lost\n",
    "data = data.dropna(subset=data.keys()[:-1]).reset_index(drop = True) # Ignore NaN values in readmit_last_careunit"
   ]
  },
  {
   "cell_type": "code",
   "execution_count": 15,
   "metadata": {
    "scrolled": true
   },
   "outputs": [
    {
     "name": "stdout",
     "output_type": "stream",
     "text": [
      "Dataframe shape after removal of invalid values: \n",
      "(20922, 42)\n"
     ]
    }
   ],
   "source": [
    "print ('Dataframe shape after removal of invalid values: \\n{}'.format(data.shape))"
   ]
  },
  {
   "cell_type": "markdown",
   "metadata": {},
   "source": [
    "### Define time threshold and corresponding labels"
   ]
  },
  {
   "cell_type": "code",
   "execution_count": 16,
   "metadata": {},
   "outputs": [],
   "source": [
    "# Define threshold in hours\n",
    "threshold = 30*24"
   ]
  },
  {
   "cell_type": "code",
   "execution_count": 17,
   "metadata": {},
   "outputs": [],
   "source": [
    "# Define label column based on threshold\n",
    "data['future_readmit'] = None\n",
    "data['future_readmit'] = ['No' if dt == 0.0 else 'Yes' if dt<=threshold else 'No' for dt in data.next_readmit_dt]"
   ]
  },
  {
   "cell_type": "code",
   "execution_count": 18,
   "metadata": {},
   "outputs": [
    {
     "name": "stdout",
     "output_type": "stream",
     "text": [
      "Value counts:\n",
      "No     17988\n",
      "Yes     2934\n",
      "Name: future_readmit, dtype: int64\n",
      "\n",
      "Value proportions:\n",
      "No     0.859765\n",
      "Yes    0.140235\n",
      "Name: future_readmit, dtype: float64\n"
     ]
    }
   ],
   "source": [
    "print ('Value counts:')\n",
    "print (data.future_readmit.value_counts())\n",
    "print ('\\nValue proportions:')\n",
    "print (data.future_readmit.value_counts()/data.shape[0])"
   ]
  },
  {
   "cell_type": "markdown",
   "metadata": {},
   "source": [
    "### Focus on admittions to the MICU:"
   ]
  },
  {
   "cell_type": "code",
   "execution_count": 19,
   "metadata": {},
   "outputs": [],
   "source": [
    "MICU_admits_clean = data.loc[data.first_careunit == 'MICU']"
   ]
  },
  {
   "cell_type": "markdown",
   "metadata": {},
   "source": [
    "A quick look at the label distribution:"
   ]
  },
  {
   "cell_type": "code",
   "execution_count": 20,
   "metadata": {
    "scrolled": true
   },
   "outputs": [
    {
     "name": "stdout",
     "output_type": "stream",
     "text": [
      "Value counts:\n",
      "No     7366\n",
      "Yes    1160\n",
      "Name: future_readmit, dtype: int64\n",
      "\n",
      "Value proportions:\n",
      "No     0.863946\n",
      "Yes    0.136054\n",
      "Name: future_readmit, dtype: float64\n"
     ]
    }
   ],
   "source": [
    "print ('Value counts:')\n",
    "print (MICU_admits_clean.future_readmit.value_counts())\n",
    "print ('\\nValue proportions:')\n",
    "print (MICU_admits_clean.future_readmit.value_counts()/MICU_admits_clean.shape[0])"
   ]
  },
  {
   "cell_type": "code",
   "execution_count": 25,
   "metadata": {},
   "outputs": [],
   "source": [
    "# Save clean dataset to csv\n",
    "MICU_admits_clean.to_csv('MICU_admits_clean.csv', index=False)"
   ]
  },
  {
   "cell_type": "code",
   "execution_count": 42,
   "metadata": {},
   "outputs": [
    {
     "data": {
      "text/plain": [
       "994"
      ]
     },
     "execution_count": 42,
     "metadata": {},
     "output_type": "execute_result"
    }
   ],
   "source": [
    "(data.age>300).sum()"
   ]
  }
 ],
 "metadata": {
  "anaconda-cloud": {},
  "kernelspec": {
   "display_name": "Python 3",
   "language": "python",
   "name": "python3"
  },
  "language_info": {
   "codemirror_mode": {
    "name": "ipython",
    "version": 3
   },
   "file_extension": ".py",
   "mimetype": "text/x-python",
   "name": "python",
   "nbconvert_exporter": "python",
   "pygments_lexer": "ipython3",
   "version": "3.6.8"
  }
 },
 "nbformat": 4,
 "nbformat_minor": 1
}
