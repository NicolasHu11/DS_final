{
 "cells": [
  {
   "cell_type": "markdown",
   "metadata": {},
   "source": [
    "# Pre Process"
   ]
  },
  {
   "cell_type": "code",
   "execution_count": 1,
   "metadata": {},
   "outputs": [],
   "source": [
    "import pandas as pd\n",
    "import numpy as np\n",
    "import matplotlib.pyplot as plt\n",
    "from datetime import datetime\n",
    "import time\n",
    "from sklearn.preprocessing import scale\n",
    "from scipy import stats\n",
    "from sklearn.model_selection import train_test_split\n",
    "\n",
    "%matplotlib inline"
   ]
  },
  {
   "cell_type": "code",
   "execution_count": 2,
   "metadata": {},
   "outputs": [],
   "source": [
    "data = pd.read_csv('data(with_label).csv')"
   ]
  },
  {
   "cell_type": "markdown",
   "metadata": {},
   "source": [
    "### Remove Unwanted Columns"
   ]
  },
  {
   "cell_type": "markdown",
   "metadata": {},
   "source": [
    "* **subject_id**: Categorical data with one category for each patient. Unusable.\n",
    "* **hadm_id**: No information in the code assigned to each admission.\n",
    "* **discharge_location**: One of the possible values for this feature shows that the patient died. This means that this column is unsuitable to predict patient death.\n",
    "* **DOD**: Aka. Date of Death. Unsuitable to predict patient death.\n",
    "* **deathtime**: Unsuitable to predict patient death.\n",
    "* **time_before_death**: Unsuitable to predict patient death.\n",
    "* **los_hospital**: Aka. Length of stay in hospital. Can't be used to predict patient death.\n",
    "* **admittime**:\n",
    "* **dischtime**:\n"
   ]
  },
  {
   "cell_type": "code",
   "execution_count": 3,
   "metadata": {},
   "outputs": [],
   "source": [
    "str_cols = [\n",
    "    'admittime',\n",
    "    'dischtime',\n",
    "    'subject_id',\n",
    "    'hadm_id',\n",
    "    'deathtime',\n",
    "    'dod',\n",
    "    'time_before_death',\n",
    "    'discharge_location',\n",
    "    'los_hospital',\n",
    "]\n",
    "data = data.drop(str_cols, axis = 1)"
   ]
  },
  {
   "cell_type": "markdown",
   "metadata": {},
   "source": [
    "### Marital Status NaN to UNKNOWN (DEFAULT)"
   ]
  },
  {
   "cell_type": "code",
   "execution_count": 4,
   "metadata": {},
   "outputs": [],
   "source": [
    "data.loc[pd.isna(data['marital_status']), 'marital_status'] = 'UNKNOWN (DEFAULT)'"
   ]
  },
  {
   "cell_type": "markdown",
   "metadata": {},
   "source": [
    "### Diagnosis NaN to PNEUMONIA"
   ]
  },
  {
   "cell_type": "code",
   "execution_count": 5,
   "metadata": {},
   "outputs": [],
   "source": [
    "data.loc[pd.isna(data['diagnosis']), 'diagnosis'] = 'PNEUMONIA'"
   ]
  },
  {
   "cell_type": "markdown",
   "metadata": {},
   "source": [
    "### Correct Age"
   ]
  },
  {
   "cell_type": "markdown",
   "metadata": {},
   "source": [
    "Patients that were older than 89 years old appear as older than 300. This value should not be considered an outlier, we just need to convert it back."
   ]
  },
  {
   "cell_type": "code",
   "execution_count": 6,
   "metadata": {},
   "outputs": [],
   "source": [
    "data['age'] = data['age'].apply(lambda x: x if x < 100 else 95)"
   ]
  },
  {
   "cell_type": "markdown",
   "metadata": {},
   "source": [
    "### Convert Categorical Data to Number"
   ]
  },
  {
   "cell_type": "markdown",
   "metadata": {},
   "source": [
    "Autoconvert every categorical data to numeric data. One integer is assigned to each column category with the highesst integer corresponding to the highest occuring category."
   ]
  },
  {
   "cell_type": "code",
   "execution_count": 7,
   "metadata": {},
   "outputs": [
    {
     "name": "stdout",
     "output_type": "stream",
     "text": [
      "1 TSICU\n",
      "2 CCU\n",
      "3 SICU\n",
      "4 CSRU\n",
      "5 MICU\n"
     ]
    }
   ],
   "source": [
    "for n,c in enumerate(np.flip(data['first_careunit'].value_counts().index.values)):\n",
    "    print(n+1,c)"
   ]
  },
  {
   "cell_type": "code",
   "execution_count": 8,
   "metadata": {},
   "outputs": [],
   "source": [
    "def categ_to_num(df, cols):\n",
    "    for col in cols:\n",
    "        map_dict = {}\n",
    "        for n, c in enumerate(np.flip(data[col].value_counts().index.values)):\n",
    "            map_dict[c] = n + 1 \n",
    "        df[col] = df[col].map(map_dict)\n",
    "    return df"
   ]
  },
  {
   "cell_type": "code",
   "execution_count": 9,
   "metadata": {},
   "outputs": [],
   "source": [
    "categorical = [\n",
    "    'first_careunit', \n",
    "    'last_careunit',\n",
    "    'gender', \n",
    "    'marital_status',\n",
    "    'insurance', \n",
    "    'icustay_age_group', \n",
    "    'admission_type', \n",
    "    'admission_location',  \n",
    "    'ethnicity', \n",
    "    'diagnosis',\n",
    "]\n",
    "data = categ_to_num(data, categorical)"
   ]
  },
  {
   "cell_type": "markdown",
   "metadata": {},
   "source": [
    "### Split before filling and scaling"
   ]
  },
  {
   "cell_type": "markdown",
   "metadata": {},
   "source": [
    "Split the data into train and test data"
   ]
  },
  {
   "cell_type": "code",
   "execution_count": 10,
   "metadata": {},
   "outputs": [
    {
     "name": "stdout",
     "output_type": "stream",
     "text": [
      "X_train shape: (38857, 60)\n",
      "38857 train samples\n",
      "19139 test samples\n"
     ]
    }
   ],
   "source": [
    "columns = list(data.columns)\n",
    "X = data # fetures + expected outs\n",
    "y = data[columns[-2::]] # 30 days + 1 Year\n",
    "\n",
    "# The data, split between train and test sets:\n",
    "X_train, X_test, y_train, y_test = train_test_split(\n",
    "    X, y, test_size=0.33, random_state=42)\n",
    "\n",
    "print('X_train shape:', X_train.shape)\n",
    "print(X_train.shape[0], 'train samples')\n",
    "print(X_test.shape[0], 'test samples')"
   ]
  },
  {
   "cell_type": "code",
   "execution_count": 11,
   "metadata": {},
   "outputs": [],
   "source": [
    "data_train_30d = X_train.copy()\n",
    "data_test_30d = X_test.copy()\n",
    "data_train_1y = X_train.copy()\n",
    "data_test_1y = X_test.copy()"
   ]
  },
  {
   "cell_type": "code",
   "execution_count": 12,
   "metadata": {},
   "outputs": [],
   "source": [
    "data_train_30d = data_train_30d.reset_index()\n",
    "data_test_30d = data_test_30d.reset_index()\n",
    "data_train_1y = data_train_1y.reset_index()\n",
    "data_test_1y = data_test_1y.reset_index()"
   ]
  },
  {
   "cell_type": "markdown",
   "metadata": {},
   "source": [
    "### Fill Missing Values"
   ]
  },
  {
   "cell_type": "markdown",
   "metadata": {},
   "source": [
    "Fill the missing values with the mean of that feature taking into account the group that patient belongs to.\n",
    "i.e. If a patient did not die in thirty days, replace the missing value with the average of all the patients that didn't die in thirty days.\n",
    "Also appends a column with missing value indication."
   ]
  },
  {
   "cell_type": "code",
   "execution_count": 13,
   "metadata": {},
   "outputs": [],
   "source": [
    "def fill_missing_by_group(df, cols, group_col):\n",
    "    gc_unique = df[group_col].unique()\n",
    "\n",
    "    grp_means = []\n",
    "    grp_inds = []\n",
    "\n",
    "    for v in gc_unique:\n",
    "        grp_means.append(df[df[group_col] == v].mean())\n",
    "        grp_inds.append(df[group_col] == v)\n",
    "        \n",
    "    for col in cols:\n",
    "        col_miss_ind = pd.isna(df[col])\n",
    "        df[col+'_mv'] = col_miss_ind * 1\n",
    "\n",
    "        for i in range(len(grp_inds)):\n",
    "            grp_miss_inds = col_miss_ind & grp_inds[i]\n",
    "            df.loc[grp_miss_inds, col] = grp_means[i][col]\n",
    "    return df"
   ]
  },
  {
   "cell_type": "code",
   "execution_count": 14,
   "metadata": {},
   "outputs": [],
   "source": [
    "cols = [\n",
    "    'age',\n",
    "    'urea_n_min', \n",
    "    'urea_n_max', \n",
    "    'urea_n_mean', \n",
    "    'platelets_min',\n",
    "    'platelets_max', \n",
    "    'platelets_mean', \n",
    "    'magnesium_max', \n",
    "    'albumin_min',\n",
    "    'calcium_min', \n",
    "    'resprate_min', \n",
    "    'resprate_max', \n",
    "    'resprate_mean',\n",
    "    'glucose_min', \n",
    "    'glucose_max', \n",
    "    'glucose_mean', \n",
    "    'hr_min', \n",
    "    'hr_max',\n",
    "    'hr_mean', \n",
    "    'sysbp_min', \n",
    "    'sysbp_max', \n",
    "    'sysbp_mean', \n",
    "    'diasbp_min',\n",
    "    'diasbp_max', \n",
    "    'diasbp_mean', \n",
    "    'temp_min', \n",
    "    'temp_max', \n",
    "    'temp_mean',\n",
    "    'sapsii', \n",
    "    'sofa', \n",
    "    'urine_min', \n",
    "    'urine_mean', \n",
    "    'urine_max',\n",
    "    'elixhauser_vanwalraven', \n",
    "    'elixhauser_sid29', \n",
    "    'elixhauser_sid30', \n",
    "    'meanbp_min', \n",
    "    'meanbp_max', \n",
    "    'meanbp_mean', \n",
    "    'spo2_min',\n",
    "    'spo2_max', \n",
    "    'spo2_mean', \n",
    "    'vent', \n",
    "    'rrt', \n",
    "    'urineoutput',\n",
    "    'oasis', \n",
    "    'lods', \n",
    "    'sirs',    \n",
    "]"
   ]
  },
  {
   "cell_type": "code",
   "execution_count": 15,
   "metadata": {},
   "outputs": [],
   "source": [
    "data_train_30d = fill_missing_by_group(data_train_30d, cols, 'thirty_days')"
   ]
  },
  {
   "cell_type": "code",
   "execution_count": 16,
   "metadata": {},
   "outputs": [],
   "source": [
    "data_test_30d = fill_missing_by_group(data_test_30d, cols, 'thirty_days')"
   ]
  },
  {
   "cell_type": "code",
   "execution_count": 17,
   "metadata": {},
   "outputs": [],
   "source": [
    "data_train_1y = fill_missing_by_group(data_train_1y, cols, 'one_year')"
   ]
  },
  {
   "cell_type": "code",
   "execution_count": 18,
   "metadata": {},
   "outputs": [],
   "source": [
    "data_test_1y = fill_missing_by_group(data_test_1y, cols, 'one_year')"
   ]
  },
  {
   "cell_type": "markdown",
   "metadata": {},
   "source": [
    "### Convert Types"
   ]
  },
  {
   "cell_type": "code",
   "execution_count": 20,
   "metadata": {},
   "outputs": [],
   "source": [
    "data_train_30d = data_train_30d.astype(np.float64)\n",
    "data_test_30d = data_test_30d.astype(np.float64)\n",
    "data_train_1y = data_train_1y.astype(np.float64)\n",
    "data_test_1y = data_test_1y.astype(np.float64)"
   ]
  },
  {
   "cell_type": "markdown",
   "metadata": {},
   "source": [
    "### Scale Values"
   ]
  },
  {
   "cell_type": "code",
   "execution_count": 21,
   "metadata": {},
   "outputs": [],
   "source": [
    "cols = [\n",
    "    'first_careunit',\n",
    "    'last_careunit',\n",
    "    'age',\n",
    "    'gender',\n",
    "    'marital_status',\n",
    "    'insurance',\n",
    "    'urea_n_min',\n",
    "    'urea_n_max',\n",
    "    'urea_n_mean',\n",
    "    'platelets_min',\n",
    "    'platelets_max',\n",
    "    'platelets_mean',\n",
    "    'magnesium_max',\n",
    "    'albumin_min',\n",
    "    'calcium_min',\n",
    "    'resprate_min',\n",
    "    'resprate_max',\n",
    "    'resprate_mean',\n",
    "    'glucose_min',\n",
    "    'glucose_max',\n",
    "    'glucose_mean',\n",
    "    'hr_min',\n",
    "    'hr_max',\n",
    "    'hr_mean',\n",
    "    'sysbp_min',\n",
    "    'sysbp_max',\n",
    "    'sysbp_mean',\n",
    "    'diasbp_min',\n",
    "    'diasbp_max',\n",
    "    'diasbp_mean',\n",
    "    'temp_min',\n",
    "    'temp_max',\n",
    "    'temp_mean',\n",
    "    'sapsii',\n",
    "    'sofa',\n",
    "    'urine_min',\n",
    "    'urine_mean',\n",
    "    'urine_max',\n",
    "    'elixhauser_vanwalraven',\n",
    "    'elixhauser_sid29',\n",
    "    'elixhauser_sid30',\n",
    "    'meanbp_min',\n",
    "    'meanbp_max',\n",
    "    'meanbp_mean',\n",
    "    'spo2_min',\n",
    "    'spo2_max',\n",
    "    'spo2_mean',\n",
    "    'vent',\n",
    "    'rrt',\n",
    "    'urineoutput',\n",
    "    'icustay_age_group',\n",
    "    'oasis',\n",
    "    'lods',\n",
    "    'sirs',\n",
    "    'admission_type',\n",
    "    'admission_location',\n",
    "    'ethnicity',\n",
    "    'diagnosis',\n",
    "]\n",
    "for col in cols:\n",
    "    data_train_30d[col] = scale(data_train_30d[col], axis=0, with_mean=True, with_std=True, copy=False)\n",
    "    data_test_30d[col] = scale(data_test_30d[col], axis=0, with_mean=True, with_std=True, copy=False)\n",
    "    data_train_1y[col] = scale(data_train_1y[col], axis=0, with_mean=True, with_std=True, copy=False)\n",
    "    data_test_1y[col] = scale(data_test_1y[col], axis=0, with_mean=True, with_std=True, copy=False)"
   ]
  },
  {
   "cell_type": "markdown",
   "metadata": {},
   "source": [
    "### Remove Outliers"
   ]
  },
  {
   "cell_type": "markdown",
   "metadata": {},
   "source": [
    "The distributions of the features show that there is not a strong presence of outliers. Some of the features have values that can be mistakenly considered as outliers but are actually not. For example, age has values >300, but those cases correspond to patients with age > 89."
   ]
  },
  {
   "cell_type": "code",
   "execution_count": 22,
   "metadata": {},
   "outputs": [],
   "source": [
    "def remove_outliers(df, cols):\n",
    "    # Find outliers based on 1.5*(Q3-Q1) outlier step\n",
    "    outliers  = []\n",
    "    # For each feature find the data points with extreme high or low values\n",
    "    for col in cols:\n",
    "        # Calculate Q1 (25th percentile of the data) for the given feature\n",
    "        Q1 = np.percentile(df[col],25)\n",
    "        \n",
    "        # Calculate Q3 (75th percentile of the data) for the given feature\n",
    "        Q3 = np.percentile(df[col],75)\n",
    "        \n",
    "        # Use the interquartile range to calculate an outlier step (1.5 times the interquartile range)\n",
    "        step = 1.5*(Q3-Q1)\n",
    "        \n",
    "        outliers_per_feature = df[(df[col] < Q1 - step) | (df[col] > Q3 + step)]\n",
    "        outliers = outliers + list(outliers_per_feature.index)\n",
    "    outliers.sort()\n",
    "    outliers = list(set(outliers))\n",
    "    return outliers"
   ]
  },
  {
   "cell_type": "markdown",
   "metadata": {},
   "source": [
    "### Rearange Columns"
   ]
  },
  {
   "cell_type": "code",
   "execution_count": 23,
   "metadata": {},
   "outputs": [],
   "source": [
    "cols_ordered = [\n",
    "    'first_careunit',\n",
    "    'last_careunit',\n",
    "    'age',\n",
    "    'gender',\n",
    "    'marital_status',\n",
    "    'insurance',\n",
    "    'urea_n_min',\n",
    "    'urea_n_max',\n",
    "    'urea_n_mean',\n",
    "    'platelets_min',\n",
    "    'platelets_max',\n",
    "    'platelets_mean',\n",
    "    'magnesium_max',\n",
    "    'albumin_min',\n",
    "    'calcium_min',\n",
    "    'resprate_min',\n",
    "    'resprate_max',\n",
    "    'resprate_mean',\n",
    "    'glucose_min',\n",
    "    'glucose_max',\n",
    "    'glucose_mean',\n",
    "    'hr_min',\n",
    "    'hr_max',\n",
    "    'hr_mean',\n",
    "    'sysbp_min',\n",
    "    'sysbp_max',\n",
    "    'sysbp_mean',\n",
    "    'diasbp_min',\n",
    "    'diasbp_max',\n",
    "    'diasbp_mean',\n",
    "    'temp_min',\n",
    "    'temp_max',\n",
    "    'temp_mean',\n",
    "    'sapsii',\n",
    "    'sofa',\n",
    "    'urine_min',\n",
    "    'urine_mean',\n",
    "    'urine_max',\n",
    "    'elixhauser_vanwalraven',\n",
    "    'elixhauser_sid29',\n",
    "    'elixhauser_sid30',\n",
    "    'meanbp_min',\n",
    "    'meanbp_max',\n",
    "    'meanbp_mean',\n",
    "    'spo2_min',\n",
    "    'spo2_max',\n",
    "    'spo2_mean',\n",
    "    'vent',\n",
    "    'rrt',\n",
    "    'urineoutput',\n",
    "    'icustay_age_group',\n",
    "    'oasis',\n",
    "    'lods',\n",
    "    'sirs',\n",
    "    'admission_type',\n",
    "    'admission_location',\n",
    "    'ethnicity',\n",
    "    'diagnosis',\n",
    "    'age_mv',\n",
    "    'urea_n_min_mv',\n",
    "    'urea_n_max_mv',\n",
    "    'urea_n_mean_mv',\n",
    "    'platelets_min_mv',\n",
    "    'platelets_max_mv',\n",
    "    'platelets_mean_mv',\n",
    "    'magnesium_max_mv',\n",
    "    'albumin_min_mv',\n",
    "    'calcium_min_mv',\n",
    "    'resprate_min_mv',\n",
    "    'resprate_max_mv',\n",
    "    'resprate_mean_mv',\n",
    "    'glucose_min_mv',\n",
    "    'glucose_max_mv',\n",
    "    'glucose_mean_mv',\n",
    "    'hr_min_mv',\n",
    "    'hr_max_mv',\n",
    "    'hr_mean_mv',\n",
    "    'sysbp_min_mv',\n",
    "    'sysbp_max_mv',\n",
    "    'sysbp_mean_mv',\n",
    "    'diasbp_min_mv',\n",
    "    'diasbp_max_mv',\n",
    "    'diasbp_mean_mv',\n",
    "    'temp_min_mv',\n",
    "    'temp_max_mv',\n",
    "    'temp_mean_mv',\n",
    "    'sapsii_mv',\n",
    "    'sofa_mv',\n",
    "    'urine_min_mv',\n",
    "    'urine_mean_mv',\n",
    "    'urine_max_mv',\n",
    "    'elixhauser_vanwalraven_mv',\n",
    "    'elixhauser_sid29_mv',\n",
    "    'elixhauser_sid30_mv',\n",
    "    'meanbp_min_mv',\n",
    "    'meanbp_max_mv',\n",
    "    'meanbp_mean_mv',\n",
    "    'spo2_min_mv',\n",
    "    'spo2_max_mv',\n",
    "    'spo2_mean_mv',\n",
    "    'vent_mv',\n",
    "    'rrt_mv',\n",
    "    'urineoutput_mv',\n",
    "    'oasis_mv',\n",
    "    'lods_mv',\n",
    "    'sirs_mv',\n",
    "    'thirty_days',\n",
    "    'one_year',\n",
    "]"
   ]
  },
  {
   "cell_type": "code",
   "execution_count": 24,
   "metadata": {},
   "outputs": [],
   "source": [
    "data_train_30d = data_train_30d[cols_ordered]\n",
    "data_test_30d = data_test_30d[cols_ordered]\n",
    "data_train_1y = data_train_1y[cols_ordered]\n",
    "data_test_1y = data_test_1y[cols_ordered]"
   ]
  },
  {
   "cell_type": "code",
   "execution_count": 25,
   "metadata": {},
   "outputs": [],
   "source": [
    "data_train_30d.to_csv('data_pp_train_30d.csv', index=False)\n",
    "data_test_30d.to_csv('data_pp_test_30d.csv', index=False)\n",
    "data_train_1y.to_csv('data_pp_train_1y.csv', index=False)\n",
    "data_test_1y.to_csv('data_pp_test_1y.csv', index=False)"
   ]
  },
  {
   "cell_type": "code",
   "execution_count": null,
   "metadata": {},
   "outputs": [],
   "source": []
  }
 ],
 "metadata": {
  "kernelspec": {
   "display_name": "Python 3",
   "language": "python",
   "name": "python3"
  },
  "language_info": {
   "codemirror_mode": {
    "name": "ipython",
    "version": 3
   },
   "file_extension": ".py",
   "mimetype": "text/x-python",
   "name": "python",
   "nbconvert_exporter": "python",
   "pygments_lexer": "ipython3",
   "version": "3.7.3"
  }
 },
 "nbformat": 4,
 "nbformat_minor": 2
}
