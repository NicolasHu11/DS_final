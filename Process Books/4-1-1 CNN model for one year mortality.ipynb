{
 "cells": [
  {
   "cell_type": "markdown",
   "metadata": {},
   "source": [
    "# CNN for 1 Year mortality \n",
    "\n",
    "- We use two CNNs here for comparison\n",
    "- one is very simple with few layers, about one million params.\n",
    "- another one is a modified VGG16 network, about 10 million params.\n",
    "- the mordel performance is evaluated by accuracy, confusion metrics, ROC, PRC\n",
    "- `train_model` is used for indicating training or load weights"
   ]
  },
  {
   "cell_type": "code",
   "execution_count": 1,
   "metadata": {},
   "outputs": [],
   "source": [
    "import tensorflow as tf\n",
    "from tensorflow import keras\n",
    "from tensorflow.keras.models import Sequential\n",
    "from tensorflow.keras.layers import Dense, Dropout, Activation, Flatten\n",
    "from tensorflow.keras.layers import Conv1D, MaxPooling1D, ZeroPadding1D, Convolution1D\n",
    "import os"
   ]
  },
  {
   "cell_type": "code",
   "execution_count": 2,
   "metadata": {},
   "outputs": [],
   "source": [
    "# Import libraries\n",
    "\n",
    "import numpy as np\n",
    "import pandas as pd\n",
    "import matplotlib.pyplot as plt\n",
    "import seaborn as sns; sns.set()\n",
    "from sklearn import metrics\n",
    "sns.set_style('whitegrid')\n",
    "sns.set_palette('Set2')\n",
    "# %matplotlib inline"
   ]
  },
  {
   "cell_type": "markdown",
   "metadata": {},
   "source": [
    "#  A simple CNN \n",
    "\n",
    "\n",
    "- [reference](https://keras.io/examples/cifar10_cnn/)\n",
    "\n",
    "\n",
    "- loss: binary_crossentropy\n",
    "- optimizer: adam\n",
    "- metrics: accuracy\n",
    "- learning rate : 0.001\n",
    "- batch size: 64\n",
    "- epochs: 14/30\n",
    "- callbacks: earlystoopping(patient 3, restore to best weights).\n"
   ]
  },
  {
   "cell_type": "code",
   "execution_count": 3,
   "metadata": {},
   "outputs": [],
   "source": [
    "train_model = True\n",
    "batch_size = 63\n",
    "num_classes = 2\n",
    "epochs = 30\n",
    "\n",
    "save_dir = os.path.join(os.getcwd(), 'saved_models')\n",
    "model_name = 'keras_trained_model_one_year.h5'"
   ]
  },
  {
   "cell_type": "code",
   "execution_count": 4,
   "metadata": {},
   "outputs": [],
   "source": [
    "# data =pd.read_csv('data_pre_processed.csv')\n",
    "testing_data = pd.read_csv('data_pp_test_1y.csv')\n",
    "training_data=  pd.read_csv('data_pp_train_1y.csv')\n",
    "data = training_data"
   ]
  },
  {
   "cell_type": "code",
   "execution_count": 5,
   "metadata": {},
   "outputs": [
    {
     "name": "stdout",
     "output_type": "stream",
     "text": [
      "Total data shape is  (38857, 108)\n"
     ]
    },
    {
     "data": {
      "text/html": [
       "<div>\n",
       "<style scoped>\n",
       "    .dataframe tbody tr th:only-of-type {\n",
       "        vertical-align: middle;\n",
       "    }\n",
       "\n",
       "    .dataframe tbody tr th {\n",
       "        vertical-align: top;\n",
       "    }\n",
       "\n",
       "    .dataframe thead th {\n",
       "        text-align: right;\n",
       "    }\n",
       "</style>\n",
       "<table border=\"1\" class=\"dataframe\">\n",
       "  <thead>\n",
       "    <tr style=\"text-align: right;\">\n",
       "      <th></th>\n",
       "      <th>first_careunit</th>\n",
       "      <th>last_careunit</th>\n",
       "      <th>age</th>\n",
       "      <th>gender</th>\n",
       "      <th>marital_status</th>\n",
       "      <th>insurance</th>\n",
       "      <th>urea_n_min</th>\n",
       "      <th>urea_n_max</th>\n",
       "      <th>urea_n_mean</th>\n",
       "      <th>platelets_min</th>\n",
       "      <th>...</th>\n",
       "      <th>spo2_max_mv</th>\n",
       "      <th>spo2_mean_mv</th>\n",
       "      <th>vent_mv</th>\n",
       "      <th>rrt_mv</th>\n",
       "      <th>urineoutput_mv</th>\n",
       "      <th>oasis_mv</th>\n",
       "      <th>lods_mv</th>\n",
       "      <th>sirs_mv</th>\n",
       "      <th>thirty_days</th>\n",
       "      <th>one_year</th>\n",
       "    </tr>\n",
       "  </thead>\n",
       "  <tbody>\n",
       "    <tr>\n",
       "      <th>0</th>\n",
       "      <td>0.358226</td>\n",
       "      <td>-0.375558</td>\n",
       "      <td>-0.091698</td>\n",
       "      <td>-1.125040</td>\n",
       "      <td>0.002484</td>\n",
       "      <td>0.721077</td>\n",
       "      <td>0.336293</td>\n",
       "      <td>0.533833</td>\n",
       "      <td>0.568295</td>\n",
       "      <td>-0.307287</td>\n",
       "      <td>...</td>\n",
       "      <td>0.0</td>\n",
       "      <td>0.0</td>\n",
       "      <td>0.0</td>\n",
       "      <td>0.0</td>\n",
       "      <td>0.0</td>\n",
       "      <td>0.0</td>\n",
       "      <td>0.0</td>\n",
       "      <td>0.0</td>\n",
       "      <td>0.0</td>\n",
       "      <td>0.0</td>\n",
       "    </tr>\n",
       "    <tr>\n",
       "      <th>1</th>\n",
       "      <td>1.058760</td>\n",
       "      <td>1.040694</td>\n",
       "      <td>-0.138448</td>\n",
       "      <td>-1.125040</td>\n",
       "      <td>-0.795334</td>\n",
       "      <td>0.721077</td>\n",
       "      <td>1.458096</td>\n",
       "      <td>0.982380</td>\n",
       "      <td>1.364434</td>\n",
       "      <td>-0.617702</td>\n",
       "      <td>...</td>\n",
       "      <td>0.0</td>\n",
       "      <td>0.0</td>\n",
       "      <td>0.0</td>\n",
       "      <td>0.0</td>\n",
       "      <td>0.0</td>\n",
       "      <td>0.0</td>\n",
       "      <td>0.0</td>\n",
       "      <td>0.0</td>\n",
       "      <td>0.0</td>\n",
       "      <td>0.0</td>\n",
       "    </tr>\n",
       "    <tr>\n",
       "      <th>2</th>\n",
       "      <td>0.358226</td>\n",
       "      <td>-0.375558</td>\n",
       "      <td>4.139580</td>\n",
       "      <td>-1.125040</td>\n",
       "      <td>-0.795334</td>\n",
       "      <td>0.721077</td>\n",
       "      <td>-0.411576</td>\n",
       "      <td>-0.523458</td>\n",
       "      <td>-0.401365</td>\n",
       "      <td>-1.206421</td>\n",
       "      <td>...</td>\n",
       "      <td>0.0</td>\n",
       "      <td>0.0</td>\n",
       "      <td>0.0</td>\n",
       "      <td>0.0</td>\n",
       "      <td>0.0</td>\n",
       "      <td>0.0</td>\n",
       "      <td>0.0</td>\n",
       "      <td>0.0</td>\n",
       "      <td>0.0</td>\n",
       "      <td>0.0</td>\n",
       "    </tr>\n",
       "    <tr>\n",
       "      <th>3</th>\n",
       "      <td>1.058760</td>\n",
       "      <td>1.040694</td>\n",
       "      <td>0.115679</td>\n",
       "      <td>-1.125040</td>\n",
       "      <td>-0.795334</td>\n",
       "      <td>0.721077</td>\n",
       "      <td>0.261506</td>\n",
       "      <td>-0.395301</td>\n",
       "      <td>-0.145096</td>\n",
       "      <td>2.058292</td>\n",
       "      <td>...</td>\n",
       "      <td>0.0</td>\n",
       "      <td>0.0</td>\n",
       "      <td>0.0</td>\n",
       "      <td>0.0</td>\n",
       "      <td>0.0</td>\n",
       "      <td>0.0</td>\n",
       "      <td>0.0</td>\n",
       "      <td>0.0</td>\n",
       "      <td>0.0</td>\n",
       "      <td>0.0</td>\n",
       "    </tr>\n",
       "    <tr>\n",
       "      <th>4</th>\n",
       "      <td>0.358226</td>\n",
       "      <td>-0.375558</td>\n",
       "      <td>-0.268887</td>\n",
       "      <td>0.888858</td>\n",
       "      <td>0.800302</td>\n",
       "      <td>-0.508846</td>\n",
       "      <td>0.111932</td>\n",
       "      <td>-0.299184</td>\n",
       "      <td>-0.088050</td>\n",
       "      <td>-1.067269</td>\n",
       "      <td>...</td>\n",
       "      <td>0.0</td>\n",
       "      <td>0.0</td>\n",
       "      <td>0.0</td>\n",
       "      <td>0.0</td>\n",
       "      <td>0.0</td>\n",
       "      <td>0.0</td>\n",
       "      <td>0.0</td>\n",
       "      <td>0.0</td>\n",
       "      <td>0.0</td>\n",
       "      <td>0.0</td>\n",
       "    </tr>\n",
       "  </tbody>\n",
       "</table>\n",
       "<p>5 rows × 108 columns</p>\n",
       "</div>"
      ],
      "text/plain": [
       "   first_careunit  last_careunit       age    gender  marital_status  \\\n",
       "0        0.358226      -0.375558 -0.091698 -1.125040        0.002484   \n",
       "1        1.058760       1.040694 -0.138448 -1.125040       -0.795334   \n",
       "2        0.358226      -0.375558  4.139580 -1.125040       -0.795334   \n",
       "3        1.058760       1.040694  0.115679 -1.125040       -0.795334   \n",
       "4        0.358226      -0.375558 -0.268887  0.888858        0.800302   \n",
       "\n",
       "   insurance  urea_n_min  urea_n_max  urea_n_mean  platelets_min  ...  \\\n",
       "0   0.721077    0.336293    0.533833     0.568295      -0.307287  ...   \n",
       "1   0.721077    1.458096    0.982380     1.364434      -0.617702  ...   \n",
       "2   0.721077   -0.411576   -0.523458    -0.401365      -1.206421  ...   \n",
       "3   0.721077    0.261506   -0.395301    -0.145096       2.058292  ...   \n",
       "4  -0.508846    0.111932   -0.299184    -0.088050      -1.067269  ...   \n",
       "\n",
       "   spo2_max_mv  spo2_mean_mv  vent_mv  rrt_mv  urineoutput_mv  oasis_mv  \\\n",
       "0          0.0           0.0      0.0     0.0             0.0       0.0   \n",
       "1          0.0           0.0      0.0     0.0             0.0       0.0   \n",
       "2          0.0           0.0      0.0     0.0             0.0       0.0   \n",
       "3          0.0           0.0      0.0     0.0             0.0       0.0   \n",
       "4          0.0           0.0      0.0     0.0             0.0       0.0   \n",
       "\n",
       "   lods_mv  sirs_mv  thirty_days  one_year  \n",
       "0      0.0      0.0          0.0       0.0  \n",
       "1      0.0      0.0          0.0       0.0  \n",
       "2      0.0      0.0          0.0       0.0  \n",
       "3      0.0      0.0          0.0       0.0  \n",
       "4      0.0      0.0          0.0       0.0  \n",
       "\n",
       "[5 rows x 108 columns]"
      ]
     },
     "execution_count": 5,
     "metadata": {},
     "output_type": "execute_result"
    }
   ],
   "source": [
    "print('Total data shape is ', data.shape)\n",
    "data.head()"
   ]
  },
  {
   "cell_type": "code",
   "execution_count": 6,
   "metadata": {},
   "outputs": [
    {
     "name": "stdout",
     "output_type": "stream",
     "text": [
      "X_train shape: (31085, 106)\n",
      "31085 train samples\n",
      "7772 validation samples\n",
      "19139 test samples\n"
     ]
    }
   ],
   "source": [
    "columns = list(data.columns)\n",
    "\n",
    "X = training_data[columns[0:-2]].astype(np.float32) # fetures\n",
    "y = training_data[columns[-1]].astype(np.float32)  # one year\n",
    "\n",
    "from sklearn.model_selection import train_test_split\n",
    "X_train, X_val, y_train, y_val = train_test_split(\n",
    "    X, y, test_size=0.2, random_state=42)\n",
    "\n",
    "\n",
    "X_test = testing_data[columns[0:-2]].astype(np.float32) # fetures\n",
    "y_test = testing_data[columns[-1]].astype(np.float32)  # one year \n",
    "\n",
    "print('X_train shape:', X_train.shape)\n",
    "print(X_train.shape[0], 'train samples')\n",
    "print(X_val.shape[0], 'validation samples')\n",
    "print(X_test.shape[0], 'test samples')"
   ]
  },
  {
   "cell_type": "code",
   "execution_count": 7,
   "metadata": {},
   "outputs": [],
   "source": [
    "# # Convert class vectors to binary class matrices.\n",
    "# y_train = keras.utils.to_categorical(y_train, num_classes)\n",
    "# y_test = keras.utils.to_categorical(y_test, num_classes)"
   ]
  },
  {
   "cell_type": "code",
   "execution_count": 8,
   "metadata": {},
   "outputs": [
    {
     "name": "stdout",
     "output_type": "stream",
     "text": [
      "WARNING:tensorflow:From C:\\Users\\64877\\Anaconda3\\envs\\MS_fianl_GPU\\lib\\site-packages\\tensorflow\\python\\ops\\resource_variable_ops.py:435: colocate_with (from tensorflow.python.framework.ops) is deprecated and will be removed in a future version.\n",
      "Instructions for updating:\n",
      "Colocations handled automatically by placer.\n",
      "WARNING:tensorflow:From C:\\Users\\64877\\Anaconda3\\envs\\MS_fianl_GPU\\lib\\site-packages\\tensorflow\\python\\keras\\layers\\core.py:143: calling dropout (from tensorflow.python.ops.nn_ops) with keep_prob is deprecated and will be removed in a future version.\n",
      "Instructions for updating:\n",
      "Please use `rate` instead of `keep_prob`. Rate should be set to `rate = 1 - keep_prob`.\n"
     ]
    }
   ],
   "source": [
    "model = Sequential()\n",
    "model.add(Conv1D(32, 3, padding='same', input_shape=[X_train.shape[1],1]))\n",
    "model.add(Activation('relu'))\n",
    "model.add(Conv1D(32, 3))\n",
    "model.add(Activation('relu'))\n",
    "model.add(MaxPooling1D(pool_size=2))\n",
    "model.add(Dropout(0.25))\n",
    "\n",
    "model.add(Conv1D(64, 3, padding='same'))\n",
    "model.add(Activation('relu'))\n",
    "model.add(Conv1D(64, 3))\n",
    "model.add(Activation('relu'))\n",
    "model.add(MaxPooling1D(pool_size=2))\n",
    "model.add(Dropout(0.25))\n",
    "\n",
    "model.add(Flatten())\n",
    "model.add(Dense(512))\n",
    "model.add(Activation('relu'))\n",
    "model.add(Dropout(0.5))\n",
    "model.add(Dense(128))\n",
    "model.add(Activation('relu'))\n",
    "model.add(Dropout(0.5))\n",
    "# model.add(Dense(num_classes))\n",
    "# model.add(Activation('softmax'))\n",
    "model.add(Dense(1, activation='sigmoid'))"
   ]
  },
  {
   "cell_type": "code",
   "execution_count": 9,
   "metadata": {},
   "outputs": [
    {
     "name": "stdout",
     "output_type": "stream",
     "text": [
      "_________________________________________________________________\n",
      "Layer (type)                 Output Shape              Param #   \n",
      "=================================================================\n",
      "conv1d (Conv1D)              (None, 106, 32)           128       \n",
      "_________________________________________________________________\n",
      "activation (Activation)      (None, 106, 32)           0         \n",
      "_________________________________________________________________\n",
      "conv1d_1 (Conv1D)            (None, 104, 32)           3104      \n",
      "_________________________________________________________________\n",
      "activation_1 (Activation)    (None, 104, 32)           0         \n",
      "_________________________________________________________________\n",
      "max_pooling1d (MaxPooling1D) (None, 52, 32)            0         \n",
      "_________________________________________________________________\n",
      "dropout (Dropout)            (None, 52, 32)            0         \n",
      "_________________________________________________________________\n",
      "conv1d_2 (Conv1D)            (None, 52, 64)            6208      \n",
      "_________________________________________________________________\n",
      "activation_2 (Activation)    (None, 52, 64)            0         \n",
      "_________________________________________________________________\n",
      "conv1d_3 (Conv1D)            (None, 50, 64)            12352     \n",
      "_________________________________________________________________\n",
      "activation_3 (Activation)    (None, 50, 64)            0         \n",
      "_________________________________________________________________\n",
      "max_pooling1d_1 (MaxPooling1 (None, 25, 64)            0         \n",
      "_________________________________________________________________\n",
      "dropout_1 (Dropout)          (None, 25, 64)            0         \n",
      "_________________________________________________________________\n",
      "flatten (Flatten)            (None, 1600)              0         \n",
      "_________________________________________________________________\n",
      "dense (Dense)                (None, 512)               819712    \n",
      "_________________________________________________________________\n",
      "activation_4 (Activation)    (None, 512)               0         \n",
      "_________________________________________________________________\n",
      "dropout_2 (Dropout)          (None, 512)               0         \n",
      "_________________________________________________________________\n",
      "dense_1 (Dense)              (None, 128)               65664     \n",
      "_________________________________________________________________\n",
      "activation_5 (Activation)    (None, 128)               0         \n",
      "_________________________________________________________________\n",
      "dropout_3 (Dropout)          (None, 128)               0         \n",
      "_________________________________________________________________\n",
      "dense_2 (Dense)              (None, 1)                 129       \n",
      "=================================================================\n",
      "Total params: 907,297\n",
      "Trainable params: 907,297\n",
      "Non-trainable params: 0\n",
      "_________________________________________________________________\n"
     ]
    }
   ],
   "source": [
    "# initiate RMSprop optimizer\n",
    "# opt = keras.optimizers.rmsprop(lr=0.0001, decay=1e-6)\n",
    "\n",
    "# Let's train the model using RMSprop\n",
    "model.compile(loss='binary_crossentropy',\n",
    "              optimizer='adam',\n",
    "              metrics=['accuracy'])#, km.binary_precision(), km.binary_recall()])\n",
    "\n",
    "X_train = X_train.values[..., None].astype('float32')\n",
    "X_val = X_val.values[..., None].astype('float32')\n",
    "X_test = X_test.values[..., None].astype('float32')\n",
    "model.summary()\n"
   ]
  },
  {
   "cell_type": "code",
   "execution_count": 10,
   "metadata": {},
   "outputs": [
    {
     "data": {
      "text/plain": [
       "(31085, 106, 1)"
      ]
     },
     "execution_count": 10,
     "metadata": {},
     "output_type": "execute_result"
    }
   ],
   "source": [
    "X_train.shape"
   ]
  },
  {
   "cell_type": "code",
   "execution_count": 11,
   "metadata": {},
   "outputs": [
    {
     "name": "stdout",
     "output_type": "stream",
     "text": [
      "Train on 31085 samples, validate on 7772 samples\n",
      "WARNING:tensorflow:From C:\\Users\\64877\\Anaconda3\\envs\\MS_fianl_GPU\\lib\\site-packages\\tensorflow\\python\\ops\\math_ops.py:3066: to_int32 (from tensorflow.python.ops.math_ops) is deprecated and will be removed in a future version.\n",
      "Instructions for updating:\n",
      "Use tf.cast instead.\n",
      "Epoch 1/30\n",
      "31085/31085 [==============================] - 9s 298us/sample - loss: 0.5001 - acc: 0.7559 - val_loss: 0.4560 - val_acc: 0.7822\n",
      "Epoch 2/30\n",
      "31085/31085 [==============================] - 6s 205us/sample - loss: 0.4625 - acc: 0.7769 - val_loss: 0.4387 - val_acc: 0.7931\n",
      "Epoch 3/30\n",
      "31085/31085 [==============================] - 6s 200us/sample - loss: 0.4469 - acc: 0.7855 - val_loss: 0.4292 - val_acc: 0.8017\n",
      "Epoch 4/30\n",
      "31085/31085 [==============================] - 5s 145us/sample - loss: 0.4349 - acc: 0.7956 - val_loss: 0.4305 - val_acc: 0.7921\n",
      "Epoch 5/30\n",
      "31085/31085 [==============================] - 5s 166us/sample - loss: 0.4191 - acc: 0.8031 - val_loss: 0.4039 - val_acc: 0.8138\n",
      "Epoch 6/30\n",
      "31085/31085 [==============================] - 5s 173us/sample - loss: 0.4106 - acc: 0.8135 - val_loss: 0.3998 - val_acc: 0.8172\n",
      "Epoch 7/30\n",
      "31085/31085 [==============================] - 5s 150us/sample - loss: 0.3959 - acc: 0.8197 - val_loss: 0.3860 - val_acc: 0.8269\n",
      "Epoch 8/30\n",
      "31085/31085 [==============================] - 5s 151us/sample - loss: 0.3877 - acc: 0.8259 - val_loss: 0.3861 - val_acc: 0.8290\n",
      "Epoch 9/30\n",
      "31085/31085 [==============================] - 5s 152us/sample - loss: 0.3755 - acc: 0.8278 - val_loss: 0.3677 - val_acc: 0.8393\n",
      "Epoch 10/30\n",
      "31085/31085 [==============================] - 5s 150us/sample - loss: 0.3692 - acc: 0.8358 - val_loss: 0.3641 - val_acc: 0.8439\n",
      "Epoch 11/30\n",
      "31085/31085 [==============================] - 5s 151us/sample - loss: 0.3591 - acc: 0.8424 - val_loss: 0.3568 - val_acc: 0.8464\n",
      "Epoch 12/30\n",
      "31085/31085 [==============================] - 5s 151us/sample - loss: 0.3506 - acc: 0.8464 - val_loss: 0.3563 - val_acc: 0.8487\n",
      "Epoch 13/30\n",
      "31085/31085 [==============================] - 5s 150us/sample - loss: 0.3387 - acc: 0.8498 - val_loss: 0.3429 - val_acc: 0.8501\n",
      "Epoch 14/30\n",
      "31085/31085 [==============================] - 5s 153us/sample - loss: 0.3312 - acc: 0.8572 - val_loss: 0.3430 - val_acc: 0.8523\n",
      "Epoch 15/30\n",
      "31085/31085 [==============================] - 5s 152us/sample - loss: 0.3276 - acc: 0.8565 - val_loss: 0.3445 - val_acc: 0.8514\n",
      "Epoch 16/30\n",
      "31085/31085 [==============================] - 5s 152us/sample - loss: 0.3152 - acc: 0.8629 - val_loss: 0.3405 - val_acc: 0.8523\n",
      "Epoch 17/30\n",
      "31085/31085 [==============================] - 5s 151us/sample - loss: 0.3096 - acc: 0.8672 - val_loss: 0.3304 - val_acc: 0.8607\n",
      "Epoch 18/30\n",
      "31085/31085 [==============================] - 5s 150us/sample - loss: 0.3023 - acc: 0.8679 - val_loss: 0.3353 - val_acc: 0.8578\n",
      "Epoch 19/30\n",
      "31085/31085 [==============================] - 5s 151us/sample - loss: 0.2940 - acc: 0.8744 - val_loss: 0.3261 - val_acc: 0.8635\n",
      "Epoch 20/30\n",
      "31085/31085 [==============================] - 5s 149us/sample - loss: 0.2874 - acc: 0.8770 - val_loss: 0.3284 - val_acc: 0.8640\n",
      "Epoch 21/30\n",
      "31085/31085 [==============================] - 5s 150us/sample - loss: 0.2845 - acc: 0.8791 - val_loss: 0.3263 - val_acc: 0.8670\n",
      "Epoch 22/30\n",
      "31085/31085 [==============================] - 5s 165us/sample - loss: 0.2802 - acc: 0.8807 - val_loss: 0.3220 - val_acc: 0.8644\n",
      "Epoch 23/30\n",
      "31085/31085 [==============================] - 6s 179us/sample - loss: 0.2760 - acc: 0.8820 - val_loss: 0.3275 - val_acc: 0.8648\n",
      "Epoch 24/30\n",
      "31085/31085 [==============================] - 6s 179us/sample - loss: 0.2674 - acc: 0.8853 - val_loss: 0.3232 - val_acc: 0.8653\n",
      "Epoch 25/30\n",
      "31085/31085 [==============================] - 8s 263us/sample - loss: 0.2622 - acc: 0.8894 - val_loss: 0.3285 - val_acc: 0.8686\n",
      "Saved trained model at C:\\Users\\64877\\Repositories\\DS590 Final Project\\DS_final\\Process Books\\saved_models\\keras_trained_model_one_year.h5 \n"
     ]
    }
   ],
   "source": [
    "if train_model:\n",
    "    hist = model.fit(X_train, y_train,\n",
    "              batch_size=64,\n",
    "              epochs=30,\n",
    "              verbose = 1,\n",
    "              validation_data=(X_val, y_val),\n",
    "              shuffle=True,\n",
    "                callbacks= [keras.callbacks.EarlyStopping(patience=3, restore_best_weights=True)] )\n",
    "    \n",
    "    # Save model and weights\n",
    "    if not os.path.isdir(save_dir):\n",
    "        os.makedirs(save_dir)\n",
    "    model_path = os.path.join(save_dir, 'keras_trained_model_one_year.h5')\n",
    "    model.save(model_path)\n",
    "    print('Saved trained model at %s ' % model_path)\n",
    "\n",
    "else:\n",
    "    # load weights \n",
    "    filepath = './saved_models/keras_trained_model_one_year.h5'\n",
    "    model.load_weights(filepath, by_name=False)\n"
   ]
  },
  {
   "cell_type": "markdown",
   "metadata": {},
   "source": [
    "# Metrics"
   ]
  },
  {
   "cell_type": "code",
   "execution_count": 12,
   "metadata": {},
   "outputs": [],
   "source": [
    "def probability_to_label(probabilities, threshold=0.5):\n",
    "    probabilities = list(probabilities)\n",
    "    th = threshold\n",
    "    predictions = [1 if i > th else 0 for i in probabilities]\n",
    "    return predictions"
   ]
  },
  {
   "cell_type": "code",
   "execution_count": 13,
   "metadata": {},
   "outputs": [],
   "source": [
    "def plot_cm(y_true, y_pred,\n",
    "                          title='Confusion Matrix',\n",
    "                          cmap=plt.cm.Blues):\n",
    "    sns.set_style('white')\n",
    "    \n",
    "    cm = metrics.confusion_matrix(y_test, y_pred)\n",
    "    cm = cm.astype('float') / cm.sum(axis=1)[:, np.newaxis] # normarlize \n",
    "    \n",
    "    from sklearn.utils.multiclass import unique_labels\n",
    "    classes = unique_labels(y_true, y_pred)\n",
    "    \n",
    "    fig, ax = plt.subplots()\n",
    "    im = ax.imshow(cm, interpolation='nearest', cmap=cmap)\n",
    "    ax.figure.colorbar(im, ax=ax)\n",
    "    # We want to show all ticks...\n",
    "    ax.set(xticks=np.arange(cm.shape[1]),\n",
    "           yticks=np.arange(cm.shape[0]),\n",
    "           # ... and label them with the respective list entries\n",
    "           xticklabels=classes, yticklabels=classes,\n",
    "           title=title,\n",
    "           ylabel='True label',\n",
    "           xlabel='Predicted label')\n",
    "\n",
    "    # Rotate the tick labels and set their alignment.\n",
    "    plt.setp(ax.get_xticklabels(), rotation=45, ha=\"right\",\n",
    "             rotation_mode=\"anchor\")\n",
    "    # Loop over data dimensions and create text annotations.\n",
    "    fmt = '.2f' \n",
    "    thresh = cm.max() / 2.\n",
    "    for i in range(cm.shape[0]):\n",
    "        for j in range(cm.shape[1]):\n",
    "            ax.text(j, i, format(cm[i, j], fmt),\n",
    "                    ha=\"center\", va=\"center\",\n",
    "                    color=\"white\" if cm[i, j] > thresh else \"black\")\n",
    "    fig.tight_layout()\n",
    "    \n",
    "    pass"
   ]
  },
  {
   "cell_type": "code",
   "execution_count": 14,
   "metadata": {},
   "outputs": [],
   "source": [
    "def plot_ROC(fpr, tpr, auc, title = 'ROC curve'):\n",
    "    sns.set_style('whitegrid')\n",
    "\n",
    "#     plt.figure(figsize=(8,6))\n",
    "    plt.plot([0, 1], [0, 1], 'k--')\n",
    "    plt.plot(fpr, tpr, label=' (AUC = {:.3f})'.format(auc))\n",
    "    plt.xlabel('False positive rate')\n",
    "    plt.ylabel('True positive rate')\n",
    "    plt.title(title)\n",
    "    plt.legend(loc='best')\n",
    "    plt.show()\n",
    "    pass"
   ]
  },
  {
   "cell_type": "code",
   "execution_count": 15,
   "metadata": {},
   "outputs": [],
   "source": [
    "def plot_PRC(precision, recall, ap, title= 'Precision-Recall Curve '):\n",
    "    sns.set_style('whitegrid')\n",
    "\n",
    "    plt.figure\n",
    "#     plot(result5_1[0], result5_1[1],linestyle = \"-\", color = 'C0')#,label = 'AUC = %0.2f' % result5_1[3])\n",
    "    plt.plot(recall, precision, lw=2, label='AP = %0.4f' % ap )\n",
    "    plt.xlabel('Recall')\n",
    "    plt.ylabel('Precision')\n",
    "    plt.title(title)\n",
    "    plt.legend(loc=\"best\")\n",
    "#     plt.show()\n",
    "    return "
   ]
  },
  {
   "cell_type": "code",
   "execution_count": 16,
   "metadata": {
    "scrolled": true
   },
   "outputs": [
    {
     "name": "stdout",
     "output_type": "stream",
     "text": [
      "19139/19139 [==============================] - 3s 136us/sample - loss: 0.3197 - acc: 0.8631\n",
      "Test loss: 0.31974363259115096\n",
      "Test accuracy: 0.8630545\n"
     ]
    }
   ],
   "source": [
    "\n",
    "# Score trained model.\n",
    "scores = model.evaluate(X_test, y_test, verbose=1)\n",
    "print('Test loss:', scores[0])\n",
    "print('Test accuracy:', scores[1])"
   ]
  },
  {
   "cell_type": "code",
   "execution_count": 17,
   "metadata": {},
   "outputs": [
    {
     "data": {
      "text/plain": [
       "0.9248704984402445"
      ]
     },
     "execution_count": 17,
     "metadata": {},
     "output_type": "execute_result"
    }
   ],
   "source": [
    "y_score = model.predict(X_test)\n",
    "fpr, tpr, thresholds = metrics.roc_curve(y_test, y_score)\n",
    "auc = metrics.auc(fpr, tpr)\n",
    "auc"
   ]
  },
  {
   "cell_type": "code",
   "execution_count": 18,
   "metadata": {},
   "outputs": [
    {
     "data": {
      "image/png": "[encoded data removed]",
      "text/plain": [
       "<Figure size 432x288 with 1 Axes>"
      ]
     },
     "metadata": {},
     "output_type": "display_data"
    }
   ],
   "source": [
    "plot_ROC(fpr, tpr, auc, title = 'ROC curve for simple CNN, 1 year')"
   ]
  },
  {
   "cell_type": "code",
   "execution_count": 19,
   "metadata": {},
   "outputs": [
    {
     "data": {
      "image/png": "[encoded data removed]",
      "text/plain": [
       "<Figure size 432x288 with 2 Axes>"
      ]
     },
     "metadata": {},
     "output_type": "display_data"
    }
   ],
   "source": [
    "y_pred = probability_to_label(y_score, threshold=0.5)\n",
    "plot_cm(y_test, y_pred)"
   ]
  },
  {
   "cell_type": "code",
   "execution_count": 20,
   "metadata": {},
   "outputs": [
    {
     "name": "stdout",
     "output_type": "stream",
     "text": [
      "Average precision-recall score: 0.89\n"
     ]
    }
   ],
   "source": [
    "average_precision = metrics.average_precision_score(y_test, y_score)\n",
    "print('Average precision-recall score: {0:0.2f}'.format(\n",
    "      average_precision))"
   ]
  },
  {
   "cell_type": "code",
   "execution_count": 21,
   "metadata": {
    "scrolled": true
   },
   "outputs": [
    {
     "data": {
      "image/png": "[encoded data removed]",
      "text/plain": [
       "<Figure size 432x288 with 1 Axes>"
      ]
     },
     "metadata": {},
     "output_type": "display_data"
    }
   ],
   "source": [
    "precision, recall, _ = metrics.precision_recall_curve(y_test, y_score)\n",
    "plot_PRC(precision, recall, average_precision)"
   ]
  },
  {
   "cell_type": "code",
   "execution_count": 22,
   "metadata": {},
   "outputs": [
    {
     "name": "stdout",
     "output_type": "stream",
     "text": [
      "The F1 score is  0.7807611877875367\n"
     ]
    }
   ],
   "source": [
    "print('The F1 score is ', metrics.f1_score(y_test, y_pred))"
   ]
  },
  {
   "cell_type": "code",
   "execution_count": null,
   "metadata": {},
   "outputs": [],
   "source": []
  },
  {
   "cell_type": "code",
   "execution_count": null,
   "metadata": {},
   "outputs": [],
   "source": []
  },
  {
   "cell_type": "markdown",
   "metadata": {},
   "source": [
    "# Modified VGG16\n",
    "[reference](https://gist.github.com/baraldilorenzo/07d7802847aaad0a35d3)\n",
    "\n",
    "- loss: binary_crossentropy\n",
    "- optimizer: adam\n",
    "- metrics: accuracy\n",
    "- learning rate : 0.001\n",
    "- batch size: 512\n",
    "- epochs: 13/30\n",
    "- callbacks: earlystoopping(patient 3, restore to best weights)."
   ]
  },
  {
   "cell_type": "code",
   "execution_count": 23,
   "metadata": {},
   "outputs": [],
   "source": [
    "model = Sequential()\n",
    "model.add(ZeroPadding1D(1,input_shape=[X_train.shape[1],1]))\n",
    "model.add(Convolution1D(64, 3, activation='relu'))\n",
    "model.add(ZeroPadding1D(1))\n",
    "model.add(Convolution1D(64, 3, activation='relu'))\n",
    "model.add(MaxPooling1D(2, strides=2))\n",
    "\n",
    "model.add(ZeroPadding1D(1))\n",
    "model.add(Convolution1D(128, 3, activation='relu'))\n",
    "model.add(ZeroPadding1D(1))\n",
    "model.add(Convolution1D(128, 3, activation='relu'))\n",
    "model.add(MaxPooling1D(2, strides=2))\n",
    "\n",
    "model.add(ZeroPadding1D(1))\n",
    "model.add(Convolution1D(256, 3, activation='relu'))\n",
    "model.add(ZeroPadding1D(1))\n",
    "model.add(Convolution1D(256, 3, activation='relu'))\n",
    "model.add(ZeroPadding1D(1))\n",
    "model.add(Convolution1D(256, 3, activation='relu'))\n",
    "model.add(MaxPooling1D(2, strides=2))\n",
    "\n",
    "model.add(ZeroPadding1D(1))\n",
    "model.add(Convolution1D(512, 3, activation='relu'))\n",
    "model.add(ZeroPadding1D(1))\n",
    "model.add(Convolution1D(512, 3, activation='relu'))\n",
    "model.add(ZeroPadding1D(1))\n",
    "model.add(Convolution1D(512, 3, activation='relu'))\n",
    "model.add(MaxPooling1D(2, strides=2))\n",
    "\n",
    "model.add(Flatten())\n",
    "model.add(Dense(2048, activation='relu'))\n",
    "model.add(Dropout(0.5))\n",
    "model.add(Dense(1024, activation='relu'))\n",
    "model.add(Dropout(0.5))\n",
    "# model.add(Dense(num_classes, activation='softmax'))\n",
    "model.add(Dense(1, activation='sigmoid'))\n",
    "\n"
   ]
  },
  {
   "cell_type": "code",
   "execution_count": 24,
   "metadata": {
    "scrolled": true
   },
   "outputs": [
    {
     "name": "stdout",
     "output_type": "stream",
     "text": [
      "_________________________________________________________________\n",
      "Layer (type)                 Output Shape              Param #   \n",
      "=================================================================\n",
      "zero_padding1d (ZeroPadding1 (None, 108, 1)            0         \n",
      "_________________________________________________________________\n",
      "conv1d_4 (Conv1D)            (None, 106, 64)           256       \n",
      "_________________________________________________________________\n",
      "zero_padding1d_1 (ZeroPaddin (None, 108, 64)           0         \n",
      "_________________________________________________________________\n",
      "conv1d_5 (Conv1D)            (None, 106, 64)           12352     \n",
      "_________________________________________________________________\n",
      "max_pooling1d_2 (MaxPooling1 (None, 53, 64)            0         \n",
      "_________________________________________________________________\n",
      "zero_padding1d_2 (ZeroPaddin (None, 55, 64)            0         \n",
      "_________________________________________________________________\n",
      "conv1d_6 (Conv1D)            (None, 53, 128)           24704     \n",
      "_________________________________________________________________\n",
      "zero_padding1d_3 (ZeroPaddin (None, 55, 128)           0         \n",
      "_________________________________________________________________\n",
      "conv1d_7 (Conv1D)            (None, 53, 128)           49280     \n",
      "_________________________________________________________________\n",
      "max_pooling1d_3 (MaxPooling1 (None, 26, 128)           0         \n",
      "_________________________________________________________________\n",
      "zero_padding1d_4 (ZeroPaddin (None, 28, 128)           0         \n",
      "_________________________________________________________________\n",
      "conv1d_8 (Conv1D)            (None, 26, 256)           98560     \n",
      "_________________________________________________________________\n",
      "zero_padding1d_5 (ZeroPaddin (None, 28, 256)           0         \n",
      "_________________________________________________________________\n",
      "conv1d_9 (Conv1D)            (None, 26, 256)           196864    \n",
      "_________________________________________________________________\n",
      "zero_padding1d_6 (ZeroPaddin (None, 28, 256)           0         \n",
      "_________________________________________________________________\n",
      "conv1d_10 (Conv1D)           (None, 26, 256)           196864    \n",
      "_________________________________________________________________\n",
      "max_pooling1d_4 (MaxPooling1 (None, 13, 256)           0         \n",
      "_________________________________________________________________\n",
      "zero_padding1d_7 (ZeroPaddin (None, 15, 256)           0         \n",
      "_________________________________________________________________\n",
      "conv1d_11 (Conv1D)           (None, 13, 512)           393728    \n",
      "_________________________________________________________________\n",
      "zero_padding1d_8 (ZeroPaddin (None, 15, 512)           0         \n",
      "_________________________________________________________________\n",
      "conv1d_12 (Conv1D)           (None, 13, 512)           786944    \n",
      "_________________________________________________________________\n",
      "zero_padding1d_9 (ZeroPaddin (None, 15, 512)           0         \n",
      "_________________________________________________________________\n",
      "conv1d_13 (Conv1D)           (None, 13, 512)           786944    \n",
      "_________________________________________________________________\n",
      "max_pooling1d_5 (MaxPooling1 (None, 6, 512)            0         \n",
      "_________________________________________________________________\n",
      "flatten_1 (Flatten)          (None, 3072)              0         \n",
      "_________________________________________________________________\n",
      "dense_3 (Dense)              (None, 2048)              6293504   \n",
      "_________________________________________________________________\n",
      "dropout_4 (Dropout)          (None, 2048)              0         \n",
      "_________________________________________________________________\n",
      "dense_4 (Dense)              (None, 1024)              2098176   \n",
      "_________________________________________________________________\n",
      "dropout_5 (Dropout)          (None, 1024)              0         \n",
      "_________________________________________________________________\n",
      "dense_5 (Dense)              (None, 1)                 1025      \n",
      "=================================================================\n",
      "Total params: 10,939,201\n",
      "Trainable params: 10,939,201\n",
      "Non-trainable params: 0\n",
      "_________________________________________________________________\n"
     ]
    }
   ],
   "source": [
    "model.compile(loss='binary_crossentropy',\n",
    "              optimizer='adam',\n",
    "              metrics=['accuracy'] )\n",
    "model.summary()"
   ]
  },
  {
   "cell_type": "code",
   "execution_count": 25,
   "metadata": {},
   "outputs": [
    {
     "name": "stdout",
     "output_type": "stream",
     "text": [
      "Train on 31085 samples, validate on 7772 samples\n",
      "Epoch 1/30\n",
      "31085/31085 [==============================] - 26s 825us/sample - loss: 0.5318 - acc: 0.7343 - val_loss: 0.4671 - val_acc: 0.7728\n",
      "Epoch 2/30\n",
      "31085/31085 [==============================] - 23s 741us/sample - loss: 0.4546 - acc: 0.7796 - val_loss: 0.4325 - val_acc: 0.7931\n",
      "Epoch 3/30\n",
      "31085/31085 [==============================] - 26s 842us/sample - loss: 0.4223 - acc: 0.8007 - val_loss: 0.4179 - val_acc: 0.8029\n",
      "Epoch 4/30\n",
      "31085/31085 [==============================] - 26s 842us/sample - loss: 0.4024 - acc: 0.8171 - val_loss: 0.4037 - val_acc: 0.8159\n",
      "Epoch 5/30\n",
      "31085/31085 [==============================] - 25s 790us/sample - loss: 0.3795 - acc: 0.8318 - val_loss: 0.3959 - val_acc: 0.8320\n",
      "Epoch 6/30\n",
      "31085/31085 [==============================] - 25s 792us/sample - loss: 0.3528 - acc: 0.8458 - val_loss: 0.3856 - val_acc: 0.8335\n",
      "Epoch 7/30\n",
      "31085/31085 [==============================] - 24s 786us/sample - loss: 0.3354 - acc: 0.8563 - val_loss: 0.3796 - val_acc: 0.8387\n",
      "Epoch 8/30\n",
      "31085/31085 [==============================] - 25s 796us/sample - loss: 0.3126 - acc: 0.8658 - val_loss: 0.3857 - val_acc: 0.8430\n",
      "Epoch 9/30\n",
      "31085/31085 [==============================] - 25s 792us/sample - loss: 0.2850 - acc: 0.8819 - val_loss: 0.3970 - val_acc: 0.8362\n",
      "Epoch 10/30\n",
      "31085/31085 [==============================] - 25s 801us/sample - loss: 0.2633 - acc: 0.8913 - val_loss: 0.3972 - val_acc: 0.8451\n",
      "Saved trained model at C:\\Users\\64877\\Repositories\\DS590 Final Project\\DS_final\\Process Books\\saved_models\\Modified_VGG_one_year.h5 \n"
     ]
    }
   ],
   "source": [
    "if train_model:\n",
    "    hist = model.fit(X_train, y_train,\n",
    "              batch_size=64,\n",
    "              epochs=30,\n",
    "              verbose = 1,\n",
    "              validation_data=(X_val, y_val),\n",
    "              shuffle=True,\n",
    "                callbacks= [keras.callbacks.EarlyStopping(patience=3, restore_best_weights=True)] )\n",
    "    # Save model and weights\n",
    "    if not os.path.isdir(save_dir):\n",
    "        os.makedirs(save_dir)\n",
    "    model_path = os.path.join(save_dir, 'Modified_VGG_one_year.h5')\n",
    "    model.save(model_path)\n",
    "    print('Saved trained model at %s ' % model_path)\n",
    "else:\n",
    "    # load weights \n",
    "    filepath = './saved_models/Modified_VGG_one_year.h5'\n",
    "    model.load_weights(filepath, by_name=False)\n"
   ]
  },
  {
   "cell_type": "code",
   "execution_count": 26,
   "metadata": {
    "scrolled": true
   },
   "outputs": [
    {
     "name": "stdout",
     "output_type": "stream",
     "text": [
      "19139/19139 [==============================] - 5s 236us/sample - loss: 0.3833 - acc: 0.8346\n",
      "Test loss: 0.3832609715005688\n",
      "Test accuracy: 0.83463085\n"
     ]
    }
   ],
   "source": [
    "\n",
    "\n",
    "# Score trained model.\n",
    "scores = model.evaluate(X_test, y_test, verbose=1)\n",
    "print('Test loss:', scores[0])\n",
    "print('Test accuracy:', scores[1])"
   ]
  },
  {
   "cell_type": "code",
   "execution_count": 27,
   "metadata": {},
   "outputs": [
    {
     "data": {
      "text/plain": [
       "0.8951866707093226"
      ]
     },
     "execution_count": 27,
     "metadata": {},
     "output_type": "execute_result"
    }
   ],
   "source": [
    "y_score = model.predict(X_test)\n",
    "fpr, tpr, thresholds = metrics.roc_curve(y_test, y_score)\n",
    "auc = metrics.auc(fpr, tpr)\n",
    "auc"
   ]
  },
  {
   "cell_type": "code",
   "execution_count": 28,
   "metadata": {},
   "outputs": [
    {
     "data": {
      "image/png": "[encoded data removed]",
      "text/plain": [
       "<Figure size 432x288 with 1 Axes>"
      ]
     },
     "metadata": {},
     "output_type": "display_data"
    }
   ],
   "source": [
    "plot_ROC(fpr, tpr, auc, title = 'ROC curve for simple CNN, 1 year')"
   ]
  },
  {
   "cell_type": "code",
   "execution_count": 29,
   "metadata": {},
   "outputs": [
    {
     "data": {
      "image/png": "[encoded data removed]",
      "text/plain": [
       "<Figure size 432x288 with 2 Axes>"
      ]
     },
     "metadata": {},
     "output_type": "display_data"
    }
   ],
   "source": [
    "y_pred = probability_to_label(y_score, threshold=0.5)\n",
    "plot_cm(y_test, y_pred)"
   ]
  },
  {
   "cell_type": "code",
   "execution_count": 30,
   "metadata": {},
   "outputs": [
    {
     "name": "stdout",
     "output_type": "stream",
     "text": [
      "Average precision-recall score: 0.84\n"
     ]
    }
   ],
   "source": [
    "average_precision = metrics.average_precision_score(y_test, y_score)\n",
    "print('Average precision-recall score: {0:0.2f}'.format(\n",
    "      average_precision))"
   ]
  },
  {
   "cell_type": "code",
   "execution_count": 31,
   "metadata": {
    "scrolled": true
   },
   "outputs": [
    {
     "data": {
      "image/png": "[encoded data removed]",
      "text/plain": [
       "<Figure size 432x288 with 1 Axes>"
      ]
     },
     "metadata": {},
     "output_type": "display_data"
    }
   ],
   "source": [
    "precision, recall, _ = metrics.precision_recall_curve(y_test, y_score)\n",
    "plot_PRC(precision, recall, average_precision)"
   ]
  },
  {
   "cell_type": "code",
   "execution_count": 32,
   "metadata": {},
   "outputs": [
    {
     "name": "stdout",
     "output_type": "stream",
     "text": [
      "The F1 score is  0.744572673714793\n"
     ]
    }
   ],
   "source": [
    "print('The F1 score is ', metrics.f1_score(y_test, y_pred))"
   ]
  },
  {
   "cell_type": "code",
   "execution_count": null,
   "metadata": {},
   "outputs": [],
   "source": []
  },
  {
   "cell_type": "code",
   "execution_count": null,
   "metadata": {},
   "outputs": [],
   "source": []
  },
  {
   "cell_type": "code",
   "execution_count": null,
   "metadata": {},
   "outputs": [],
   "source": []
  }
 ],
 "metadata": {
  "kernelspec": {
   "display_name": "Python 3",
   "language": "python",
   "name": "python3"
  },
  "language_info": {
   "codemirror_mode": {
    "name": "ipython",
    "version": 3
   },
   "file_extension": ".py",
   "mimetype": "text/x-python",
   "name": "python",
   "nbconvert_exporter": "python",
   "pygments_lexer": "ipython3",
   "version": "3.7.3"
  }
 },
 "nbformat": 4,
 "nbformat_minor": 2
}
