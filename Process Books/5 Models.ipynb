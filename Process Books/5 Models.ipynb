{
 "cells": [
  {
   "cell_type": "code",
   "execution_count": 97,
   "metadata": {},
   "outputs": [],
   "source": [
    "import pandas as pd\n",
    "import numpy as np\n",
    "import matplotlib.pyplot as plt\n",
    "from datetime import datetime\n",
    "import time\n",
    "from sklearn.naive_bayes import GaussianNB, ComplementNB\n",
    "from scipy import stats\n",
    "from sklearn.model_selection import train_test_split\n",
    "from sklearn.neighbors import KNeighborsRegressor\n",
    "from sklearn.metrics import mean_squared_error\n",
    "from sklearn.model_selection import GridSearchCV, StratifiedKFold\n",
    "from sklearn.metrics import classification_report, confusion_matrix, precision_score, recall_score, roc_curve, auc\n",
    "%matplotlib inline\n"
   ]
  },
  {
   "cell_type": "markdown",
   "metadata": {},
   "source": [
    "## Load Data"
   ]
  },
  {
   "cell_type": "code",
   "execution_count": 106,
   "metadata": {},
   "outputs": [],
   "source": [
    "data = pd.read_csv('data_pre_processed.csv')"
   ]
  },
  {
   "cell_type": "code",
   "execution_count": null,
   "metadata": {},
   "outputs": [],
   "source": [
    "test_set = pd.read_csv(?)"
   ]
  },
  {
   "cell_type": "code",
   "execution_count": 75,
   "metadata": {},
   "outputs": [],
   "source": [
    "newdata = data.copy()\n",
    "for i in newdata.columns:\n",
    "    newdata[i] = newdata[i]+(newdata[i].min()*-1)"
   ]
  },
  {
   "cell_type": "code",
   "execution_count": 127,
   "metadata": {},
   "outputs": [
    {
     "data": {
      "text/plain": [
       "(57996, 112)"
      ]
     },
     "execution_count": 127,
     "metadata": {},
     "output_type": "execute_result"
    }
   ],
   "source": [
    "newdata.shape"
   ]
  },
  {
   "cell_type": "markdown",
   "metadata": {},
   "source": [
    "# K-Fold Cross-Validation*"
   ]
  },
  {
   "cell_type": "code",
   "execution_count": 98,
   "metadata": {},
   "outputs": [],
   "source": [
    "K = 5\n",
    "skf = StratifiedKFold(n_splits=K)"
   ]
  },
  {
   "cell_type": "markdown",
   "metadata": {},
   "source": [
    "# Naive Bayes"
   ]
  },
  {
   "cell_type": "markdown",
   "metadata": {},
   "source": [
    "### Generate Gaussian Model and Fit Data"
   ]
  },
  {
   "cell_type": "code",
   "execution_count": 234,
   "metadata": {},
   "outputs": [],
   "source": [
    "def get_weights(y):\n",
    "    weight = y.value_counts().values/y.value_counts().sum()\n",
    "    index = y.value_counts().index\n",
    "    y = y.values\n",
    "    for i in range(index.size):\n",
    "        y = np.where(y==index[i],weight[i],y)\n",
    "    return y"
   ]
  },
  {
   "cell_type": "code",
   "execution_count": 235,
   "metadata": {},
   "outputs": [
    {
     "name": "stdout",
     "output_type": "stream",
     "text": [
      "[0.8685344827586207, 0.8584360720751789, 0.8715406500560393, 0.8572290714716786, 0.7114406414346064]\n",
      "[0.847986207874476, 0.8622459409328052, 0.8649481733111808, 0.864398548076717, 0.8577815026873206]\n"
     ]
    },
    {
     "data": {
      "image/png": "[encoded data removed]",
      "text/plain": [
       "<Figure size 432x288 with 1 Axes>"
      ]
     },
     "metadata": {
      "needs_background": "light"
     },
     "output_type": "display_data"
    }
   ],
   "source": [
    "NBmodel30 = GaussianNB()\n",
    "NBmodel1yr = GaussianNB()\n",
    "X = data.drop(['thirty_days','one_year'],axis=1)\n",
    "y30 = data[['thirty_days']].astype(int)\n",
    "y1yr = data[['one_year']].astype(int)\n",
    "# 30 days\n",
    "Galpha = 1e-6\n",
    "acc30 = [] \n",
    "auc30 = []\n",
    "for t_in,v_in in skf.split(X,y30):\n",
    "    Galpha = Galpha/10.0\n",
    "    trainX = X.iloc[t_in].values\n",
    "    trainy = y30.iloc[t_in]\n",
    "    valX = X.iloc[v_in].values\n",
    "    valy = y30.iloc[v_in]\n",
    "    model = GaussianNB(var_smoothing=Galpha)\n",
    "    model.fit(trainX,trainy.values.ravel(),get_weights(trainy.thirty_days))\n",
    "    out = model.predict_proba(valX)\n",
    "    fpr, tpr, thresholds = roc_curve(valy,out[:,1])\n",
    "    roc_auc = auc(fpr, tpr)\n",
    "    auc30.append(roc_auc)\n",
    "    acc30.append(model.score(valX,valy.values.ravel()))\n",
    "    plt.plot(fpr,tpr)\n",
    "print(acc30)\n",
    "print(auc30)\n",
    "plt.show()"
   ]
  },
  {
   "cell_type": "code",
   "execution_count": 240,
   "metadata": {},
   "outputs": [
    {
     "name": "stdout",
     "output_type": "stream",
     "text": [
      "0.8585555749455216\n",
      "0.8594541961220418\n"
     ]
    },
    {
     "data": {
      "image/png": "[encoded data removed]",
      "text/plain": [
       "<Figure size 432x288 with 1 Axes>"
      ]
     },
     "metadata": {
      "needs_background": "light"
     },
     "output_type": "display_data"
    }
   ],
   "source": [
    "true_acc30 = [] \n",
    "true_auc30 = []\n",
    "for t_in,v_in in skf.split(X,y30):\n",
    "    Galpha = 1e-8\n",
    "    trainX = X.iloc[t_in].values\n",
    "    trainy = y30.iloc[t_in]\n",
    "    valX = X.iloc[v_in].values\n",
    "    valy = y30.iloc[v_in]\n",
    "    model = GaussianNB(var_smoothing=Galpha)\n",
    "    model.fit(trainX,trainy.values.ravel(),get_weights(trainy.thirty_days))\n",
    "    out = model.predict_proba(valX)\n",
    "    fpr, tpr, thresholds = roc_curve(valy,out[:,1])\n",
    "    roc_auc = auc(fpr, tpr)\n",
    "    auc30.append(roc_auc)\n",
    "    acc30.append(model.score(valX,valy.values.ravel()))\n",
    "    plt.plot(fpr,tpr)\n",
    "print(np.mean(acc30))\n",
    "print(np.mean(auc30))\n",
    "plt.show()"
   ]
  },
  {
   "cell_type": "markdown",
   "metadata": {},
   "source": [
    "### Generate Complement Model and Fit Data"
   ]
  },
  {
   "cell_type": "code",
   "execution_count": 94,
   "metadata": {},
   "outputs": [
    {
     "data": {
      "text/plain": [
       "ComplementNB(alpha=3, class_prior=None, fit_prior=True, norm=False)"
      ]
     },
     "execution_count": 94,
     "metadata": {},
     "output_type": "execute_result"
    }
   ],
   "source": [
    "NBCmodel30 = ComplementNB(alpha = 3)\n",
    "NBCmodel1yr = ComplementNB(alpha= 3)\n",
    "NBCmodel30.fit(X_train,y_30day_train)\n",
    "NBCmodel1yr.fit(X_train,y_1yr_train)"
   ]
  },
  {
   "cell_type": "markdown",
   "metadata": {},
   "source": [
    "### Test Performance"
   ]
  },
  {
   "cell_type": "code",
   "execution_count": 95,
   "metadata": {},
   "outputs": [
    {
     "name": "stdout",
     "output_type": "stream",
     "text": [
      "0.756896551724138\n",
      "0.7424137931034482\n"
     ]
    }
   ],
   "source": [
    "print(NBmodel30.score(X_test,y_30day_test))\n",
    "print(NBmodel1yr.score(X_test,y_1yr_test))"
   ]
  },
  {
   "cell_type": "code",
   "execution_count": 96,
   "metadata": {},
   "outputs": [
    {
     "name": "stdout",
     "output_type": "stream",
     "text": [
      "0.7757758620689655\n",
      "0.7311206896551724\n"
     ]
    }
   ],
   "source": [
    "print(NBCmodel30.score(X_test,y_30day_test))\n",
    "print(NBCmodel1yr.score(X_test,y_1yr_test))"
   ]
  },
  {
   "cell_type": "code",
   "execution_count": 111,
   "metadata": {},
   "outputs": [
    {
     "data": {
      "text/plain": [
       "array([[1.00000000e+00, 2.82296731e-16],\n",
       "       [9.74888813e-01, 2.51111871e-02],\n",
       "       [1.00000000e+00, 3.73147843e-20],\n",
       "       ...,\n",
       "       [1.00000000e+00, 1.01875828e-11],\n",
       "       [9.99998681e-01, 1.31912373e-06],\n",
       "       [4.68841937e-03, 9.95311581e-01]])"
      ]
     },
     "execution_count": 111,
     "metadata": {},
     "output_type": "execute_result"
    }
   ],
   "source": [
    "NBmodel30.predict_proba(X_test)"
   ]
  },
  {
   "cell_type": "markdown",
   "metadata": {},
   "source": [
    "# kNN"
   ]
  },
  {
   "cell_type": "markdown",
   "metadata": {},
   "source": [
    "### Generate Model and Fit Data"
   ]
  },
  {
   "cell_type": "code",
   "execution_count": 112,
   "metadata": {},
   "outputs": [
    {
     "data": {
      "text/plain": [
       "KNeighborsRegressor(algorithm='auto', leaf_size=30, metric='minkowski',\n",
       "          metric_params=None, n_jobs=None, n_neighbors=5, p=2,\n",
       "          weights='uniform')"
      ]
     },
     "execution_count": 112,
     "metadata": {},
     "output_type": "execute_result"
    }
   ],
   "source": [
    "KNmodel30 = KNeighborsRegressor()\n",
    "KNmodel1yr =  KNeighborsRegressor()\n",
    "KNmodel1yr.fit(X_train,y_1yr_train)\n",
    "KNmodel30.fit(X_train,y_30day_train)"
   ]
  },
  {
   "cell_type": "markdown",
   "metadata": {},
   "source": [
    "### Test Performance"
   ]
  },
  {
   "cell_type": "code",
   "execution_count": 89,
   "metadata": {},
   "outputs": [],
   "source": [
    "output = KNmodel30.predict_proba(X_test)"
   ]
  },
  {
   "cell_type": "code",
   "execution_count": 103,
   "metadata": {},
   "outputs": [
    {
     "data": {
      "text/plain": [
       "0.0    8828\n",
       "0.2    1175\n",
       "1.0     634\n",
       "0.4     429\n",
       "0.6     322\n",
       "0.8     212\n",
       "Name: 1, dtype: int64"
      ]
     },
     "execution_count": 103,
     "metadata": {},
     "output_type": "execute_result"
    }
   ],
   "source": [
    "pd.DataFrame(output)[1].value_counts()"
   ]
  },
  {
   "cell_type": "code",
   "execution_count": 78,
   "metadata": {},
   "outputs": [
    {
     "data": {
      "text/plain": [
       "0.9216379310344828"
      ]
     },
     "execution_count": 78,
     "metadata": {},
     "output_type": "execute_result"
    }
   ],
   "source": [
    "KNmodel30.score(X_test,y_30day_test)"
   ]
  },
  {
   "cell_type": "code",
   "execution_count": 79,
   "metadata": {},
   "outputs": [
    {
     "data": {
      "text/plain": [
       "0.8496551724137931"
      ]
     },
     "execution_count": 79,
     "metadata": {},
     "output_type": "execute_result"
    }
   ],
   "source": [
    "KNmodel1yr.score(X_test,y_1yr_test)"
   ]
  },
  {
   "cell_type": "markdown",
   "metadata": {},
   "source": [
    "# XGboost"
   ]
  },
  {
   "cell_type": "code",
   "execution_count": 252,
   "metadata": {},
   "outputs": [],
   "source": [
    "import xgboost as xgb\n",
    "from xgboost import XGBClassifier\n",
    "from sklearn.metrics import accuracy_score"
   ]
  },
  {
   "cell_type": "code",
   "execution_count": 256,
   "metadata": {},
   "outputs": [],
   "source": [
    "xg = XGBClassifier(verbosity=2)"
   ]
  },
  {
   "cell_type": "code",
   "execution_count": null,
   "metadata": {},
   "outputs": [],
   "source": [
    "xgacc = []\n",
    "xgauc = []\n",
    "for t_in,v_in in skf.split(X,y30):\n",
    "    trainX = X.iloc[t_in].values\n",
    "    trainy = y30.iloc[t_in]\n",
    "    valX = X.iloc[v_in].values\n",
    "    valy = y30.iloc[v_in]\n",
    "    xg.fit(trainX,trainy.values.ravel(),get_weights(trainy.thirty_days))\n",
    "    xgout = xg.predict(valX)\n",
    "    accuracy = accuracy_score(valy.values.ravel(), xgout)\n",
    "#     fpr, tpr, thresholds = roc_curve(valy.values.ravel(),xgout)\n",
    "#     roc_auc = auc(fpr, tpr)\n",
    "#     xgauc.append(roc_auc)\n",
    "#     xgacc.append(accuracy_score(valy.values.ravel(), xgout))\n",
    "#     plt.plot(fpr,tpr)\n",
    "    "
   ]
  },
  {
   "cell_type": "code",
   "execution_count": null,
   "metadata": {},
   "outputs": [],
   "source": []
  },
  {
   "cell_type": "code",
   "execution_count": null,
   "metadata": {},
   "outputs": [],
   "source": []
  },
  {
   "cell_type": "code",
   "execution_count": null,
   "metadata": {},
   "outputs": [],
   "source": []
  },
  {
   "cell_type": "code",
   "execution_count": null,
   "metadata": {},
   "outputs": [],
   "source": []
  },
  {
   "cell_type": "code",
   "execution_count": null,
   "metadata": {},
   "outputs": [],
   "source": []
  },
  {
   "cell_type": "code",
   "execution_count": null,
   "metadata": {},
   "outputs": [],
   "source": []
  },
  {
   "cell_type": "code",
   "execution_count": null,
   "metadata": {},
   "outputs": [],
   "source": []
  },
  {
   "cell_type": "code",
   "execution_count": null,
   "metadata": {},
   "outputs": [],
   "source": []
  },
  {
   "cell_type": "code",
   "execution_count": null,
   "metadata": {},
   "outputs": [],
   "source": []
  },
  {
   "cell_type": "code",
   "execution_count": null,
   "metadata": {},
   "outputs": [],
   "source": []
  }
 ],
 "metadata": {
  "kernelspec": {
   "display_name": "Python 3",
   "language": "python",
   "name": "python3"
  },
  "language_info": {
   "codemirror_mode": {
    "name": "ipython",
    "version": 3
   },
   "file_extension": ".py",
   "mimetype": "text/x-python",
   "name": "python",
   "nbconvert_exporter": "python",
   "pygments_lexer": "ipython3",
   "version": "3.6.7"
  }
 },
 "nbformat": 4,
 "nbformat_minor": 2
}
