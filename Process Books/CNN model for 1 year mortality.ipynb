{
 "cells": [
  {
   "cell_type": "markdown",
   "metadata": {},
   "source": [
    "#  A simple deep CNN\n",
    "[reference](https://keras.io/examples/cifar10_cnn/)"
   ]
  },
  {
   "cell_type": "code",
   "execution_count": 1,
   "metadata": {},
   "outputs": [],
   "source": [
    "import tensorflow as tf\n",
    "from tensorflow import keras\n",
    "from tensorflow.keras.datasets import cifar10\n",
    "from tensorflow.keras.preprocessing.image import ImageDataGenerator\n",
    "from tensorflow.keras.models import Sequential\n",
    "from tensorflow.keras.layers import Dense, Dropout, Activation, Flatten\n",
    "from tensorflow.keras.layers import Conv1D, MaxPooling1D, ZeroPadding1D, Convolution1D\n",
    "import os"
   ]
  },
  {
   "cell_type": "code",
   "execution_count": 2,
   "metadata": {},
   "outputs": [],
   "source": [
    "# Import libraries\n",
    "import numpy as np\n",
    "import pandas as pd\n",
    "import matplotlib.pyplot as plt\n",
    "import seaborn as sns; sns.set()\n",
    "sns.set_style('whitegrid')\n",
    "sns.set_palette('Set2')\n",
    "# %matplotlib inline\n",
    "plt.rcParams.update({'figure.titlesize': 'larger', 'legend.fontsize': 15.0})"
   ]
  },
  {
   "cell_type": "code",
   "execution_count": 3,
   "metadata": {},
   "outputs": [],
   "source": [
    "batch_size = 32\n",
    "num_classes = 2\n",
    "epochs = 10\n",
    "data_augmentation = True\n",
    "# num_predictions = 20\n",
    "save_dir = os.path.join(os.getcwd(), 'saved_models')\n",
    "model_name = 'keras_trained_model_one_year.h5'"
   ]
  },
  {
   "cell_type": "code",
   "execution_count": 4,
   "metadata": {},
   "outputs": [],
   "source": [
    "data =pd.read_csv('data_pre_processed.csv')"
   ]
  },
  {
   "cell_type": "code",
   "execution_count": 5,
   "metadata": {},
   "outputs": [
    {
     "name": "stdout",
     "output_type": "stream",
     "text": [
      "Total data shape is  (57996, 112)\n"
     ]
    },
    {
     "data": {
      "text/html": [
       "<div>\n",
       "<style scoped>\n",
       "    .dataframe tbody tr th:only-of-type {\n",
       "        vertical-align: middle;\n",
       "    }\n",
       "\n",
       "    .dataframe tbody tr th {\n",
       "        vertical-align: top;\n",
       "    }\n",
       "\n",
       "    .dataframe thead th {\n",
       "        text-align: right;\n",
       "    }\n",
       "</style>\n",
       "<table border=\"1\" class=\"dataframe\">\n",
       "  <thead>\n",
       "    <tr style=\"text-align: right;\">\n",
       "      <th></th>\n",
       "      <th>first_careunit</th>\n",
       "      <th>last_careunit</th>\n",
       "      <th>age</th>\n",
       "      <th>age_category</th>\n",
       "      <th>gender</th>\n",
       "      <th>marital_status</th>\n",
       "      <th>insurance</th>\n",
       "      <th>urea_n_min</th>\n",
       "      <th>urea_n_max</th>\n",
       "      <th>urea_n_mean</th>\n",
       "      <th>...</th>\n",
       "      <th>spo2_max_mv</th>\n",
       "      <th>spo2_mean_mv</th>\n",
       "      <th>vent_mv</th>\n",
       "      <th>rrt_mv</th>\n",
       "      <th>urineoutput_mv</th>\n",
       "      <th>oasis_mv</th>\n",
       "      <th>lods_mv</th>\n",
       "      <th>sirs_mv</th>\n",
       "      <th>thirty_days</th>\n",
       "      <th>one_year</th>\n",
       "    </tr>\n",
       "  </thead>\n",
       "  <tbody>\n",
       "    <tr>\n",
       "      <th>0</th>\n",
       "      <td>1.062189</td>\n",
       "      <td>1.042783</td>\n",
       "      <td>0.020618</td>\n",
       "      <td>7.0</td>\n",
       "      <td>0.889068</td>\n",
       "      <td>0.801375</td>\n",
       "      <td>0.722122</td>\n",
       "      <td>-0.110132</td>\n",
       "      <td>0.345616</td>\n",
       "      <td>0.042146</td>\n",
       "      <td>...</td>\n",
       "      <td>0.0</td>\n",
       "      <td>0.0</td>\n",
       "      <td>0.0</td>\n",
       "      <td>0.0</td>\n",
       "      <td>0.0</td>\n",
       "      <td>0.0</td>\n",
       "      <td>0.0</td>\n",
       "      <td>0.0</td>\n",
       "      <td>0.0</td>\n",
       "      <td>1.0</td>\n",
       "    </tr>\n",
       "    <tr>\n",
       "      <th>1</th>\n",
       "      <td>-0.338382</td>\n",
       "      <td>0.334179</td>\n",
       "      <td>-0.175699</td>\n",
       "      <td>6.0</td>\n",
       "      <td>-1.124773</td>\n",
       "      <td>0.801375</td>\n",
       "      <td>0.722122</td>\n",
       "      <td>-0.035009</td>\n",
       "      <td>1.564791</td>\n",
       "      <td>1.406861</td>\n",
       "      <td>...</td>\n",
       "      <td>0.0</td>\n",
       "      <td>0.0</td>\n",
       "      <td>0.0</td>\n",
       "      <td>0.0</td>\n",
       "      <td>0.0</td>\n",
       "      <td>0.0</td>\n",
       "      <td>0.0</td>\n",
       "      <td>0.0</td>\n",
       "      <td>0.0</td>\n",
       "      <td>0.0</td>\n",
       "    </tr>\n",
       "    <tr>\n",
       "      <th>2</th>\n",
       "      <td>1.062189</td>\n",
       "      <td>1.042783</td>\n",
       "      <td>-0.623562</td>\n",
       "      <td>4.0</td>\n",
       "      <td>0.889068</td>\n",
       "      <td>-2.394261</td>\n",
       "      <td>-1.738451</td>\n",
       "      <td>-0.035009</td>\n",
       "      <td>-0.296056</td>\n",
       "      <td>-0.244412</td>\n",
       "      <td>...</td>\n",
       "      <td>0.0</td>\n",
       "      <td>0.0</td>\n",
       "      <td>0.0</td>\n",
       "      <td>0.0</td>\n",
       "      <td>0.0</td>\n",
       "      <td>0.0</td>\n",
       "      <td>0.0</td>\n",
       "      <td>0.0</td>\n",
       "      <td>1.0</td>\n",
       "      <td>1.0</td>\n",
       "    </tr>\n",
       "    <tr>\n",
       "      <th>3</th>\n",
       "      <td>-0.338382</td>\n",
       "      <td>0.334179</td>\n",
       "      <td>-0.056425</td>\n",
       "      <td>7.0</td>\n",
       "      <td>0.889068</td>\n",
       "      <td>0.801375</td>\n",
       "      <td>0.722122</td>\n",
       "      <td>0.866469</td>\n",
       "      <td>-0.039387</td>\n",
       "      <td>0.257946</td>\n",
       "      <td>...</td>\n",
       "      <td>0.0</td>\n",
       "      <td>0.0</td>\n",
       "      <td>0.0</td>\n",
       "      <td>0.0</td>\n",
       "      <td>0.0</td>\n",
       "      <td>0.0</td>\n",
       "      <td>0.0</td>\n",
       "      <td>0.0</td>\n",
       "      <td>1.0</td>\n",
       "      <td>1.0</td>\n",
       "    </tr>\n",
       "    <tr>\n",
       "      <th>4</th>\n",
       "      <td>-1.038668</td>\n",
       "      <td>-0.374426</td>\n",
       "      <td>-0.659244</td>\n",
       "      <td>3.0</td>\n",
       "      <td>-1.124773</td>\n",
       "      <td>-2.394261</td>\n",
       "      <td>-1.738451</td>\n",
       "      <td>-0.260378</td>\n",
       "      <td>-0.648975</td>\n",
       "      <td>-0.588887</td>\n",
       "      <td>...</td>\n",
       "      <td>0.0</td>\n",
       "      <td>0.0</td>\n",
       "      <td>0.0</td>\n",
       "      <td>0.0</td>\n",
       "      <td>0.0</td>\n",
       "      <td>0.0</td>\n",
       "      <td>0.0</td>\n",
       "      <td>0.0</td>\n",
       "      <td>0.0</td>\n",
       "      <td>0.0</td>\n",
       "    </tr>\n",
       "  </tbody>\n",
       "</table>\n",
       "<p>5 rows × 112 columns</p>\n",
       "</div>"
      ],
      "text/plain": [
       "   first_careunit  last_careunit       age  age_category    gender  \\\n",
       "0        1.062189       1.042783  0.020618           7.0  0.889068   \n",
       "1       -0.338382       0.334179 -0.175699           6.0 -1.124773   \n",
       "2        1.062189       1.042783 -0.623562           4.0  0.889068   \n",
       "3       -0.338382       0.334179 -0.056425           7.0  0.889068   \n",
       "4       -1.038668      -0.374426 -0.659244           3.0 -1.124773   \n",
       "\n",
       "   marital_status  insurance  urea_n_min  urea_n_max  urea_n_mean  ...  \\\n",
       "0        0.801375   0.722122   -0.110132    0.345616     0.042146  ...   \n",
       "1        0.801375   0.722122   -0.035009    1.564791     1.406861  ...   \n",
       "2       -2.394261  -1.738451   -0.035009   -0.296056    -0.244412  ...   \n",
       "3        0.801375   0.722122    0.866469   -0.039387     0.257946  ...   \n",
       "4       -2.394261  -1.738451   -0.260378   -0.648975    -0.588887  ...   \n",
       "\n",
       "   spo2_max_mv  spo2_mean_mv  vent_mv  rrt_mv  urineoutput_mv  oasis_mv  \\\n",
       "0          0.0           0.0      0.0     0.0             0.0       0.0   \n",
       "1          0.0           0.0      0.0     0.0             0.0       0.0   \n",
       "2          0.0           0.0      0.0     0.0             0.0       0.0   \n",
       "3          0.0           0.0      0.0     0.0             0.0       0.0   \n",
       "4          0.0           0.0      0.0     0.0             0.0       0.0   \n",
       "\n",
       "   lods_mv  sirs_mv  thirty_days  one_year  \n",
       "0      0.0      0.0          0.0       1.0  \n",
       "1      0.0      0.0          0.0       0.0  \n",
       "2      0.0      0.0          1.0       1.0  \n",
       "3      0.0      0.0          1.0       1.0  \n",
       "4      0.0      0.0          0.0       0.0  \n",
       "\n",
       "[5 rows x 112 columns]"
      ]
     },
     "execution_count": 5,
     "metadata": {},
     "output_type": "execute_result"
    }
   ],
   "source": [
    "print('Total data shape is ', data.shape)\n",
    "data.head()"
   ]
  },
  {
   "cell_type": "code",
   "execution_count": 6,
   "metadata": {},
   "outputs": [
    {
     "name": "stdout",
     "output_type": "stream",
     "text": [
      "X_train shape: (38857, 110)\n",
      "38857 train samples\n",
      "19139 test samples\n"
     ]
    }
   ],
   "source": [
    "columns = list(data.columns)\n",
    "X = data[columns[0:-2]].astype(np.float32) # fetures\n",
    "# y = data[columns[-2]].astype(np.float32)  # 30 days \n",
    "y = data[columns[-1]].astype(np.float32)  # one year\n",
    "\n",
    "from sklearn.model_selection import train_test_split\n",
    "# The data, split between train and test sets:\n",
    "X_train, X_test, y_train, y_test = train_test_split(\n",
    "    X, y, test_size=0.33, random_state=42)\n",
    "\n",
    "print('X_train shape:', X_train.shape)\n",
    "print(X_train.shape[0], 'train samples')\n",
    "print(X_test.shape[0], 'test samples')"
   ]
  },
  {
   "cell_type": "code",
   "execution_count": 7,
   "metadata": {},
   "outputs": [
    {
     "name": "stdout",
     "output_type": "stream",
     "text": [
      "WARNING:tensorflow:From C:\\Users\\64877\\Anaconda3\\envs\\DS_final\\lib\\site-packages\\tensorflow\\python\\ops\\resource_variable_ops.py:435: colocate_with (from tensorflow.python.framework.ops) is deprecated and will be removed in a future version.\n",
      "Instructions for updating:\n",
      "Colocations handled automatically by placer.\n",
      "WARNING:tensorflow:From C:\\Users\\64877\\Anaconda3\\envs\\DS_final\\lib\\site-packages\\tensorflow\\python\\keras\\layers\\core.py:143: calling dropout (from tensorflow.python.ops.nn_ops) with keep_prob is deprecated and will be removed in a future version.\n",
      "Instructions for updating:\n",
      "Please use `rate` instead of `keep_prob`. Rate should be set to `rate = 1 - keep_prob`.\n"
     ]
    }
   ],
   "source": [
    "model = Sequential()\n",
    "model.add(Conv1D(32, 3, padding='same', input_shape=[X_train.shape[1],1]))\n",
    "model.add(Activation('relu'))\n",
    "model.add(Conv1D(32, 3))\n",
    "model.add(Activation('relu'))\n",
    "model.add(MaxPooling1D(pool_size=2))\n",
    "model.add(Dropout(0.25))\n",
    "\n",
    "model.add(Conv1D(64, 3, padding='same'))\n",
    "model.add(Activation('relu'))\n",
    "model.add(Conv1D(64, 3))\n",
    "model.add(Activation('relu'))\n",
    "model.add(MaxPooling1D(pool_size=2))\n",
    "model.add(Dropout(0.25))\n",
    "\n",
    "model.add(Flatten())\n",
    "model.add(Dense(512))\n",
    "model.add(Activation('relu'))\n",
    "model.add(Dropout(0.5))\n",
    "model.add(Dense(128))\n",
    "model.add(Activation('relu'))\n",
    "model.add(Dropout(0.5))\n",
    "# model.add(Dense(num_classes))\n",
    "# model.add(Activation('softmax'))\n",
    "model.add(Dense(1, activation='sigmoid'))"
   ]
  },
  {
   "cell_type": "code",
   "execution_count": 8,
   "metadata": {},
   "outputs": [
    {
     "name": "stdout",
     "output_type": "stream",
     "text": [
      "_________________________________________________________________\n",
      "Layer (type)                 Output Shape              Param #   \n",
      "=================================================================\n",
      "conv1d (Conv1D)              (None, 110, 32)           128       \n",
      "_________________________________________________________________\n",
      "activation (Activation)      (None, 110, 32)           0         \n",
      "_________________________________________________________________\n",
      "conv1d_1 (Conv1D)            (None, 108, 32)           3104      \n",
      "_________________________________________________________________\n",
      "activation_1 (Activation)    (None, 108, 32)           0         \n",
      "_________________________________________________________________\n",
      "max_pooling1d (MaxPooling1D) (None, 54, 32)            0         \n",
      "_________________________________________________________________\n",
      "dropout (Dropout)            (None, 54, 32)            0         \n",
      "_________________________________________________________________\n",
      "conv1d_2 (Conv1D)            (None, 54, 64)            6208      \n",
      "_________________________________________________________________\n",
      "activation_2 (Activation)    (None, 54, 64)            0         \n",
      "_________________________________________________________________\n",
      "conv1d_3 (Conv1D)            (None, 52, 64)            12352     \n",
      "_________________________________________________________________\n",
      "activation_3 (Activation)    (None, 52, 64)            0         \n",
      "_________________________________________________________________\n",
      "max_pooling1d_1 (MaxPooling1 (None, 26, 64)            0         \n",
      "_________________________________________________________________\n",
      "dropout_1 (Dropout)          (None, 26, 64)            0         \n",
      "_________________________________________________________________\n",
      "flatten (Flatten)            (None, 1664)              0         \n",
      "_________________________________________________________________\n",
      "dense (Dense)                (None, 512)               852480    \n",
      "_________________________________________________________________\n",
      "activation_4 (Activation)    (None, 512)               0         \n",
      "_________________________________________________________________\n",
      "dropout_2 (Dropout)          (None, 512)               0         \n",
      "_________________________________________________________________\n",
      "dense_1 (Dense)              (None, 128)               65664     \n",
      "_________________________________________________________________\n",
      "activation_5 (Activation)    (None, 128)               0         \n",
      "_________________________________________________________________\n",
      "dropout_3 (Dropout)          (None, 128)               0         \n",
      "_________________________________________________________________\n",
      "dense_2 (Dense)              (None, 1)                 129       \n",
      "=================================================================\n",
      "Total params: 940,065\n",
      "Trainable params: 940,065\n",
      "Non-trainable params: 0\n",
      "_________________________________________________________________\n"
     ]
    }
   ],
   "source": [
    "# initiate RMSprop optimizer\n",
    "# opt = keras.optimizers.rmsprop(lr=0.0001, decay=1e-6)\n",
    "\n",
    "# Let's train the model using RMSprop\n",
    "model.compile(loss='binary_crossentropy',\n",
    "              optimizer='adam',\n",
    "              metrics=['accuracy'])\n",
    "\n",
    "X_train = X_train.values[..., None].astype('float32')\n",
    "X_test = X_test.values[..., None].astype('float32')\n",
    "model.summary()\n"
   ]
  },
  {
   "cell_type": "code",
   "execution_count": 9,
   "metadata": {},
   "outputs": [
    {
     "data": {
      "text/plain": [
       "(38857, 110, 1)"
      ]
     },
     "execution_count": 9,
     "metadata": {},
     "output_type": "execute_result"
    }
   ],
   "source": [
    "X_train.shape"
   ]
  },
  {
   "cell_type": "code",
   "execution_count": 10,
   "metadata": {},
   "outputs": [
    {
     "name": "stdout",
     "output_type": "stream",
     "text": [
      "Train on 38857 samples, validate on 19139 samples\n",
      "WARNING:tensorflow:From C:\\Users\\64877\\Anaconda3\\envs\\DS_final\\lib\\site-packages\\tensorflow\\python\\ops\\math_ops.py:3066: to_int32 (from tensorflow.python.ops.math_ops) is deprecated and will be removed in a future version.\n",
      "Instructions for updating:\n",
      "Use tf.cast instead.\n",
      "Epoch 1/15\n",
      "38857/38857 [==============================] - 23s 589us/sample - loss: 0.4723 - acc: 0.7777 - val_loss: 0.4135 - val_acc: 0.8069\n",
      "Epoch 2/15\n",
      "38857/38857 [==============================] - 23s 581us/sample - loss: 0.4032 - acc: 0.8139 - val_loss: 0.3599 - val_acc: 0.8366\n",
      "Epoch 3/15\n",
      "38857/38857 [==============================] - 24s 613us/sample - loss: 0.3781 - acc: 0.8256 - val_loss: 0.3431 - val_acc: 0.8435\n",
      "Epoch 4/15\n",
      "38857/38857 [==============================] - 25s 652us/sample - loss: 0.3593 - acc: 0.8354 - val_loss: 0.3359 - val_acc: 0.8489\n",
      "Epoch 5/15\n",
      "38857/38857 [==============================] - 25s 649us/sample - loss: 0.3522 - acc: 0.8398 - val_loss: 0.3247 - val_acc: 0.8483\n",
      "Epoch 6/15\n",
      "38857/38857 [==============================] - 25s 653us/sample - loss: 0.3392 - acc: 0.8458 - val_loss: 0.3104 - val_acc: 0.8616\n",
      "Epoch 7/15\n",
      "38857/38857 [==============================] - 25s 654us/sample - loss: 0.3302 - acc: 0.8514 - val_loss: 0.3049 - val_acc: 0.8625\n",
      "Epoch 8/15\n",
      "38857/38857 [==============================] - 25s 652us/sample - loss: 0.3237 - acc: 0.8560 - val_loss: 0.3008 - val_acc: 0.8678\n",
      "Epoch 9/15\n",
      "38857/38857 [==============================] - 25s 654us/sample - loss: 0.3169 - acc: 0.8578 - val_loss: 0.2986 - val_acc: 0.8737\n",
      "Epoch 10/15\n",
      "38857/38857 [==============================] - 25s 644us/sample - loss: 0.3098 - acc: 0.8651 - val_loss: 0.2874 - val_acc: 0.8745\n",
      "Epoch 11/15\n",
      "38857/38857 [==============================] - 25s 649us/sample - loss: 0.3005 - acc: 0.8667 - val_loss: 0.2833 - val_acc: 0.8759\n",
      "Epoch 12/15\n",
      "38857/38857 [==============================] - 25s 645us/sample - loss: 0.2933 - acc: 0.8713 - val_loss: 0.2776 - val_acc: 0.8810\n",
      "Epoch 13/15\n",
      "38857/38857 [==============================] - 25s 648us/sample - loss: 0.2861 - acc: 0.8761 - val_loss: 0.2755 - val_acc: 0.8809\n",
      "Epoch 14/15\n",
      "38857/38857 [==============================] - 25s 641us/sample - loss: 0.2822 - acc: 0.8784 - val_loss: 0.2676 - val_acc: 0.8854\n",
      "Epoch 15/15\n",
      "38857/38857 [==============================] - 25s 654us/sample - loss: 0.2773 - acc: 0.8808 - val_loss: 0.2662 - val_acc: 0.8853\n"
     ]
    }
   ],
   "source": [
    "hist = model.fit(X_train, y_train,\n",
    "          batch_size=64,\n",
    "          epochs=15,\n",
    "          verbose = 1,\n",
    "          validation_data=(X_test, y_test),\n",
    "          shuffle=True,\n",
    "            callbacks= [keras.callbacks.EarlyStopping()] )\n"
   ]
  },
  {
   "cell_type": "code",
   "execution_count": 12,
   "metadata": {},
   "outputs": [
    {
     "name": "stdout",
     "output_type": "stream",
     "text": [
      "Saved trained model at C:\\Users\\64877\\Repositories\\DS590 Final Project\\DS_final\\Process Books\\saved_models\\keras_trained_model_one_year.h5 \n",
      "19139/19139 [==============================] - 3s 166us/sample - loss: 0.2662 - acc: 0.8853\n",
      "Test loss: 0.2662147941606297\n",
      "Test accuracy: 0.88531274\n"
     ]
    }
   ],
   "source": [
    "# Save model and weights\n",
    "if not os.path.isdir(save_dir):\n",
    "    os.makedirs(save_dir)\n",
    "model_path = os.path.join(save_dir, model_name)\n",
    "model.save(model_path)\n",
    "print('Saved trained model at %s ' % model_path)\n",
    "\n",
    "# Score trained model.\n",
    "scores = model.evaluate(X_test, y_test, verbose=1)\n",
    "print('Test loss:', scores[0])\n",
    "print('Test accuracy:', scores[1])"
   ]
  },
  {
   "cell_type": "code",
   "execution_count": null,
   "metadata": {},
   "outputs": [],
   "source": []
  },
  {
   "cell_type": "code",
   "execution_count": null,
   "metadata": {},
   "outputs": [],
   "source": []
  },
  {
   "cell_type": "code",
   "execution_count": null,
   "metadata": {},
   "outputs": [],
   "source": []
  },
  {
   "cell_type": "code",
   "execution_count": null,
   "metadata": {},
   "outputs": [],
   "source": []
  },
  {
   "cell_type": "code",
   "execution_count": null,
   "metadata": {},
   "outputs": [],
   "source": []
  },
  {
   "cell_type": "code",
   "execution_count": null,
   "metadata": {},
   "outputs": [],
   "source": []
  },
  {
   "cell_type": "code",
   "execution_count": null,
   "metadata": {},
   "outputs": [],
   "source": []
  },
  {
   "cell_type": "markdown",
   "metadata": {},
   "source": [
    "# Modified VGG16\n",
    "[reference](https://gist.github.com/baraldilorenzo/07d7802847aaad0a35d3)"
   ]
  },
  {
   "cell_type": "code",
   "execution_count": 13,
   "metadata": {},
   "outputs": [],
   "source": [
    "model = Sequential()\n",
    "model.add(ZeroPadding1D(1,input_shape=[X_train.shape[1],1]))\n",
    "model.add(Convolution1D(64, 3, activation='relu'))\n",
    "model.add(ZeroPadding1D(1))\n",
    "model.add(Convolution1D(64, 3, activation='relu'))\n",
    "model.add(MaxPooling1D(2, strides=2))\n",
    "\n",
    "model.add(ZeroPadding1D(1))\n",
    "model.add(Convolution1D(128, 3, activation='relu'))\n",
    "model.add(ZeroPadding1D(1))\n",
    "model.add(Convolution1D(128, 3, activation='relu'))\n",
    "model.add(MaxPooling1D(2, strides=2))\n",
    "\n",
    "model.add(ZeroPadding1D(1))\n",
    "model.add(Convolution1D(256, 3, activation='relu'))\n",
    "model.add(ZeroPadding1D(1))\n",
    "model.add(Convolution1D(256, 3, activation='relu'))\n",
    "model.add(ZeroPadding1D(1))\n",
    "model.add(Convolution1D(256, 3, activation='relu'))\n",
    "model.add(MaxPooling1D(2, strides=2))\n",
    "\n",
    "model.add(ZeroPadding1D(1))\n",
    "model.add(Convolution1D(512, 3, activation='relu'))\n",
    "model.add(ZeroPadding1D(1))\n",
    "model.add(Convolution1D(512, 3, activation='relu'))\n",
    "model.add(ZeroPadding1D(1))\n",
    "model.add(Convolution1D(512, 3, activation='relu'))\n",
    "model.add(MaxPooling1D(2, strides=2))\n",
    "\n",
    "model.add(Flatten())\n",
    "model.add(Dense(2048, activation='relu'))\n",
    "model.add(Dropout(0.5))\n",
    "model.add(Dense(1024, activation='relu'))\n",
    "model.add(Dropout(0.5))\n",
    "# model.add(Dense(num_classes, activation='softmax'))\n",
    "model.add(Dense(1, activation='sigmoid'))\n",
    "\n"
   ]
  },
  {
   "cell_type": "code",
   "execution_count": 14,
   "metadata": {
    "scrolled": true
   },
   "outputs": [
    {
     "name": "stdout",
     "output_type": "stream",
     "text": [
      "_________________________________________________________________\n",
      "Layer (type)                 Output Shape              Param #   \n",
      "=================================================================\n",
      "zero_padding1d (ZeroPadding1 (None, 112, 1)            0         \n",
      "_________________________________________________________________\n",
      "conv1d_4 (Conv1D)            (None, 110, 64)           256       \n",
      "_________________________________________________________________\n",
      "zero_padding1d_1 (ZeroPaddin (None, 112, 64)           0         \n",
      "_________________________________________________________________\n",
      "conv1d_5 (Conv1D)            (None, 110, 64)           12352     \n",
      "_________________________________________________________________\n",
      "max_pooling1d_2 (MaxPooling1 (None, 55, 64)            0         \n",
      "_________________________________________________________________\n",
      "zero_padding1d_2 (ZeroPaddin (None, 57, 64)            0         \n",
      "_________________________________________________________________\n",
      "conv1d_6 (Conv1D)            (None, 55, 128)           24704     \n",
      "_________________________________________________________________\n",
      "zero_padding1d_3 (ZeroPaddin (None, 57, 128)           0         \n",
      "_________________________________________________________________\n",
      "conv1d_7 (Conv1D)            (None, 55, 128)           49280     \n",
      "_________________________________________________________________\n",
      "max_pooling1d_3 (MaxPooling1 (None, 27, 128)           0         \n",
      "_________________________________________________________________\n",
      "zero_padding1d_4 (ZeroPaddin (None, 29, 128)           0         \n",
      "_________________________________________________________________\n",
      "conv1d_8 (Conv1D)            (None, 27, 256)           98560     \n",
      "_________________________________________________________________\n",
      "zero_padding1d_5 (ZeroPaddin (None, 29, 256)           0         \n",
      "_________________________________________________________________\n",
      "conv1d_9 (Conv1D)            (None, 27, 256)           196864    \n",
      "_________________________________________________________________\n",
      "zero_padding1d_6 (ZeroPaddin (None, 29, 256)           0         \n",
      "_________________________________________________________________\n",
      "conv1d_10 (Conv1D)           (None, 27, 256)           196864    \n",
      "_________________________________________________________________\n",
      "max_pooling1d_4 (MaxPooling1 (None, 13, 256)           0         \n",
      "_________________________________________________________________\n",
      "zero_padding1d_7 (ZeroPaddin (None, 15, 256)           0         \n",
      "_________________________________________________________________\n",
      "conv1d_11 (Conv1D)           (None, 13, 512)           393728    \n",
      "_________________________________________________________________\n",
      "zero_padding1d_8 (ZeroPaddin (None, 15, 512)           0         \n",
      "_________________________________________________________________\n",
      "conv1d_12 (Conv1D)           (None, 13, 512)           786944    \n",
      "_________________________________________________________________\n",
      "zero_padding1d_9 (ZeroPaddin (None, 15, 512)           0         \n",
      "_________________________________________________________________\n",
      "conv1d_13 (Conv1D)           (None, 13, 512)           786944    \n",
      "_________________________________________________________________\n",
      "max_pooling1d_5 (MaxPooling1 (None, 6, 512)            0         \n",
      "_________________________________________________________________\n",
      "flatten_1 (Flatten)          (None, 3072)              0         \n",
      "_________________________________________________________________\n",
      "dense_3 (Dense)              (None, 2048)              6293504   \n",
      "_________________________________________________________________\n",
      "dropout_4 (Dropout)          (None, 2048)              0         \n",
      "_________________________________________________________________\n",
      "dense_4 (Dense)              (None, 1024)              2098176   \n",
      "_________________________________________________________________\n",
      "dropout_5 (Dropout)          (None, 1024)              0         \n",
      "_________________________________________________________________\n",
      "dense_5 (Dense)              (None, 1)                 1025      \n",
      "=================================================================\n",
      "Total params: 10,939,201\n",
      "Trainable params: 10,939,201\n",
      "Non-trainable params: 0\n",
      "_________________________________________________________________\n"
     ]
    }
   ],
   "source": [
    "model.compile(loss='binary_crossentropy',\n",
    "              optimizer='adam',\n",
    "              metrics=['accuracy'])\n",
    "model.summary()"
   ]
  },
  {
   "cell_type": "code",
   "execution_count": null,
   "metadata": {},
   "outputs": [],
   "source": [
    "# load weights \n",
    "# filepath = './saved_models/Modified_VGG_one_year.h5'\n",
    "# model.load_weights(filepath, by_name=False)"
   ]
  },
  {
   "cell_type": "code",
   "execution_count": 16,
   "metadata": {},
   "outputs": [
    {
     "name": "stdout",
     "output_type": "stream",
     "text": [
      "Train on 38857 samples, validate on 19139 samples\n",
      "Epoch 1/5\n",
      "38857/38857 [==============================] - 256s 7ms/sample - loss: 0.4368 - acc: 0.7963 - val_loss: 0.4131 - val_acc: 0.8156\n",
      "Epoch 2/5\n",
      "38857/38857 [==============================] - 240s 6ms/sample - loss: 0.3781 - acc: 0.8308 - val_loss: 0.3539 - val_acc: 0.8369\n",
      "Epoch 3/5\n",
      "38857/38857 [==============================] - 244s 6ms/sample - loss: 0.3301 - acc: 0.8557 - val_loss: 0.3301 - val_acc: 0.8580\n",
      "Epoch 4/5\n",
      "38857/38857 [==============================] - 255s 7ms/sample - loss: 0.3068 - acc: 0.8674 - val_loss: 0.3200 - val_acc: 0.8645\n",
      "Epoch 5/5\n",
      "38857/38857 [==============================] - 258s 7ms/sample - loss: 0.2904 - acc: 0.8771 - val_loss: 0.3056 - val_acc: 0.8712\n"
     ]
    }
   ],
   "source": [
    "hist = model.fit(X_train, y_train,\n",
    "              batch_size=512,\n",
    "              epochs=10,\n",
    "              validation_data=(X_test, y_test),\n",
    "              shuffle=True,\n",
    "                callbacks = [keras.callbacks.EarlyStopping()])"
   ]
  },
  {
   "cell_type": "code",
   "execution_count": 17,
   "metadata": {},
   "outputs": [
    {
     "name": "stdout",
     "output_type": "stream",
     "text": [
      "Saved trained model at C:\\Users\\64877\\Repositories\\DS590 Final Project\\DS_final\\Process Books\\saved_models\\Modified_VGG_one_year.h5 \n",
      "19139/19139 [==============================] - 26s 1ms/sample - loss: 0.3056 - acc: 0.8712\n",
      "Test loss: 0.30559010178561563\n",
      "Test accuracy: 0.8712054\n"
     ]
    }
   ],
   "source": [
    "# Save model and weights\n",
    "if not os.path.isdir(save_dir):\n",
    "    os.makedirs(save_dir)\n",
    "model_path = os.path.join(save_dir, 'Modified_VGG_one_year.h5')\n",
    "model.save(model_path)\n",
    "print('Saved trained model at %s ' % model_path)\n",
    "\n",
    "# Score trained model.\n",
    "scores = model.evaluate(X_test, y_test, verbose=1)\n",
    "print('Test loss:', scores[0])\n",
    "print('Test accuracy:', scores[1])"
   ]
  },
  {
   "cell_type": "code",
   "execution_count": null,
   "metadata": {},
   "outputs": [],
   "source": []
  },
  {
   "cell_type": "code",
   "execution_count": null,
   "metadata": {},
   "outputs": [],
   "source": []
  },
  {
   "cell_type": "code",
   "execution_count": null,
   "metadata": {},
   "outputs": [],
   "source": []
  }
 ],
 "metadata": {
  "kernelspec": {
   "display_name": "Python 3",
   "language": "python",
   "name": "python3"
  },
  "language_info": {
   "codemirror_mode": {
    "name": "ipython",
    "version": 3
   },
   "file_extension": ".py",
   "mimetype": "text/x-python",
   "name": "python",
   "nbconvert_exporter": "python",
   "pygments_lexer": "ipython3",
   "version": "3.6.8"
  }
 },
 "nbformat": 4,
 "nbformat_minor": 2
}
