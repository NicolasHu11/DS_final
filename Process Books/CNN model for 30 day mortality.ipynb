{
 "cells": [
  {
   "cell_type": "markdown",
   "metadata": {},
   "source": [
    "#  A simple deep CNN\n",
    "[reference](https://keras.io/examples/cifar10_cnn/)"
   ]
  },
  {
   "cell_type": "code",
   "execution_count": 99,
   "metadata": {},
   "outputs": [],
   "source": [
    "import tensorflow as tf\n",
    "from tensorflow import keras\n",
    "from tensorflow.keras.datasets import cifar10\n",
    "from tensorflow.keras.preprocessing.image import ImageDataGenerator\n",
    "from tensorflow.keras.models import Sequential\n",
    "from tensorflow.keras.layers import Dense, Dropout, Activation, Flatten\n",
    "from tensorflow.keras.layers import Conv1D, MaxPooling1D, ZeroPadding1D, Convolution1D\n",
    "import os"
   ]
  },
  {
   "cell_type": "code",
   "execution_count": 84,
   "metadata": {},
   "outputs": [],
   "source": [
    "# Import libraries\n",
    "import numpy as np\n",
    "import pandas as pd\n",
    "import matplotlib.pyplot as plt\n",
    "import seaborn as sns; sns.set()\n",
    "sns.set_style('whitegrid')\n",
    "sns.set_palette('Set2')\n",
    "# %matplotlib inline\n",
    "plt.rcParams.update({'figure.titlesize': 'larger', 'legend.fontsize': 15.0})"
   ]
  },
  {
   "cell_type": "code",
   "execution_count": 85,
   "metadata": {},
   "outputs": [],
   "source": [
    "batch_size = 32\n",
    "num_classes = 2\n",
    "epochs = 10\n",
    "data_augmentation = False\n",
    "# num_predictions = 20\n",
    "save_dir = os.path.join(os.getcwd(), 'saved_models')\n",
    "model_name = 'keras_trained_model.h5'"
   ]
  },
  {
   "cell_type": "code",
   "execution_count": 86,
   "metadata": {},
   "outputs": [],
   "source": [
    "data =pd.read_csv('data_pre_processed.csv')"
   ]
  },
  {
   "cell_type": "code",
   "execution_count": 87,
   "metadata": {},
   "outputs": [
    {
     "data": {
      "text/html": [
       "<div>\n",
       "<style scoped>\n",
       "    .dataframe tbody tr th:only-of-type {\n",
       "        vertical-align: middle;\n",
       "    }\n",
       "\n",
       "    .dataframe tbody tr th {\n",
       "        vertical-align: top;\n",
       "    }\n",
       "\n",
       "    .dataframe thead th {\n",
       "        text-align: right;\n",
       "    }\n",
       "</style>\n",
       "<table border=\"1\" class=\"dataframe\">\n",
       "  <thead>\n",
       "    <tr style=\"text-align: right;\">\n",
       "      <th></th>\n",
       "      <th>first_careunit</th>\n",
       "      <th>last_careunit</th>\n",
       "      <th>age</th>\n",
       "      <th>age_category</th>\n",
       "      <th>gender</th>\n",
       "      <th>marital_status</th>\n",
       "      <th>insurance</th>\n",
       "      <th>urea_n_min</th>\n",
       "      <th>urea_n_max</th>\n",
       "      <th>urea_n_mean</th>\n",
       "      <th>...</th>\n",
       "      <th>spo2_max_mv</th>\n",
       "      <th>spo2_mean_mv</th>\n",
       "      <th>vent_mv</th>\n",
       "      <th>rrt_mv</th>\n",
       "      <th>urineoutput_mv</th>\n",
       "      <th>oasis_mv</th>\n",
       "      <th>lods_mv</th>\n",
       "      <th>sirs_mv</th>\n",
       "      <th>thirty_days</th>\n",
       "      <th>one_year</th>\n",
       "    </tr>\n",
       "  </thead>\n",
       "  <tbody>\n",
       "    <tr>\n",
       "      <th>0</th>\n",
       "      <td>1.062189</td>\n",
       "      <td>1.042783</td>\n",
       "      <td>0.020618</td>\n",
       "      <td>7.0</td>\n",
       "      <td>0.889068</td>\n",
       "      <td>0.801375</td>\n",
       "      <td>0.722122</td>\n",
       "      <td>-0.110132</td>\n",
       "      <td>0.345616</td>\n",
       "      <td>0.042146</td>\n",
       "      <td>...</td>\n",
       "      <td>0.0</td>\n",
       "      <td>0.0</td>\n",
       "      <td>0.0</td>\n",
       "      <td>0.0</td>\n",
       "      <td>0.0</td>\n",
       "      <td>0.0</td>\n",
       "      <td>0.0</td>\n",
       "      <td>0.0</td>\n",
       "      <td>0.0</td>\n",
       "      <td>1.0</td>\n",
       "    </tr>\n",
       "    <tr>\n",
       "      <th>1</th>\n",
       "      <td>-0.338382</td>\n",
       "      <td>0.334179</td>\n",
       "      <td>-0.175699</td>\n",
       "      <td>6.0</td>\n",
       "      <td>-1.124773</td>\n",
       "      <td>0.801375</td>\n",
       "      <td>0.722122</td>\n",
       "      <td>-0.035009</td>\n",
       "      <td>1.564791</td>\n",
       "      <td>1.406861</td>\n",
       "      <td>...</td>\n",
       "      <td>0.0</td>\n",
       "      <td>0.0</td>\n",
       "      <td>0.0</td>\n",
       "      <td>0.0</td>\n",
       "      <td>0.0</td>\n",
       "      <td>0.0</td>\n",
       "      <td>0.0</td>\n",
       "      <td>0.0</td>\n",
       "      <td>0.0</td>\n",
       "      <td>0.0</td>\n",
       "    </tr>\n",
       "    <tr>\n",
       "      <th>2</th>\n",
       "      <td>1.062189</td>\n",
       "      <td>1.042783</td>\n",
       "      <td>-0.623562</td>\n",
       "      <td>4.0</td>\n",
       "      <td>0.889068</td>\n",
       "      <td>-2.394261</td>\n",
       "      <td>-1.738451</td>\n",
       "      <td>-0.035009</td>\n",
       "      <td>-0.296056</td>\n",
       "      <td>-0.244412</td>\n",
       "      <td>...</td>\n",
       "      <td>0.0</td>\n",
       "      <td>0.0</td>\n",
       "      <td>0.0</td>\n",
       "      <td>0.0</td>\n",
       "      <td>0.0</td>\n",
       "      <td>0.0</td>\n",
       "      <td>0.0</td>\n",
       "      <td>0.0</td>\n",
       "      <td>1.0</td>\n",
       "      <td>1.0</td>\n",
       "    </tr>\n",
       "    <tr>\n",
       "      <th>3</th>\n",
       "      <td>-0.338382</td>\n",
       "      <td>0.334179</td>\n",
       "      <td>-0.056425</td>\n",
       "      <td>7.0</td>\n",
       "      <td>0.889068</td>\n",
       "      <td>0.801375</td>\n",
       "      <td>0.722122</td>\n",
       "      <td>0.866469</td>\n",
       "      <td>-0.039387</td>\n",
       "      <td>0.257946</td>\n",
       "      <td>...</td>\n",
       "      <td>0.0</td>\n",
       "      <td>0.0</td>\n",
       "      <td>0.0</td>\n",
       "      <td>0.0</td>\n",
       "      <td>0.0</td>\n",
       "      <td>0.0</td>\n",
       "      <td>0.0</td>\n",
       "      <td>0.0</td>\n",
       "      <td>1.0</td>\n",
       "      <td>1.0</td>\n",
       "    </tr>\n",
       "    <tr>\n",
       "      <th>4</th>\n",
       "      <td>-1.038668</td>\n",
       "      <td>-0.374426</td>\n",
       "      <td>-0.659244</td>\n",
       "      <td>3.0</td>\n",
       "      <td>-1.124773</td>\n",
       "      <td>-2.394261</td>\n",
       "      <td>-1.738451</td>\n",
       "      <td>-0.260378</td>\n",
       "      <td>-0.648975</td>\n",
       "      <td>-0.588887</td>\n",
       "      <td>...</td>\n",
       "      <td>0.0</td>\n",
       "      <td>0.0</td>\n",
       "      <td>0.0</td>\n",
       "      <td>0.0</td>\n",
       "      <td>0.0</td>\n",
       "      <td>0.0</td>\n",
       "      <td>0.0</td>\n",
       "      <td>0.0</td>\n",
       "      <td>0.0</td>\n",
       "      <td>0.0</td>\n",
       "    </tr>\n",
       "  </tbody>\n",
       "</table>\n",
       "<p>5 rows × 112 columns</p>\n",
       "</div>"
      ],
      "text/plain": [
       "   first_careunit  last_careunit       age  age_category    gender  \\\n",
       "0        1.062189       1.042783  0.020618           7.0  0.889068   \n",
       "1       -0.338382       0.334179 -0.175699           6.0 -1.124773   \n",
       "2        1.062189       1.042783 -0.623562           4.0  0.889068   \n",
       "3       -0.338382       0.334179 -0.056425           7.0  0.889068   \n",
       "4       -1.038668      -0.374426 -0.659244           3.0 -1.124773   \n",
       "\n",
       "   marital_status  insurance  urea_n_min  urea_n_max  urea_n_mean  ...  \\\n",
       "0        0.801375   0.722122   -0.110132    0.345616     0.042146  ...   \n",
       "1        0.801375   0.722122   -0.035009    1.564791     1.406861  ...   \n",
       "2       -2.394261  -1.738451   -0.035009   -0.296056    -0.244412  ...   \n",
       "3        0.801375   0.722122    0.866469   -0.039387     0.257946  ...   \n",
       "4       -2.394261  -1.738451   -0.260378   -0.648975    -0.588887  ...   \n",
       "\n",
       "   spo2_max_mv  spo2_mean_mv  vent_mv  rrt_mv  urineoutput_mv  oasis_mv  \\\n",
       "0          0.0           0.0      0.0     0.0             0.0       0.0   \n",
       "1          0.0           0.0      0.0     0.0             0.0       0.0   \n",
       "2          0.0           0.0      0.0     0.0             0.0       0.0   \n",
       "3          0.0           0.0      0.0     0.0             0.0       0.0   \n",
       "4          0.0           0.0      0.0     0.0             0.0       0.0   \n",
       "\n",
       "   lods_mv  sirs_mv  thirty_days  one_year  \n",
       "0      0.0      0.0          0.0       1.0  \n",
       "1      0.0      0.0          0.0       0.0  \n",
       "2      0.0      0.0          1.0       1.0  \n",
       "3      0.0      0.0          1.0       1.0  \n",
       "4      0.0      0.0          0.0       0.0  \n",
       "\n",
       "[5 rows x 112 columns]"
      ]
     },
     "execution_count": 87,
     "metadata": {},
     "output_type": "execute_result"
    }
   ],
   "source": [
    "print('Total data shape is ', data.shape)\n",
    "data.head()"
   ]
  },
  {
   "cell_type": "code",
   "execution_count": 123,
   "metadata": {},
   "outputs": [
    {
     "name": "stdout",
     "output_type": "stream",
     "text": [
      "X_train shape: (38857, 110)\n",
      "38857 train samples\n",
      "19139 test samples\n"
     ]
    }
   ],
   "source": [
    "columns = list(data.columns)\n",
    "X = data[columns[0:-2]].astype(np.float32) # fetures\n",
    "y = data[columns[-2]].astype(np.float32)  # 30 days \n",
    "# y = data[-1].astype(np.float32)  # \n",
    "\n",
    "from sklearn.model_selection import train_test_split\n",
    "# The data, split between train and test sets:\n",
    "X_train, X_test, y_train, y_test = train_test_split(\n",
    "    X, y, test_size=0.33, random_state=42)\n",
    "\n",
    "print('X_train shape:', X_train.shape)\n",
    "print(X_train.shape[0], 'train samples')\n",
    "print(X_test.shape[0], 'test samples')"
   ]
  },
  {
   "cell_type": "code",
   "execution_count": 89,
   "metadata": {},
   "outputs": [],
   "source": [
    "# # Convert class vectors to binary class matrices.\n",
    "# y_train = keras.utils.to_categorical(y_train, num_classes)\n",
    "# y_test = keras.utils.to_categorical(y_test, num_classes)"
   ]
  },
  {
   "cell_type": "code",
   "execution_count": 90,
   "metadata": {},
   "outputs": [],
   "source": [
    "model = Sequential()\n",
    "model.add(Conv1D(32, 3, padding='same', input_shape=[X_train.shape[1],1]))\n",
    "model.add(Activation('relu'))\n",
    "model.add(Conv1D(32, 3))\n",
    "model.add(Activation('relu'))\n",
    "model.add(MaxPooling1D(pool_size=2))\n",
    "model.add(Dropout(0.25))\n",
    "\n",
    "model.add(Conv1D(64, 3, padding='same'))\n",
    "model.add(Activation('relu'))\n",
    "model.add(Conv1D(64, 3))\n",
    "model.add(Activation('relu'))\n",
    "model.add(MaxPooling1D(pool_size=2))\n",
    "model.add(Dropout(0.25))\n",
    "\n",
    "model.add(Flatten())\n",
    "model.add(Dense(512))\n",
    "model.add(Activation('relu'))\n",
    "model.add(Dropout(0.5))\n",
    "model.add(Dense(128))\n",
    "model.add(Activation('relu'))\n",
    "model.add(Dropout(0.5))\n",
    "# model.add(Dense(num_classes))\n",
    "# model.add(Activation('softmax'))\n",
    "model.add(Dense(1, activation='sigmoid'))"
   ]
  },
  {
   "cell_type": "code",
   "execution_count": 124,
   "metadata": {},
   "outputs": [
    {
     "name": "stdout",
     "output_type": "stream",
     "text": [
      "_________________________________________________________________\n",
      "Layer (type)                 Output Shape              Param #   \n",
      "=================================================================\n",
      "lstm_5 (LSTM)                (None, 64, 32)            18304     \n",
      "_________________________________________________________________\n",
      "lstm_6 (LSTM)                (None, 64, 32)            8320      \n",
      "_________________________________________________________________\n",
      "lstm_7 (LSTM)                (None, 32)                8320      \n",
      "_________________________________________________________________\n",
      "dense_35 (Dense)             (None, 1)                 33        \n",
      "=================================================================\n",
      "Total params: 34,977\n",
      "Trainable params: 34,977\n",
      "Non-trainable params: 0\n",
      "_________________________________________________________________\n"
     ]
    }
   ],
   "source": [
    "# initiate RMSprop optimizer\n",
    "# opt = keras.optimizers.rmsprop(lr=0.0001, decay=1e-6)\n",
    "\n",
    "# Let's train the model using RMSprop\n",
    "model.compile(loss='binary_crossentropy',\n",
    "              optimizer='adam',\n",
    "              metrics=['accuracy'])\n",
    "\n",
    "X_train = X_train.values[..., None].astype('float32')\n",
    "X_test = X_test.values[..., None].astype('float32')\n",
    "model.summary()\n"
   ]
  },
  {
   "cell_type": "code",
   "execution_count": 92,
   "metadata": {},
   "outputs": [
    {
     "data": {
      "text/plain": [
       "(38857, 110, 1)"
      ]
     },
     "execution_count": 92,
     "metadata": {},
     "output_type": "execute_result"
    }
   ],
   "source": [
    "X_train.shape"
   ]
  },
  {
   "cell_type": "code",
   "execution_count": 93,
   "metadata": {},
   "outputs": [
    {
     "name": "stdout",
     "output_type": "stream",
     "text": [
      "Not using data augmentation.\n",
      "Train on 38857 samples, validate on 19139 samples\n",
      "Epoch 1/10\n",
      "38857/38857 [==============================] - 31s 794us/sample - loss: 0.2464 - acc: 0.9047 - val_loss: 0.1568 - val_acc: 0.9457 - los\n",
      "Epoch 2/10\n",
      "38857/38857 [==============================] - 31s 796us/sample - loss: 0.1642 - acc: 0.9439 - val_loss: 0.1199 - val_acc: 0.9599\n",
      "Epoch 3/10\n",
      "38857/38857 [==============================] - 32s 814us/sample - loss: 0.1408 - acc: 0.9534 - val_loss: 0.1072 - val_acc: 0.9641\n",
      "Epoch 4/10\n",
      "38857/38857 [==============================] - 30s 777us/sample - loss: 0.1297 - acc: 0.9588 - val_loss: 0.1040 - val_acc: 0.9658\n",
      "Epoch 5/10\n",
      "38857/38857 [==============================] - 31s 796us/sample - loss: 0.1225 - acc: 0.9614 - val_loss: 0.0967 - val_acc: 0.9694\n",
      "Epoch 6/10\n",
      "38857/38857 [==============================] - 30s 776us/sample - loss: 0.1145 - acc: 0.9634 - val_loss: 0.0924 - val_acc: 0.9712\n",
      "Epoch 7/10\n",
      "38857/38857 [==============================] - 31s 799us/sample - loss: 0.1077 - acc: 0.9657 - val_loss: 0.0820 - val_acc: 0.9745\n",
      "Epoch 8/10\n",
      "38857/38857 [==============================] - 30s 775us/sample - loss: 0.1008 - acc: 0.9683 - val_loss: 0.0775 - val_acc: 0.9747\n",
      "Epoch 9/10\n",
      "38857/38857 [==============================] - 30s 767us/sample - loss: 0.0960 - acc: 0.9703 - val_loss: 0.0755 - val_acc: 0.9763\n",
      "Epoch 10/10\n",
      "38857/38857 [==============================] - 30s 770us/sample - loss: 0.0894 - acc: 0.9719 - val_loss: 0.0795 - val_acc: 0.9755\n"
     ]
    }
   ],
   "source": [
    "hist = model.fit(X_train, y_train,\n",
    "          batch_size=batch_size,\n",
    "          epochs=epochs,\n",
    "          verbose = 1,\n",
    "          validation_data=(X_test, y_test),\n",
    "          shuffle=True,\n",
    "            callbacks= [keras.callbacks.EarlyStopping()] )"
   ]
  },
  {
   "cell_type": "code",
   "execution_count": 94,
   "metadata": {},
   "outputs": [
    {
     "name": "stdout",
     "output_type": "stream",
     "text": [
      "Saved trained model at C:\\Users\\64877\\Repositories\\DS590 Final Project\\DS_final\\Process Books\\saved_models\\keras_trained_model.h5 \n",
      "19139/19139 [==============================] - 3s 149us/sample - loss: 0.0795 - acc: 0.9755\n",
      "Test loss: 0.07950419548984967\n",
      "Test accuracy: 0.97549504\n"
     ]
    }
   ],
   "source": [
    "# Save model and weights\n",
    "if not os.path.isdir(save_dir):\n",
    "    os.makedirs(save_dir)\n",
    "model_path = os.path.join(save_dir, model_name)\n",
    "model.save(model_path)\n",
    "print('Saved trained model at %s ' % model_path)\n",
    "\n",
    "# Score trained model.\n",
    "scores = model.evaluate(X_test, y_test, verbose=1)\n",
    "print('Test loss:', scores[0])\n",
    "print('Test accuracy:', scores[1])"
   ]
  },
  {
   "cell_type": "code",
   "execution_count": null,
   "metadata": {},
   "outputs": [],
   "source": []
  },
  {
   "cell_type": "code",
   "execution_count": null,
   "metadata": {},
   "outputs": [],
   "source": []
  },
  {
   "cell_type": "code",
   "execution_count": null,
   "metadata": {},
   "outputs": [],
   "source": []
  },
  {
   "cell_type": "code",
   "execution_count": null,
   "metadata": {},
   "outputs": [],
   "source": []
  },
  {
   "cell_type": "code",
   "execution_count": null,
   "metadata": {},
   "outputs": [],
   "source": []
  },
  {
   "cell_type": "code",
   "execution_count": null,
   "metadata": {},
   "outputs": [],
   "source": []
  },
  {
   "cell_type": "code",
   "execution_count": null,
   "metadata": {},
   "outputs": [],
   "source": []
  },
  {
   "cell_type": "markdown",
   "metadata": {},
   "source": [
    "# Modified VGG16\n",
    "[reference](https://gist.github.com/baraldilorenzo/07d7802847aaad0a35d3)"
   ]
  },
  {
   "cell_type": "code",
   "execution_count": 109,
   "metadata": {},
   "outputs": [],
   "source": [
    "model = Sequential()\n",
    "model.add(ZeroPadding1D(1,input_shape=[X_train.shape[1],1]))\n",
    "model.add(Convolution1D(64, 3, activation='relu'))\n",
    "model.add(ZeroPadding1D(1))\n",
    "model.add(Convolution1D(64, 3, activation='relu'))\n",
    "model.add(MaxPooling1D(2, strides=2))\n",
    "\n",
    "model.add(ZeroPadding1D(1))\n",
    "model.add(Convolution1D(128, 3, activation='relu'))\n",
    "model.add(ZeroPadding1D(1))\n",
    "model.add(Convolution1D(128, 3, activation='relu'))\n",
    "model.add(MaxPooling1D(2, strides=2))\n",
    "\n",
    "model.add(ZeroPadding1D(1))\n",
    "model.add(Convolution1D(256, 3, activation='relu'))\n",
    "model.add(ZeroPadding1D(1))\n",
    "model.add(Convolution1D(256, 3, activation='relu'))\n",
    "model.add(ZeroPadding1D(1))\n",
    "model.add(Convolution1D(256, 3, activation='relu'))\n",
    "model.add(MaxPooling1D(2, strides=2))\n",
    "\n",
    "model.add(ZeroPadding1D(1))\n",
    "model.add(Convolution1D(512, 3, activation='relu'))\n",
    "model.add(ZeroPadding1D(1))\n",
    "model.add(Convolution1D(512, 3, activation='relu'))\n",
    "model.add(ZeroPadding1D(1))\n",
    "model.add(Convolution1D(512, 3, activation='relu'))\n",
    "model.add(MaxPooling1D(2, strides=2))\n",
    "\n",
    "model.add(Flatten())\n",
    "model.add(Dense(2048, activation='relu'))\n",
    "model.add(Dropout(0.5))\n",
    "model.add(Dense(1024, activation='relu'))\n",
    "model.add(Dropout(0.5))\n",
    "# model.add(Dense(num_classes, activation='softmax'))\n",
    "model.add(Dense(1, activation='sigmoid'))\n",
    "\n"
   ]
  },
  {
   "cell_type": "code",
   "execution_count": 110,
   "metadata": {
    "scrolled": false
   },
   "outputs": [
    {
     "name": "stdout",
     "output_type": "stream",
     "text": [
      "_________________________________________________________________\n",
      "Layer (type)                 Output Shape              Param #   \n",
      "=================================================================\n",
      "zero_padding1d_54 (ZeroPaddi (None, 112, 1)            0         \n",
      "_________________________________________________________________\n",
      "conv1d_73 (Conv1D)           (None, 110, 64)           256       \n",
      "_________________________________________________________________\n",
      "zero_padding1d_55 (ZeroPaddi (None, 112, 64)           0         \n",
      "_________________________________________________________________\n",
      "conv1d_74 (Conv1D)           (None, 110, 64)           12352     \n",
      "_________________________________________________________________\n",
      "max_pooling1d_29 (MaxPooling (None, 55, 64)            0         \n",
      "_________________________________________________________________\n",
      "zero_padding1d_56 (ZeroPaddi (None, 57, 64)            0         \n",
      "_________________________________________________________________\n",
      "conv1d_75 (Conv1D)           (None, 55, 128)           24704     \n",
      "_________________________________________________________________\n",
      "zero_padding1d_57 (ZeroPaddi (None, 57, 128)           0         \n",
      "_________________________________________________________________\n",
      "conv1d_76 (Conv1D)           (None, 55, 128)           49280     \n",
      "_________________________________________________________________\n",
      "max_pooling1d_30 (MaxPooling (None, 27, 128)           0         \n",
      "_________________________________________________________________\n",
      "zero_padding1d_58 (ZeroPaddi (None, 29, 128)           0         \n",
      "_________________________________________________________________\n",
      "conv1d_77 (Conv1D)           (None, 27, 256)           98560     \n",
      "_________________________________________________________________\n",
      "zero_padding1d_59 (ZeroPaddi (None, 29, 256)           0         \n",
      "_________________________________________________________________\n",
      "conv1d_78 (Conv1D)           (None, 27, 256)           196864    \n",
      "_________________________________________________________________\n",
      "zero_padding1d_60 (ZeroPaddi (None, 29, 256)           0         \n",
      "_________________________________________________________________\n",
      "conv1d_79 (Conv1D)           (None, 27, 256)           196864    \n",
      "_________________________________________________________________\n",
      "max_pooling1d_31 (MaxPooling (None, 13, 256)           0         \n",
      "_________________________________________________________________\n",
      "zero_padding1d_61 (ZeroPaddi (None, 15, 256)           0         \n",
      "_________________________________________________________________\n",
      "conv1d_80 (Conv1D)           (None, 13, 512)           393728    \n",
      "_________________________________________________________________\n",
      "zero_padding1d_62 (ZeroPaddi (None, 15, 512)           0         \n",
      "_________________________________________________________________\n",
      "conv1d_81 (Conv1D)           (None, 13, 512)           786944    \n",
      "_________________________________________________________________\n",
      "zero_padding1d_63 (ZeroPaddi (None, 15, 512)           0         \n",
      "_________________________________________________________________\n",
      "conv1d_82 (Conv1D)           (None, 13, 512)           786944    \n",
      "_________________________________________________________________\n",
      "max_pooling1d_32 (MaxPooling (None, 6, 512)            0         \n",
      "_________________________________________________________________\n",
      "flatten_9 (Flatten)          (None, 3072)              0         \n",
      "_________________________________________________________________\n",
      "dense_29 (Dense)             (None, 2048)              6293504   \n",
      "_________________________________________________________________\n",
      "dropout_28 (Dropout)         (None, 2048)              0         \n",
      "_________________________________________________________________\n",
      "dense_30 (Dense)             (None, 1024)              2098176   \n",
      "_________________________________________________________________\n",
      "dropout_29 (Dropout)         (None, 1024)              0         \n",
      "_________________________________________________________________\n",
      "dense_31 (Dense)             (None, 1)                 1025      \n",
      "=================================================================\n",
      "Total params: 10,939,201\n",
      "Trainable params: 10,939,201\n",
      "Non-trainable params: 0\n",
      "_________________________________________________________________\n"
     ]
    }
   ],
   "source": [
    "model.compile(loss='binary_crossentropy',\n",
    "              optimizer='adam',\n",
    "              metrics=['accuracy'])\n",
    "model.summary()"
   ]
  },
  {
   "cell_type": "code",
   "execution_count": 111,
   "metadata": {},
   "outputs": [
    {
     "name": "stdout",
     "output_type": "stream",
     "text": [
      "Train on 38857 samples, validate on 19139 samples\n",
      "Epoch 1/5\n",
      "38857/38857 [==============================] - 245s 6ms/sample - loss: 0.4554 - acc: 0.8474 - val_loss: 0.3207 - val_acc: 0.8659\n",
      "Epoch 2/5\n",
      "38857/38857 [==============================] - 228s 6ms/sample - loss: 0.2552 - acc: 0.8960 - val_loss: 0.2412 - val_acc: 0.9042\n",
      "Epoch 3/5\n",
      "38857/38857 [==============================] - 244s 6ms/sample - loss: 0.1757 - acc: 0.9382 - val_loss: 0.1496 - val_acc: 0.9507\n",
      "Epoch 4/5\n",
      "38857/38857 [==============================] - 221s 6ms/sample - loss: 0.1350 - acc: 0.9562 - val_loss: 0.1315 - val_acc: 0.9583\n",
      "Epoch 5/5\n",
      "38857/38857 [==============================] - 226s 6ms/sample - loss: 0.1154 - acc: 0.9645 - val_loss: 0.1318 - val_acc: 0.9576\n"
     ]
    }
   ],
   "source": [
    "hist = model.fit(X_train, y_train,\n",
    "              batch_size=512,\n",
    "              epochs=5,\n",
    "              validation_data=(X_test, y_test),\n",
    "              shuffle=True,\n",
    "                callbacks = [keras.callbacks.EarlyStopping()])"
   ]
  },
  {
   "cell_type": "code",
   "execution_count": 112,
   "metadata": {},
   "outputs": [
    {
     "name": "stdout",
     "output_type": "stream",
     "text": [
      "Saved trained model at C:\\Users\\64877\\Repositories\\DS590 Final Project\\DS_final\\Process Books\\saved_models\\Modified_VGG.h5 \n",
      "19139/19139 [==============================] - 23s 1ms/sample - loss: 0.1318 - acc: 0.9576\n",
      "Test loss: 0.13183197146172113\n",
      "Test accuracy: 0.9576258\n"
     ]
    }
   ],
   "source": [
    "# Save model and weights\n",
    "if not os.path.isdir(save_dir):\n",
    "    os.makedirs(save_dir)\n",
    "model_path = os.path.join(save_dir, 'Modified_VGG.h5')\n",
    "model.save(model_path)\n",
    "print('Saved trained model at %s ' % model_path)\n",
    "\n",
    "# Score trained model.\n",
    "scores = model.evaluate(X_test, y_test, verbose=1)\n",
    "print('Test loss:', scores[0])\n",
    "print('Test accuracy:', scores[1])"
   ]
  },
  {
   "cell_type": "code",
   "execution_count": null,
   "metadata": {},
   "outputs": [],
   "source": []
  },
  {
   "cell_type": "code",
   "execution_count": null,
   "metadata": {},
   "outputs": [],
   "source": []
  },
  {
   "cell_type": "code",
   "execution_count": null,
   "metadata": {},
   "outputs": [],
   "source": []
  }
 ],
 "metadata": {
  "kernelspec": {
   "display_name": "Python 3",
   "language": "python",
   "name": "python3"
  },
  "language_info": {
   "codemirror_mode": {
    "name": "ipython",
    "version": 3
   },
   "file_extension": ".py",
   "mimetype": "text/x-python",
   "name": "python",
   "nbconvert_exporter": "python",
   "pygments_lexer": "ipython3",
   "version": "3.6.8"
  }
 },
 "nbformat": 4,
 "nbformat_minor": 2
}
