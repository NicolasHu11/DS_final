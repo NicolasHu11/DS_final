{
 "cells": [
  {
   "cell_type": "markdown",
   "metadata": {},
   "source": [
    "#  A simple deep CNN\n",
    "[reference](https://keras.io/examples/cifar10_cnn/)"
   ]
  },
  {
   "cell_type": "code",
   "execution_count": 1,
   "metadata": {},
   "outputs": [],
   "source": [
    "import tensorflow as tf\n",
    "from tensorflow import keras\n",
    "from tensorflow.keras.datasets import cifar10\n",
    "from tensorflow.keras.preprocessing.image import ImageDataGenerator\n",
    "from tensorflow.keras.models import Sequential\n",
    "from tensorflow.keras.layers import Dense, Dropout, Activation, Flatten\n",
    "from tensorflow.keras.layers import Conv1D, MaxPooling1D, ZeroPadding1D, Convolution1D\n",
    "import os"
   ]
  },
  {
   "cell_type": "code",
   "execution_count": 2,
   "metadata": {},
   "outputs": [],
   "source": [
    "# Import libraries\n",
    "\n",
    "import numpy as np\n",
    "import pandas as pd\n",
    "import matplotlib.pyplot as plt\n",
    "import seaborn as sns; sns.set()\n",
    "from sklearn import metrics\n",
    "sns.set_style('whitegrid')\n",
    "sns.set_palette('Set2')\n",
    "# %matplotlib inline"
   ]
  },
  {
   "cell_type": "code",
   "execution_count": 3,
   "metadata": {},
   "outputs": [],
   "source": [
    "def probability_to_label(probabilities, threshold=0.5):\n",
    "    probabilities = list(probabilities)\n",
    "    th = threshold\n",
    "    predictions = [1 if i > th else 0 for i in probabilities]\n",
    "    return predictions"
   ]
  },
  {
   "cell_type": "code",
   "execution_count": 4,
   "metadata": {},
   "outputs": [],
   "source": [
    "def plot_cm(y_true, y_pred,\n",
    "                          title='Confusion Matrix',\n",
    "                          cmap=plt.cm.Blues):\n",
    "    sns.set_style('white')\n",
    "    \n",
    "    cm = metrics.confusion_matrix(y_test, y_pred)\n",
    "    cm = cm.astype('float') / cm.sum(axis=1)[:, np.newaxis] # normarlize \n",
    "    \n",
    "    from sklearn.utils.multiclass import unique_labels\n",
    "    classes = unique_labels(y_true, y_pred)\n",
    "    \n",
    "    fig, ax = plt.subplots()\n",
    "    im = ax.imshow(cm, interpolation='nearest', cmap=cmap)\n",
    "    ax.figure.colorbar(im, ax=ax)\n",
    "    # We want to show all ticks...\n",
    "    ax.set(xticks=np.arange(cm.shape[1]),\n",
    "           yticks=np.arange(cm.shape[0]),\n",
    "           # ... and label them with the respective list entries\n",
    "           xticklabels=classes, yticklabels=classes,\n",
    "           title=title,\n",
    "           ylabel='True label',\n",
    "           xlabel='Predicted label')\n",
    "\n",
    "    # Rotate the tick labels and set their alignment.\n",
    "    plt.setp(ax.get_xticklabels(), rotation=45, ha=\"right\",\n",
    "             rotation_mode=\"anchor\")\n",
    "    # Loop over data dimensions and create text annotations.\n",
    "    fmt = '.2f' \n",
    "    thresh = cm.max() / 2.\n",
    "    for i in range(cm.shape[0]):\n",
    "        for j in range(cm.shape[1]):\n",
    "            ax.text(j, i, format(cm[i, j], fmt),\n",
    "                    ha=\"center\", va=\"center\",\n",
    "                    color=\"white\" if cm[i, j] > thresh else \"black\")\n",
    "    fig.tight_layout()\n",
    "    \n",
    "    pass"
   ]
  },
  {
   "cell_type": "code",
   "execution_count": 5,
   "metadata": {},
   "outputs": [],
   "source": [
    "def plot_ROC(fpr, tpr, auc, title = 'ROC curve'):\n",
    "    sns.set_style('whitegrid')\n",
    "\n",
    "#     plt.figure(figsize=(8,6))\n",
    "    plt.plot([0, 1], [0, 1], 'k--')\n",
    "    plt.plot(fpr, tpr, label=' (AUC = {:.3f})'.format(auc))\n",
    "    plt.xlabel('False positive rate')\n",
    "    plt.ylabel('True positive rate')\n",
    "    plt.title(title)\n",
    "    plt.legend(loc='best')\n",
    "    plt.show()\n",
    "    pass"
   ]
  },
  {
   "cell_type": "code",
   "execution_count": 6,
   "metadata": {},
   "outputs": [],
   "source": [
    "def plot_PRC(precision, recall, ap, title= 'Precision-Recall Curve '):\n",
    "    sns.set_style('whitegrid')\n",
    "\n",
    "    plt.figure\n",
    "#     plot(result5_1[0], result5_1[1],linestyle = \"-\", color = 'C0')#,label = 'AUC = %0.2f' % result5_1[3])\n",
    "    plt.plot(recall, precision, lw=2, label='AP = %0.4f' % ap )\n",
    "    plt.xlabel('Recall')\n",
    "    plt.ylabel('Precision')\n",
    "    plt.title(title)\n",
    "    plt.legend(loc=\"best\")\n",
    "#     plt.show()\n",
    "    return "
   ]
  },
  {
   "cell_type": "code",
   "execution_count": 7,
   "metadata": {},
   "outputs": [],
   "source": [
    "train_model = True\n",
    "batch_size = 32\n",
    "num_classes = 2\n",
    "epochs = 30\n",
    "data_augmentation = False\n",
    "# num_predictions = 20\n",
    "save_dir = os.path.join(os.getcwd(), 'saved_models')\n",
    "model_name = 'keras_trained_model_one_year.h5'"
   ]
  },
  {
   "cell_type": "code",
   "execution_count": 8,
   "metadata": {},
   "outputs": [],
   "source": [
    "# data =pd.read_csv('data_pre_processed.csv')\n",
    "testing_data = pd.read_csv('data_pp_test_1y.csv')\n",
    "training_data=  pd.read_csv('data_pp_train_1y.csv')\n",
    "data = training_data"
   ]
  },
  {
   "cell_type": "code",
   "execution_count": 9,
   "metadata": {},
   "outputs": [
    {
     "name": "stdout",
     "output_type": "stream",
     "text": [
      "Total data shape is  (38857, 111)\n"
     ]
    },
    {
     "data": {
      "text/html": [
       "<div>\n",
       "<style scoped>\n",
       "    .dataframe tbody tr th:only-of-type {\n",
       "        vertical-align: middle;\n",
       "    }\n",
       "\n",
       "    .dataframe tbody tr th {\n",
       "        vertical-align: top;\n",
       "    }\n",
       "\n",
       "    .dataframe thead th {\n",
       "        text-align: right;\n",
       "    }\n",
       "</style>\n",
       "<table border=\"1\" class=\"dataframe\">\n",
       "  <thead>\n",
       "    <tr style=\"text-align: right;\">\n",
       "      <th></th>\n",
       "      <th>first_careunit</th>\n",
       "      <th>last_careunit</th>\n",
       "      <th>age</th>\n",
       "      <th>gender</th>\n",
       "      <th>marital_status</th>\n",
       "      <th>insurance</th>\n",
       "      <th>urea_n_min</th>\n",
       "      <th>urea_n_max</th>\n",
       "      <th>urea_n_mean</th>\n",
       "      <th>platelets_min</th>\n",
       "      <th>...</th>\n",
       "      <th>spo2_max_mv</th>\n",
       "      <th>spo2_mean_mv</th>\n",
       "      <th>vent_mv</th>\n",
       "      <th>rrt_mv</th>\n",
       "      <th>urineoutput_mv</th>\n",
       "      <th>oasis_mv</th>\n",
       "      <th>lods_mv</th>\n",
       "      <th>sirs_mv</th>\n",
       "      <th>thirty_days</th>\n",
       "      <th>one_year</th>\n",
       "    </tr>\n",
       "  </thead>\n",
       "  <tbody>\n",
       "    <tr>\n",
       "      <th>0</th>\n",
       "      <td>0.358226</td>\n",
       "      <td>-0.375558</td>\n",
       "      <td>-0.091698</td>\n",
       "      <td>-1.125040</td>\n",
       "      <td>0.002484</td>\n",
       "      <td>0.721077</td>\n",
       "      <td>0.336293</td>\n",
       "      <td>0.533833</td>\n",
       "      <td>0.568295</td>\n",
       "      <td>-0.307287</td>\n",
       "      <td>...</td>\n",
       "      <td>0.0</td>\n",
       "      <td>0.0</td>\n",
       "      <td>0.0</td>\n",
       "      <td>0.0</td>\n",
       "      <td>0.0</td>\n",
       "      <td>0.0</td>\n",
       "      <td>0.0</td>\n",
       "      <td>0.0</td>\n",
       "      <td>0.0</td>\n",
       "      <td>0.0</td>\n",
       "    </tr>\n",
       "    <tr>\n",
       "      <th>1</th>\n",
       "      <td>1.058760</td>\n",
       "      <td>1.040694</td>\n",
       "      <td>-0.138448</td>\n",
       "      <td>-1.125040</td>\n",
       "      <td>-0.795334</td>\n",
       "      <td>0.721077</td>\n",
       "      <td>1.458096</td>\n",
       "      <td>0.982380</td>\n",
       "      <td>1.364434</td>\n",
       "      <td>-0.617702</td>\n",
       "      <td>...</td>\n",
       "      <td>0.0</td>\n",
       "      <td>0.0</td>\n",
       "      <td>0.0</td>\n",
       "      <td>0.0</td>\n",
       "      <td>0.0</td>\n",
       "      <td>0.0</td>\n",
       "      <td>0.0</td>\n",
       "      <td>0.0</td>\n",
       "      <td>0.0</td>\n",
       "      <td>0.0</td>\n",
       "    </tr>\n",
       "    <tr>\n",
       "      <th>2</th>\n",
       "      <td>0.358226</td>\n",
       "      <td>-0.375558</td>\n",
       "      <td>4.139580</td>\n",
       "      <td>-1.125040</td>\n",
       "      <td>-0.795334</td>\n",
       "      <td>0.721077</td>\n",
       "      <td>-0.411576</td>\n",
       "      <td>-0.523458</td>\n",
       "      <td>-0.401365</td>\n",
       "      <td>-1.206421</td>\n",
       "      <td>...</td>\n",
       "      <td>0.0</td>\n",
       "      <td>0.0</td>\n",
       "      <td>0.0</td>\n",
       "      <td>0.0</td>\n",
       "      <td>0.0</td>\n",
       "      <td>0.0</td>\n",
       "      <td>0.0</td>\n",
       "      <td>0.0</td>\n",
       "      <td>0.0</td>\n",
       "      <td>0.0</td>\n",
       "    </tr>\n",
       "    <tr>\n",
       "      <th>3</th>\n",
       "      <td>1.058760</td>\n",
       "      <td>1.040694</td>\n",
       "      <td>0.115679</td>\n",
       "      <td>-1.125040</td>\n",
       "      <td>-0.795334</td>\n",
       "      <td>0.721077</td>\n",
       "      <td>0.261506</td>\n",
       "      <td>-0.395301</td>\n",
       "      <td>-0.145096</td>\n",
       "      <td>2.058292</td>\n",
       "      <td>...</td>\n",
       "      <td>0.0</td>\n",
       "      <td>0.0</td>\n",
       "      <td>0.0</td>\n",
       "      <td>0.0</td>\n",
       "      <td>0.0</td>\n",
       "      <td>0.0</td>\n",
       "      <td>0.0</td>\n",
       "      <td>0.0</td>\n",
       "      <td>0.0</td>\n",
       "      <td>0.0</td>\n",
       "    </tr>\n",
       "    <tr>\n",
       "      <th>4</th>\n",
       "      <td>0.358226</td>\n",
       "      <td>-0.375558</td>\n",
       "      <td>-0.268887</td>\n",
       "      <td>0.888858</td>\n",
       "      <td>0.800302</td>\n",
       "      <td>-0.508846</td>\n",
       "      <td>0.111932</td>\n",
       "      <td>-0.299184</td>\n",
       "      <td>-0.088050</td>\n",
       "      <td>-1.067269</td>\n",
       "      <td>...</td>\n",
       "      <td>0.0</td>\n",
       "      <td>0.0</td>\n",
       "      <td>0.0</td>\n",
       "      <td>0.0</td>\n",
       "      <td>0.0</td>\n",
       "      <td>0.0</td>\n",
       "      <td>0.0</td>\n",
       "      <td>0.0</td>\n",
       "      <td>0.0</td>\n",
       "      <td>0.0</td>\n",
       "    </tr>\n",
       "  </tbody>\n",
       "</table>\n",
       "<p>5 rows × 111 columns</p>\n",
       "</div>"
      ],
      "text/plain": [
       "   first_careunit  last_careunit       age    gender  marital_status  \\\n",
       "0        0.358226      -0.375558 -0.091698 -1.125040        0.002484   \n",
       "1        1.058760       1.040694 -0.138448 -1.125040       -0.795334   \n",
       "2        0.358226      -0.375558  4.139580 -1.125040       -0.795334   \n",
       "3        1.058760       1.040694  0.115679 -1.125040       -0.795334   \n",
       "4        0.358226      -0.375558 -0.268887  0.888858        0.800302   \n",
       "\n",
       "   insurance  urea_n_min  urea_n_max  urea_n_mean  platelets_min  ...  \\\n",
       "0   0.721077    0.336293    0.533833     0.568295      -0.307287  ...   \n",
       "1   0.721077    1.458096    0.982380     1.364434      -0.617702  ...   \n",
       "2   0.721077   -0.411576   -0.523458    -0.401365      -1.206421  ...   \n",
       "3   0.721077    0.261506   -0.395301    -0.145096       2.058292  ...   \n",
       "4  -0.508846    0.111932   -0.299184    -0.088050      -1.067269  ...   \n",
       "\n",
       "   spo2_max_mv  spo2_mean_mv  vent_mv  rrt_mv  urineoutput_mv  oasis_mv  \\\n",
       "0          0.0           0.0      0.0     0.0             0.0       0.0   \n",
       "1          0.0           0.0      0.0     0.0             0.0       0.0   \n",
       "2          0.0           0.0      0.0     0.0             0.0       0.0   \n",
       "3          0.0           0.0      0.0     0.0             0.0       0.0   \n",
       "4          0.0           0.0      0.0     0.0             0.0       0.0   \n",
       "\n",
       "   lods_mv  sirs_mv  thirty_days  one_year  \n",
       "0      0.0      0.0          0.0       0.0  \n",
       "1      0.0      0.0          0.0       0.0  \n",
       "2      0.0      0.0          0.0       0.0  \n",
       "3      0.0      0.0          0.0       0.0  \n",
       "4      0.0      0.0          0.0       0.0  \n",
       "\n",
       "[5 rows x 111 columns]"
      ]
     },
     "execution_count": 9,
     "metadata": {},
     "output_type": "execute_result"
    }
   ],
   "source": [
    "print('Total data shape is ', data.shape)\n",
    "data.head()"
   ]
  },
  {
   "cell_type": "code",
   "execution_count": 10,
   "metadata": {},
   "outputs": [
    {
     "name": "stdout",
     "output_type": "stream",
     "text": [
      "X_train shape: (31085, 109)\n",
      "31085 train samples\n",
      "7772 validation samples\n",
      "19139 test samples\n"
     ]
    }
   ],
   "source": [
    "columns = list(data.columns)\n",
    "\n",
    "X = training_data[columns[0:-2]].astype(np.float32) # fetures\n",
    "y = training_data[columns[-1]].astype(np.float32)  # one year\n",
    "\n",
    "from sklearn.model_selection import train_test_split\n",
    "X_train, X_val, y_train, y_val = train_test_split(\n",
    "    X, y, test_size=0.2, random_state=42)\n",
    "\n",
    "\n",
    "X_test = testing_data[columns[0:-2]].astype(np.float32) # fetures\n",
    "y_test = testing_data[columns[-1]].astype(np.float32)  # one year \n",
    "\n",
    "print('X_train shape:', X_train.shape)\n",
    "print(X_train.shape[0], 'train samples')\n",
    "print(X_val.shape[0], 'validation samples')\n",
    "print(X_test.shape[0], 'test samples')"
   ]
  },
  {
   "cell_type": "code",
   "execution_count": 11,
   "metadata": {},
   "outputs": [],
   "source": [
    "# # Convert class vectors to binary class matrices.\n",
    "# y_train = keras.utils.to_categorical(y_train, num_classes)\n",
    "# y_test = keras.utils.to_categorical(y_test, num_classes)"
   ]
  },
  {
   "cell_type": "code",
   "execution_count": 12,
   "metadata": {},
   "outputs": [
    {
     "name": "stdout",
     "output_type": "stream",
     "text": [
      "WARNING:tensorflow:From C:\\Users\\64877\\Anaconda3\\envs\\MS_fianl_GPU\\lib\\site-packages\\tensorflow\\python\\ops\\resource_variable_ops.py:435: colocate_with (from tensorflow.python.framework.ops) is deprecated and will be removed in a future version.\n",
      "Instructions for updating:\n",
      "Colocations handled automatically by placer.\n",
      "WARNING:tensorflow:From C:\\Users\\64877\\Anaconda3\\envs\\MS_fianl_GPU\\lib\\site-packages\\tensorflow\\python\\keras\\layers\\core.py:143: calling dropout (from tensorflow.python.ops.nn_ops) with keep_prob is deprecated and will be removed in a future version.\n",
      "Instructions for updating:\n",
      "Please use `rate` instead of `keep_prob`. Rate should be set to `rate = 1 - keep_prob`.\n"
     ]
    }
   ],
   "source": [
    "model = Sequential()\n",
    "model.add(Conv1D(32, 3, padding='same', input_shape=[X_train.shape[1],1]))\n",
    "model.add(Activation('relu'))\n",
    "model.add(Conv1D(32, 3))\n",
    "model.add(Activation('relu'))\n",
    "model.add(MaxPooling1D(pool_size=2))\n",
    "model.add(Dropout(0.25))\n",
    "\n",
    "model.add(Conv1D(64, 3, padding='same'))\n",
    "model.add(Activation('relu'))\n",
    "model.add(Conv1D(64, 3))\n",
    "model.add(Activation('relu'))\n",
    "model.add(MaxPooling1D(pool_size=2))\n",
    "model.add(Dropout(0.25))\n",
    "\n",
    "model.add(Flatten())\n",
    "model.add(Dense(512))\n",
    "model.add(Activation('relu'))\n",
    "model.add(Dropout(0.5))\n",
    "model.add(Dense(128))\n",
    "model.add(Activation('relu'))\n",
    "model.add(Dropout(0.5))\n",
    "# model.add(Dense(num_classes))\n",
    "# model.add(Activation('softmax'))\n",
    "model.add(Dense(1, activation='sigmoid'))"
   ]
  },
  {
   "cell_type": "code",
   "execution_count": 13,
   "metadata": {},
   "outputs": [
    {
     "name": "stdout",
     "output_type": "stream",
     "text": [
      "_________________________________________________________________\n",
      "Layer (type)                 Output Shape              Param #   \n",
      "=================================================================\n",
      "conv1d (Conv1D)              (None, 109, 32)           128       \n",
      "_________________________________________________________________\n",
      "activation (Activation)      (None, 109, 32)           0         \n",
      "_________________________________________________________________\n",
      "conv1d_1 (Conv1D)            (None, 107, 32)           3104      \n",
      "_________________________________________________________________\n",
      "activation_1 (Activation)    (None, 107, 32)           0         \n",
      "_________________________________________________________________\n",
      "max_pooling1d (MaxPooling1D) (None, 53, 32)            0         \n",
      "_________________________________________________________________\n",
      "dropout (Dropout)            (None, 53, 32)            0         \n",
      "_________________________________________________________________\n",
      "conv1d_2 (Conv1D)            (None, 53, 64)            6208      \n",
      "_________________________________________________________________\n",
      "activation_2 (Activation)    (None, 53, 64)            0         \n",
      "_________________________________________________________________\n",
      "conv1d_3 (Conv1D)            (None, 51, 64)            12352     \n",
      "_________________________________________________________________\n",
      "activation_3 (Activation)    (None, 51, 64)            0         \n",
      "_________________________________________________________________\n",
      "max_pooling1d_1 (MaxPooling1 (None, 25, 64)            0         \n",
      "_________________________________________________________________\n",
      "dropout_1 (Dropout)          (None, 25, 64)            0         \n",
      "_________________________________________________________________\n",
      "flatten (Flatten)            (None, 1600)              0         \n",
      "_________________________________________________________________\n",
      "dense (Dense)                (None, 512)               819712    \n",
      "_________________________________________________________________\n",
      "activation_4 (Activation)    (None, 512)               0         \n",
      "_________________________________________________________________\n",
      "dropout_2 (Dropout)          (None, 512)               0         \n",
      "_________________________________________________________________\n",
      "dense_1 (Dense)              (None, 128)               65664     \n",
      "_________________________________________________________________\n",
      "activation_5 (Activation)    (None, 128)               0         \n",
      "_________________________________________________________________\n",
      "dropout_3 (Dropout)          (None, 128)               0         \n",
      "_________________________________________________________________\n",
      "dense_2 (Dense)              (None, 1)                 129       \n",
      "=================================================================\n",
      "Total params: 907,297\n",
      "Trainable params: 907,297\n",
      "Non-trainable params: 0\n",
      "_________________________________________________________________\n"
     ]
    }
   ],
   "source": [
    "# initiate RMSprop optimizer\n",
    "# opt = keras.optimizers.rmsprop(lr=0.0001, decay=1e-6)\n",
    "\n",
    "# Let's train the model using RMSprop\n",
    "model.compile(loss='binary_crossentropy',\n",
    "              optimizer='adam',\n",
    "              metrics=['accuracy'])#, km.binary_precision(), km.binary_recall()])\n",
    "\n",
    "X_train = X_train.values[..., None].astype('float32')\n",
    "X_val = X_val.values[..., None].astype('float32')\n",
    "X_test = X_test.values[..., None].astype('float32')\n",
    "model.summary()\n"
   ]
  },
  {
   "cell_type": "code",
   "execution_count": 14,
   "metadata": {},
   "outputs": [
    {
     "data": {
      "text/plain": [
       "(31085, 109, 1)"
      ]
     },
     "execution_count": 14,
     "metadata": {},
     "output_type": "execute_result"
    }
   ],
   "source": [
    "X_train.shape"
   ]
  },
  {
   "cell_type": "code",
   "execution_count": 15,
   "metadata": {},
   "outputs": [
    {
     "name": "stdout",
     "output_type": "stream",
     "text": [
      "Train on 31085 samples, validate on 7772 samples\n",
      "WARNING:tensorflow:From C:\\Users\\64877\\Anaconda3\\envs\\MS_fianl_GPU\\lib\\site-packages\\tensorflow\\python\\ops\\math_ops.py:3066: to_int32 (from tensorflow.python.ops.math_ops) is deprecated and will be removed in a future version.\n",
      "Instructions for updating:\n",
      "Use tf.cast instead.\n",
      "Epoch 1/30\n",
      "31085/31085 [==============================] - 7s 232us/sample - loss: 0.4729 - acc: 0.7748 - val_loss: 0.4182 - val_acc: 0.8089\n",
      "Epoch 2/30\n",
      "31085/31085 [==============================] - 5s 171us/sample - loss: 0.4151 - acc: 0.8069 - val_loss: 0.3831 - val_acc: 0.8204\n",
      "Epoch 3/30\n",
      "31085/31085 [==============================] - 5s 170us/sample - loss: 0.3814 - acc: 0.8241 - val_loss: 0.3699 - val_acc: 0.8290\n",
      "Epoch 4/30\n",
      "31085/31085 [==============================] - 5s 158us/sample - loss: 0.3685 - acc: 0.8310 - val_loss: 0.3569 - val_acc: 0.8358\n",
      "Epoch 5/30\n",
      "31085/31085 [==============================] - 5s 156us/sample - loss: 0.3552 - acc: 0.8379 - val_loss: 0.3476 - val_acc: 0.8439\n",
      "Epoch 6/30\n",
      "31085/31085 [==============================] - 5s 166us/sample - loss: 0.3442 - acc: 0.8443 - val_loss: 0.3381 - val_acc: 0.8424\n",
      "Epoch 7/30\n",
      "31085/31085 [==============================] - 5s 170us/sample - loss: 0.3389 - acc: 0.8493 - val_loss: 0.3306 - val_acc: 0.8536\n",
      "Epoch 8/30\n",
      "31085/31085 [==============================] - 5s 151us/sample - loss: 0.3289 - acc: 0.8541 - val_loss: 0.3240 - val_acc: 0.8537\n",
      "Epoch 9/30\n",
      "31085/31085 [==============================] - 5s 173us/sample - loss: 0.3233 - acc: 0.8571 - val_loss: 0.3193 - val_acc: 0.8563\n",
      "Epoch 10/30\n",
      "31085/31085 [==============================] - 5s 158us/sample - loss: 0.3145 - acc: 0.8632 - val_loss: 0.3098 - val_acc: 0.8610\n",
      "Epoch 11/30\n",
      "31085/31085 [==============================] - 5s 153us/sample - loss: 0.3028 - acc: 0.8688 - val_loss: 0.3177 - val_acc: 0.8650\n",
      "Epoch 12/30\n",
      "31085/31085 [==============================] - 5s 161us/sample - loss: 0.2945 - acc: 0.8727 - val_loss: 0.3069 - val_acc: 0.8675\n",
      "Epoch 13/30\n",
      "31085/31085 [==============================] - 5s 153us/sample - loss: 0.2902 - acc: 0.8746 - val_loss: 0.3035 - val_acc: 0.8689\n",
      "Epoch 14/30\n",
      "31085/31085 [==============================] - 5s 151us/sample - loss: 0.2811 - acc: 0.8778 - val_loss: 0.3097 - val_acc: 0.8713\n",
      "Epoch 15/30\n",
      "31085/31085 [==============================] - 5s 153us/sample - loss: 0.2722 - acc: 0.8849 - val_loss: 0.2962 - val_acc: 0.8738\n",
      "Epoch 16/30\n",
      "31085/31085 [==============================] - 5s 172us/sample - loss: 0.2693 - acc: 0.8848 - val_loss: 0.2945 - val_acc: 0.8734\n",
      "Epoch 17/30\n",
      "31085/31085 [==============================] - 5s 168us/sample - loss: 0.2606 - acc: 0.8881 - val_loss: 0.2974 - val_acc: 0.8782\n",
      "Epoch 18/30\n",
      "31085/31085 [==============================] - 5s 159us/sample - loss: 0.2567 - acc: 0.8898 - val_loss: 0.2878 - val_acc: 0.8802\n",
      "Epoch 19/30\n",
      "31085/31085 [==============================] - 5s 147us/sample - loss: 0.2505 - acc: 0.8955 - val_loss: 0.2919 - val_acc: 0.8791\n",
      "Epoch 20/30\n",
      "31085/31085 [==============================] - 5s 154us/sample - loss: 0.2428 - acc: 0.8975 - val_loss: 0.2869 - val_acc: 0.8820\n",
      "Epoch 21/30\n",
      "31085/31085 [==============================] - 5s 151us/sample - loss: 0.2369 - acc: 0.8999 - val_loss: 0.2812 - val_acc: 0.8820\n",
      "Epoch 22/30\n",
      "31085/31085 [==============================] - 5s 151us/sample - loss: 0.2370 - acc: 0.9016 - val_loss: 0.2906 - val_acc: 0.8823\n",
      "Epoch 23/30\n",
      "31085/31085 [==============================] - 5s 152us/sample - loss: 0.2277 - acc: 0.9028 - val_loss: 0.2775 - val_acc: 0.8832\n",
      "Epoch 24/30\n",
      "31085/31085 [==============================] - 5s 151us/sample - loss: 0.2222 - acc: 0.9079 - val_loss: 0.2779 - val_acc: 0.8852\n",
      "Epoch 25/30\n",
      "31085/31085 [==============================] - 5s 152us/sample - loss: 0.2182 - acc: 0.9084 - val_loss: 0.2890 - val_acc: 0.8868\n",
      "Epoch 26/30\n",
      "31085/31085 [==============================] - 5s 153us/sample - loss: 0.2168 - acc: 0.9106 - val_loss: 0.2851 - val_acc: 0.8872\n",
      "Saved trained model at C:\\Users\\64877\\Repositories\\DS590 Final Project\\DS_final\\Process Books\\saved_models\\keras_trained_model_one_year.h5 \n"
     ]
    }
   ],
   "source": [
    "if train_model:\n",
    "    hist = model.fit(X_train, y_train,\n",
    "              batch_size=64,\n",
    "              epochs=30,\n",
    "              verbose = 1,\n",
    "              validation_data=(X_val, y_val),\n",
    "              shuffle=True,\n",
    "                callbacks= [keras.callbacks.EarlyStopping(patience=3, restore_best_weights=True)] )\n",
    "    \n",
    "    # Save model and weights\n",
    "    if not os.path.isdir(save_dir):\n",
    "        os.makedirs(save_dir)\n",
    "    model_path = os.path.join(save_dir, model_name)\n",
    "    model.save(model_path)\n",
    "    print('Saved trained model at %s ' % model_path)\n",
    "\n",
    "else:\n",
    "    # load weights \n",
    "    filepath = './saved_models/keras_trained_model_one_year.h5'\n",
    "    model.load_weights(filepath, by_name=False)\n"
   ]
  },
  {
   "cell_type": "code",
   "execution_count": 16,
   "metadata": {},
   "outputs": [
    {
     "name": "stdout",
     "output_type": "stream",
     "text": [
      "19139/19139 [==============================] - 2s 81us/sample - loss: 0.2622 - acc: 0.8894\n",
      "Test loss: 0.26222781873073525\n",
      "Test accuracy: 0.8894404\n"
     ]
    }
   ],
   "source": [
    "\n",
    "# Score trained model.\n",
    "scores = model.evaluate(X_test, y_test, verbose=1)\n",
    "print('Test loss:', scores[0])\n",
    "print('Test accuracy:', scores[1])"
   ]
  },
  {
   "cell_type": "code",
   "execution_count": 17,
   "metadata": {},
   "outputs": [
    {
     "data": {
      "text/plain": [
       "0.9416261967032793"
      ]
     },
     "execution_count": 17,
     "metadata": {},
     "output_type": "execute_result"
    }
   ],
   "source": [
    "y_score = model.predict(X_test)\n",
    "fpr, tpr, thresholds = metrics.roc_curve(y_test, y_score)\n",
    "auc = metrics.auc(fpr, tpr)\n",
    "auc"
   ]
  },
  {
   "cell_type": "code",
   "execution_count": 18,
   "metadata": {},
   "outputs": [
    {
     "data": {
      "image/png": "[encoded data removed]",
      "text/plain": [
       "<Figure size 432x288 with 1 Axes>"
      ]
     },
     "metadata": {},
     "output_type": "display_data"
    }
   ],
   "source": [
    "plot_ROC(fpr, tpr, auc, title = 'ROC curve for simple CNN, 1 year')"
   ]
  },
  {
   "cell_type": "code",
   "execution_count": 19,
   "metadata": {},
   "outputs": [
    {
     "data": {
      "image/png": "[encoded data removed]",
      "text/plain": [
       "<Figure size 432x288 with 2 Axes>"
      ]
     },
     "metadata": {},
     "output_type": "display_data"
    }
   ],
   "source": [
    "y_pred = probability_to_label(y_score, threshold=0.5)\n",
    "plot_cm(y_test, y_pred)"
   ]
  },
  {
   "cell_type": "code",
   "execution_count": 20,
   "metadata": {},
   "outputs": [
    {
     "name": "stdout",
     "output_type": "stream",
     "text": [
      "Average precision-recall score: 0.92\n"
     ]
    }
   ],
   "source": [
    "average_precision = metrics.average_precision_score(y_test, y_score)\n",
    "print('Average precision-recall score: {0:0.2f}'.format(\n",
    "      average_precision))"
   ]
  },
  {
   "cell_type": "code",
   "execution_count": 21,
   "metadata": {
    "scrolled": true
   },
   "outputs": [
    {
     "data": {
      "image/png": "[encoded data removed]",
      "text/plain": [
       "<Figure size 432x288 with 1 Axes>"
      ]
     },
     "metadata": {},
     "output_type": "display_data"
    }
   ],
   "source": [
    "precision, recall, _ = metrics.precision_recall_curve(y_test, y_score)\n",
    "plot_PRC(precision, recall, average_precision)"
   ]
  },
  {
   "cell_type": "code",
   "execution_count": null,
   "metadata": {},
   "outputs": [],
   "source": []
  },
  {
   "cell_type": "code",
   "execution_count": null,
   "metadata": {},
   "outputs": [],
   "source": []
  },
  {
   "cell_type": "code",
   "execution_count": null,
   "metadata": {},
   "outputs": [],
   "source": []
  },
  {
   "cell_type": "markdown",
   "metadata": {},
   "source": [
    "# Modified VGG16\n",
    "[reference](https://gist.github.com/baraldilorenzo/07d7802847aaad0a35d3)"
   ]
  },
  {
   "cell_type": "code",
   "execution_count": 22,
   "metadata": {},
   "outputs": [],
   "source": [
    "model = Sequential()\n",
    "model.add(ZeroPadding1D(1,input_shape=[X_train.shape[1],1]))\n",
    "model.add(Convolution1D(64, 3, activation='relu'))\n",
    "model.add(ZeroPadding1D(1))\n",
    "model.add(Convolution1D(64, 3, activation='relu'))\n",
    "model.add(MaxPooling1D(2, strides=2))\n",
    "\n",
    "model.add(ZeroPadding1D(1))\n",
    "model.add(Convolution1D(128, 3, activation='relu'))\n",
    "model.add(ZeroPadding1D(1))\n",
    "model.add(Convolution1D(128, 3, activation='relu'))\n",
    "model.add(MaxPooling1D(2, strides=2))\n",
    "\n",
    "model.add(ZeroPadding1D(1))\n",
    "model.add(Convolution1D(256, 3, activation='relu'))\n",
    "model.add(ZeroPadding1D(1))\n",
    "model.add(Convolution1D(256, 3, activation='relu'))\n",
    "model.add(ZeroPadding1D(1))\n",
    "model.add(Convolution1D(256, 3, activation='relu'))\n",
    "model.add(MaxPooling1D(2, strides=2))\n",
    "\n",
    "model.add(ZeroPadding1D(1))\n",
    "model.add(Convolution1D(512, 3, activation='relu'))\n",
    "model.add(ZeroPadding1D(1))\n",
    "model.add(Convolution1D(512, 3, activation='relu'))\n",
    "model.add(ZeroPadding1D(1))\n",
    "model.add(Convolution1D(512, 3, activation='relu'))\n",
    "model.add(MaxPooling1D(2, strides=2))\n",
    "\n",
    "model.add(Flatten())\n",
    "model.add(Dense(2048, activation='relu'))\n",
    "model.add(Dropout(0.5))\n",
    "model.add(Dense(1024, activation='relu'))\n",
    "model.add(Dropout(0.5))\n",
    "# model.add(Dense(num_classes, activation='softmax'))\n",
    "model.add(Dense(1, activation='sigmoid'))\n",
    "\n"
   ]
  },
  {
   "cell_type": "code",
   "execution_count": 23,
   "metadata": {
    "scrolled": true
   },
   "outputs": [
    {
     "name": "stdout",
     "output_type": "stream",
     "text": [
      "_________________________________________________________________\n",
      "Layer (type)                 Output Shape              Param #   \n",
      "=================================================================\n",
      "zero_padding1d (ZeroPadding1 (None, 111, 1)            0         \n",
      "_________________________________________________________________\n",
      "conv1d_4 (Conv1D)            (None, 109, 64)           256       \n",
      "_________________________________________________________________\n",
      "zero_padding1d_1 (ZeroPaddin (None, 111, 64)           0         \n",
      "_________________________________________________________________\n",
      "conv1d_5 (Conv1D)            (None, 109, 64)           12352     \n",
      "_________________________________________________________________\n",
      "max_pooling1d_2 (MaxPooling1 (None, 54, 64)            0         \n",
      "_________________________________________________________________\n",
      "zero_padding1d_2 (ZeroPaddin (None, 56, 64)            0         \n",
      "_________________________________________________________________\n",
      "conv1d_6 (Conv1D)            (None, 54, 128)           24704     \n",
      "_________________________________________________________________\n",
      "zero_padding1d_3 (ZeroPaddin (None, 56, 128)           0         \n",
      "_________________________________________________________________\n",
      "conv1d_7 (Conv1D)            (None, 54, 128)           49280     \n",
      "_________________________________________________________________\n",
      "max_pooling1d_3 (MaxPooling1 (None, 27, 128)           0         \n",
      "_________________________________________________________________\n",
      "zero_padding1d_4 (ZeroPaddin (None, 29, 128)           0         \n",
      "_________________________________________________________________\n",
      "conv1d_8 (Conv1D)            (None, 27, 256)           98560     \n",
      "_________________________________________________________________\n",
      "zero_padding1d_5 (ZeroPaddin (None, 29, 256)           0         \n",
      "_________________________________________________________________\n",
      "conv1d_9 (Conv1D)            (None, 27, 256)           196864    \n",
      "_________________________________________________________________\n",
      "zero_padding1d_6 (ZeroPaddin (None, 29, 256)           0         \n",
      "_________________________________________________________________\n",
      "conv1d_10 (Conv1D)           (None, 27, 256)           196864    \n",
      "_________________________________________________________________\n",
      "max_pooling1d_4 (MaxPooling1 (None, 13, 256)           0         \n",
      "_________________________________________________________________\n",
      "zero_padding1d_7 (ZeroPaddin (None, 15, 256)           0         \n",
      "_________________________________________________________________\n",
      "conv1d_11 (Conv1D)           (None, 13, 512)           393728    \n",
      "_________________________________________________________________\n",
      "zero_padding1d_8 (ZeroPaddin (None, 15, 512)           0         \n",
      "_________________________________________________________________\n",
      "conv1d_12 (Conv1D)           (None, 13, 512)           786944    \n",
      "_________________________________________________________________\n",
      "zero_padding1d_9 (ZeroPaddin (None, 15, 512)           0         \n",
      "_________________________________________________________________\n",
      "conv1d_13 (Conv1D)           (None, 13, 512)           786944    \n",
      "_________________________________________________________________\n",
      "max_pooling1d_5 (MaxPooling1 (None, 6, 512)            0         \n",
      "_________________________________________________________________\n",
      "flatten_1 (Flatten)          (None, 3072)              0         \n",
      "_________________________________________________________________\n",
      "dense_3 (Dense)              (None, 2048)              6293504   \n",
      "_________________________________________________________________\n",
      "dropout_4 (Dropout)          (None, 2048)              0         \n",
      "_________________________________________________________________\n",
      "dense_4 (Dense)              (None, 1024)              2098176   \n",
      "_________________________________________________________________\n",
      "dropout_5 (Dropout)          (None, 1024)              0         \n",
      "_________________________________________________________________\n",
      "dense_5 (Dense)              (None, 1)                 1025      \n",
      "=================================================================\n",
      "Total params: 10,939,201\n",
      "Trainable params: 10,939,201\n",
      "Non-trainable params: 0\n",
      "_________________________________________________________________\n"
     ]
    }
   ],
   "source": [
    "model.compile(loss='binary_crossentropy',\n",
    "              optimizer='adam',\n",
    "              metrics=['accuracy'] )\n",
    "model.summary()"
   ]
  },
  {
   "cell_type": "code",
   "execution_count": 24,
   "metadata": {},
   "outputs": [
    {
     "name": "stdout",
     "output_type": "stream",
     "text": [
      "Train on 31085 samples, validate on 7772 samples\n",
      "Epoch 1/30\n",
      "31085/31085 [==============================] - 27s 859us/sample - loss: 0.5093 - acc: 0.7551 - val_loss: 0.4468 - val_acc: 0.7926\n",
      "Epoch 2/30\n",
      "31085/31085 [==============================] - 27s 855us/sample - loss: 0.3916 - acc: 0.8182 - val_loss: 0.3876 - val_acc: 0.8286\n",
      "Epoch 3/30\n",
      "31085/31085 [==============================] - 23s 755us/sample - loss: 0.3603 - acc: 0.8356 - val_loss: 0.3623 - val_acc: 0.8327\n",
      "Epoch 4/30\n",
      "31085/31085 [==============================] - 23s 753us/sample - loss: 0.3374 - acc: 0.8479 - val_loss: 0.3529 - val_acc: 0.8426\n",
      "Epoch 5/30\n",
      "31085/31085 [==============================] - 23s 753us/sample - loss: 0.3259 - acc: 0.8545 - val_loss: 0.3538 - val_acc: 0.8464\n",
      "Epoch 6/30\n",
      "31085/31085 [==============================] - 23s 752us/sample - loss: 0.3063 - acc: 0.8674 - val_loss: 0.3396 - val_acc: 0.8501\n",
      "Epoch 7/30\n",
      "31085/31085 [==============================] - 23s 751us/sample - loss: 0.2863 - acc: 0.8790 - val_loss: 0.3273 - val_acc: 0.8613\n",
      "Epoch 8/30\n",
      "31085/31085 [==============================] - 27s 856us/sample - loss: 0.2776 - acc: 0.8824 - val_loss: 0.3262 - val_acc: 0.8693\n",
      "Epoch 9/30\n",
      "31085/31085 [==============================] - 28s 895us/sample - loss: 0.2542 - acc: 0.8949 - val_loss: 0.3150 - val_acc: 0.8697\n",
      "Epoch 10/30\n",
      "31085/31085 [==============================] - 28s 887us/sample - loss: 0.2390 - acc: 0.9005 - val_loss: 0.3304 - val_acc: 0.8691\n",
      "Epoch 11/30\n",
      "31085/31085 [==============================] - 28s 904us/sample - loss: 0.2188 - acc: 0.9091 - val_loss: 0.3331 - val_acc: 0.8694\n",
      "Epoch 12/30\n",
      "31085/31085 [==============================] - 28s 915us/sample - loss: 0.1989 - acc: 0.9177 - val_loss: 0.3395 - val_acc: 0.8708\n",
      "Saved trained model at C:\\Users\\64877\\Repositories\\DS590 Final Project\\DS_final\\Process Books\\saved_models\\Modified_VGG_one_year.h5 \n"
     ]
    }
   ],
   "source": [
    "if train_model:\n",
    "    hist = model.fit(X_train, y_train,\n",
    "              batch_size=64,\n",
    "              epochs=30,\n",
    "              verbose = 1,\n",
    "              validation_data=(X_val, y_val),\n",
    "              shuffle=True,\n",
    "                callbacks= [keras.callbacks.EarlyStopping(patience=3, restore_best_weights=True)] )\n",
    "    # Save model and weights\n",
    "    if not os.path.isdir(save_dir):\n",
    "        os.makedirs(save_dir)\n",
    "    model_path = os.path.join(save_dir, 'Modified_VGG_one_year.h5')\n",
    "    model.save(model_path)\n",
    "    print('Saved trained model at %s ' % model_path)\n",
    "else:\n",
    "    # load weights \n",
    "    filepath = './saved_models/Modified_VGG_one_year.h5'\n",
    "    model.load_weights(filepath, by_name=False)\n"
   ]
  },
  {
   "cell_type": "code",
   "execution_count": 25,
   "metadata": {
    "scrolled": true
   },
   "outputs": [
    {
     "name": "stdout",
     "output_type": "stream",
     "text": [
      "19139/19139 [==============================] - 6s 306us/sample - loss: 0.3043 - acc: 0.8705\n",
      "Test loss: 0.30427640165830583\n",
      "Test accuracy: 0.87052613\n"
     ]
    }
   ],
   "source": [
    "\n",
    "\n",
    "# Score trained model.\n",
    "scores = model.evaluate(X_test, y_test, verbose=1)\n",
    "print('Test loss:', scores[0])\n",
    "print('Test accuracy:', scores[1])"
   ]
  },
  {
   "cell_type": "code",
   "execution_count": 26,
   "metadata": {},
   "outputs": [
    {
     "data": {
      "text/plain": [
       "0.9247142893578602"
      ]
     },
     "execution_count": 26,
     "metadata": {},
     "output_type": "execute_result"
    }
   ],
   "source": [
    "y_score = model.predict(X_test)\n",
    "fpr, tpr, thresholds = metrics.roc_curve(y_test, y_score)\n",
    "auc = metrics.auc(fpr, tpr)\n",
    "auc"
   ]
  },
  {
   "cell_type": "code",
   "execution_count": 27,
   "metadata": {},
   "outputs": [
    {
     "data": {
      "image/png": "[encoded data removed]",
      "text/plain": [
       "<Figure size 432x288 with 1 Axes>"
      ]
     },
     "metadata": {},
     "output_type": "display_data"
    }
   ],
   "source": [
    "plot_ROC(fpr, tpr, auc, title = 'ROC curve for simple CNN, 1 year')"
   ]
  },
  {
   "cell_type": "code",
   "execution_count": 28,
   "metadata": {},
   "outputs": [
    {
     "data": {
      "image/png": "[encoded data removed]",
      "text/plain": [
       "<Figure size 432x288 with 2 Axes>"
      ]
     },
     "metadata": {},
     "output_type": "display_data"
    }
   ],
   "source": [
    "y_pred = probability_to_label(y_score, threshold=0.5)\n",
    "plot_cm(y_test, y_pred)"
   ]
  },
  {
   "cell_type": "code",
   "execution_count": 29,
   "metadata": {},
   "outputs": [
    {
     "name": "stdout",
     "output_type": "stream",
     "text": [
      "Average precision-recall score: 0.90\n"
     ]
    }
   ],
   "source": [
    "average_precision = metrics.average_precision_score(y_test, y_score)\n",
    "print('Average precision-recall score: {0:0.2f}'.format(\n",
    "      average_precision))"
   ]
  },
  {
   "cell_type": "code",
   "execution_count": 30,
   "metadata": {
    "scrolled": true
   },
   "outputs": [
    {
     "data": {
      "image/png": "[encoded data removed]",
      "text/plain": [
       "<Figure size 432x288 with 1 Axes>"
      ]
     },
     "metadata": {},
     "output_type": "display_data"
    }
   ],
   "source": [
    "precision, recall, _ = metrics.precision_recall_curve(y_test, y_score)\n",
    "plot_PRC(precision, recall, average_precision)"
   ]
  },
  {
   "cell_type": "code",
   "execution_count": null,
   "metadata": {},
   "outputs": [],
   "source": []
  },
  {
   "cell_type": "code",
   "execution_count": null,
   "metadata": {},
   "outputs": [],
   "source": []
  },
  {
   "cell_type": "code",
   "execution_count": null,
   "metadata": {},
   "outputs": [],
   "source": []
  },
  {
   "cell_type": "code",
   "execution_count": null,
   "metadata": {},
   "outputs": [],
   "source": []
  }
 ],
 "metadata": {
  "kernelspec": {
   "display_name": "Python 3",
   "language": "python",
   "name": "python3"
  },
  "language_info": {
   "codemirror_mode": {
    "name": "ipython",
    "version": 3
   },
   "file_extension": ".py",
   "mimetype": "text/x-python",
   "name": "python",
   "nbconvert_exporter": "python",
   "pygments_lexer": "ipython3",
   "version": "3.7.3"
  }
 },
 "nbformat": 4,
 "nbformat_minor": 2
}
