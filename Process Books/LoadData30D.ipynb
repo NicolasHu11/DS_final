{
 "cells": [
  {
   "cell_type": "markdown",
   "metadata": {},
   "source": [
    "## Load Train and Test Data for 30 Day Mortality"
   ]
  },
  {
   "cell_type": "code",
   "execution_count": 147,
   "metadata": {},
   "outputs": [],
   "source": [
    "# Import libraries\n",
    "import numpy as np\n",
    "import pandas as pd"
   ]
  },
  {
   "cell_type": "code",
   "execution_count": 84,
   "metadata": {},
   "outputs": [],
   "source": [
    "data_train_30d = pd.read_csv('data_pp_train_30d.csv')\n",
    "data_test_30d = pd.read_csv('data_pp_test_30d.csv')"
   ]
  },
  {
   "cell_type": "code",
   "execution_count": 85,
   "metadata": {},
   "outputs": [],
   "source": [
    "X_train = data_train_30d.copy()\n",
    "y_train = data_train_30d.copy()\n",
    "X_test = data_test_30d.copy()\n",
    "y_test  = data_test_30d.copy()"
   ]
  },
  {
   "cell_type": "code",
   "execution_count": 86,
   "metadata": {},
   "outputs": [
    {
     "name": "stdout",
     "output_type": "stream",
     "text": [
      "X_train shape: (38857, 106)\n",
      "38857 train samples\n",
      "19139 test samples\n"
     ]
    }
   ],
   "source": [
    "X_train = X_train.drop(['one_year', 'thirty_days'], axis = 1)\n",
    "y_train = y_train[['thirty_days']]\n",
    "\n",
    "X_test = X_test.drop(['one_year', 'thirty_days'], axis = 1)\n",
    "y_test = y_test[['thirty_days']]\n",
    "\n",
    "y_train = y_train['thirty_days']\n",
    "y_test = y_test['thirty_days']\n",
    "\n",
    "print('Loaded 30 Days Train Sample:')\n",
    "print('X_train shape:', X_train.shape)\n",
    "print(X_train.shape[0], 'train samples')\n",
    "\n",
    "print('Loaded 30 Days Test Sample:')\n",
    "print('X_test shape:', X_train.shape)\n",
    "print(X_test.shape[0], 'test samples')"
   ]
  }
 ],
 "metadata": {
  "kernelspec": {
   "display_name": "Python 3",
   "language": "python",
   "name": "python3"
  },
  "language_info": {
   "codemirror_mode": {
    "name": "ipython",
    "version": 3
   },
   "file_extension": ".py",
   "mimetype": "text/x-python",
   "name": "python",
   "nbconvert_exporter": "python",
   "pygments_lexer": "ipython3",
   "version": "3.6.5"
  }
 },
 "nbformat": 4,
 "nbformat_minor": 2
}
