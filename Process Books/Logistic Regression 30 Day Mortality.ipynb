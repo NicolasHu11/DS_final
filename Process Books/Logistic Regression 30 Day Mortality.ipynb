{
 "cells": [
  {
   "cell_type": "markdown",
   "metadata": {},
   "source": [
    "## Logistic Regression 30 Day Mortality"
   ]
  },
  {
   "cell_type": "code",
   "execution_count": 43,
   "metadata": {},
   "outputs": [],
   "source": [
    "# Import libraries\n",
    "import numpy as np\n",
    "import pandas as pd\n",
    "import matplotlib.pyplot as plt\n",
    "from sklearn.model_selection import train_test_split\n",
    "from sklearn.metrics import roc_curve\n",
    "from sklearn.linear_model import LogisticRegressionCV\n",
    "\n",
    "# %matplotlib inline\n",
    "plt.rcParams.update({'figure.titlesize': 'larger', 'legend.fontsize': 15.0})"
   ]
  },
  {
   "cell_type": "code",
   "execution_count": 7,
   "metadata": {},
   "outputs": [],
   "source": [
    "data_train_30d = pd.read_csv('data_pp_train_30d.csv')\n",
    "data_test_30d = pd.read_csv('data_pp_test_30d.csv')"
   ]
  },
  {
   "cell_type": "code",
   "execution_count": 36,
   "metadata": {},
   "outputs": [],
   "source": [
    "X_train = data_train_30d.copy()\n",
    "y_train = data_train_30d.copy()\n",
    "X_test = data_test_30d.copy()\n",
    "y_test  = data_test_30d.copy()"
   ]
  },
  {
   "cell_type": "code",
   "execution_count": 37,
   "metadata": {},
   "outputs": [
    {
     "name": "stdout",
     "output_type": "stream",
     "text": [
      "X_train shape: (38857, 109)\n",
      "38857 train samples\n",
      "19139 test samples\n"
     ]
    }
   ],
   "source": [
    "X_train = X_train.drop(['one_year', 'thirty_days'], axis = 1)\n",
    "y_train = y_train[['thirty_days']]\n",
    "\n",
    "X_test = X_test.drop(['one_year', 'thirty_days'], axis = 1)\n",
    "y_test = y_test[['thirty_days']]\n",
    "\n",
    "\n",
    "y_train = y_train['thirty_days']\n",
    "y_test = y_test['thirty_days']\n",
    "\n",
    "\n",
    "print('X_train shape:', X_train.shape)\n",
    "print(X_train.shape[0], 'train samples')\n",
    "print(X_test.shape[0], 'test samples')"
   ]
  },
  {
   "cell_type": "code",
   "execution_count": 39,
   "metadata": {},
   "outputs": [],
   "source": [
    "clf = LogisticRegressionCV(\n",
    "    Cs=40,\n",
    "    fit_intercept=True,\n",
    "    cv=40,\n",
    "    dual=False,\n",
    "    penalty='l2',\n",
    "    scoring=None,\n",
    "    solver='lbfgs',\n",
    "    tol=0.0001,\n",
    "    max_iter=100,\n",
    "    class_weight=None,\n",
    "    n_jobs=-1,\n",
    "    verbose=0,\n",
    "    refit=True,\n",
    "    intercept_scaling=1.0,\n",
    "    multi_class='ovr',\n",
    "    random_state=None,\n",
    ").fit(X_train, y_train)"
   ]
  },
  {
   "cell_type": "code",
   "execution_count": 40,
   "metadata": {},
   "outputs": [
    {
     "data": {
      "text/plain": [
       "0.8988452897225561"
      ]
     },
     "execution_count": 40,
     "metadata": {},
     "output_type": "execute_result"
    }
   ],
   "source": [
    "clf.score(X_test, y_test) "
   ]
  },
  {
   "cell_type": "code",
   "execution_count": 63,
   "metadata": {},
   "outputs": [],
   "source": [
    "y_p = clf.predict_proba(X_test)[:,1]"
   ]
  },
  {
   "cell_type": "code",
   "execution_count": 64,
   "metadata": {},
   "outputs": [],
   "source": [
    "fpr, tpr, thresholds = roc_curve(y_test, y_p)"
   ]
  },
  {
   "cell_type": "code",
   "execution_count": 65,
   "metadata": {},
   "outputs": [
    {
     "data": {
      "text/plain": [
       "[<matplotlib.lines.Line2D at 0x7fb073e2f630>]"
      ]
     },
     "execution_count": 65,
     "metadata": {},
     "output_type": "execute_result"
    },
    {
     "data": {
      "image/png": "[encoded data removed]",
      "text/plain": [
       "<Figure size 432x288 with 1 Axes>"
      ]
     },
     "metadata": {
      "needs_background": "light"
     },
     "output_type": "display_data"
    }
   ],
   "source": [
    "plt.plot(fpr,tpr)"
   ]
  },
  {
   "cell_type": "code",
   "execution_count": null,
   "metadata": {},
   "outputs": [],
   "source": []
  }
 ],
 "metadata": {
  "kernelspec": {
   "display_name": "Python 3",
   "language": "python",
   "name": "python3"
  },
  "language_info": {
   "codemirror_mode": {
    "name": "ipython",
    "version": 3
   },
   "file_extension": ".py",
   "mimetype": "text/x-python",
   "name": "python",
   "nbconvert_exporter": "python",
   "pygments_lexer": "ipython3",
   "version": "3.6.5"
  }
 },
 "nbformat": 4,
 "nbformat_minor": 2
}
