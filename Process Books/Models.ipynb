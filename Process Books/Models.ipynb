{
 "cells": [
  {
   "cell_type": "code",
   "execution_count": 97,
   "metadata": {},
   "outputs": [],
   "source": [
    "import pandas as pd\n",
    "import numpy as np\n",
    "import matplotlib.pyplot as plt\n",
    "from datetime import datetime\n",
    "import time\n",
    "from sklearn.naive_bayes import GaussianNB, ComplementNB\n",
    "from scipy import stats\n",
    "from sklearn.model_selection import train_test_split\n",
    "from sklearn.neighbors import KNeighborsRegressor\n",
    "import xgboost as xgb\n",
    "from sklearn.metrics import mean_squared_error\n",
    "from sklearn.model_selection import GridSearchCV, StratifiedKFold\n",
    "from sklearn.metrics import classification_report, confusion_matrix, precision_score, recall_score, roc_curve, auc\n",
    "%matplotlib inline\n"
   ]
  },
  {
   "cell_type": "markdown",
   "metadata": {},
   "source": [
    "## Load Data"
   ]
  },
  {
   "cell_type": "code",
   "execution_count": 55,
   "metadata": {},
   "outputs": [],
   "source": [
    "data = pd.read_csv('data_pre_processed.csv')"
   ]
  },
  {
   "cell_type": "code",
   "execution_count": 59,
   "metadata": {},
   "outputs": [
    {
     "data": {
      "text/plain": [
       "-1.7389533620324669"
      ]
     },
     "execution_count": 59,
     "metadata": {},
     "output_type": "execute_result"
    }
   ],
   "source": [
    "data.first_careunit.min()"
   ]
  },
  {
   "cell_type": "code",
   "execution_count": 75,
   "metadata": {},
   "outputs": [],
   "source": [
    "newdata = data.copy()\n",
    "for i in newdata.columns:\n",
    "    newdata[i] = newdata[i]+(newdata[i].min()*-1)"
   ]
  },
  {
   "cell_type": "code",
   "execution_count": 76,
   "metadata": {},
   "outputs": [
    {
     "data": {
      "text/html": [
       "<div>\n",
       "<style scoped>\n",
       "    .dataframe tbody tr th:only-of-type {\n",
       "        vertical-align: middle;\n",
       "    }\n",
       "\n",
       "    .dataframe tbody tr th {\n",
       "        vertical-align: top;\n",
       "    }\n",
       "\n",
       "    .dataframe thead th {\n",
       "        text-align: right;\n",
       "    }\n",
       "</style>\n",
       "<table border=\"1\" class=\"dataframe\">\n",
       "  <thead>\n",
       "    <tr style=\"text-align: right;\">\n",
       "      <th></th>\n",
       "      <th>first_careunit</th>\n",
       "      <th>last_careunit</th>\n",
       "      <th>age</th>\n",
       "      <th>age_category</th>\n",
       "      <th>gender</th>\n",
       "      <th>marital_status</th>\n",
       "      <th>insurance</th>\n",
       "      <th>urea_n_min</th>\n",
       "      <th>urea_n_max</th>\n",
       "      <th>urea_n_mean</th>\n",
       "      <th>...</th>\n",
       "      <th>spo2_max_mv</th>\n",
       "      <th>spo2_mean_mv</th>\n",
       "      <th>vent_mv</th>\n",
       "      <th>rrt_mv</th>\n",
       "      <th>urineoutput_mv</th>\n",
       "      <th>oasis_mv</th>\n",
       "      <th>lods_mv</th>\n",
       "      <th>sirs_mv</th>\n",
       "      <th>thirty_days</th>\n",
       "      <th>one_year</th>\n",
       "    </tr>\n",
       "  </thead>\n",
       "  <tbody>\n",
       "    <tr>\n",
       "      <th>0</th>\n",
       "      <td>2.801143</td>\n",
       "      <td>2.834418</td>\n",
       "      <td>1.142646</td>\n",
       "      <td>6.0</td>\n",
       "      <td>2.013841</td>\n",
       "      <td>4.793453</td>\n",
       "      <td>4.921145</td>\n",
       "      <td>1.126847</td>\n",
       "      <td>1.636261</td>\n",
       "      <td>1.412541</td>\n",
       "      <td>...</td>\n",
       "      <td>0.0</td>\n",
       "      <td>0.0</td>\n",
       "      <td>0.0</td>\n",
       "      <td>0.0</td>\n",
       "      <td>0.0</td>\n",
       "      <td>0.0</td>\n",
       "      <td>0.0</td>\n",
       "      <td>0.0</td>\n",
       "      <td>0.0</td>\n",
       "      <td>1.0</td>\n",
       "    </tr>\n",
       "    <tr>\n",
       "      <th>1</th>\n",
       "      <td>1.400571</td>\n",
       "      <td>2.125813</td>\n",
       "      <td>0.946329</td>\n",
       "      <td>5.0</td>\n",
       "      <td>0.000000</td>\n",
       "      <td>4.793453</td>\n",
       "      <td>4.921145</td>\n",
       "      <td>1.201970</td>\n",
       "      <td>2.855437</td>\n",
       "      <td>2.777256</td>\n",
       "      <td>...</td>\n",
       "      <td>0.0</td>\n",
       "      <td>0.0</td>\n",
       "      <td>0.0</td>\n",
       "      <td>0.0</td>\n",
       "      <td>0.0</td>\n",
       "      <td>0.0</td>\n",
       "      <td>0.0</td>\n",
       "      <td>0.0</td>\n",
       "      <td>0.0</td>\n",
       "      <td>0.0</td>\n",
       "    </tr>\n",
       "    <tr>\n",
       "      <th>2</th>\n",
       "      <td>2.801143</td>\n",
       "      <td>2.834418</td>\n",
       "      <td>0.498466</td>\n",
       "      <td>3.0</td>\n",
       "      <td>2.013841</td>\n",
       "      <td>1.597818</td>\n",
       "      <td>2.460572</td>\n",
       "      <td>1.201970</td>\n",
       "      <td>0.994590</td>\n",
       "      <td>1.125983</td>\n",
       "      <td>...</td>\n",
       "      <td>0.0</td>\n",
       "      <td>0.0</td>\n",
       "      <td>0.0</td>\n",
       "      <td>0.0</td>\n",
       "      <td>0.0</td>\n",
       "      <td>0.0</td>\n",
       "      <td>0.0</td>\n",
       "      <td>0.0</td>\n",
       "      <td>1.0</td>\n",
       "      <td>1.0</td>\n",
       "    </tr>\n",
       "    <tr>\n",
       "      <th>3</th>\n",
       "      <td>1.400571</td>\n",
       "      <td>2.125813</td>\n",
       "      <td>1.065603</td>\n",
       "      <td>6.0</td>\n",
       "      <td>2.013841</td>\n",
       "      <td>4.793453</td>\n",
       "      <td>4.921145</td>\n",
       "      <td>2.103448</td>\n",
       "      <td>1.251259</td>\n",
       "      <td>1.628341</td>\n",
       "      <td>...</td>\n",
       "      <td>0.0</td>\n",
       "      <td>0.0</td>\n",
       "      <td>0.0</td>\n",
       "      <td>0.0</td>\n",
       "      <td>0.0</td>\n",
       "      <td>0.0</td>\n",
       "      <td>0.0</td>\n",
       "      <td>0.0</td>\n",
       "      <td>1.0</td>\n",
       "      <td>1.0</td>\n",
       "    </tr>\n",
       "    <tr>\n",
       "      <th>4</th>\n",
       "      <td>0.700286</td>\n",
       "      <td>1.417209</td>\n",
       "      <td>0.462784</td>\n",
       "      <td>2.0</td>\n",
       "      <td>0.000000</td>\n",
       "      <td>1.597818</td>\n",
       "      <td>2.460572</td>\n",
       "      <td>0.976601</td>\n",
       "      <td>0.641671</td>\n",
       "      <td>0.781508</td>\n",
       "      <td>...</td>\n",
       "      <td>0.0</td>\n",
       "      <td>0.0</td>\n",
       "      <td>0.0</td>\n",
       "      <td>0.0</td>\n",
       "      <td>0.0</td>\n",
       "      <td>0.0</td>\n",
       "      <td>0.0</td>\n",
       "      <td>0.0</td>\n",
       "      <td>0.0</td>\n",
       "      <td>0.0</td>\n",
       "    </tr>\n",
       "  </tbody>\n",
       "</table>\n",
       "<p>5 rows × 112 columns</p>\n",
       "</div>"
      ],
      "text/plain": [
       "   first_careunit  last_careunit       age  age_category    gender  \\\n",
       "0        2.801143       2.834418  1.142646           6.0  2.013841   \n",
       "1        1.400571       2.125813  0.946329           5.0  0.000000   \n",
       "2        2.801143       2.834418  0.498466           3.0  2.013841   \n",
       "3        1.400571       2.125813  1.065603           6.0  2.013841   \n",
       "4        0.700286       1.417209  0.462784           2.0  0.000000   \n",
       "\n",
       "   marital_status  insurance  urea_n_min  urea_n_max  urea_n_mean  ...  \\\n",
       "0        4.793453   4.921145    1.126847    1.636261     1.412541  ...   \n",
       "1        4.793453   4.921145    1.201970    2.855437     2.777256  ...   \n",
       "2        1.597818   2.460572    1.201970    0.994590     1.125983  ...   \n",
       "3        4.793453   4.921145    2.103448    1.251259     1.628341  ...   \n",
       "4        1.597818   2.460572    0.976601    0.641671     0.781508  ...   \n",
       "\n",
       "   spo2_max_mv  spo2_mean_mv  vent_mv  rrt_mv  urineoutput_mv  oasis_mv  \\\n",
       "0          0.0           0.0      0.0     0.0             0.0       0.0   \n",
       "1          0.0           0.0      0.0     0.0             0.0       0.0   \n",
       "2          0.0           0.0      0.0     0.0             0.0       0.0   \n",
       "3          0.0           0.0      0.0     0.0             0.0       0.0   \n",
       "4          0.0           0.0      0.0     0.0             0.0       0.0   \n",
       "\n",
       "   lods_mv  sirs_mv  thirty_days  one_year  \n",
       "0      0.0      0.0          0.0       1.0  \n",
       "1      0.0      0.0          0.0       0.0  \n",
       "2      0.0      0.0          1.0       1.0  \n",
       "3      0.0      0.0          1.0       1.0  \n",
       "4      0.0      0.0          0.0       0.0  \n",
       "\n",
       "[5 rows x 112 columns]"
      ]
     },
     "execution_count": 76,
     "metadata": {},
     "output_type": "execute_result"
    }
   ],
   "source": [
    "newdata.head()"
   ]
  },
  {
   "cell_type": "markdown",
   "metadata": {},
   "source": [
    "# Separate Data into train test sets*"
   ]
  },
  {
   "cell_type": "code",
   "execution_count": 98,
   "metadata": {},
   "outputs": [],
   "source": [
    "K = 5\n",
    "eval_size = int(np.round(1./K))\n",
    "skf = StratifiedKFold(n_splits=K)\n",
    "train, test = train_test_split(newdata,test_size=0.2)\n",
    "X_train = train.drop(['thirty_days','one_year'],axis=1).values\n",
    "y_30day_train = train.thirty_days.values\n",
    "y_1yr_train = train.one_year.values\n",
    "X_test = test.drop(['thirty_days','one_year'],axis=1).values\n",
    "y_30day_test = test.thirty_days.values\n",
    "y_1yr_test = test.one_year.values"
   ]
  },
  {
   "cell_type": "code",
   "execution_count": 105,
   "metadata": {},
   "outputs": [
    {
     "name": "stdout",
     "output_type": "stream",
     "text": [
      "[10949 10950 10953 ... 57993 57994 57995]\n",
      "[    0     1     2 ... 11732 11733 11734]\n",
      "[    0     1     2 ... 57993 57994 57995]\n",
      "[10949 10950 10953 ... 23419 23420 23421]\n",
      "[    0     1     2 ... 57993 57994 57995]\n",
      "[21912 21925 21945 ... 35042 35043 35044]\n",
      "[    0     1     2 ... 57993 57994 57995]\n",
      "[33183 33203 33215 ... 46534 46535 46536]\n",
      "[    0     1     2 ... 46534 46535 46536]\n",
      "[45394 45395 45396 ... 57993 57994 57995]\n"
     ]
    }
   ],
   "source": [
    "for x,y in skf.split(newdata.drop(['thirty_days','one_year'],axis=1).values, newdata.thirty_days.values):\n",
    "    print(x)\n",
    "    print(y)"
   ]
  },
  {
   "cell_type": "markdown",
   "metadata": {},
   "source": [
    "# Naive Bayes"
   ]
  },
  {
   "cell_type": "markdown",
   "metadata": {},
   "source": [
    "### Generate Gaussian Model and Fit Data"
   ]
  },
  {
   "cell_type": "code",
   "execution_count": 81,
   "metadata": {},
   "outputs": [
    {
     "data": {
      "text/plain": [
       "GaussianNB(priors=None, var_smoothing=1e-09)"
      ]
     },
     "execution_count": 81,
     "metadata": {},
     "output_type": "execute_result"
    }
   ],
   "source": [
    "NBmodel30 = GaussianNB()\n",
    "NBmodel1yr = GaussianNB()\n",
    "NBmodel30.fit(X_train,y_30day_train)\n",
    "NBmodel1yr.fit(X_train,y_1yr_train)"
   ]
  },
  {
   "cell_type": "markdown",
   "metadata": {},
   "source": [
    "### Generate Complement Model and Fit Data"
   ]
  },
  {
   "cell_type": "code",
   "execution_count": 94,
   "metadata": {},
   "outputs": [
    {
     "data": {
      "text/plain": [
       "ComplementNB(alpha=3, class_prior=None, fit_prior=True, norm=False)"
      ]
     },
     "execution_count": 94,
     "metadata": {},
     "output_type": "execute_result"
    }
   ],
   "source": [
    "NBCmodel30 = ComplementNB(alpha = 3)\n",
    "NBCmodel1yr = ComplementNB(alpha= 3)\n",
    "NBCmodel30.fit(X_train,y_30day_train)\n",
    "NBCmodel1yr.fit(X_train,y_1yr_train)"
   ]
  },
  {
   "cell_type": "markdown",
   "metadata": {},
   "source": [
    "### Test Performance"
   ]
  },
  {
   "cell_type": "code",
   "execution_count": 95,
   "metadata": {},
   "outputs": [
    {
     "name": "stdout",
     "output_type": "stream",
     "text": [
      "0.756896551724138\n",
      "0.7424137931034482\n"
     ]
    }
   ],
   "source": [
    "print(NBmodel30.score(X_test,y_30day_test))\n",
    "print(NBmodel1yr.score(X_test,y_1yr_test))"
   ]
  },
  {
   "cell_type": "code",
   "execution_count": 96,
   "metadata": {},
   "outputs": [
    {
     "name": "stdout",
     "output_type": "stream",
     "text": [
      "0.7757758620689655\n",
      "0.7311206896551724\n"
     ]
    }
   ],
   "source": [
    "print(NBCmodel30.score(X_test,y_30day_test))\n",
    "print(NBCmodel1yr.score(X_test,y_1yr_test))"
   ]
  },
  {
   "cell_type": "code",
   "execution_count": 111,
   "metadata": {},
   "outputs": [
    {
     "data": {
      "text/plain": [
       "array([[1.00000000e+00, 2.82296731e-16],\n",
       "       [9.74888813e-01, 2.51111871e-02],\n",
       "       [1.00000000e+00, 3.73147843e-20],\n",
       "       ...,\n",
       "       [1.00000000e+00, 1.01875828e-11],\n",
       "       [9.99998681e-01, 1.31912373e-06],\n",
       "       [4.68841937e-03, 9.95311581e-01]])"
      ]
     },
     "execution_count": 111,
     "metadata": {},
     "output_type": "execute_result"
    }
   ],
   "source": [
    "NBmodel30.predict_proba(X_test)"
   ]
  },
  {
   "cell_type": "markdown",
   "metadata": {},
   "source": [
    "# kNN"
   ]
  },
  {
   "cell_type": "markdown",
   "metadata": {},
   "source": [
    "### Generate Model and Fit Data"
   ]
  },
  {
   "cell_type": "code",
   "execution_count": 112,
   "metadata": {},
   "outputs": [
    {
     "data": {
      "text/plain": [
       "KNeighborsRegressor(algorithm='auto', leaf_size=30, metric='minkowski',\n",
       "          metric_params=None, n_jobs=None, n_neighbors=5, p=2,\n",
       "          weights='uniform')"
      ]
     },
     "execution_count": 112,
     "metadata": {},
     "output_type": "execute_result"
    }
   ],
   "source": [
    "KNmodel30 = KNeighborsRegressor()\n",
    "KNmodel1yr =  KNeighborsRegressor()\n",
    "KNmodel1yr.fit(X_train,y_1yr_train)\n",
    "KNmodel30.fit(X_train,y_30day_train)"
   ]
  },
  {
   "cell_type": "markdown",
   "metadata": {},
   "source": [
    "### Test Performance"
   ]
  },
  {
   "cell_type": "code",
   "execution_count": 89,
   "metadata": {},
   "outputs": [],
   "source": [
    "output = KNmodel30.predict_proba(X_test)"
   ]
  },
  {
   "cell_type": "code",
   "execution_count": 103,
   "metadata": {},
   "outputs": [
    {
     "data": {
      "text/plain": [
       "0.0    8828\n",
       "0.2    1175\n",
       "1.0     634\n",
       "0.4     429\n",
       "0.6     322\n",
       "0.8     212\n",
       "Name: 1, dtype: int64"
      ]
     },
     "execution_count": 103,
     "metadata": {},
     "output_type": "execute_result"
    }
   ],
   "source": [
    "pd.DataFrame(output)[1].value_counts()"
   ]
  },
  {
   "cell_type": "code",
   "execution_count": 78,
   "metadata": {},
   "outputs": [
    {
     "data": {
      "text/plain": [
       "0.9216379310344828"
      ]
     },
     "execution_count": 78,
     "metadata": {},
     "output_type": "execute_result"
    }
   ],
   "source": [
    "KNmodel30.score(X_test,y_30day_test)"
   ]
  },
  {
   "cell_type": "code",
   "execution_count": 79,
   "metadata": {},
   "outputs": [
    {
     "data": {
      "text/plain": [
       "0.8496551724137931"
      ]
     },
     "execution_count": 79,
     "metadata": {},
     "output_type": "execute_result"
    }
   ],
   "source": [
    "KNmodel1yr.score(X_test,y_1yr_test)"
   ]
  },
  {
   "cell_type": "markdown",
   "metadata": {},
   "source": [
    "# XGboost"
   ]
  },
  {
   "cell_type": "code",
   "execution_count": null,
   "metadata": {},
   "outputs": [],
   "source": []
  },
  {
   "cell_type": "code",
   "execution_count": null,
   "metadata": {},
   "outputs": [],
   "source": []
  },
  {
   "cell_type": "code",
   "execution_count": null,
   "metadata": {},
   "outputs": [],
   "source": []
  },
  {
   "cell_type": "code",
   "execution_count": null,
   "metadata": {},
   "outputs": [],
   "source": []
  },
  {
   "cell_type": "code",
   "execution_count": null,
   "metadata": {},
   "outputs": [],
   "source": []
  },
  {
   "cell_type": "code",
   "execution_count": null,
   "metadata": {},
   "outputs": [],
   "source": []
  },
  {
   "cell_type": "code",
   "execution_count": null,
   "metadata": {},
   "outputs": [],
   "source": []
  },
  {
   "cell_type": "code",
   "execution_count": null,
   "metadata": {},
   "outputs": [],
   "source": []
  },
  {
   "cell_type": "code",
   "execution_count": null,
   "metadata": {},
   "outputs": [],
   "source": []
  },
  {
   "cell_type": "code",
   "execution_count": null,
   "metadata": {},
   "outputs": [],
   "source": []
  },
  {
   "cell_type": "code",
   "execution_count": null,
   "metadata": {},
   "outputs": [],
   "source": []
  },
  {
   "cell_type": "code",
   "execution_count": null,
   "metadata": {},
   "outputs": [],
   "source": []
  },
  {
   "cell_type": "code",
   "execution_count": null,
   "metadata": {},
   "outputs": [],
   "source": []
  }
 ],
 "metadata": {
  "kernelspec": {
   "display_name": "Python 3",
   "language": "python",
   "name": "python3"
  },
  "language_info": {
   "codemirror_mode": {
    "name": "ipython",
    "version": 3
   },
   "file_extension": ".py",
   "mimetype": "text/x-python",
   "name": "python",
   "nbconvert_exporter": "python",
   "pygments_lexer": "ipython3",
   "version": "3.6.7"
  }
 },
 "nbformat": 4,
 "nbformat_minor": 2
}
