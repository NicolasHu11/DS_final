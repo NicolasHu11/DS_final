{
 "cells": [
  {
   "cell_type": "markdown",
   "metadata": {},
   "source": [
    "# Pre Process"
   ]
  },
  {
   "cell_type": "code",
   "execution_count": 67,
   "metadata": {},
   "outputs": [],
   "source": [
    "import pandas as pd\n",
    "import numpy as np\n",
    "import matplotlib.pyplot as plt\n",
    "from datetime import datetime\n",
    "import time\n",
    "from sklearn.preprocessing import scale\n",
    "from scipy import stats\n",
    "\n",
    "%matplotlib inline"
   ]
  },
  {
   "cell_type": "code",
   "execution_count": 68,
   "metadata": {},
   "outputs": [],
   "source": [
    "data = pd.read_csv('data(with_label).csv')"
   ]
  },
  {
   "cell_type": "code",
   "execution_count": 69,
   "metadata": {},
   "outputs": [
    {
     "data": {
      "text/html": [
       "<div>\n",
       "<style scoped>\n",
       "    .dataframe tbody tr th:only-of-type {\n",
       "        vertical-align: middle;\n",
       "    }\n",
       "\n",
       "    .dataframe tbody tr th {\n",
       "        vertical-align: top;\n",
       "    }\n",
       "\n",
       "    .dataframe thead th {\n",
       "        text-align: right;\n",
       "    }\n",
       "</style>\n",
       "<table border=\"1\" class=\"dataframe\">\n",
       "  <thead>\n",
       "    <tr style=\"text-align: right;\">\n",
       "      <th></th>\n",
       "      <th>subject_id</th>\n",
       "      <th>hadm_id</th>\n",
       "      <th>admittime</th>\n",
       "      <th>dischtime</th>\n",
       "      <th>deathtime</th>\n",
       "      <th>dod</th>\n",
       "      <th>first_careunit</th>\n",
       "      <th>last_careunit</th>\n",
       "      <th>age</th>\n",
       "      <th>gender</th>\n",
       "      <th>...</th>\n",
       "      <th>lods</th>\n",
       "      <th>sirs</th>\n",
       "      <th>admission_type</th>\n",
       "      <th>admission_location</th>\n",
       "      <th>discharge_location</th>\n",
       "      <th>ethnicity</th>\n",
       "      <th>diagnosis</th>\n",
       "      <th>time_before_death</th>\n",
       "      <th>thirty_days</th>\n",
       "      <th>one_year</th>\n",
       "    </tr>\n",
       "  </thead>\n",
       "  <tbody>\n",
       "    <tr>\n",
       "      <th>0</th>\n",
       "      <td>3</td>\n",
       "      <td>145834</td>\n",
       "      <td>2101-10-20 19:08:00</td>\n",
       "      <td>2101-10-31 13:58:00</td>\n",
       "      <td>2102-06-14 00:00:00</td>\n",
       "      <td>2102-06-14 00:00:00</td>\n",
       "      <td>MICU</td>\n",
       "      <td>MICU</td>\n",
       "      <td>76.526788</td>\n",
       "      <td>M</td>\n",
       "      <td>...</td>\n",
       "      <td>10</td>\n",
       "      <td>3</td>\n",
       "      <td>EMERGENCY</td>\n",
       "      <td>EMERGENCY ROOM ADMIT</td>\n",
       "      <td>SNF</td>\n",
       "      <td>WHITE</td>\n",
       "      <td>HYPOTENSION</td>\n",
       "      <td>236 days 04:52:00.000000000</td>\n",
       "      <td>0</td>\n",
       "      <td>1</td>\n",
       "    </tr>\n",
       "  </tbody>\n",
       "</table>\n",
       "<p>1 rows × 69 columns</p>\n",
       "</div>"
      ],
      "text/plain": [
       "   subject_id  hadm_id            admittime            dischtime  \\\n",
       "0           3   145834  2101-10-20 19:08:00  2101-10-31 13:58:00   \n",
       "\n",
       "             deathtime                  dod first_careunit last_careunit  \\\n",
       "0  2102-06-14 00:00:00  2102-06-14 00:00:00           MICU          MICU   \n",
       "\n",
       "         age gender    ...    lods sirs  admission_type    admission_location  \\\n",
       "0  76.526788      M    ...      10    3       EMERGENCY  EMERGENCY ROOM ADMIT   \n",
       "\n",
       "   discharge_location  ethnicity    diagnosis            time_before_death  \\\n",
       "0                 SNF      WHITE  HYPOTENSION  236 days 04:52:00.000000000   \n",
       "\n",
       "   thirty_days  one_year  \n",
       "0            0         1  \n",
       "\n",
       "[1 rows x 69 columns]"
      ]
     },
     "execution_count": 69,
     "metadata": {},
     "output_type": "execute_result"
    }
   ],
   "source": [
    "data.head(1)"
   ]
  },
  {
   "cell_type": "markdown",
   "metadata": {},
   "source": [
    "### Remove Unwanted Columns"
   ]
  },
  {
   "cell_type": "code",
   "execution_count": 70,
   "metadata": {},
   "outputs": [],
   "source": [
    "str_cols = [\n",
    "    'admittime',\n",
    "    'dischtime',\n",
    "    'subject_id',\n",
    "    'hadm_id',\n",
    "    'deathtime',\n",
    "    'dod',\n",
    "    'time_before_death',\n",
    "]\n",
    "data = data.drop(str_cols, axis = 1)"
   ]
  },
  {
   "cell_type": "markdown",
   "metadata": {},
   "source": [
    "### Marital Status NaN to UNKNOWN (DEFAULT)"
   ]
  },
  {
   "cell_type": "code",
   "execution_count": 71,
   "metadata": {},
   "outputs": [],
   "source": [
    "data.loc[pd.isna(data['marital_status']), 'marital_status'] = 'UNKNOWN (DEFAULT)'"
   ]
  },
  {
   "cell_type": "markdown",
   "metadata": {},
   "source": [
    "### Diagnosis NaN to PNEUMONIA"
   ]
  },
  {
   "cell_type": "code",
   "execution_count": 72,
   "metadata": {},
   "outputs": [],
   "source": [
    "data.loc[pd.isna(data['diagnosis']), 'diagnosis'] = 'PNEUMONIA'"
   ]
  },
  {
   "cell_type": "markdown",
   "metadata": {},
   "source": [
    "### Convert Categorical Data to Number"
   ]
  },
  {
   "cell_type": "code",
   "execution_count": 73,
   "metadata": {},
   "outputs": [
    {
     "name": "stdout",
     "output_type": "stream",
     "text": [
      "1 TSICU\n",
      "2 CCU\n",
      "3 SICU\n",
      "4 CSRU\n",
      "5 MICU\n"
     ]
    }
   ],
   "source": [
    "for n,c in enumerate(np.flip(data['first_careunit'].value_counts().index.values)):\n",
    "    print(n+1,c)"
   ]
  },
  {
   "cell_type": "code",
   "execution_count": 74,
   "metadata": {},
   "outputs": [],
   "source": [
    "def categ_to_num(df, cols):\n",
    "    for col in cols:\n",
    "        map_dict = {}\n",
    "        for n, c in enumerate(np.flip(data[col].value_counts().index.values)):\n",
    "            map_dict[c] = n + 1 \n",
    "        df[col] = df[col].map(map_dict)\n",
    "    return df"
   ]
  },
  {
   "cell_type": "code",
   "execution_count": 75,
   "metadata": {},
   "outputs": [],
   "source": [
    "categorical = [\n",
    "    'first_careunit', \n",
    "    'last_careunit',\n",
    "    'gender', \n",
    "    'marital_status',\n",
    "    'insurance', \n",
    "    'icustay_age_group', \n",
    "    'admission_type', \n",
    "    'admission_location', \n",
    "    'discharge_location', \n",
    "    'ethnicity', \n",
    "    'diagnosis',\n",
    "]\n",
    "data = categ_to_num(data, categorical)"
   ]
  },
  {
   "cell_type": "markdown",
   "metadata": {},
   "source": [
    "### Convert String Time Data to Timestamp"
   ]
  },
  {
   "cell_type": "code",
   "execution_count": 76,
   "metadata": {},
   "outputs": [],
   "source": [
    "def str_to_timestamp(row, cols):\n",
    "    for c in cols:\n",
    "        if not pd.isna(row[c]):\n",
    "            row[c] = time.mktime(datetime.strptime(row[c], \"%Y-%m-%d %H:%M:%S\").timetuple())\n",
    "    return row"
   ]
  },
  {
   "cell_type": "code",
   "execution_count": 77,
   "metadata": {},
   "outputs": [],
   "source": [
    "str_time = [\n",
    "]\n",
    "\n",
    "# data = data.apply(lambda r: str_to_timestamp(r,str_time), axis=1)"
   ]
  },
  {
   "cell_type": "markdown",
   "metadata": {},
   "source": [
    "### Fill Missing Values"
   ]
  },
  {
   "cell_type": "markdown",
   "metadata": {},
   "source": [
    "#### Fill by 30 Day"
   ]
  },
  {
   "cell_type": "code",
   "execution_count": 78,
   "metadata": {},
   "outputs": [],
   "source": [
    "def fill_missing_by_group(df, cols, group_col):\n",
    "    gc_unique = df[group_col].unique()\n",
    "\n",
    "    grp_means = []\n",
    "    grp_inds = []\n",
    "\n",
    "    for v in gc_unique:\n",
    "        grp_means.append(df[df[group_col] == v].mean())\n",
    "        grp_inds.append(df[group_col] == v)\n",
    "        \n",
    "    #living_means = df[data['thirty_days'] == 0].mean()\n",
    "\n",
    "    for col in cols:\n",
    "        col_miss_ind = pd.isna(df[col])\n",
    "        df[col+'_mv'] = col_miss_ind * 1\n",
    "\n",
    "        for i in range(len(grp_inds)):\n",
    "            grp_miss_inds = col_miss_ind & grp_inds[i]\n",
    "            df.loc[grp_miss_inds, col] = grp_means[i][col]\n",
    "    return df"
   ]
  },
  {
   "cell_type": "code",
   "execution_count": 79,
   "metadata": {},
   "outputs": [],
   "source": [
    "cols = [\n",
    "    'age',\n",
    "    'urea_n_min', \n",
    "    'urea_n_max', \n",
    "    'urea_n_mean', \n",
    "    'platelets_min',\n",
    "    'platelets_max', \n",
    "    'platelets_mean', \n",
    "    'magnesium_max', \n",
    "    'albumin_min',\n",
    "    'calcium_min', \n",
    "    'resprate_min', \n",
    "    'resprate_max', \n",
    "    'resprate_mean',\n",
    "    'glucose_min', \n",
    "    'glucose_max', \n",
    "    'glucose_mean', \n",
    "    'hr_min', \n",
    "    'hr_max',\n",
    "    'hr_mean', \n",
    "    'sysbp_min', \n",
    "    'sysbp_max', \n",
    "    'sysbp_mean', \n",
    "    'diasbp_min',\n",
    "    'diasbp_max', \n",
    "    'diasbp_mean', \n",
    "    'temp_min', \n",
    "    'temp_max', \n",
    "    'temp_mean',\n",
    "    'sapsii', \n",
    "    'sofa', \n",
    "    'urine_min', \n",
    "    'urine_mean', \n",
    "    'urine_max',\n",
    "    'elixhauser_vanwalraven', \n",
    "    'elixhauser_sid29', \n",
    "    'elixhauser_sid30',\n",
    "    'los_hospital', \n",
    "    'meanbp_min', \n",
    "    'meanbp_max', \n",
    "    'meanbp_mean', \n",
    "    'spo2_min',\n",
    "    'spo2_max', \n",
    "    'spo2_mean', \n",
    "    'vent', \n",
    "    'rrt', \n",
    "    'urineoutput',\n",
    "    'oasis', \n",
    "    'lods', \n",
    "    'sirs',    \n",
    "]\n",
    "data = fill_missing_by_group(data, cols, 'thirty_days')"
   ]
  },
  {
   "cell_type": "code",
   "execution_count": 80,
   "metadata": {},
   "outputs": [
    {
     "data": {
      "text/html": [
       "<div>\n",
       "<style scoped>\n",
       "    .dataframe tbody tr th:only-of-type {\n",
       "        vertical-align: middle;\n",
       "    }\n",
       "\n",
       "    .dataframe tbody tr th {\n",
       "        vertical-align: top;\n",
       "    }\n",
       "\n",
       "    .dataframe thead th {\n",
       "        text-align: right;\n",
       "    }\n",
       "</style>\n",
       "<table border=\"1\" class=\"dataframe\">\n",
       "  <thead>\n",
       "    <tr style=\"text-align: right;\">\n",
       "      <th></th>\n",
       "      <th>first_careunit</th>\n",
       "      <th>last_careunit</th>\n",
       "      <th>age</th>\n",
       "      <th>gender</th>\n",
       "      <th>marital_status</th>\n",
       "      <th>insurance</th>\n",
       "      <th>urea_n_min</th>\n",
       "      <th>urea_n_max</th>\n",
       "      <th>urea_n_mean</th>\n",
       "      <th>platelets_min</th>\n",
       "      <th>...</th>\n",
       "      <th>meanbp_mean_mv</th>\n",
       "      <th>spo2_min_mv</th>\n",
       "      <th>spo2_max_mv</th>\n",
       "      <th>spo2_mean_mv</th>\n",
       "      <th>vent_mv</th>\n",
       "      <th>rrt_mv</th>\n",
       "      <th>urineoutput_mv</th>\n",
       "      <th>oasis_mv</th>\n",
       "      <th>lods_mv</th>\n",
       "      <th>sirs_mv</th>\n",
       "    </tr>\n",
       "  </thead>\n",
       "  <tbody>\n",
       "    <tr>\n",
       "      <th>0</th>\n",
       "      <td>5</td>\n",
       "      <td>5</td>\n",
       "      <td>76.526788</td>\n",
       "      <td>2</td>\n",
       "      <td>7</td>\n",
       "      <td>5</td>\n",
       "      <td>15.0</td>\n",
       "      <td>53.0</td>\n",
       "      <td>28.133333</td>\n",
       "      <td>121.0</td>\n",
       "      <td>...</td>\n",
       "      <td>0</td>\n",
       "      <td>0</td>\n",
       "      <td>0</td>\n",
       "      <td>0</td>\n",
       "      <td>0</td>\n",
       "      <td>0</td>\n",
       "      <td>0</td>\n",
       "      <td>0</td>\n",
       "      <td>0</td>\n",
       "      <td>0</td>\n",
       "    </tr>\n",
       "    <tr>\n",
       "      <th>1</th>\n",
       "      <td>3</td>\n",
       "      <td>4</td>\n",
       "      <td>65.940670</td>\n",
       "      <td>1</td>\n",
       "      <td>7</td>\n",
       "      <td>5</td>\n",
       "      <td>16.0</td>\n",
       "      <td>91.0</td>\n",
       "      <td>53.941176</td>\n",
       "      <td>152.0</td>\n",
       "      <td>...</td>\n",
       "      <td>0</td>\n",
       "      <td>0</td>\n",
       "      <td>0</td>\n",
       "      <td>0</td>\n",
       "      <td>0</td>\n",
       "      <td>0</td>\n",
       "      <td>0</td>\n",
       "      <td>0</td>\n",
       "      <td>0</td>\n",
       "      <td>0</td>\n",
       "    </tr>\n",
       "    <tr>\n",
       "      <th>2</th>\n",
       "      <td>5</td>\n",
       "      <td>5</td>\n",
       "      <td>41.790226</td>\n",
       "      <td>2</td>\n",
       "      <td>3</td>\n",
       "      <td>3</td>\n",
       "      <td>16.0</td>\n",
       "      <td>33.0</td>\n",
       "      <td>22.714286</td>\n",
       "      <td>221.0</td>\n",
       "      <td>...</td>\n",
       "      <td>0</td>\n",
       "      <td>0</td>\n",
       "      <td>0</td>\n",
       "      <td>0</td>\n",
       "      <td>0</td>\n",
       "      <td>0</td>\n",
       "      <td>0</td>\n",
       "      <td>0</td>\n",
       "      <td>0</td>\n",
       "      <td>0</td>\n",
       "    </tr>\n",
       "    <tr>\n",
       "      <th>3</th>\n",
       "      <td>3</td>\n",
       "      <td>4</td>\n",
       "      <td>72.372364</td>\n",
       "      <td>2</td>\n",
       "      <td>7</td>\n",
       "      <td>5</td>\n",
       "      <td>28.0</td>\n",
       "      <td>41.0</td>\n",
       "      <td>32.214286</td>\n",
       "      <td>51.0</td>\n",
       "      <td>...</td>\n",
       "      <td>0</td>\n",
       "      <td>0</td>\n",
       "      <td>0</td>\n",
       "      <td>0</td>\n",
       "      <td>0</td>\n",
       "      <td>0</td>\n",
       "      <td>0</td>\n",
       "      <td>0</td>\n",
       "      <td>0</td>\n",
       "      <td>0</td>\n",
       "    </tr>\n",
       "    <tr>\n",
       "      <th>4</th>\n",
       "      <td>2</td>\n",
       "      <td>3</td>\n",
       "      <td>39.866116</td>\n",
       "      <td>1</td>\n",
       "      <td>3</td>\n",
       "      <td>3</td>\n",
       "      <td>13.0</td>\n",
       "      <td>22.0</td>\n",
       "      <td>16.200000</td>\n",
       "      <td>74.0</td>\n",
       "      <td>...</td>\n",
       "      <td>0</td>\n",
       "      <td>0</td>\n",
       "      <td>0</td>\n",
       "      <td>0</td>\n",
       "      <td>0</td>\n",
       "      <td>0</td>\n",
       "      <td>0</td>\n",
       "      <td>0</td>\n",
       "      <td>0</td>\n",
       "      <td>0</td>\n",
       "    </tr>\n",
       "  </tbody>\n",
       "</table>\n",
       "<p>5 rows × 111 columns</p>\n",
       "</div>"
      ],
      "text/plain": [
       "   first_careunit  last_careunit        age  gender  marital_status  \\\n",
       "0               5              5  76.526788       2               7   \n",
       "1               3              4  65.940670       1               7   \n",
       "2               5              5  41.790226       2               3   \n",
       "3               3              4  72.372364       2               7   \n",
       "4               2              3  39.866116       1               3   \n",
       "\n",
       "   insurance  urea_n_min  urea_n_max  urea_n_mean  platelets_min   ...     \\\n",
       "0          5        15.0        53.0    28.133333          121.0   ...      \n",
       "1          5        16.0        91.0    53.941176          152.0   ...      \n",
       "2          3        16.0        33.0    22.714286          221.0   ...      \n",
       "3          5        28.0        41.0    32.214286           51.0   ...      \n",
       "4          3        13.0        22.0    16.200000           74.0   ...      \n",
       "\n",
       "   meanbp_mean_mv  spo2_min_mv  spo2_max_mv  spo2_mean_mv  vent_mv  rrt_mv  \\\n",
       "0               0            0            0             0        0       0   \n",
       "1               0            0            0             0        0       0   \n",
       "2               0            0            0             0        0       0   \n",
       "3               0            0            0             0        0       0   \n",
       "4               0            0            0             0        0       0   \n",
       "\n",
       "   urineoutput_mv  oasis_mv  lods_mv  sirs_mv  \n",
       "0               0         0        0        0  \n",
       "1               0         0        0        0  \n",
       "2               0         0        0        0  \n",
       "3               0         0        0        0  \n",
       "4               0         0        0        0  \n",
       "\n",
       "[5 rows x 111 columns]"
      ]
     },
     "execution_count": 80,
     "metadata": {},
     "output_type": "execute_result"
    }
   ],
   "source": [
    "data.head()"
   ]
  },
  {
   "cell_type": "markdown",
   "metadata": {},
   "source": [
    "### Convert Types"
   ]
  },
  {
   "cell_type": "code",
   "execution_count": 81,
   "metadata": {},
   "outputs": [],
   "source": [
    "data = data.astype(np.float64)"
   ]
  },
  {
   "cell_type": "markdown",
   "metadata": {},
   "source": [
    "### Add Age Category"
   ]
  },
  {
   "cell_type": "code",
   "execution_count": 82,
   "metadata": {},
   "outputs": [],
   "source": [
    "data['age_category'] = np.floor(data['age']/10)"
   ]
  },
  {
   "cell_type": "markdown",
   "metadata": {},
   "source": [
    "### Scale Values"
   ]
  },
  {
   "cell_type": "code",
   "execution_count": 83,
   "metadata": {},
   "outputs": [],
   "source": [
    "cols = [\n",
    "    'first_careunit',\n",
    "    'last_careunit',\n",
    "    'age',\n",
    "    'gender',\n",
    "    'marital_status',\n",
    "    'insurance',\n",
    "    'urea_n_min',\n",
    "    'urea_n_max',\n",
    "    'urea_n_mean',\n",
    "    'platelets_min',\n",
    "    'platelets_max',\n",
    "    'platelets_mean',\n",
    "    'magnesium_max',\n",
    "    'albumin_min',\n",
    "    'calcium_min',\n",
    "    'resprate_min',\n",
    "    'resprate_max',\n",
    "    'resprate_mean',\n",
    "    'glucose_min',\n",
    "    'glucose_max',\n",
    "    'glucose_mean',\n",
    "    'hr_min',\n",
    "    'hr_max',\n",
    "    'hr_mean',\n",
    "    'sysbp_min',\n",
    "    'sysbp_max',\n",
    "    'sysbp_mean',\n",
    "    'diasbp_min',\n",
    "    'diasbp_max',\n",
    "    'diasbp_mean',\n",
    "    'temp_min',\n",
    "    'temp_max',\n",
    "    'temp_mean',\n",
    "    'sapsii',\n",
    "    'sofa',\n",
    "    'urine_min',\n",
    "    'urine_mean',\n",
    "    'urine_max',\n",
    "    'elixhauser_vanwalraven',\n",
    "    'elixhauser_sid29',\n",
    "    'elixhauser_sid30',\n",
    "    'los_hospital',\n",
    "    'meanbp_min',\n",
    "    'meanbp_max',\n",
    "    'meanbp_mean',\n",
    "    'spo2_min',\n",
    "    'spo2_max',\n",
    "    'spo2_mean',\n",
    "    'vent',\n",
    "    'rrt',\n",
    "    'urineoutput',\n",
    "    'icustay_age_group',\n",
    "    'oasis',\n",
    "    'lods',\n",
    "    'sirs',\n",
    "    'admission_type',\n",
    "    'admission_location',\n",
    "    'discharge_location',\n",
    "    'ethnicity',\n",
    "    'diagnosis',\n",
    "    'thirty_days',\n",
    "    'one_year',\n",
    "]\n",
    "for col in cols:\n",
    "    data[col] = scale(data[col])"
   ]
  },
  {
   "cell_type": "markdown",
   "metadata": {},
   "source": [
    "### Remove Outliers"
   ]
  },
  {
   "cell_type": "code",
   "execution_count": 18,
   "metadata": {},
   "outputs": [],
   "source": [
    "def remove_outliers(df):\n",
    "    # Find outliers based on 1.5*(Q3-Q1) outlier step\n",
    "    outliers  = []\n",
    "    # For each feature find the data points with extreme high or low values\n",
    "    for feature in df.keys():\n",
    "        # Calculate Q1 (25th percentile of the data) for the given feature\n",
    "        Q1 = np.percentile(df[feature],25)\n",
    "        \n",
    "        # Calculate Q3 (75th percentile of the data) for the given feature\n",
    "        Q3 = np.percentile(df[feature],75)\n",
    "        \n",
    "        # Use the interquartile range to calculate an outlier step (1.5 times the interquartile range)\n",
    "        step = 1.5*(Q3-Q1)\n",
    "        \n",
    "        outliers_per_feature = df[~((df[feature] >= Q1 - step) & (df[feature] <= Q3 + step))]\n",
    "        outliers = outliers + list(outliers_per_feature.index)\n",
    "    outliers.sort()\n",
    "    outliers = list(set(outliers))\n",
    "    return outliers"
   ]
  },
  {
   "cell_type": "markdown",
   "metadata": {},
   "source": [
    "We need to choose which feature to apply remove_outliers. \n",
    "'spo2_max' has almost every value near 100, both the 25 and 75 percentile are the same?!"
   ]
  },
  {
   "cell_type": "code",
   "execution_count": 84,
   "metadata": {},
   "outputs": [
    {
     "name": "stdout",
     "output_type": "stream",
     "text": [
      "0.30086056591981153\n"
     ]
    }
   ],
   "source": [
    "Q1 = np.percentile(data['spo2_max'], 25)\n",
    "print(Q1)"
   ]
  },
  {
   "cell_type": "code",
   "execution_count": 85,
   "metadata": {},
   "outputs": [
    {
     "name": "stdout",
     "output_type": "stream",
     "text": [
      "0.30086056591981153\n"
     ]
    }
   ],
   "source": [
    "Q2 = np.percentile(data['spo2_max'], 50)\n",
    "print(Q2)"
   ]
  },
  {
   "cell_type": "markdown",
   "metadata": {},
   "source": [
    "### Rearange Columns"
   ]
  },
  {
   "cell_type": "code",
   "execution_count": 86,
   "metadata": {},
   "outputs": [],
   "source": [
    "cols_ordered = [\n",
    "    'first_careunit',\n",
    "    'last_careunit',\n",
    "    'age',\n",
    "    'age_category',\n",
    "    'gender',\n",
    "    'marital_status',\n",
    "    'insurance',\n",
    "    'urea_n_min',\n",
    "    'urea_n_max',\n",
    "    'urea_n_mean',\n",
    "    'platelets_min',\n",
    "    'platelets_max',\n",
    "    'platelets_mean',\n",
    "    'magnesium_max',\n",
    "    'albumin_min',\n",
    "    'calcium_min',\n",
    "    'resprate_min',\n",
    "    'resprate_max',\n",
    "    'resprate_mean',\n",
    "    'glucose_min',\n",
    "    'glucose_max',\n",
    "    'glucose_mean',\n",
    "    'hr_min',\n",
    "    'hr_max',\n",
    "    'hr_mean',\n",
    "    'sysbp_min',\n",
    "    'sysbp_max',\n",
    "    'sysbp_mean',\n",
    "    'diasbp_min',\n",
    "    'diasbp_max',\n",
    "    'diasbp_mean',\n",
    "    'temp_min',\n",
    "    'temp_max',\n",
    "    'temp_mean',\n",
    "    'sapsii',\n",
    "    'sofa',\n",
    "    'urine_min',\n",
    "    'urine_mean',\n",
    "    'urine_max',\n",
    "    'elixhauser_vanwalraven',\n",
    "    'elixhauser_sid29',\n",
    "    'elixhauser_sid30',\n",
    "    'los_hospital',\n",
    "    'meanbp_min',\n",
    "    'meanbp_max',\n",
    "    'meanbp_mean',\n",
    "    'spo2_min',\n",
    "    'spo2_max',\n",
    "    'spo2_mean',\n",
    "    'vent',\n",
    "    'rrt',\n",
    "    'urineoutput',\n",
    "    'icustay_age_group',\n",
    "    'oasis',\n",
    "    'lods',\n",
    "    'sirs',\n",
    "    'admission_type',\n",
    "    'admission_location',\n",
    "    'discharge_location',\n",
    "    'ethnicity',\n",
    "    'diagnosis',\n",
    "    'age_mv',\n",
    "    'urea_n_min_mv',\n",
    "    'urea_n_max_mv',\n",
    "    'urea_n_mean_mv',\n",
    "    'platelets_min_mv',\n",
    "    'platelets_max_mv',\n",
    "    'platelets_mean_mv',\n",
    "    'magnesium_max_mv',\n",
    "    'albumin_min_mv',\n",
    "    'calcium_min_mv',\n",
    "    'resprate_min_mv',\n",
    "    'resprate_max_mv',\n",
    "    'resprate_mean_mv',\n",
    "    'glucose_min_mv',\n",
    "    'glucose_max_mv',\n",
    "    'glucose_mean_mv',\n",
    "    'hr_min_mv',\n",
    "    'hr_max_mv',\n",
    "    'hr_mean_mv',\n",
    "    'sysbp_min_mv',\n",
    "    'sysbp_max_mv',\n",
    "    'sysbp_mean_mv',\n",
    "    'diasbp_min_mv',\n",
    "    'diasbp_max_mv',\n",
    "    'diasbp_mean_mv',\n",
    "    'temp_min_mv',\n",
    "    'temp_max_mv',\n",
    "    'temp_mean_mv',\n",
    "    'sapsii_mv',\n",
    "    'sofa_mv',\n",
    "    'urine_min_mv',\n",
    "    'urine_mean_mv',\n",
    "    'urine_max_mv',\n",
    "    'elixhauser_vanwalraven_mv',\n",
    "    'elixhauser_sid29_mv',\n",
    "    'elixhauser_sid30_mv',\n",
    "    'los_hospital_mv',\n",
    "    'meanbp_min_mv',\n",
    "    'meanbp_max_mv',\n",
    "    'meanbp_mean_mv',\n",
    "    'spo2_min_mv',\n",
    "    'spo2_max_mv',\n",
    "    'spo2_mean_mv',\n",
    "    'vent_mv',\n",
    "    'rrt_mv',\n",
    "    'urineoutput_mv',\n",
    "    'oasis_mv',\n",
    "    'lods_mv',\n",
    "    'sirs_mv',\n",
    "    'thirty_days',\n",
    "    'one_year',\n",
    "]"
   ]
  },
  {
   "cell_type": "code",
   "execution_count": 87,
   "metadata": {},
   "outputs": [],
   "source": [
    "data = data[cols_ordered]"
   ]
  },
  {
   "cell_type": "code",
   "execution_count": 88,
   "metadata": {},
   "outputs": [
    {
     "data": {
      "text/plain": [
       "Index(['first_careunit', 'last_careunit', 'age', 'age_category', 'gender',\n",
       "       'marital_status', 'insurance', 'urea_n_min', 'urea_n_max',\n",
       "       'urea_n_mean',\n",
       "       ...\n",
       "       'spo2_max_mv', 'spo2_mean_mv', 'vent_mv', 'rrt_mv', 'urineoutput_mv',\n",
       "       'oasis_mv', 'lods_mv', 'sirs_mv', 'thirty_days', 'one_year'],\n",
       "      dtype='object', length=112)"
      ]
     },
     "execution_count": 88,
     "metadata": {},
     "output_type": "execute_result"
    }
   ],
   "source": [
    "data.columns"
   ]
  },
  {
   "cell_type": "code",
   "execution_count": 89,
   "metadata": {},
   "outputs": [],
   "source": [
    "data.to_csv('data_pre_processed.csv', index=False)"
   ]
  },
  {
   "cell_type": "code",
   "execution_count": 92,
   "metadata": {},
   "outputs": [
    {
     "data": {
      "text/plain": [
       "7.0     12638\n",
       "6.0     12300\n",
       "5.0     10190\n",
       "8.0      9233\n",
       "4.0      5716\n",
       "30.0     2893\n",
       "3.0      2817\n",
       "2.0      1860\n",
       "1.0       345\n",
       "31.0        4\n",
       "Name: age_category, dtype: int64"
      ]
     },
     "execution_count": 92,
     "metadata": {},
     "output_type": "execute_result"
    }
   ],
   "source": [
    "data['age_category'].value_counts()"
   ]
  },
  {
   "cell_type": "code",
   "execution_count": null,
   "metadata": {},
   "outputs": [],
   "source": []
  }
 ],
 "metadata": {
  "kernelspec": {
   "display_name": "Python 3",
   "language": "python",
   "name": "python3"
  },
  "language_info": {
   "codemirror_mode": {
    "name": "ipython",
    "version": 3
   },
   "file_extension": ".py",
   "mimetype": "text/x-python",
   "name": "python",
   "nbconvert_exporter": "python",
   "pygments_lexer": "ipython3",
   "version": "3.6.5"
  }
 },
 "nbformat": 4,
 "nbformat_minor": 2
}
