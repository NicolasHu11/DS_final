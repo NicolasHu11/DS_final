{
 "cells": [
  {
   "cell_type": "code",
   "execution_count": 2,
   "metadata": {},
   "outputs": [],
   "source": [
    "import pandas as pd\n",
    "import numpy as np\n",
    "import matplotlib.pyplot as plt\n",
    "from datetime import datetime\n",
    "import time\n",
    "from sklearn.model_selection import GridSearchCV\n",
    "from sklearn.metrics import confusion_matrix, average_precision_score, f1_score, roc_curve, auc\n",
    "from sklearn.metrics import precision_recall_curve\n",
    "import seaborn as sns; sns.set()\n",
    "sns.set_style('whitegrid')\n",
    "sns.set_palette('Set2')\n",
    "%matplotlib inline\n",
    "import xgboost as xgb\n",
    "from xgboost import XGBClassifier\n",
    "from sklearn.metrics import accuracy_score"
   ]
  },
  {
   "cell_type": "code",
   "execution_count": 3,
   "metadata": {},
   "outputs": [],
   "source": [
    "def probability_to_label(probabilities, threshold=0.5):\n",
    "    probabilities = list(probabilities)\n",
    "    th = threshold\n",
    "    predictions = [1 if i > th else 0 for i in probabilities]\n",
    "    return predictions"
   ]
  },
  {
   "cell_type": "code",
   "execution_count": 4,
   "metadata": {},
   "outputs": [],
   "source": [
    "def plot_cm(y_true, y_pred,\n",
    "                          title='Confusion Matrix',\n",
    "                          cmap=plt.cm.Blues):\n",
    "    sns.set_style('white')\n",
    "    \n",
    "    cm = confusion_matrix(y_test, y_pred)\n",
    "    cm = cm.astype('float') / cm.sum(axis=1)[:, np.newaxis] # normarlize \n",
    "    \n",
    "    from sklearn.utils.multiclass import unique_labels\n",
    "    classes = unique_labels(y_true, y_pred)\n",
    "    \n",
    "    fig, ax = plt.subplots()\n",
    "    im = ax.imshow(cm, interpolation='nearest', cmap=cmap)\n",
    "    ax.figure.colorbar(im, ax=ax)\n",
    "    # We want to show all ticks...\n",
    "    ax.set(xticks=np.arange(cm.shape[1]),\n",
    "           yticks=np.arange(cm.shape[0]),\n",
    "           # ... and label them with the respective list entries\n",
    "           xticklabels=classes, yticklabels=classes,\n",
    "           title=title,\n",
    "           ylabel='True label',\n",
    "           xlabel='Predicted label')\n",
    "\n",
    "    # Rotate the tick labels and set their alignment.\n",
    "    plt.setp(ax.get_xticklabels(), rotation=45, ha=\"right\",\n",
    "             rotation_mode=\"anchor\")\n",
    "    # Loop over data dimensions and create text annotations.\n",
    "    fmt = '.2f' \n",
    "    thresh = cm.max() / 2.\n",
    "    for i in range(cm.shape[0]):\n",
    "        for j in range(cm.shape[1]):\n",
    "            ax.text(j, i, format(cm[i, j], fmt),\n",
    "                    ha=\"center\", va=\"center\",\n",
    "                    color=\"white\" if cm[i, j] > thresh else \"black\")\n",
    "    fig.tight_layout()\n",
    "    \n",
    "    pass"
   ]
  },
  {
   "cell_type": "code",
   "execution_count": 5,
   "metadata": {},
   "outputs": [],
   "source": [
    "def Imp_of_fea(name,weight):\n",
    "    import operator\n",
    "    import collections\n",
    "    dic = dict(zip(name,weight))\n",
    "    key_drop = [k for k in dic.keys() if  k == 'icustay_age_group']\n",
    "    for k in key_drop:\n",
    "        del dic[k]\n",
    "    dic = sorted(dic.items(), key=operator.itemgetter(1))\n",
    "    sorted_dict = collections.OrderedDict(dic)\n",
    "    plt.style.use('seaborn-darkgrid')\n",
    "    plt.figure(figsize=(5,20))\n",
    "    plt.barh(list(sorted_dict.keys()),list(sorted_dict.values()))\n",
    "    plt.title('Importance of features in 30 day mortality')"
   ]
  },
  {
   "cell_type": "code",
   "execution_count": 6,
   "metadata": {},
   "outputs": [],
   "source": [
    "def plot_ROC(fpr, tpr, auc, title = 'ROC curve'):\n",
    "    sns.set_style('whitegrid')\n",
    "    plt.plot([0, 1], [0, 1], 'k--')\n",
    "    plt.plot(fpr, tpr, label=' (AUC = {:.3f})'.format(auc))\n",
    "    plt.xlabel('False positive rate')\n",
    "    plt.ylabel('True positive rate')\n",
    "    plt.title(title)\n",
    "    plt.legend(loc='best')\n",
    "    plt.show()\n",
    "    pass"
   ]
  },
  {
   "cell_type": "code",
   "execution_count": 7,
   "metadata": {},
   "outputs": [],
   "source": [
    "def plot_PRC(precision, recall, ap, title= 'Precision-Recall Curve '):\n",
    "    sns.set_style('whitegrid')\n",
    "\n",
    "    plt.figure\n",
    "#     plot(result5_1[0], result5_1[1],linestyle = \"-\", color = 'C0')#,label = 'AUC = %0.2f' % result5_1[3])\n",
    "    plt.plot(recall, precision, lw=2, label='AP = %0.4f' % ap )\n",
    "    plt.xlabel('Recall')\n",
    "    plt.ylabel('Precision')\n",
    "    plt.title(title)\n",
    "    plt.legend(loc=\"best\")\n",
    "#     plt.show()\n",
    "    return "
   ]
  },
  {
   "cell_type": "code",
   "execution_count": 8,
   "metadata": {},
   "outputs": [],
   "source": [
    "def get_weights(y):\n",
    "    zeros = y[y==0].shape[0]\n",
    "    ones = y[y==1].shape[0]\n",
    "    weight = np.array([zeros, ones])*1.0/y.shape[0]\n",
    "    y = np.where(y==0,weight[1],y)\n",
    "    y = np.where(y==1,weight[0],y)\n",
    "    return y"
   ]
  },
  {
   "cell_type": "code",
   "execution_count": 9,
   "metadata": {},
   "outputs": [
    {
     "name": "stdout",
     "output_type": "stream",
     "text": [
      "Loaded 1 Year Train Sample:\n",
      "X_train shape: (38857, 106)\n",
      "y shape: (38857,)\n",
      "Loaded 1 Year Test Sample:\n",
      "X_test shape: (19139, 106)\n",
      "y_test shape: (19139,)\n"
     ]
    }
   ],
   "source": [
    "%run LoadData1Y.ipynb"
   ]
  },
  {
   "cell_type": "code",
   "execution_count": 10,
   "metadata": {},
   "outputs": [
    {
     "data": {
      "text/html": [
       "<div>\n",
       "<style scoped>\n",
       "    .dataframe tbody tr th:only-of-type {\n",
       "        vertical-align: middle;\n",
       "    }\n",
       "\n",
       "    .dataframe tbody tr th {\n",
       "        vertical-align: top;\n",
       "    }\n",
       "\n",
       "    .dataframe thead th {\n",
       "        text-align: right;\n",
       "    }\n",
       "</style>\n",
       "<table border=\"1\" class=\"dataframe\">\n",
       "  <thead>\n",
       "    <tr style=\"text-align: right;\">\n",
       "      <th></th>\n",
       "      <th>first_careunit</th>\n",
       "      <th>last_careunit</th>\n",
       "      <th>age</th>\n",
       "      <th>gender</th>\n",
       "      <th>marital_status</th>\n",
       "      <th>insurance</th>\n",
       "      <th>urea_n_min</th>\n",
       "      <th>urea_n_max</th>\n",
       "      <th>urea_n_mean</th>\n",
       "      <th>platelets_min</th>\n",
       "      <th>...</th>\n",
       "      <th>meanbp_mean_mv</th>\n",
       "      <th>spo2_min_mv</th>\n",
       "      <th>spo2_max_mv</th>\n",
       "      <th>spo2_mean_mv</th>\n",
       "      <th>vent_mv</th>\n",
       "      <th>rrt_mv</th>\n",
       "      <th>urineoutput_mv</th>\n",
       "      <th>oasis_mv</th>\n",
       "      <th>lods_mv</th>\n",
       "      <th>sirs_mv</th>\n",
       "    </tr>\n",
       "  </thead>\n",
       "  <tbody>\n",
       "    <tr>\n",
       "      <th>0</th>\n",
       "      <td>0.358226</td>\n",
       "      <td>-0.375558</td>\n",
       "      <td>-0.091698</td>\n",
       "      <td>-1.125040</td>\n",
       "      <td>0.002484</td>\n",
       "      <td>0.721077</td>\n",
       "      <td>0.336293</td>\n",
       "      <td>0.533833</td>\n",
       "      <td>0.568295</td>\n",
       "      <td>-0.307287</td>\n",
       "      <td>...</td>\n",
       "      <td>0.0</td>\n",
       "      <td>0.0</td>\n",
       "      <td>0.0</td>\n",
       "      <td>0.0</td>\n",
       "      <td>0.0</td>\n",
       "      <td>0.0</td>\n",
       "      <td>0.0</td>\n",
       "      <td>0.0</td>\n",
       "      <td>0.0</td>\n",
       "      <td>0.0</td>\n",
       "    </tr>\n",
       "    <tr>\n",
       "      <th>1</th>\n",
       "      <td>1.058760</td>\n",
       "      <td>1.040694</td>\n",
       "      <td>-0.138448</td>\n",
       "      <td>-1.125040</td>\n",
       "      <td>-0.795334</td>\n",
       "      <td>0.721077</td>\n",
       "      <td>1.458096</td>\n",
       "      <td>0.982380</td>\n",
       "      <td>1.364434</td>\n",
       "      <td>-0.617702</td>\n",
       "      <td>...</td>\n",
       "      <td>0.0</td>\n",
       "      <td>0.0</td>\n",
       "      <td>0.0</td>\n",
       "      <td>0.0</td>\n",
       "      <td>0.0</td>\n",
       "      <td>0.0</td>\n",
       "      <td>0.0</td>\n",
       "      <td>0.0</td>\n",
       "      <td>0.0</td>\n",
       "      <td>0.0</td>\n",
       "    </tr>\n",
       "    <tr>\n",
       "      <th>2</th>\n",
       "      <td>0.358226</td>\n",
       "      <td>-0.375558</td>\n",
       "      <td>4.139580</td>\n",
       "      <td>-1.125040</td>\n",
       "      <td>-0.795334</td>\n",
       "      <td>0.721077</td>\n",
       "      <td>-0.411576</td>\n",
       "      <td>-0.523458</td>\n",
       "      <td>-0.401365</td>\n",
       "      <td>-1.206421</td>\n",
       "      <td>...</td>\n",
       "      <td>0.0</td>\n",
       "      <td>0.0</td>\n",
       "      <td>0.0</td>\n",
       "      <td>0.0</td>\n",
       "      <td>0.0</td>\n",
       "      <td>0.0</td>\n",
       "      <td>0.0</td>\n",
       "      <td>0.0</td>\n",
       "      <td>0.0</td>\n",
       "      <td>0.0</td>\n",
       "    </tr>\n",
       "    <tr>\n",
       "      <th>3</th>\n",
       "      <td>1.058760</td>\n",
       "      <td>1.040694</td>\n",
       "      <td>0.115679</td>\n",
       "      <td>-1.125040</td>\n",
       "      <td>-0.795334</td>\n",
       "      <td>0.721077</td>\n",
       "      <td>0.261506</td>\n",
       "      <td>-0.395301</td>\n",
       "      <td>-0.145096</td>\n",
       "      <td>2.058292</td>\n",
       "      <td>...</td>\n",
       "      <td>0.0</td>\n",
       "      <td>0.0</td>\n",
       "      <td>0.0</td>\n",
       "      <td>0.0</td>\n",
       "      <td>0.0</td>\n",
       "      <td>0.0</td>\n",
       "      <td>0.0</td>\n",
       "      <td>0.0</td>\n",
       "      <td>0.0</td>\n",
       "      <td>0.0</td>\n",
       "    </tr>\n",
       "    <tr>\n",
       "      <th>4</th>\n",
       "      <td>0.358226</td>\n",
       "      <td>-0.375558</td>\n",
       "      <td>-0.268887</td>\n",
       "      <td>0.888858</td>\n",
       "      <td>0.800302</td>\n",
       "      <td>-0.508846</td>\n",
       "      <td>0.111932</td>\n",
       "      <td>-0.299184</td>\n",
       "      <td>-0.088050</td>\n",
       "      <td>-1.067269</td>\n",
       "      <td>...</td>\n",
       "      <td>0.0</td>\n",
       "      <td>0.0</td>\n",
       "      <td>0.0</td>\n",
       "      <td>0.0</td>\n",
       "      <td>0.0</td>\n",
       "      <td>0.0</td>\n",
       "      <td>0.0</td>\n",
       "      <td>0.0</td>\n",
       "      <td>0.0</td>\n",
       "      <td>0.0</td>\n",
       "    </tr>\n",
       "  </tbody>\n",
       "</table>\n",
       "<p>5 rows × 106 columns</p>\n",
       "</div>"
      ],
      "text/plain": [
       "   first_careunit  last_careunit       age    gender  marital_status  \\\n",
       "0        0.358226      -0.375558 -0.091698 -1.125040        0.002484   \n",
       "1        1.058760       1.040694 -0.138448 -1.125040       -0.795334   \n",
       "2        0.358226      -0.375558  4.139580 -1.125040       -0.795334   \n",
       "3        1.058760       1.040694  0.115679 -1.125040       -0.795334   \n",
       "4        0.358226      -0.375558 -0.268887  0.888858        0.800302   \n",
       "\n",
       "   insurance  urea_n_min  urea_n_max  urea_n_mean  platelets_min  ...  \\\n",
       "0   0.721077    0.336293    0.533833     0.568295      -0.307287  ...   \n",
       "1   0.721077    1.458096    0.982380     1.364434      -0.617702  ...   \n",
       "2   0.721077   -0.411576   -0.523458    -0.401365      -1.206421  ...   \n",
       "3   0.721077    0.261506   -0.395301    -0.145096       2.058292  ...   \n",
       "4  -0.508846    0.111932   -0.299184    -0.088050      -1.067269  ...   \n",
       "\n",
       "   meanbp_mean_mv  spo2_min_mv  spo2_max_mv  spo2_mean_mv  vent_mv  rrt_mv  \\\n",
       "0             0.0          0.0          0.0           0.0      0.0     0.0   \n",
       "1             0.0          0.0          0.0           0.0      0.0     0.0   \n",
       "2             0.0          0.0          0.0           0.0      0.0     0.0   \n",
       "3             0.0          0.0          0.0           0.0      0.0     0.0   \n",
       "4             0.0          0.0          0.0           0.0      0.0     0.0   \n",
       "\n",
       "   urineoutput_mv  oasis_mv  lods_mv  sirs_mv  \n",
       "0             0.0       0.0      0.0      0.0  \n",
       "1             0.0       0.0      0.0      0.0  \n",
       "2             0.0       0.0      0.0      0.0  \n",
       "3             0.0       0.0      0.0      0.0  \n",
       "4             0.0       0.0      0.0      0.0  \n",
       "\n",
       "[5 rows x 106 columns]"
      ]
     },
     "execution_count": 10,
     "metadata": {},
     "output_type": "execute_result"
    }
   ],
   "source": [
    "X_train.head()"
   ]
  },
  {
   "cell_type": "code",
   "execution_count": 11,
   "metadata": {},
   "outputs": [
    {
     "data": {
      "text/plain": [
       "0    0.0\n",
       "1    0.0\n",
       "2    0.0\n",
       "3    0.0\n",
       "4    0.0\n",
       "Name: one_year, dtype: float64"
      ]
     },
     "execution_count": 11,
     "metadata": {},
     "output_type": "execute_result"
    }
   ],
   "source": [
    "y_train.head()"
   ]
  },
  {
   "cell_type": "code",
   "execution_count": 12,
   "metadata": {},
   "outputs": [
    {
     "name": "stdout",
     "output_type": "stream",
     "text": [
      "Fitting 5 folds for each of 50 candidates, totalling 250 fits\n"
     ]
    },
    {
     "name": "stderr",
     "output_type": "stream",
     "text": [
      "[Parallel(n_jobs=-1)]: Using backend LokyBackend with 8 concurrent workers.\n",
      "[Parallel(n_jobs=-1)]: Done  16 tasks      | elapsed:   34.5s\n",
      "[Parallel(n_jobs=-1)]: Done 112 tasks      | elapsed:  4.2min\n",
      "[Parallel(n_jobs=-1)]: Done 250 out of 250 | elapsed:  8.5min finished\n"
     ]
    }
   ],
   "source": [
    "param_grid = { \n",
    "    'learning_rate' : list(np.logspace(-5,1,5)),\n",
    "    'n_estimators'  : list(np.linspace(60,150,10).astype(int))\n",
    "}\n",
    "model = GridSearchCV(\n",
    "    estimator = XGBClassifier(verbosity=2),\n",
    "    param_grid = param_grid,\n",
    "    n_jobs = -1,\n",
    "    verbose = 3,\n",
    "    scoring = 'accuracy',\n",
    "    cv = 5\n",
    ").fit(X_train,y_train)"
   ]
  },
  {
   "cell_type": "code",
   "execution_count": 13,
   "metadata": {},
   "outputs": [],
   "source": [
    "best_model = model.best_estimator_\n",
    "ypred = best_model.predict_proba(X_test)\n",
    "np.savetxt(\"plot metric/y_score_1y_xgboost.csv\", ypred[:,1], delimiter=\",\")"
   ]
  },
  {
   "cell_type": "code",
   "execution_count": 14,
   "metadata": {},
   "outputs": [
    {
     "data": {
      "text/plain": [
       "0.840378285176864"
      ]
     },
     "execution_count": 14,
     "metadata": {},
     "output_type": "execute_result"
    }
   ],
   "source": [
    "best_model.score(X_test,y_test)"
   ]
  },
  {
   "cell_type": "code",
   "execution_count": null,
   "metadata": {},
   "outputs": [],
   "source": [
    "xgacc = []\n",
    "xgauc = []\n",
    "for t_in,v_in in skf.split(X,y30):\n",
    "    trainX = X.iloc[t_in].values\n",
    "    trainy = y30.iloc[t_in]\n",
    "    valX = X.iloc[v_in].values\n",
    "    valy = y30.iloc[v_in]\n",
    "    xg.fit(trainX,trainy.values.ravel(),get_weights(trainy.thirty_days))\n",
    "    xgout = xg.predict_proba(valX)\n",
    "#     xgout[xgout>0.5] = 1\n",
    "#     xgout[xgout<=0.5] = 0\n",
    "#     accuracy = accuracy_score(valy.values.ravel(), xgout)\n",
    "#     print(accuracy)\n",
    "    fpr, tpr, thresholds = roc_curve(valy.values.ravel(),xgout[:,1])\n",
    "    roc_auc = auc(fpr, tpr)\n",
    "    xgauc.append(roc_auc)\n",
    "#     xgacc.append(accuracy_score(valy.values.ravel(), xgout))\n",
    "    plt.figure()\n",
    "    plt.plot(fpr,tpr)\n",
    "    plt.show()"
   ]
  },
  {
   "cell_type": "code",
   "execution_count": null,
   "metadata": {},
   "outputs": [],
   "source": [
    "def my_plot_importance(booster, figsize, **kwargs): \n",
    "    from matplotlib import pyplot as plt\n",
    "    from xgboost import plot_importance\n",
    "    fig, ax = plt.subplots(1,1,figsize=(figsize))\n",
    "    plot_importance(booster=booster, ax=ax, **kwargs)\n",
    "    for item in ([ax.title, ax.xaxis.label, ax.yaxis.label,] +\n",
    "ax.get_xticklabels() + ax.get_yticklabels()):\n",
    "        item.set_fontsize(10)\n",
    "    plt.tight_layout()\n",
    "    fig.savefig('figures/Feature_importance.png')\n",
    "\n",
    "my_plot_importance(xg, (5,10))"
   ]
  },
  {
   "cell_type": "code",
   "execution_count": null,
   "metadata": {},
   "outputs": [],
   "source": []
  }
 ],
 "metadata": {
  "kernelspec": {
   "display_name": "Python 3",
   "language": "python",
   "name": "python3"
  },
  "language_info": {
   "codemirror_mode": {
    "name": "ipython",
    "version": 3
   },
   "file_extension": ".py",
   "mimetype": "text/x-python",
   "name": "python",
   "nbconvert_exporter": "python",
   "pygments_lexer": "ipython3",
   "version": "3.6.8"
  }
 },
 "nbformat": 4,
 "nbformat_minor": 2
}
